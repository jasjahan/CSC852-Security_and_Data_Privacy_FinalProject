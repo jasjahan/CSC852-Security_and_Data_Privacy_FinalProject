{
 "cells": [
  {
   "cell_type": "code",
   "execution_count": 1,
   "id": "ebdb88e8",
   "metadata": {},
   "outputs": [],
   "source": [
    "#Encryption and Decryption using 3DES"
   ]
  },
  {
   "cell_type": "code",
   "execution_count": 2,
   "id": "c6a94e06",
   "metadata": {},
   "outputs": [],
   "source": [
    "from Crypto.Cipher import DES\n",
    "from Crypto.Cipher import DES3\n",
    "from Crypto.Random import get_random_bytes"
   ]
  },
  {
   "cell_type": "code",
   "execution_count": 3,
   "id": "45f384f1",
   "metadata": {},
   "outputs": [],
   "source": [
    "#Encryption and Decryption using 3DES-ECB, Input = 16bits"
   ]
  },
  {
   "cell_type": "code",
   "execution_count": 4,
   "id": "7070333e",
   "metadata": {},
   "outputs": [
    {
     "name": "stdout",
     "output_type": "stream",
     "text": [
      "b'K@\\xfd\\x19s\\x07x\\xa9\\x0e.e\\x7f\\xfd\\xac\\xaai'\n",
      "b'San Francisco St'\n",
      "CPU times: user 1.84 ms, sys: 523 µs, total: 2.37 ms\n",
      "Wall time: 1.88 ms\n"
     ]
    }
   ],
   "source": [
    "%%time\n",
    "key = b'abcdefgh'\n",
    "plaintext = b'San Francisco St'\n",
    "while True:\n",
    "    try:\n",
    "        key = DES3.adjust_key_parity(get_random_bytes(24))\n",
    "        break\n",
    "    except ValueError:\n",
    "        pass\n",
    "cipher = DES3.new(key, DES3.MODE_ECB)\n",
    "msg = cipher.encrypt(plaintext)\n",
    "print(msg)\n",
    "decipher = DES3.new(key,DES3.MODE_ECB)\n",
    "msg_dec = decipher.decrypt(msg)\n",
    "print(msg_dec)"
   ]
  },
  {
   "cell_type": "code",
   "execution_count": 5,
   "id": "51f77fa0",
   "metadata": {},
   "outputs": [],
   "source": [
    "#Encryption and Decryption using 3DES-ECB, Input = 24bits"
   ]
  },
  {
   "cell_type": "code",
   "execution_count": 6,
   "id": "2df785b4",
   "metadata": {},
   "outputs": [
    {
     "name": "stdout",
     "output_type": "stream",
     "text": [
      "b'\\x83\\xec\\xd8\\x8bb\"\\xbbv\\xdal\\xd8B\\x82\\x18\\x97\\xfc\\x11\\xe1{\\xef\\xaa5\\xa8\\x81'\n",
      "b'San Francisco State Univ'\n",
      "CPU times: user 597 µs, sys: 558 µs, total: 1.16 ms\n",
      "Wall time: 650 µs\n"
     ]
    }
   ],
   "source": [
    "%%time\n",
    "key = b'abcdefgh'\n",
    "plaintext = b'San Francisco State Univ'\n",
    "while True:\n",
    "    try:\n",
    "        key = DES3.adjust_key_parity(get_random_bytes(24))\n",
    "        break\n",
    "    except ValueError:\n",
    "        pass\n",
    "cipher = DES3.new(key, DES3.MODE_ECB)\n",
    "msg = cipher.encrypt(plaintext)\n",
    "print(msg)\n",
    "decipher = DES3.new(key,DES3.MODE_ECB)\n",
    "msg_dec = decipher.decrypt(msg)\n",
    "print(msg_dec)"
   ]
  },
  {
   "cell_type": "code",
   "execution_count": 7,
   "id": "6603b819",
   "metadata": {},
   "outputs": [],
   "source": [
    "#Encryption and Decryption using 3DES-ECB, Input = 32bits"
   ]
  },
  {
   "cell_type": "code",
   "execution_count": 8,
   "id": "93a2aeb9",
   "metadata": {},
   "outputs": [
    {
     "name": "stdout",
     "output_type": "stream",
     "text": [
      "b'\\x84\\xfd\\x9d\\n(\\x0b\\t\\xd7Hx\\xb2\\\\z\\xfb<\\x0f\\x89\\xf0\\xf9\\xbare\\x98\\xecA\\xf9<\\xbf\\x9c\\x19+\\xa8\\xf4I\\xc7m4g\\xc0\\xc6\\x83\"/,L\\x0bi\\x94\\x924\\xd7\\xe1\\x9ago\\xf1'\n",
      "b'San Francisco State University Computer Science and Engi'\n",
      "CPU times: user 1.12 ms, sys: 336 µs, total: 1.45 ms\n",
      "Wall time: 1.16 ms\n"
     ]
    }
   ],
   "source": [
    "%%time\n",
    "key = b'abcdefgh'\n",
    "plaintext = b'San Francisco State University Computer Science and Engi'\n",
    "while True:\n",
    "    try:\n",
    "        key = DES3.adjust_key_parity(get_random_bytes(24))\n",
    "        break\n",
    "    except ValueError:\n",
    "        pass\n",
    "cipher = DES3.new(key, DES3.MODE_ECB)\n",
    "msg = cipher.encrypt(plaintext)\n",
    "print(msg)\n",
    "decipher = DES3.new(key,DES3.MODE_ECB)\n",
    "msg_dec = decipher.decrypt(msg)\n",
    "print(msg_dec)"
   ]
  },
  {
   "cell_type": "code",
   "execution_count": 9,
   "id": "e7d07842",
   "metadata": {},
   "outputs": [],
   "source": [
    "#Encryption and Decryption using 3DES-ECB, Input = 64bits"
   ]
  },
  {
   "cell_type": "code",
   "execution_count": 10,
   "id": "3ddcb2cd",
   "metadata": {},
   "outputs": [
    {
     "name": "stdout",
     "output_type": "stream",
     "text": [
      "b\"\\x18\\xc8\\xce\\x03\\xa7\\xcb\\xe8\\xe0l\\\\\\xe2\\xffr9\\xb1\\x12\\xb6]\\xba\\xbe+\\xba\\x8e\\xb9\\xea0\\xe3i\\xd8\\\\'w\\xc6\\x8bX\\xf8\\x9fC\\x05;\\xbc\\xca\\x03,Iu\\x95\\x1a\\xe7\\xb8\\x0bo\\xecmN\\xa0\\x18\\xc8\\xce\\x03\\xa7\\xcb\\xe8\\xe0l\\\\\\xe2\\xffr9\\xb1\\x12\\xb6]\\xba\\xbe+\\xba\\x8e\\xb9\\xea0\\xe3i\\xd8\\\\'w\\xc6\\x8bX\\xf8\\x9fC\\x05;\\xbc\\xca\\x03,Iu\\x95\\x1a\\xe7\\xb8\\x0bo\\xecmN\\xa0\"\n",
      "b'San Francisco State University Computer Science and EngiSan Francisco State University Computer Science and Engi'\n",
      "CPU times: user 623 µs, sys: 529 µs, total: 1.15 ms\n",
      "Wall time: 686 µs\n"
     ]
    }
   ],
   "source": [
    "%%time\n",
    "key = b'abcdefgh'\n",
    "plaintext = b'San Francisco State University Computer Science and EngiSan Francisco State University Computer Science and Engi'\n",
    "while True:\n",
    "    try:\n",
    "        key = DES3.adjust_key_parity(get_random_bytes(24))\n",
    "        break\n",
    "    except ValueError:\n",
    "        pass\n",
    "cipher = DES3.new(key, DES3.MODE_ECB)\n",
    "msg = cipher.encrypt(plaintext)\n",
    "print(msg)\n",
    "decipher = DES3.new(key,DES3.MODE_ECB)\n",
    "msg_dec = decipher.decrypt(msg)\n",
    "print(msg_dec)"
   ]
  },
  {
   "cell_type": "code",
   "execution_count": 11,
   "id": "a4c3e280",
   "metadata": {},
   "outputs": [],
   "source": [
    "#Encryption and Decryption using 3DES-ECB, Input = 128bits"
   ]
  },
  {
   "cell_type": "code",
   "execution_count": 12,
   "id": "f52d9e40",
   "metadata": {},
   "outputs": [
    {
     "name": "stdout",
     "output_type": "stream",
     "text": [
      "b\"{\\xba\\x05\\x85dO\\x8c\\xde\\xb0\\xde\\x0b\\xa7\\x82\\xfe\\xfb\\xee\\xb5\\xdd\\n\\xedH\\x8d\\xbab\\x17\\x91\\xf1-\\xeb\\xe9\\x9b\\x0c\\x83\\x87\\xf2 \\xa7|\\x97$\\xb8(\\xe1N\\xda\\xc2\\xe8n\\xdb\\xc3H'\\xbf\\x0c\\x7f\\xa6{\\xba\\x05\\x85dO\\x8c\\xde\\xb0\\xde\\x0b\\xa7\\x82\\xfe\\xfb\\xee\\xb5\\xdd\\n\\xedH\\x8d\\xbab\\x17\\x91\\xf1-\\xeb\\xe9\\x9b\\x0c\\x83\\x87\\xf2 \\xa7|\\x97$\\xb8(\\xe1N\\xda\\xc2\\xe8n\\xdb\\xc3H'\\xbf\\x0c\\x7f\\xa6{\\xba\\x05\\x85dO\\x8c\\xde\\xb0\\xde\\x0b\\xa7\\x82\\xfe\\xfb\\xee\\xb5\\xdd\\n\\xedH\\x8d\\xbab\\x17\\x91\\xf1-\\xeb\\xe9\\x9b\\x0c\\x83\\x87\\xf2 \\xa7|\\x97$\\xb8(\\xe1N\\xda\\xc2\\xe8n\\xdb\\xc3H'\\xbf\\x0c\\x7f\\xa6{\\xba\\x05\\x85dO\\x8c\\xde\\xb0\\xde\\x0b\\xa7\\x82\\xfe\\xfb\\xee\\xb5\\xdd\\n\\xedH\\x8d\\xbab\\x17\\x91\\xf1-\\xeb\\xe9\\x9b\\x0c\\x83\\x87\\xf2 \\xa7|\\x97$\\xb8(\\xe1N\\xda\\xc2\\xe8n\\xdb\\xc3H'\\xbf\\x0c\\x7f\\xa6\"\n",
      "b'San Francisco State University Computer Science and EngiSan Francisco State University Computer Science and EngiSan Francisco State University Computer Science and EngiSan Francisco State University Computer Science and Engi'\n",
      "CPU times: user 964 µs, sys: 728 µs, total: 1.69 ms\n",
      "Wall time: 1.3 ms\n"
     ]
    }
   ],
   "source": [
    "%%time\n",
    "key = b'abcdefgh'\n",
    "plaintext = b'San Francisco State University Computer Science and EngiSan Francisco State University Computer Science and EngiSan Francisco State University Computer Science and EngiSan Francisco State University Computer Science and Engi'\n",
    "while True:\n",
    "    try:\n",
    "        key = DES3.adjust_key_parity(get_random_bytes(24))\n",
    "        break\n",
    "    except ValueError:\n",
    "        pass\n",
    "cipher = DES3.new(key, DES3.MODE_ECB)\n",
    "msg = cipher.encrypt(plaintext)\n",
    "print(msg)\n",
    "decipher = DES3.new(key,DES3.MODE_ECB)\n",
    "msg_dec = decipher.decrypt(msg)\n",
    "print(msg_dec)"
   ]
  },
  {
   "cell_type": "code",
   "execution_count": 13,
   "id": "5845e84e",
   "metadata": {},
   "outputs": [],
   "source": [
    "#Encryption and Decryption using 3DES-ECB, Input = 256bits"
   ]
  },
  {
   "cell_type": "code",
   "execution_count": 14,
   "id": "e4fa4558",
   "metadata": {},
   "outputs": [
    {
     "name": "stdout",
     "output_type": "stream",
     "text": [
      "b'\\xc1\\x85\\xf6)7\\x00!\\xcdj&!\\xb2k&x\\xd2\\x02\\x0cM\\x14cQ\\xb5\\x02\\xe8*k8s\\xbf\\xa0\\xd0\\x10n\\xb7\\xa3\\xed\\x18\\xaf\\xd6\\xbf\\x84\\x06\\xf5{\\x0f4/\\x92<wT\\xcb\\x88?\\xde\\xc1\\x85\\xf6)7\\x00!\\xcdj&!\\xb2k&x\\xd2\\x02\\x0cM\\x14cQ\\xb5\\x02\\xe8*k8s\\xbf\\xa0\\xd0\\x10n\\xb7\\xa3\\xed\\x18\\xaf\\xd6\\xbf\\x84\\x06\\xf5{\\x0f4/\\x92<wT\\xcb\\x88?\\xde\\xc1\\x85\\xf6)7\\x00!\\xcdj&!\\xb2k&x\\xd2\\x02\\x0cM\\x14cQ\\xb5\\x02\\xe8*k8s\\xbf\\xa0\\xd0\\x10n\\xb7\\xa3\\xed\\x18\\xaf\\xd6\\xbf\\x84\\x06\\xf5{\\x0f4/\\x92<wT\\xcb\\x88?\\xde\\xc1\\x85\\xf6)7\\x00!\\xcdj&!\\xb2k&x\\xd2\\x02\\x0cM\\x14cQ\\xb5\\x02\\xe8*k8s\\xbf\\xa0\\xd0\\x10n\\xb7\\xa3\\xed\\x18\\xaf\\xd6\\xbf\\x84\\x06\\xf5{\\x0f4/\\x92<wT\\xcb\\x88?\\xde\\xc1\\x85\\xf6)7\\x00!\\xcdj&!\\xb2k&x\\xd2\\x02\\x0cM\\x14cQ\\xb5\\x02\\xe8*k8s\\xbf\\xa0\\xd0\\x10n\\xb7\\xa3\\xed\\x18\\xaf\\xd6\\xbf\\x84\\x06\\xf5{\\x0f4/\\x92<wT\\xcb\\x88?\\xde\\xc1\\x85\\xf6)7\\x00!\\xcdj&!\\xb2k&x\\xd2\\x02\\x0cM\\x14cQ\\xb5\\x02\\xe8*k8s\\xbf\\xa0\\xd0\\x10n\\xb7\\xa3\\xed\\x18\\xaf\\xd6\\xbf\\x84\\x06\\xf5{\\x0f4/\\x92<wT\\xcb\\x88?\\xde\\xc1\\x85\\xf6)7\\x00!\\xcdj&!\\xb2k&x\\xd2\\x02\\x0cM\\x14cQ\\xb5\\x02\\xe8*k8s\\xbf\\xa0\\xd0\\x10n\\xb7\\xa3\\xed\\x18\\xaf\\xd6\\xbf\\x84\\x06\\xf5{\\x0f4/\\x92<wT\\xcb\\x88?\\xde\\xc1\\x85\\xf6)7\\x00!\\xcdj&!\\xb2k&x\\xd2\\x02\\x0cM\\x14cQ\\xb5\\x02\\xe8*k8s\\xbf\\xa0\\xd0\\x10n\\xb7\\xa3\\xed\\x18\\xaf\\xd6\\xbf\\x84\\x06\\xf5{\\x0f4/\\x92<wT\\xcb\\x88?\\xde'\n",
      "b'San Francisco State University Computer Science and EngiSan Francisco State University Computer Science and EngiSan Francisco State University Computer Science and EngiSan Francisco State University Computer Science and EngiSan Francisco State University Computer Science and EngiSan Francisco State University Computer Science and EngiSan Francisco State University Computer Science and EngiSan Francisco State University Computer Science and Engi'\n",
      "CPU times: user 615 µs, sys: 327 µs, total: 942 µs\n",
      "Wall time: 592 µs\n"
     ]
    }
   ],
   "source": [
    "%%time\n",
    "key = b'abcdefgh'\n",
    "plaintext = b'San Francisco State University Computer Science and EngiSan Francisco State University Computer Science and EngiSan Francisco State University Computer Science and EngiSan Francisco State University Computer Science and EngiSan Francisco State University Computer Science and EngiSan Francisco State University Computer Science and EngiSan Francisco State University Computer Science and EngiSan Francisco State University Computer Science and Engi'\n",
    "while True:\n",
    "    try:\n",
    "        key = DES3.adjust_key_parity(get_random_bytes(24))\n",
    "        break\n",
    "    except ValueError:\n",
    "        pass\n",
    "cipher = DES3.new(key, DES3.MODE_ECB)\n",
    "msg = cipher.encrypt(plaintext)\n",
    "print(msg)\n",
    "decipher = DES3.new(key,DES3.MODE_ECB)\n",
    "msg_dec = decipher.decrypt(msg)\n",
    "print(msg_dec)"
   ]
  },
  {
   "cell_type": "code",
   "execution_count": 15,
   "id": "3c1bbf28",
   "metadata": {},
   "outputs": [],
   "source": [
    "#Encryption and Decryption using 3DES-ECB, Input = 512bits"
   ]
  },
  {
   "cell_type": "code",
   "execution_count": 16,
   "id": "fedbbf2b",
   "metadata": {},
   "outputs": [
    {
     "name": "stdout",
     "output_type": "stream",
     "text": [
      "b'B\\xafRr\\x92\\xbc\\x8a\\t|\\x90z(c\\xc3-E!@\\x9f@\\xcb\\xeaE8\\x19\\xf5\\xf3>x&\\x1be\\t\\xa4\\xf3\\x1el\\xea\\x13S\\xc7\\x90}\\x8c>Z\\xcb\\xea\\x00\\xe7\\x04\\x8bY\\xdf\\xbfWB\\xafRr\\x92\\xbc\\x8a\\t|\\x90z(c\\xc3-E!@\\x9f@\\xcb\\xeaE8\\x19\\xf5\\xf3>x&\\x1be\\t\\xa4\\xf3\\x1el\\xea\\x13S\\xc7\\x90}\\x8c>Z\\xcb\\xea\\x00\\xe7\\x04\\x8bY\\xdf\\xbfWB\\xafRr\\x92\\xbc\\x8a\\t|\\x90z(c\\xc3-E!@\\x9f@\\xcb\\xeaE8\\x19\\xf5\\xf3>x&\\x1be\\t\\xa4\\xf3\\x1el\\xea\\x13S\\xc7\\x90}\\x8c>Z\\xcb\\xea\\x00\\xe7\\x04\\x8bY\\xdf\\xbfWB\\xafRr\\x92\\xbc\\x8a\\t|\\x90z(c\\xc3-E!@\\x9f@\\xcb\\xeaE8\\x19\\xf5\\xf3>x&\\x1be\\t\\xa4\\xf3\\x1el\\xea\\x13S\\xc7\\x90}\\x8c>Z\\xcb\\xea\\x00\\xe7\\x04\\x8bY\\xdf\\xbfWB\\xafRr\\x92\\xbc\\x8a\\t|\\x90z(c\\xc3-E!@\\x9f@\\xcb\\xeaE8\\x19\\xf5\\xf3>x&\\x1be\\t\\xa4\\xf3\\x1el\\xea\\x13S\\xc7\\x90}\\x8c>Z\\xcb\\xea\\x00\\xe7\\x04\\x8bY\\xdf\\xbfWB\\xafRr\\x92\\xbc\\x8a\\t|\\x90z(c\\xc3-E!@\\x9f@\\xcb\\xeaE8\\x19\\xf5\\xf3>x&\\x1be\\t\\xa4\\xf3\\x1el\\xea\\x13S\\xc7\\x90}\\x8c>Z\\xcb\\xea\\x00\\xe7\\x04\\x8bY\\xdf\\xbfWB\\xafRr\\x92\\xbc\\x8a\\t|\\x90z(c\\xc3-E!@\\x9f@\\xcb\\xeaE8\\x19\\xf5\\xf3>x&\\x1be\\t\\xa4\\xf3\\x1el\\xea\\x13S\\xc7\\x90}\\x8c>Z\\xcb\\xea\\x00\\xe7\\x04\\x8bY\\xdf\\xbfWB\\xafRr\\x92\\xbc\\x8a\\t|\\x90z(c\\xc3-E!@\\x9f@\\xcb\\xeaE8\\x19\\xf5\\xf3>x&\\x1be\\t\\xa4\\xf3\\x1el\\xea\\x13S\\xc7\\x90}\\x8c>Z\\xcb\\xea\\x00\\xe7\\x04\\x8bY\\xdf\\xbfWB\\xafRr\\x92\\xbc\\x8a\\t|\\x90z(c\\xc3-E!@\\x9f@\\xcb\\xeaE8\\x19\\xf5\\xf3>x&\\x1be\\t\\xa4\\xf3\\x1el\\xea\\x13S\\xc7\\x90}\\x8c>Z\\xcb\\xea\\x00\\xe7\\x04\\x8bY\\xdf\\xbfWB\\xafRr\\x92\\xbc\\x8a\\t|\\x90z(c\\xc3-E!@\\x9f@\\xcb\\xeaE8\\x19\\xf5\\xf3>x&\\x1be\\t\\xa4\\xf3\\x1el\\xea\\x13S\\xc7\\x90}\\x8c>Z\\xcb\\xea\\x00\\xe7\\x04\\x8bY\\xdf\\xbfWB\\xafRr\\x92\\xbc\\x8a\\t|\\x90z(c\\xc3-E!@\\x9f@\\xcb\\xeaE8\\x19\\xf5\\xf3>x&\\x1be\\t\\xa4\\xf3\\x1el\\xea\\x13S\\xc7\\x90}\\x8c>Z\\xcb\\xea\\x00\\xe7\\x04\\x8bY\\xdf\\xbfWB\\xafRr\\x92\\xbc\\x8a\\t|\\x90z(c\\xc3-E!@\\x9f@\\xcb\\xeaE8\\x19\\xf5\\xf3>x&\\x1be\\t\\xa4\\xf3\\x1el\\xea\\x13S\\xc7\\x90}\\x8c>Z\\xcb\\xea\\x00\\xe7\\x04\\x8bY\\xdf\\xbfWB\\xafRr\\x92\\xbc\\x8a\\t|\\x90z(c\\xc3-E!@\\x9f@\\xcb\\xeaE8\\x19\\xf5\\xf3>x&\\x1be\\t\\xa4\\xf3\\x1el\\xea\\x13S\\xc7\\x90}\\x8c>Z\\xcb\\xea\\x00\\xe7\\x04\\x8bY\\xdf\\xbfWB\\xafRr\\x92\\xbc\\x8a\\t|\\x90z(c\\xc3-E!@\\x9f@\\xcb\\xeaE8\\x19\\xf5\\xf3>x&\\x1be\\t\\xa4\\xf3\\x1el\\xea\\x13S\\xc7\\x90}\\x8c>Z\\xcb\\xea\\x00\\xe7\\x04\\x8bY\\xdf\\xbfWB\\xafRr\\x92\\xbc\\x8a\\t|\\x90z(c\\xc3-E!@\\x9f@\\xcb\\xeaE8\\x19\\xf5\\xf3>x&\\x1be\\t\\xa4\\xf3\\x1el\\xea\\x13S\\xc7\\x90}\\x8c>Z\\xcb\\xea\\x00\\xe7\\x04\\x8bY\\xdf\\xbfWB\\xafRr\\x92\\xbc\\x8a\\t|\\x90z(c\\xc3-E!@\\x9f@\\xcb\\xeaE8\\x19\\xf5\\xf3>x&\\x1be\\t\\xa4\\xf3\\x1el\\xea\\x13S\\xc7\\x90}\\x8c>Z\\xcb\\xea\\x00\\xe7\\x04\\x8bY\\xdf\\xbfW'\n",
      "b'San Francisco State University Computer Science and EngiSan Francisco State University Computer Science and EngiSan Francisco State University Computer Science and EngiSan Francisco State University Computer Science and EngiSan Francisco State University Computer Science and EngiSan Francisco State University Computer Science and EngiSan Francisco State University Computer Science and EngiSan Francisco State University Computer Science and EngiSan Francisco State University Computer Science and EngiSan Francisco State University Computer Science and EngiSan Francisco State University Computer Science and EngiSan Francisco State University Computer Science and EngiSan Francisco State University Computer Science and EngiSan Francisco State University Computer Science and EngiSan Francisco State University Computer Science and EngiSan Francisco State University Computer Science and Engi'\n",
      "CPU times: user 694 µs, sys: 256 µs, total: 950 µs\n",
      "Wall time: 672 µs\n"
     ]
    }
   ],
   "source": [
    "%%time\n",
    "key = b'abcdefgh'\n",
    "plaintext = b'San Francisco State University Computer Science and EngiSan Francisco State University Computer Science and EngiSan Francisco State University Computer Science and EngiSan Francisco State University Computer Science and EngiSan Francisco State University Computer Science and EngiSan Francisco State University Computer Science and EngiSan Francisco State University Computer Science and EngiSan Francisco State University Computer Science and EngiSan Francisco State University Computer Science and EngiSan Francisco State University Computer Science and EngiSan Francisco State University Computer Science and EngiSan Francisco State University Computer Science and EngiSan Francisco State University Computer Science and EngiSan Francisco State University Computer Science and EngiSan Francisco State University Computer Science and EngiSan Francisco State University Computer Science and Engi'\n",
    "while True:\n",
    "    try:\n",
    "        key = DES3.adjust_key_parity(get_random_bytes(24))\n",
    "        break\n",
    "    except ValueError:\n",
    "        pass\n",
    "cipher = DES3.new(key, DES3.MODE_ECB)\n",
    "msg = cipher.encrypt(plaintext)\n",
    "print(msg)\n",
    "decipher = DES3.new(key,DES3.MODE_ECB)\n",
    "msg_dec = decipher.decrypt(msg)\n",
    "print(msg_dec)"
   ]
  },
  {
   "cell_type": "code",
   "execution_count": 17,
   "id": "38b03d60",
   "metadata": {},
   "outputs": [],
   "source": [
    "#Encryption and Decryption using 3DES-ECB, Input = 1024bits"
   ]
  },
  {
   "cell_type": "code",
   "execution_count": 18,
   "id": "f5cbb9ed",
   "metadata": {},
   "outputs": [
    {
     "name": "stdout",
     "output_type": "stream",
     "text": [
      "b';\\xc32\\x8e\\xf4\\rW\\xda\\xd9\\xba&\\xf7\\xc2\\xca\\xf8t\\xc8\\xab\\xd3J]\\r2\\xfe\\x02\"E\\x7f@\\xe0\\x0b\\x13:\\xde\\xb1\\x89\\xca\\xe6\\xc8\\xf8\\xa0(J\\xa9\\xd9\\x00\\x8c~\\x1e\\tO\\xa8O\\x97\\xb9\\xd2;\\xc32\\x8e\\xf4\\rW\\xda\\xd9\\xba&\\xf7\\xc2\\xca\\xf8t\\xc8\\xab\\xd3J]\\r2\\xfe\\x02\"E\\x7f@\\xe0\\x0b\\x13:\\xde\\xb1\\x89\\xca\\xe6\\xc8\\xf8\\xa0(J\\xa9\\xd9\\x00\\x8c~\\x1e\\tO\\xa8O\\x97\\xb9\\xd2;\\xc32\\x8e\\xf4\\rW\\xda\\xd9\\xba&\\xf7\\xc2\\xca\\xf8t\\xc8\\xab\\xd3J]\\r2\\xfe\\x02\"E\\x7f@\\xe0\\x0b\\x13:\\xde\\xb1\\x89\\xca\\xe6\\xc8\\xf8\\xa0(J\\xa9\\xd9\\x00\\x8c~\\x1e\\tO\\xa8O\\x97\\xb9\\xd2;\\xc32\\x8e\\xf4\\rW\\xda\\xd9\\xba&\\xf7\\xc2\\xca\\xf8t\\xc8\\xab\\xd3J]\\r2\\xfe\\x02\"E\\x7f@\\xe0\\x0b\\x13:\\xde\\xb1\\x89\\xca\\xe6\\xc8\\xf8\\xa0(J\\xa9\\xd9\\x00\\x8c~\\x1e\\tO\\xa8O\\x97\\xb9\\xd2;\\xc32\\x8e\\xf4\\rW\\xda\\xd9\\xba&\\xf7\\xc2\\xca\\xf8t\\xc8\\xab\\xd3J]\\r2\\xfe\\x02\"E\\x7f@\\xe0\\x0b\\x13:\\xde\\xb1\\x89\\xca\\xe6\\xc8\\xf8\\xa0(J\\xa9\\xd9\\x00\\x8c~\\x1e\\tO\\xa8O\\x97\\xb9\\xd2;\\xc32\\x8e\\xf4\\rW\\xda\\xd9\\xba&\\xf7\\xc2\\xca\\xf8t\\xc8\\xab\\xd3J]\\r2\\xfe\\x02\"E\\x7f@\\xe0\\x0b\\x13:\\xde\\xb1\\x89\\xca\\xe6\\xc8\\xf8\\xa0(J\\xa9\\xd9\\x00\\x8c~\\x1e\\tO\\xa8O\\x97\\xb9\\xd2;\\xc32\\x8e\\xf4\\rW\\xda\\xd9\\xba&\\xf7\\xc2\\xca\\xf8t\\xc8\\xab\\xd3J]\\r2\\xfe\\x02\"E\\x7f@\\xe0\\x0b\\x13:\\xde\\xb1\\x89\\xca\\xe6\\xc8\\xf8\\xa0(J\\xa9\\xd9\\x00\\x8c~\\x1e\\tO\\xa8O\\x97\\xb9\\xd2;\\xc32\\x8e\\xf4\\rW\\xda\\xd9\\xba&\\xf7\\xc2\\xca\\xf8t\\xc8\\xab\\xd3J]\\r2\\xfe\\x02\"E\\x7f@\\xe0\\x0b\\x13:\\xde\\xb1\\x89\\xca\\xe6\\xc8\\xf8\\xa0(J\\xa9\\xd9\\x00\\x8c~\\x1e\\tO\\xa8O\\x97\\xb9\\xd2;\\xc32\\x8e\\xf4\\rW\\xda\\xd9\\xba&\\xf7\\xc2\\xca\\xf8t\\xc8\\xab\\xd3J]\\r2\\xfe\\x02\"E\\x7f@\\xe0\\x0b\\x13:\\xde\\xb1\\x89\\xca\\xe6\\xc8\\xf8\\xa0(J\\xa9\\xd9\\x00\\x8c~\\x1e\\tO\\xa8O\\x97\\xb9\\xd2;\\xc32\\x8e\\xf4\\rW\\xda\\xd9\\xba&\\xf7\\xc2\\xca\\xf8t\\xc8\\xab\\xd3J]\\r2\\xfe\\x02\"E\\x7f@\\xe0\\x0b\\x13:\\xde\\xb1\\x89\\xca\\xe6\\xc8\\xf8\\xa0(J\\xa9\\xd9\\x00\\x8c~\\x1e\\tO\\xa8O\\x97\\xb9\\xd2;\\xc32\\x8e\\xf4\\rW\\xda\\xd9\\xba&\\xf7\\xc2\\xca\\xf8t\\xc8\\xab\\xd3J]\\r2\\xfe\\x02\"E\\x7f@\\xe0\\x0b\\x13:\\xde\\xb1\\x89\\xca\\xe6\\xc8\\xf8\\xa0(J\\xa9\\xd9\\x00\\x8c~\\x1e\\tO\\xa8O\\x97\\xb9\\xd2;\\xc32\\x8e\\xf4\\rW\\xda\\xd9\\xba&\\xf7\\xc2\\xca\\xf8t\\xc8\\xab\\xd3J]\\r2\\xfe\\x02\"E\\x7f@\\xe0\\x0b\\x13:\\xde\\xb1\\x89\\xca\\xe6\\xc8\\xf8\\xa0(J\\xa9\\xd9\\x00\\x8c~\\x1e\\tO\\xa8O\\x97\\xb9\\xd2;\\xc32\\x8e\\xf4\\rW\\xda\\xd9\\xba&\\xf7\\xc2\\xca\\xf8t\\xc8\\xab\\xd3J]\\r2\\xfe\\x02\"E\\x7f@\\xe0\\x0b\\x13:\\xde\\xb1\\x89\\xca\\xe6\\xc8\\xf8\\xa0(J\\xa9\\xd9\\x00\\x8c~\\x1e\\tO\\xa8O\\x97\\xb9\\xd2;\\xc32\\x8e\\xf4\\rW\\xda\\xd9\\xba&\\xf7\\xc2\\xca\\xf8t\\xc8\\xab\\xd3J]\\r2\\xfe\\x02\"E\\x7f@\\xe0\\x0b\\x13:\\xde\\xb1\\x89\\xca\\xe6\\xc8\\xf8\\xa0(J\\xa9\\xd9\\x00\\x8c~\\x1e\\tO\\xa8O\\x97\\xb9\\xd2;\\xc32\\x8e\\xf4\\rW\\xda\\xd9\\xba&\\xf7\\xc2\\xca\\xf8t\\xc8\\xab\\xd3J]\\r2\\xfe\\x02\"E\\x7f@\\xe0\\x0b\\x13:\\xde\\xb1\\x89\\xca\\xe6\\xc8\\xf8\\xa0(J\\xa9\\xd9\\x00\\x8c~\\x1e\\tO\\xa8O\\x97\\xb9\\xd2;\\xc32\\x8e\\xf4\\rW\\xda\\xd9\\xba&\\xf7\\xc2\\xca\\xf8t\\xc8\\xab\\xd3J]\\r2\\xfe\\x02\"E\\x7f@\\xe0\\x0b\\x13:\\xde\\xb1\\x89\\xca\\xe6\\xc8\\xf8\\xa0(J\\xa9\\xd9\\x00\\x8c~\\x1e\\tO\\xa8O\\x97\\xb9\\xd2;\\xc32\\x8e\\xf4\\rW\\xda\\xd9\\xba&\\xf7\\xc2\\xca\\xf8t\\xc8\\xab\\xd3J]\\r2\\xfe\\x02\"E\\x7f@\\xe0\\x0b\\x13:\\xde\\xb1\\x89\\xca\\xe6\\xc8\\xf8\\xa0(J\\xa9\\xd9\\x00\\x8c~\\x1e\\tO\\xa8O\\x97\\xb9\\xd2;\\xc32\\x8e\\xf4\\rW\\xda\\xd9\\xba&\\xf7\\xc2\\xca\\xf8t\\xc8\\xab\\xd3J]\\r2\\xfe\\x02\"E\\x7f@\\xe0\\x0b\\x13:\\xde\\xb1\\x89\\xca\\xe6\\xc8\\xf8\\xa0(J\\xa9\\xd9\\x00\\x8c~\\x1e\\tO\\xa8O\\x97\\xb9\\xd2;\\xc32\\x8e\\xf4\\rW\\xda\\xd9\\xba&\\xf7\\xc2\\xca\\xf8t\\xc8\\xab\\xd3J]\\r2\\xfe\\x02\"E\\x7f@\\xe0\\x0b\\x13:\\xde\\xb1\\x89\\xca\\xe6\\xc8\\xf8\\xa0(J\\xa9\\xd9\\x00\\x8c~\\x1e\\tO\\xa8O\\x97\\xb9\\xd2;\\xc32\\x8e\\xf4\\rW\\xda\\xd9\\xba&\\xf7\\xc2\\xca\\xf8t\\xc8\\xab\\xd3J]\\r2\\xfe\\x02\"E\\x7f@\\xe0\\x0b\\x13:\\xde\\xb1\\x89\\xca\\xe6\\xc8\\xf8\\xa0(J\\xa9\\xd9\\x00\\x8c~\\x1e\\tO\\xa8O\\x97\\xb9\\xd2;\\xc32\\x8e\\xf4\\rW\\xda\\xd9\\xba&\\xf7\\xc2\\xca\\xf8t\\xc8\\xab\\xd3J]\\r2\\xfe\\x02\"E\\x7f@\\xe0\\x0b\\x13:\\xde\\xb1\\x89\\xca\\xe6\\xc8\\xf8\\xa0(J\\xa9\\xd9\\x00\\x8c~\\x1e\\tO\\xa8O\\x97\\xb9\\xd2;\\xc32\\x8e\\xf4\\rW\\xda\\xd9\\xba&\\xf7\\xc2\\xca\\xf8t\\xc8\\xab\\xd3J]\\r2\\xfe\\x02\"E\\x7f@\\xe0\\x0b\\x13:\\xde\\xb1\\x89\\xca\\xe6\\xc8\\xf8\\xa0(J\\xa9\\xd9\\x00\\x8c~\\x1e\\tO\\xa8O\\x97\\xb9\\xd2;\\xc32\\x8e\\xf4\\rW\\xda\\xd9\\xba&\\xf7\\xc2\\xca\\xf8t\\xc8\\xab\\xd3J]\\r2\\xfe\\x02\"E\\x7f@\\xe0\\x0b\\x13:\\xde\\xb1\\x89\\xca\\xe6\\xc8\\xf8\\xa0(J\\xa9\\xd9\\x00\\x8c~\\x1e\\tO\\xa8O\\x97\\xb9\\xd2;\\xc32\\x8e\\xf4\\rW\\xda\\xd9\\xba&\\xf7\\xc2\\xca\\xf8t\\xc8\\xab\\xd3J]\\r2\\xfe\\x02\"E\\x7f@\\xe0\\x0b\\x13:\\xde\\xb1\\x89\\xca\\xe6\\xc8\\xf8\\xa0(J\\xa9\\xd9\\x00\\x8c~\\x1e\\tO\\xa8O\\x97\\xb9\\xd2;\\xc32\\x8e\\xf4\\rW\\xda\\xd9\\xba&\\xf7\\xc2\\xca\\xf8t\\xc8\\xab\\xd3J]\\r2\\xfe\\x02\"E\\x7f@\\xe0\\x0b\\x13:\\xde\\xb1\\x89\\xca\\xe6\\xc8\\xf8\\xa0(J\\xa9\\xd9\\x00\\x8c~\\x1e\\tO\\xa8O\\x97\\xb9\\xd2;\\xc32\\x8e\\xf4\\rW\\xda\\xd9\\xba&\\xf7\\xc2\\xca\\xf8t\\xc8\\xab\\xd3J]\\r2\\xfe\\x02\"E\\x7f@\\xe0\\x0b\\x13:\\xde\\xb1\\x89\\xca\\xe6\\xc8\\xf8\\xa0(J\\xa9\\xd9\\x00\\x8c~\\x1e\\tO\\xa8O\\x97\\xb9\\xd2;\\xc32\\x8e\\xf4\\rW\\xda\\xd9\\xba&\\xf7\\xc2\\xca\\xf8t\\xc8\\xab\\xd3J]\\r2\\xfe\\x02\"E\\x7f@\\xe0\\x0b\\x13:\\xde\\xb1\\x89\\xca\\xe6\\xc8\\xf8\\xa0(J\\xa9\\xd9\\x00\\x8c~\\x1e\\tO\\xa8O\\x97\\xb9\\xd2;\\xc32\\x8e\\xf4\\rW\\xda\\xd9\\xba&\\xf7\\xc2\\xca\\xf8t\\xc8\\xab\\xd3J]\\r2\\xfe\\x02\"E\\x7f@\\xe0\\x0b\\x13:\\xde\\xb1\\x89\\xca\\xe6\\xc8\\xf8\\xa0(J\\xa9\\xd9\\x00\\x8c~\\x1e\\tO\\xa8O\\x97\\xb9\\xd2;\\xc32\\x8e\\xf4\\rW\\xda\\xd9\\xba&\\xf7\\xc2\\xca\\xf8t\\xc8\\xab\\xd3J]\\r2\\xfe\\x02\"E\\x7f@\\xe0\\x0b\\x13:\\xde\\xb1\\x89\\xca\\xe6\\xc8\\xf8\\xa0(J\\xa9\\xd9\\x00\\x8c~\\x1e\\tO\\xa8O\\x97\\xb9\\xd2;\\xc32\\x8e\\xf4\\rW\\xda\\xd9\\xba&\\xf7\\xc2\\xca\\xf8t\\xc8\\xab\\xd3J]\\r2\\xfe\\x02\"E\\x7f@\\xe0\\x0b\\x13:\\xde\\xb1\\x89\\xca\\xe6\\xc8\\xf8\\xa0(J\\xa9\\xd9\\x00\\x8c~\\x1e\\tO\\xa8O\\x97\\xb9\\xd2;\\xc32\\x8e\\xf4\\rW\\xda\\xd9\\xba&\\xf7\\xc2\\xca\\xf8t\\xc8\\xab\\xd3J]\\r2\\xfe\\x02\"E\\x7f@\\xe0\\x0b\\x13:\\xde\\xb1\\x89\\xca\\xe6\\xc8\\xf8\\xa0(J\\xa9\\xd9\\x00\\x8c~\\x1e\\tO\\xa8O\\x97\\xb9\\xd2;\\xc32\\x8e\\xf4\\rW\\xda\\xd9\\xba&\\xf7\\xc2\\xca\\xf8t\\xc8\\xab\\xd3J]\\r2\\xfe\\x02\"E\\x7f@\\xe0\\x0b\\x13:\\xde\\xb1\\x89\\xca\\xe6\\xc8\\xf8\\xa0(J\\xa9\\xd9\\x00\\x8c~\\x1e\\tO\\xa8O\\x97\\xb9\\xd2'\n",
      "b'San Francisco State University Computer Science and EngiSan Francisco State University Computer Science and EngiSan Francisco State University Computer Science and EngiSan Francisco State University Computer Science and EngiSan Francisco State University Computer Science and EngiSan Francisco State University Computer Science and EngiSan Francisco State University Computer Science and EngiSan Francisco State University Computer Science and EngiSan Francisco State University Computer Science and EngiSan Francisco State University Computer Science and EngiSan Francisco State University Computer Science and EngiSan Francisco State University Computer Science and EngiSan Francisco State University Computer Science and EngiSan Francisco State University Computer Science and EngiSan Francisco State University Computer Science and EngiSan Francisco State University Computer Science and EngiSan Francisco State University Computer Science and EngiSan Francisco State University Computer Science and EngiSan Francisco State University Computer Science and EngiSan Francisco State University Computer Science and EngiSan Francisco State University Computer Science and EngiSan Francisco State University Computer Science and EngiSan Francisco State University Computer Science and EngiSan Francisco State University Computer Science and EngiSan Francisco State University Computer Science and EngiSan Francisco State University Computer Science and EngiSan Francisco State University Computer Science and EngiSan Francisco State University Computer Science and EngiSan Francisco State University Computer Science and EngiSan Francisco State University Computer Science and EngiSan Francisco State University Computer Science and EngiSan Francisco State University Computer Science and Engi'\n",
      "CPU times: user 765 µs, sys: 493 µs, total: 1.26 ms\n",
      "Wall time: 713 µs\n"
     ]
    }
   ],
   "source": [
    "%%time\n",
    "key = b'abcdefgh'\n",
    "plaintext = b'San Francisco State University Computer Science and EngiSan Francisco State University Computer Science and EngiSan Francisco State University Computer Science and EngiSan Francisco State University Computer Science and EngiSan Francisco State University Computer Science and EngiSan Francisco State University Computer Science and EngiSan Francisco State University Computer Science and EngiSan Francisco State University Computer Science and EngiSan Francisco State University Computer Science and EngiSan Francisco State University Computer Science and EngiSan Francisco State University Computer Science and EngiSan Francisco State University Computer Science and EngiSan Francisco State University Computer Science and EngiSan Francisco State University Computer Science and EngiSan Francisco State University Computer Science and EngiSan Francisco State University Computer Science and EngiSan Francisco State University Computer Science and EngiSan Francisco State University Computer Science and EngiSan Francisco State University Computer Science and EngiSan Francisco State University Computer Science and EngiSan Francisco State University Computer Science and EngiSan Francisco State University Computer Science and EngiSan Francisco State University Computer Science and EngiSan Francisco State University Computer Science and EngiSan Francisco State University Computer Science and EngiSan Francisco State University Computer Science and EngiSan Francisco State University Computer Science and EngiSan Francisco State University Computer Science and EngiSan Francisco State University Computer Science and EngiSan Francisco State University Computer Science and EngiSan Francisco State University Computer Science and EngiSan Francisco State University Computer Science and Engi'\n",
    "while True:\n",
    "    try:\n",
    "        key = DES3.adjust_key_parity(get_random_bytes(24))\n",
    "        break\n",
    "    except ValueError:\n",
    "        pass\n",
    "cipher = DES3.new(key, DES3.MODE_ECB)\n",
    "msg = cipher.encrypt(plaintext)\n",
    "print(msg)\n",
    "decipher = DES3.new(key,DES3.MODE_ECB)\n",
    "msg_dec = decipher.decrypt(msg)\n",
    "print(msg_dec)"
   ]
  },
  {
   "cell_type": "code",
   "execution_count": 19,
   "id": "0433bcc8",
   "metadata": {},
   "outputs": [],
   "source": [
    "#Encryption and Decryption using 3DES-ECB, Input = 2048bits"
   ]
  },
  {
   "cell_type": "code",
   "execution_count": 20,
   "id": "2ff74ae4",
   "metadata": {},
   "outputs": [
    {
     "name": "stdout",
     "output_type": "stream",
     "text": [
      "b'\\xb8\\xbb\\xeb\\t\\xdb\\xc4\\x03\\xb2\\x8b\\n\\x8e\\xf5c\\xe9^\\xd0]\\xd0\\xf7\\xf5B\\xffMV\\xd1|+\\xb3\\x1eb\\xd2b\\x7f\\xff-E(\\x88\\x95\\xd5\\x82\\x91I-q7\\x06u\\xd1\\xf8\\xd0j\\xa2T\\xd6\\xfa\\xb8\\xbb\\xeb\\t\\xdb\\xc4\\x03\\xb2\\x8b\\n\\x8e\\xf5c\\xe9^\\xd0]\\xd0\\xf7\\xf5B\\xffMV\\xd1|+\\xb3\\x1eb\\xd2b\\x7f\\xff-E(\\x88\\x95\\xd5\\x82\\x91I-q7\\x06u\\xd1\\xf8\\xd0j\\xa2T\\xd6\\xfa\\xb8\\xbb\\xeb\\t\\xdb\\xc4\\x03\\xb2\\x8b\\n\\x8e\\xf5c\\xe9^\\xd0]\\xd0\\xf7\\xf5B\\xffMV\\xd1|+\\xb3\\x1eb\\xd2b\\x7f\\xff-E(\\x88\\x95\\xd5\\x82\\x91I-q7\\x06u\\xd1\\xf8\\xd0j\\xa2T\\xd6\\xfa\\xb8\\xbb\\xeb\\t\\xdb\\xc4\\x03\\xb2\\x8b\\n\\x8e\\xf5c\\xe9^\\xd0]\\xd0\\xf7\\xf5B\\xffMV\\xd1|+\\xb3\\x1eb\\xd2b\\x7f\\xff-E(\\x88\\x95\\xd5\\x82\\x91I-q7\\x06u\\xd1\\xf8\\xd0j\\xa2T\\xd6\\xfa\\xb8\\xbb\\xeb\\t\\xdb\\xc4\\x03\\xb2\\x8b\\n\\x8e\\xf5c\\xe9^\\xd0]\\xd0\\xf7\\xf5B\\xffMV\\xd1|+\\xb3\\x1eb\\xd2b\\x7f\\xff-E(\\x88\\x95\\xd5\\x82\\x91I-q7\\x06u\\xd1\\xf8\\xd0j\\xa2T\\xd6\\xfa\\xb8\\xbb\\xeb\\t\\xdb\\xc4\\x03\\xb2\\x8b\\n\\x8e\\xf5c\\xe9^\\xd0]\\xd0\\xf7\\xf5B\\xffMV\\xd1|+\\xb3\\x1eb\\xd2b\\x7f\\xff-E(\\x88\\x95\\xd5\\x82\\x91I-q7\\x06u\\xd1\\xf8\\xd0j\\xa2T\\xd6\\xfa\\xb8\\xbb\\xeb\\t\\xdb\\xc4\\x03\\xb2\\x8b\\n\\x8e\\xf5c\\xe9^\\xd0]\\xd0\\xf7\\xf5B\\xffMV\\xd1|+\\xb3\\x1eb\\xd2b\\x7f\\xff-E(\\x88\\x95\\xd5\\x82\\x91I-q7\\x06u\\xd1\\xf8\\xd0j\\xa2T\\xd6\\xfa\\xb8\\xbb\\xeb\\t\\xdb\\xc4\\x03\\xb2\\x8b\\n\\x8e\\xf5c\\xe9^\\xd0]\\xd0\\xf7\\xf5B\\xffMV\\xd1|+\\xb3\\x1eb\\xd2b\\x7f\\xff-E(\\x88\\x95\\xd5\\x82\\x91I-q7\\x06u\\xd1\\xf8\\xd0j\\xa2T\\xd6\\xfa\\xb8\\xbb\\xeb\\t\\xdb\\xc4\\x03\\xb2\\x8b\\n\\x8e\\xf5c\\xe9^\\xd0]\\xd0\\xf7\\xf5B\\xffMV\\xd1|+\\xb3\\x1eb\\xd2b\\x7f\\xff-E(\\x88\\x95\\xd5\\x82\\x91I-q7\\x06u\\xd1\\xf8\\xd0j\\xa2T\\xd6\\xfa\\xb8\\xbb\\xeb\\t\\xdb\\xc4\\x03\\xb2\\x8b\\n\\x8e\\xf5c\\xe9^\\xd0]\\xd0\\xf7\\xf5B\\xffMV\\xd1|+\\xb3\\x1eb\\xd2b\\x7f\\xff-E(\\x88\\x95\\xd5\\x82\\x91I-q7\\x06u\\xd1\\xf8\\xd0j\\xa2T\\xd6\\xfa\\xb8\\xbb\\xeb\\t\\xdb\\xc4\\x03\\xb2\\x8b\\n\\x8e\\xf5c\\xe9^\\xd0]\\xd0\\xf7\\xf5B\\xffMV\\xd1|+\\xb3\\x1eb\\xd2b\\x7f\\xff-E(\\x88\\x95\\xd5\\x82\\x91I-q7\\x06u\\xd1\\xf8\\xd0j\\xa2T\\xd6\\xfa\\xb8\\xbb\\xeb\\t\\xdb\\xc4\\x03\\xb2\\x8b\\n\\x8e\\xf5c\\xe9^\\xd0]\\xd0\\xf7\\xf5B\\xffMV\\xd1|+\\xb3\\x1eb\\xd2b\\x7f\\xff-E(\\x88\\x95\\xd5\\x82\\x91I-q7\\x06u\\xd1\\xf8\\xd0j\\xa2T\\xd6\\xfa\\xb8\\xbb\\xeb\\t\\xdb\\xc4\\x03\\xb2\\x8b\\n\\x8e\\xf5c\\xe9^\\xd0]\\xd0\\xf7\\xf5B\\xffMV\\xd1|+\\xb3\\x1eb\\xd2b\\x7f\\xff-E(\\x88\\x95\\xd5\\x82\\x91I-q7\\x06u\\xd1\\xf8\\xd0j\\xa2T\\xd6\\xfa\\xb8\\xbb\\xeb\\t\\xdb\\xc4\\x03\\xb2\\x8b\\n\\x8e\\xf5c\\xe9^\\xd0]\\xd0\\xf7\\xf5B\\xffMV\\xd1|+\\xb3\\x1eb\\xd2b\\x7f\\xff-E(\\x88\\x95\\xd5\\x82\\x91I-q7\\x06u\\xd1\\xf8\\xd0j\\xa2T\\xd6\\xfa\\xb8\\xbb\\xeb\\t\\xdb\\xc4\\x03\\xb2\\x8b\\n\\x8e\\xf5c\\xe9^\\xd0]\\xd0\\xf7\\xf5B\\xffMV\\xd1|+\\xb3\\x1eb\\xd2b\\x7f\\xff-E(\\x88\\x95\\xd5\\x82\\x91I-q7\\x06u\\xd1\\xf8\\xd0j\\xa2T\\xd6\\xfa\\xb8\\xbb\\xeb\\t\\xdb\\xc4\\x03\\xb2\\x8b\\n\\x8e\\xf5c\\xe9^\\xd0]\\xd0\\xf7\\xf5B\\xffMV\\xd1|+\\xb3\\x1eb\\xd2b\\x7f\\xff-E(\\x88\\x95\\xd5\\x82\\x91I-q7\\x06u\\xd1\\xf8\\xd0j\\xa2T\\xd6\\xfa\\xb8\\xbb\\xeb\\t\\xdb\\xc4\\x03\\xb2\\x8b\\n\\x8e\\xf5c\\xe9^\\xd0]\\xd0\\xf7\\xf5B\\xffMV\\xd1|+\\xb3\\x1eb\\xd2b\\x7f\\xff-E(\\x88\\x95\\xd5\\x82\\x91I-q7\\x06u\\xd1\\xf8\\xd0j\\xa2T\\xd6\\xfa\\xb8\\xbb\\xeb\\t\\xdb\\xc4\\x03\\xb2\\x8b\\n\\x8e\\xf5c\\xe9^\\xd0]\\xd0\\xf7\\xf5B\\xffMV\\xd1|+\\xb3\\x1eb\\xd2b\\x7f\\xff-E(\\x88\\x95\\xd5\\x82\\x91I-q7\\x06u\\xd1\\xf8\\xd0j\\xa2T\\xd6\\xfa\\xb8\\xbb\\xeb\\t\\xdb\\xc4\\x03\\xb2\\x8b\\n\\x8e\\xf5c\\xe9^\\xd0]\\xd0\\xf7\\xf5B\\xffMV\\xd1|+\\xb3\\x1eb\\xd2b\\x7f\\xff-E(\\x88\\x95\\xd5\\x82\\x91I-q7\\x06u\\xd1\\xf8\\xd0j\\xa2T\\xd6\\xfa\\xb8\\xbb\\xeb\\t\\xdb\\xc4\\x03\\xb2\\x8b\\n\\x8e\\xf5c\\xe9^\\xd0]\\xd0\\xf7\\xf5B\\xffMV\\xd1|+\\xb3\\x1eb\\xd2b\\x7f\\xff-E(\\x88\\x95\\xd5\\x82\\x91I-q7\\x06u\\xd1\\xf8\\xd0j\\xa2T\\xd6\\xfa\\xb8\\xbb\\xeb\\t\\xdb\\xc4\\x03\\xb2\\x8b\\n\\x8e\\xf5c\\xe9^\\xd0]\\xd0\\xf7\\xf5B\\xffMV\\xd1|+\\xb3\\x1eb\\xd2b\\x7f\\xff-E(\\x88\\x95\\xd5\\x82\\x91I-q7\\x06u\\xd1\\xf8\\xd0j\\xa2T\\xd6\\xfa\\xb8\\xbb\\xeb\\t\\xdb\\xc4\\x03\\xb2\\x8b\\n\\x8e\\xf5c\\xe9^\\xd0]\\xd0\\xf7\\xf5B\\xffMV\\xd1|+\\xb3\\x1eb\\xd2b\\x7f\\xff-E(\\x88\\x95\\xd5\\x82\\x91I-q7\\x06u\\xd1\\xf8\\xd0j\\xa2T\\xd6\\xfa\\xb8\\xbb\\xeb\\t\\xdb\\xc4\\x03\\xb2\\x8b\\n\\x8e\\xf5c\\xe9^\\xd0]\\xd0\\xf7\\xf5B\\xffMV\\xd1|+\\xb3\\x1eb\\xd2b\\x7f\\xff-E(\\x88\\x95\\xd5\\x82\\x91I-q7\\x06u\\xd1\\xf8\\xd0j\\xa2T\\xd6\\xfa\\xb8\\xbb\\xeb\\t\\xdb\\xc4\\x03\\xb2\\x8b\\n\\x8e\\xf5c\\xe9^\\xd0]\\xd0\\xf7\\xf5B\\xffMV\\xd1|+\\xb3\\x1eb\\xd2b\\x7f\\xff-E(\\x88\\x95\\xd5\\x82\\x91I-q7\\x06u\\xd1\\xf8\\xd0j\\xa2T\\xd6\\xfa\\xb8\\xbb\\xeb\\t\\xdb\\xc4\\x03\\xb2\\x8b\\n\\x8e\\xf5c\\xe9^\\xd0]\\xd0\\xf7\\xf5B\\xffMV\\xd1|+\\xb3\\x1eb\\xd2b\\x7f\\xff-E(\\x88\\x95\\xd5\\x82\\x91I-q7\\x06u\\xd1\\xf8\\xd0j\\xa2T\\xd6\\xfa\\xb8\\xbb\\xeb\\t\\xdb\\xc4\\x03\\xb2\\x8b\\n\\x8e\\xf5c\\xe9^\\xd0]\\xd0\\xf7\\xf5B\\xffMV\\xd1|+\\xb3\\x1eb\\xd2b\\x7f\\xff-E(\\x88\\x95\\xd5\\x82\\x91I-q7\\x06u\\xd1\\xf8\\xd0j\\xa2T\\xd6\\xfa\\xb8\\xbb\\xeb\\t\\xdb\\xc4\\x03\\xb2\\x8b\\n\\x8e\\xf5c\\xe9^\\xd0]\\xd0\\xf7\\xf5B\\xffMV\\xd1|+\\xb3\\x1eb\\xd2b\\x7f\\xff-E(\\x88\\x95\\xd5\\x82\\x91I-q7\\x06u\\xd1\\xf8\\xd0j\\xa2T\\xd6\\xfa\\xb8\\xbb\\xeb\\t\\xdb\\xc4\\x03\\xb2\\x8b\\n\\x8e\\xf5c\\xe9^\\xd0]\\xd0\\xf7\\xf5B\\xffMV\\xd1|+\\xb3\\x1eb\\xd2b\\x7f\\xff-E(\\x88\\x95\\xd5\\x82\\x91I-q7\\x06u\\xd1\\xf8\\xd0j\\xa2T\\xd6\\xfa\\xb8\\xbb\\xeb\\t\\xdb\\xc4\\x03\\xb2\\x8b\\n\\x8e\\xf5c\\xe9^\\xd0]\\xd0\\xf7\\xf5B\\xffMV\\xd1|+\\xb3\\x1eb\\xd2b\\x7f\\xff-E(\\x88\\x95\\xd5\\x82\\x91I-q7\\x06u\\xd1\\xf8\\xd0j\\xa2T\\xd6\\xfa\\xb8\\xbb\\xeb\\t\\xdb\\xc4\\x03\\xb2\\x8b\\n\\x8e\\xf5c\\xe9^\\xd0]\\xd0\\xf7\\xf5B\\xffMV\\xd1|+\\xb3\\x1eb\\xd2b\\x7f\\xff-E(\\x88\\x95\\xd5\\x82\\x91I-q7\\x06u\\xd1\\xf8\\xd0j\\xa2T\\xd6\\xfa\\xb8\\xbb\\xeb\\t\\xdb\\xc4\\x03\\xb2\\x8b\\n\\x8e\\xf5c\\xe9^\\xd0]\\xd0\\xf7\\xf5B\\xffMV\\xd1|+\\xb3\\x1eb\\xd2b\\x7f\\xff-E(\\x88\\x95\\xd5\\x82\\x91I-q7\\x06u\\xd1\\xf8\\xd0j\\xa2T\\xd6\\xfa\\xb8\\xbb\\xeb\\t\\xdb\\xc4\\x03\\xb2\\x8b\\n\\x8e\\xf5c\\xe9^\\xd0]\\xd0\\xf7\\xf5B\\xffMV\\xd1|+\\xb3\\x1eb\\xd2b\\x7f\\xff-E(\\x88\\x95\\xd5\\x82\\x91I-q7\\x06u\\xd1\\xf8\\xd0j\\xa2T\\xd6\\xfa\\xb8\\xbb\\xeb\\t\\xdb\\xc4\\x03\\xb2\\x8b\\n\\x8e\\xf5c\\xe9^\\xd0]\\xd0\\xf7\\xf5B\\xffMV\\xd1|+\\xb3\\x1eb\\xd2b\\x7f\\xff-E(\\x88\\x95\\xd5\\x82\\x91I-q7\\x06u\\xd1\\xf8\\xd0j\\xa2T\\xd6\\xfa\\xb8\\xbb\\xeb\\t\\xdb\\xc4\\x03\\xb2\\x8b\\n\\x8e\\xf5c\\xe9^\\xd0]\\xd0\\xf7\\xf5B\\xffMV\\xd1|+\\xb3\\x1eb\\xd2b\\x7f\\xff-E(\\x88\\x95\\xd5\\x82\\x91I-q7\\x06u\\xd1\\xf8\\xd0j\\xa2T\\xd6\\xfa\\xb8\\xbb\\xeb\\t\\xdb\\xc4\\x03\\xb2\\x8b\\n\\x8e\\xf5c\\xe9^\\xd0]\\xd0\\xf7\\xf5B\\xffMV\\xd1|+\\xb3\\x1eb\\xd2b\\x7f\\xff-E(\\x88\\x95\\xd5\\x82\\x91I-q7\\x06u\\xd1\\xf8\\xd0j\\xa2T\\xd6\\xfa\\xb8\\xbb\\xeb\\t\\xdb\\xc4\\x03\\xb2\\x8b\\n\\x8e\\xf5c\\xe9^\\xd0]\\xd0\\xf7\\xf5B\\xffMV\\xd1|+\\xb3\\x1eb\\xd2b\\x7f\\xff-E(\\x88\\x95\\xd5\\x82\\x91I-q7\\x06u\\xd1\\xf8\\xd0j\\xa2T\\xd6\\xfa\\xb8\\xbb\\xeb\\t\\xdb\\xc4\\x03\\xb2\\x8b\\n\\x8e\\xf5c\\xe9^\\xd0]\\xd0\\xf7\\xf5B\\xffMV\\xd1|+\\xb3\\x1eb\\xd2b\\x7f\\xff-E(\\x88\\x95\\xd5\\x82\\x91I-q7\\x06u\\xd1\\xf8\\xd0j\\xa2T\\xd6\\xfa\\xb8\\xbb\\xeb\\t\\xdb\\xc4\\x03\\xb2\\x8b\\n\\x8e\\xf5c\\xe9^\\xd0]\\xd0\\xf7\\xf5B\\xffMV\\xd1|+\\xb3\\x1eb\\xd2b\\x7f\\xff-E(\\x88\\x95\\xd5\\x82\\x91I-q7\\x06u\\xd1\\xf8\\xd0j\\xa2T\\xd6\\xfa\\xb8\\xbb\\xeb\\t\\xdb\\xc4\\x03\\xb2\\x8b\\n\\x8e\\xf5c\\xe9^\\xd0]\\xd0\\xf7\\xf5B\\xffMV\\xd1|+\\xb3\\x1eb\\xd2b\\x7f\\xff-E(\\x88\\x95\\xd5\\x82\\x91I-q7\\x06u\\xd1\\xf8\\xd0j\\xa2T\\xd6\\xfa\\xb8\\xbb\\xeb\\t\\xdb\\xc4\\x03\\xb2\\x8b\\n\\x8e\\xf5c\\xe9^\\xd0]\\xd0\\xf7\\xf5B\\xffMV\\xd1|+\\xb3\\x1eb\\xd2b\\x7f\\xff-E(\\x88\\x95\\xd5\\x82\\x91I-q7\\x06u\\xd1\\xf8\\xd0j\\xa2T\\xd6\\xfa\\xb8\\xbb\\xeb\\t\\xdb\\xc4\\x03\\xb2\\x8b\\n\\x8e\\xf5c\\xe9^\\xd0]\\xd0\\xf7\\xf5B\\xffMV\\xd1|+\\xb3\\x1eb\\xd2b\\x7f\\xff-E(\\x88\\x95\\xd5\\x82\\x91I-q7\\x06u\\xd1\\xf8\\xd0j\\xa2T\\xd6\\xfa\\xb8\\xbb\\xeb\\t\\xdb\\xc4\\x03\\xb2\\x8b\\n\\x8e\\xf5c\\xe9^\\xd0]\\xd0\\xf7\\xf5B\\xffMV\\xd1|+\\xb3\\x1eb\\xd2b\\x7f\\xff-E(\\x88\\x95\\xd5\\x82\\x91I-q7\\x06u\\xd1\\xf8\\xd0j\\xa2T\\xd6\\xfa\\xb8\\xbb\\xeb\\t\\xdb\\xc4\\x03\\xb2\\x8b\\n\\x8e\\xf5c\\xe9^\\xd0]\\xd0\\xf7\\xf5B\\xffMV\\xd1|+\\xb3\\x1eb\\xd2b\\x7f\\xff-E(\\x88\\x95\\xd5\\x82\\x91I-q7\\x06u\\xd1\\xf8\\xd0j\\xa2T\\xd6\\xfa\\xb8\\xbb\\xeb\\t\\xdb\\xc4\\x03\\xb2\\x8b\\n\\x8e\\xf5c\\xe9^\\xd0]\\xd0\\xf7\\xf5B\\xffMV\\xd1|+\\xb3\\x1eb\\xd2b\\x7f\\xff-E(\\x88\\x95\\xd5\\x82\\x91I-q7\\x06u\\xd1\\xf8\\xd0j\\xa2T\\xd6\\xfa\\xb8\\xbb\\xeb\\t\\xdb\\xc4\\x03\\xb2\\x8b\\n\\x8e\\xf5c\\xe9^\\xd0]\\xd0\\xf7\\xf5B\\xffMV\\xd1|+\\xb3\\x1eb\\xd2b\\x7f\\xff-E(\\x88\\x95\\xd5\\x82\\x91I-q7\\x06u\\xd1\\xf8\\xd0j\\xa2T\\xd6\\xfa\\xb8\\xbb\\xeb\\t\\xdb\\xc4\\x03\\xb2\\x8b\\n\\x8e\\xf5c\\xe9^\\xd0]\\xd0\\xf7\\xf5B\\xffMV\\xd1|+\\xb3\\x1eb\\xd2b\\x7f\\xff-E(\\x88\\x95\\xd5\\x82\\x91I-q7\\x06u\\xd1\\xf8\\xd0j\\xa2T\\xd6\\xfa\\xb8\\xbb\\xeb\\t\\xdb\\xc4\\x03\\xb2\\x8b\\n\\x8e\\xf5c\\xe9^\\xd0]\\xd0\\xf7\\xf5B\\xffMV\\xd1|+\\xb3\\x1eb\\xd2b\\x7f\\xff-E(\\x88\\x95\\xd5\\x82\\x91I-q7\\x06u\\xd1\\xf8\\xd0j\\xa2T\\xd6\\xfa\\xb8\\xbb\\xeb\\t\\xdb\\xc4\\x03\\xb2\\x8b\\n\\x8e\\xf5c\\xe9^\\xd0]\\xd0\\xf7\\xf5B\\xffMV\\xd1|+\\xb3\\x1eb\\xd2b\\x7f\\xff-E(\\x88\\x95\\xd5\\x82\\x91I-q7\\x06u\\xd1\\xf8\\xd0j\\xa2T\\xd6\\xfa\\xb8\\xbb\\xeb\\t\\xdb\\xc4\\x03\\xb2\\x8b\\n\\x8e\\xf5c\\xe9^\\xd0]\\xd0\\xf7\\xf5B\\xffMV\\xd1|+\\xb3\\x1eb\\xd2b\\x7f\\xff-E(\\x88\\x95\\xd5\\x82\\x91I-q7\\x06u\\xd1\\xf8\\xd0j\\xa2T\\xd6\\xfa\\xb8\\xbb\\xeb\\t\\xdb\\xc4\\x03\\xb2\\x8b\\n\\x8e\\xf5c\\xe9^\\xd0]\\xd0\\xf7\\xf5B\\xffMV\\xd1|+\\xb3\\x1eb\\xd2b\\x7f\\xff-E(\\x88\\x95\\xd5\\x82\\x91I-q7\\x06u\\xd1\\xf8\\xd0j\\xa2T\\xd6\\xfa\\xb8\\xbb\\xeb\\t\\xdb\\xc4\\x03\\xb2\\x8b\\n\\x8e\\xf5c\\xe9^\\xd0]\\xd0\\xf7\\xf5B\\xffMV\\xd1|+\\xb3\\x1eb\\xd2b\\x7f\\xff-E(\\x88\\x95\\xd5\\x82\\x91I-q7\\x06u\\xd1\\xf8\\xd0j\\xa2T\\xd6\\xfa\\xb8\\xbb\\xeb\\t\\xdb\\xc4\\x03\\xb2\\x8b\\n\\x8e\\xf5c\\xe9^\\xd0]\\xd0\\xf7\\xf5B\\xffMV\\xd1|+\\xb3\\x1eb\\xd2b\\x7f\\xff-E(\\x88\\x95\\xd5\\x82\\x91I-q7\\x06u\\xd1\\xf8\\xd0j\\xa2T\\xd6\\xfa\\xb8\\xbb\\xeb\\t\\xdb\\xc4\\x03\\xb2\\x8b\\n\\x8e\\xf5c\\xe9^\\xd0]\\xd0\\xf7\\xf5B\\xffMV\\xd1|+\\xb3\\x1eb\\xd2b\\x7f\\xff-E(\\x88\\x95\\xd5\\x82\\x91I-q7\\x06u\\xd1\\xf8\\xd0j\\xa2T\\xd6\\xfa\\xb8\\xbb\\xeb\\t\\xdb\\xc4\\x03\\xb2\\x8b\\n\\x8e\\xf5c\\xe9^\\xd0]\\xd0\\xf7\\xf5B\\xffMV\\xd1|+\\xb3\\x1eb\\xd2b\\x7f\\xff-E(\\x88\\x95\\xd5\\x82\\x91I-q7\\x06u\\xd1\\xf8\\xd0j\\xa2T\\xd6\\xfa\\xb8\\xbb\\xeb\\t\\xdb\\xc4\\x03\\xb2\\x8b\\n\\x8e\\xf5c\\xe9^\\xd0]\\xd0\\xf7\\xf5B\\xffMV\\xd1|+\\xb3\\x1eb\\xd2b\\x7f\\xff-E(\\x88\\x95\\xd5\\x82\\x91I-q7\\x06u\\xd1\\xf8\\xd0j\\xa2T\\xd6\\xfa\\xb8\\xbb\\xeb\\t\\xdb\\xc4\\x03\\xb2\\x8b\\n\\x8e\\xf5c\\xe9^\\xd0]\\xd0\\xf7\\xf5B\\xffMV\\xd1|+\\xb3\\x1eb\\xd2b\\x7f\\xff-E(\\x88\\x95\\xd5\\x82\\x91I-q7\\x06u\\xd1\\xf8\\xd0j\\xa2T\\xd6\\xfa\\xb8\\xbb\\xeb\\t\\xdb\\xc4\\x03\\xb2\\x8b\\n\\x8e\\xf5c\\xe9^\\xd0]\\xd0\\xf7\\xf5B\\xffMV\\xd1|+\\xb3\\x1eb\\xd2b\\x7f\\xff-E(\\x88\\x95\\xd5\\x82\\x91I-q7\\x06u\\xd1\\xf8\\xd0j\\xa2T\\xd6\\xfa\\xb8\\xbb\\xeb\\t\\xdb\\xc4\\x03\\xb2\\x8b\\n\\x8e\\xf5c\\xe9^\\xd0]\\xd0\\xf7\\xf5B\\xffMV\\xd1|+\\xb3\\x1eb\\xd2b\\x7f\\xff-E(\\x88\\x95\\xd5\\x82\\x91I-q7\\x06u\\xd1\\xf8\\xd0j\\xa2T\\xd6\\xfa\\xb8\\xbb\\xeb\\t\\xdb\\xc4\\x03\\xb2\\x8b\\n\\x8e\\xf5c\\xe9^\\xd0]\\xd0\\xf7\\xf5B\\xffMV\\xd1|+\\xb3\\x1eb\\xd2b\\x7f\\xff-E(\\x88\\x95\\xd5\\x82\\x91I-q7\\x06u\\xd1\\xf8\\xd0j\\xa2T\\xd6\\xfa\\xb8\\xbb\\xeb\\t\\xdb\\xc4\\x03\\xb2\\x8b\\n\\x8e\\xf5c\\xe9^\\xd0]\\xd0\\xf7\\xf5B\\xffMV\\xd1|+\\xb3\\x1eb\\xd2b\\x7f\\xff-E(\\x88\\x95\\xd5\\x82\\x91I-q7\\x06u\\xd1\\xf8\\xd0j\\xa2T\\xd6\\xfa\\xb8\\xbb\\xeb\\t\\xdb\\xc4\\x03\\xb2\\x8b\\n\\x8e\\xf5c\\xe9^\\xd0]\\xd0\\xf7\\xf5B\\xffMV\\xd1|+\\xb3\\x1eb\\xd2b\\x7f\\xff-E(\\x88\\x95\\xd5\\x82\\x91I-q7\\x06u\\xd1\\xf8\\xd0j\\xa2T\\xd6\\xfa\\xb8\\xbb\\xeb\\t\\xdb\\xc4\\x03\\xb2\\x8b\\n\\x8e\\xf5c\\xe9^\\xd0]\\xd0\\xf7\\xf5B\\xffMV\\xd1|+\\xb3\\x1eb\\xd2b\\x7f\\xff-E(\\x88\\x95\\xd5\\x82\\x91I-q7\\x06u\\xd1\\xf8\\xd0j\\xa2T\\xd6\\xfa\\xb8\\xbb\\xeb\\t\\xdb\\xc4\\x03\\xb2\\x8b\\n\\x8e\\xf5c\\xe9^\\xd0]\\xd0\\xf7\\xf5B\\xffMV\\xd1|+\\xb3\\x1eb\\xd2b\\x7f\\xff-E(\\x88\\x95\\xd5\\x82\\x91I-q7\\x06u\\xd1\\xf8\\xd0j\\xa2T\\xd6\\xfa\\xb8\\xbb\\xeb\\t\\xdb\\xc4\\x03\\xb2\\x8b\\n\\x8e\\xf5c\\xe9^\\xd0]\\xd0\\xf7\\xf5B\\xffMV\\xd1|+\\xb3\\x1eb\\xd2b\\x7f\\xff-E(\\x88\\x95\\xd5\\x82\\x91I-q7\\x06u\\xd1\\xf8\\xd0j\\xa2T\\xd6\\xfa'\n",
      "b'San Francisco State University Computer Science and EngiSan Francisco State University Computer Science and EngiSan Francisco State University Computer Science and EngiSan Francisco State University Computer Science and EngiSan Francisco State University Computer Science and EngiSan Francisco State University Computer Science and EngiSan Francisco State University Computer Science and EngiSan Francisco State University Computer Science and EngiSan Francisco State University Computer Science and EngiSan Francisco State University Computer Science and EngiSan Francisco State University Computer Science and EngiSan Francisco State University Computer Science and EngiSan Francisco State University Computer Science and EngiSan Francisco State University Computer Science and EngiSan Francisco State University Computer Science and EngiSan Francisco State University Computer Science and EngiSan Francisco State University Computer Science and EngiSan Francisco State University Computer Science and EngiSan Francisco State University Computer Science and EngiSan Francisco State University Computer Science and EngiSan Francisco State University Computer Science and EngiSan Francisco State University Computer Science and EngiSan Francisco State University Computer Science and EngiSan Francisco State University Computer Science and EngiSan Francisco State University Computer Science and EngiSan Francisco State University Computer Science and EngiSan Francisco State University Computer Science and EngiSan Francisco State University Computer Science and EngiSan Francisco State University Computer Science and EngiSan Francisco State University Computer Science and EngiSan Francisco State University Computer Science and EngiSan Francisco State University Computer Science and EngiSan Francisco State University Computer Science and EngiSan Francisco State University Computer Science and EngiSan Francisco State University Computer Science and EngiSan Francisco State University Computer Science and EngiSan Francisco State University Computer Science and EngiSan Francisco State University Computer Science and EngiSan Francisco State University Computer Science and EngiSan Francisco State University Computer Science and EngiSan Francisco State University Computer Science and EngiSan Francisco State University Computer Science and EngiSan Francisco State University Computer Science and EngiSan Francisco State University Computer Science and EngiSan Francisco State University Computer Science and EngiSan Francisco State University Computer Science and EngiSan Francisco State University Computer Science and EngiSan Francisco State University Computer Science and EngiSan Francisco State University Computer Science and EngiSan Francisco State University Computer Science and EngiSan Francisco State University Computer Science and EngiSan Francisco State University Computer Science and EngiSan Francisco State University Computer Science and EngiSan Francisco State University Computer Science and EngiSan Francisco State University Computer Science and EngiSan Francisco State University Computer Science and EngiSan Francisco State University Computer Science and EngiSan Francisco State University Computer Science and EngiSan Francisco State University Computer Science and EngiSan Francisco State University Computer Science and EngiSan Francisco State University Computer Science and EngiSan Francisco State University Computer Science and EngiSan Francisco State University Computer Science and EngiSan Francisco State University Computer Science and Engi'\n",
      "CPU times: user 1.08 ms, sys: 702 µs, total: 1.78 ms\n",
      "Wall time: 933 µs\n"
     ]
    }
   ],
   "source": [
    "%%time\n",
    "key = b'abcdefgh'\n",
    "plaintext = b'San Francisco State University Computer Science and EngiSan Francisco State University Computer Science and EngiSan Francisco State University Computer Science and EngiSan Francisco State University Computer Science and EngiSan Francisco State University Computer Science and EngiSan Francisco State University Computer Science and EngiSan Francisco State University Computer Science and EngiSan Francisco State University Computer Science and EngiSan Francisco State University Computer Science and EngiSan Francisco State University Computer Science and EngiSan Francisco State University Computer Science and EngiSan Francisco State University Computer Science and EngiSan Francisco State University Computer Science and EngiSan Francisco State University Computer Science and EngiSan Francisco State University Computer Science and EngiSan Francisco State University Computer Science and EngiSan Francisco State University Computer Science and EngiSan Francisco State University Computer Science and EngiSan Francisco State University Computer Science and EngiSan Francisco State University Computer Science and EngiSan Francisco State University Computer Science and EngiSan Francisco State University Computer Science and EngiSan Francisco State University Computer Science and EngiSan Francisco State University Computer Science and EngiSan Francisco State University Computer Science and EngiSan Francisco State University Computer Science and EngiSan Francisco State University Computer Science and EngiSan Francisco State University Computer Science and EngiSan Francisco State University Computer Science and EngiSan Francisco State University Computer Science and EngiSan Francisco State University Computer Science and EngiSan Francisco State University Computer Science and EngiSan Francisco State University Computer Science and EngiSan Francisco State University Computer Science and EngiSan Francisco State University Computer Science and EngiSan Francisco State University Computer Science and EngiSan Francisco State University Computer Science and EngiSan Francisco State University Computer Science and EngiSan Francisco State University Computer Science and EngiSan Francisco State University Computer Science and EngiSan Francisco State University Computer Science and EngiSan Francisco State University Computer Science and EngiSan Francisco State University Computer Science and EngiSan Francisco State University Computer Science and EngiSan Francisco State University Computer Science and EngiSan Francisco State University Computer Science and EngiSan Francisco State University Computer Science and EngiSan Francisco State University Computer Science and EngiSan Francisco State University Computer Science and EngiSan Francisco State University Computer Science and EngiSan Francisco State University Computer Science and EngiSan Francisco State University Computer Science and EngiSan Francisco State University Computer Science and EngiSan Francisco State University Computer Science and EngiSan Francisco State University Computer Science and EngiSan Francisco State University Computer Science and EngiSan Francisco State University Computer Science and EngiSan Francisco State University Computer Science and EngiSan Francisco State University Computer Science and EngiSan Francisco State University Computer Science and EngiSan Francisco State University Computer Science and EngiSan Francisco State University Computer Science and EngiSan Francisco State University Computer Science and EngiSan Francisco State University Computer Science and Engi'\n",
    "while True:\n",
    "    try:\n",
    "        key = DES3.adjust_key_parity(get_random_bytes(24))\n",
    "        break\n",
    "    except ValueError:\n",
    "        pass\n",
    "cipher = DES3.new(key, DES3.MODE_ECB)\n",
    "msg = cipher.encrypt(plaintext)\n",
    "print(msg)\n",
    "decipher = DES3.new(key,DES3.MODE_ECB)\n",
    "msg_dec = decipher.decrypt(msg)\n",
    "print(msg_dec)"
   ]
  },
  {
   "cell_type": "code",
   "execution_count": 21,
   "id": "3ca06d46",
   "metadata": {},
   "outputs": [],
   "source": [
    "#Encryption and Decryption using 3DES-CBC, Input = 16bits"
   ]
  },
  {
   "cell_type": "code",
   "execution_count": 22,
   "id": "9a91b18a",
   "metadata": {},
   "outputs": [
    {
     "name": "stdout",
     "output_type": "stream",
     "text": [
      "b'%\\xe1*bp\\x90\\xdf\\xcc\\xb5|\\x00c\\xa6Z\\x9b\\x8b'\n",
      "b'}+\\xbe\\x06d\\xcemFcisco St'\n",
      "CPU times: user 830 µs, sys: 576 µs, total: 1.41 ms\n",
      "Wall time: 921 µs\n"
     ]
    }
   ],
   "source": [
    "%%time\n",
    "key = b'abcdefgh'\n",
    "plaintext = b'San Francisco St'\n",
    "while True:\n",
    "    try:\n",
    "        key = DES3.adjust_key_parity(get_random_bytes(24))\n",
    "        break\n",
    "    except ValueError:\n",
    "        pass\n",
    "cipher = DES3.new(key, DES3.MODE_CBC)\n",
    "msg = cipher.encrypt(plaintext)\n",
    "print(msg)\n",
    "decipher = DES3.new(key,DES3.MODE_CBC)\n",
    "msg_dec = decipher.decrypt(msg)\n",
    "print(msg_dec)"
   ]
  },
  {
   "cell_type": "code",
   "execution_count": 25,
   "id": "47bcf38c",
   "metadata": {},
   "outputs": [],
   "source": [
    "#Encryption and Decryption using 3DES-CBC, Input = 32bits"
   ]
  },
  {
   "cell_type": "code",
   "execution_count": 26,
   "id": "ccf40aeb",
   "metadata": {},
   "outputs": [
    {
     "name": "stdout",
     "output_type": "stream",
     "text": [
      "b'\\x87\\xa1\\xce\\x85\\xbdN\\xcc\\xf2w7\\xd5\\xf0g\\xe8@\\xe9a\\xca\\xba\\xaf7K\\xd4\\xad\\xec\\xa1\\xd0.&mtR6\\x05\\xbfzr;\\xff\\xb1Wl\\xd5Q#\\xb4\\xc1Q(s}0\\xc5\\xcc7\\x14'\n",
      "b'\\xb4\\xca\\xcc\\xe4\\nr\\x07\\x8bcisco State University Computer Science and Engi'\n",
      "CPU times: user 1.16 ms, sys: 692 µs, total: 1.85 ms\n",
      "Wall time: 1.56 ms\n"
     ]
    }
   ],
   "source": [
    "%%time\n",
    "key = b'abcdefgh'\n",
    "plaintext = b'San Francisco State University Computer Science and Engi'\n",
    "while True:\n",
    "    try:\n",
    "        key = DES3.adjust_key_parity(get_random_bytes(24))\n",
    "        break\n",
    "    except ValueError:\n",
    "        pass\n",
    "cipher = DES3.new(key, DES3.MODE_CBC)\n",
    "msg = cipher.encrypt(plaintext)\n",
    "print(msg)\n",
    "decipher = DES3.new(key,DES3.MODE_CBC)\n",
    "msg_dec = decipher.decrypt(msg)\n",
    "print(msg_dec)"
   ]
  },
  {
   "cell_type": "code",
   "execution_count": 27,
   "id": "97b9674f",
   "metadata": {},
   "outputs": [],
   "source": [
    "#Encryption and Decryption using 3DES-CBC, Input = 64bits"
   ]
  },
  {
   "cell_type": "code",
   "execution_count": 28,
   "id": "d0b55a49",
   "metadata": {},
   "outputs": [
    {
     "name": "stdout",
     "output_type": "stream",
     "text": [
      "b'w\\x8ap\\x9dl\\xf7)\\x94nO#\\x9b\\xe2K^D\\xf0\\x0c+\\xb8u\\xcd\\xba\\xd9K2\\xb1\\x00\\xbb\\nCb\\xe6\\xe8f\\xad\\xac\\xc9{az\\x8fI\\x8f\\xd5\\xa1\\xbf\\xf9,\\xa2\\x1cG\\x7f-U\\xc1\\xd0}R\\xb9\\xc6\\xdd\\xbb\\xd6\\xf1\\xd3\\xa5\\x06l0o\\x03&;\\xd8\\x10~\\x89{m\\t<\\xae\\x14\\x14\\xb9]xd\\\\\\xf7\\r\\x06]\\x8f\\x9e\\xef\\xa9\\x00yF\\x87\\xa4T\\x03M\\n\\x06\\xe3\\x8f\\x13\\xa3'\n",
      "b'.\\xb9\\xe4\\xff\\xcf\\x8d\\xe6\\ncisco State University Computer Science and EngiSan Francisco State University Computer Science and Engi'\n",
      "CPU times: user 591 µs, sys: 344 µs, total: 935 µs\n",
      "Wall time: 616 µs\n"
     ]
    }
   ],
   "source": [
    "%%time\n",
    "key = b'abcdefgh'\n",
    "plaintext = b'San Francisco State University Computer Science and EngiSan Francisco State University Computer Science and Engi'\n",
    "while True:\n",
    "    try:\n",
    "        key = DES3.adjust_key_parity(get_random_bytes(24))\n",
    "        break\n",
    "    except ValueError:\n",
    "        pass\n",
    "cipher = DES3.new(key, DES3.MODE_CBC)\n",
    "msg = cipher.encrypt(plaintext)\n",
    "print(msg)\n",
    "decipher = DES3.new(key,DES3.MODE_CBC)\n",
    "msg_dec = decipher.decrypt(msg)\n",
    "print(msg_dec)"
   ]
  },
  {
   "cell_type": "code",
   "execution_count": 29,
   "id": "bcfece16",
   "metadata": {},
   "outputs": [],
   "source": [
    "#Encryption and Decryption using 3DES-CBC, Input = 128bits"
   ]
  },
  {
   "cell_type": "code",
   "execution_count": 30,
   "id": "79e66af4",
   "metadata": {},
   "outputs": [
    {
     "name": "stdout",
     "output_type": "stream",
     "text": [
      "b'\\t\\x8a\\xf8\\xee\\xb7X\\xddD\\xbb\\x165\\xb3P\\xd5\\xba\\xbf\\xd4\\xc6\\xba!\\xae\\xe421\\xec!\\x1d\\xfb\\x01`\\xdb^\\x91V\\xf5\\x7fY\\xe6F\\xa5\\xbb\\x9b&s\\xba\\x18\\x1d\\x8c\\x91\\xcaW\\xf8o\\xfc\\x7f\\x9a@\\xb7\\x80\\xd2\\x8a\\xb8\\x8e\\x8a\\xe1\\x83\\r*+_B\\x14\\x0f?\\xb5k\\xf51\\x07j\\x11.\\xf2-f\\'U\\x8d\\x86\\xea\\xc9C\\xd8\\xc6\\xe8$\"\\xb1\\x0e\\xb8\\'\\x7f\\x8c-k\\xeb(O\\tA\\xb7\\x0fI|z\\xf9\\xcc\\x9d7\\xb7\\xf6\\x84J~\\xd3;\\x9a(Oq\\xb2?t\\xe2i\\x91\\xf1\\xef\\x11#9\\xa9\\xe4\\xab\\'\\xeaV\\x02\\x1d\\xd9.*\\x12g[c\\'\\xf0\\xba\\x9a\\xb2X9\\x1a\\x10\\xf6\\xc3\\xcd_\\xf2k%\\x98\\x93\\xb0\\x86N\\xb9\"\\xbe\\x94\\xe5q\\xba-3\\xa4DED\\xd8\\x80\\t\\xf4I\\n\\x1d\\xa0\\xa7rC\\xc7\\xb5\\xe1\\xb1\\xc0\\xc4:_Jq\\xa9\\x94\\x97e\\xe0\\xbdL/\\xcccs|4'\n",
      "b'A\\xb4\\xfc\\xee\\x92<h~cisco State University Computer Science and EngiSan Francisco State University Computer Science and EngiSan Francisco State University Computer Science and EngiSan Francisco State University Computer Science and Engi'\n",
      "CPU times: user 855 µs, sys: 518 µs, total: 1.37 ms\n",
      "Wall time: 860 µs\n"
     ]
    }
   ],
   "source": [
    "%%time\n",
    "key = b'abcdefgh'\n",
    "plaintext = b'San Francisco State University Computer Science and EngiSan Francisco State University Computer Science and EngiSan Francisco State University Computer Science and EngiSan Francisco State University Computer Science and Engi'\n",
    "while True:\n",
    "    try:\n",
    "        key = DES3.adjust_key_parity(get_random_bytes(24))\n",
    "        break\n",
    "    except ValueError:\n",
    "        pass\n",
    "cipher = DES3.new(key, DES3.MODE_CBC)\n",
    "msg = cipher.encrypt(plaintext)\n",
    "print(msg)\n",
    "decipher = DES3.new(key,DES3.MODE_CBC)\n",
    "msg_dec = decipher.decrypt(msg)\n",
    "print(msg_dec)"
   ]
  },
  {
   "cell_type": "code",
   "execution_count": 31,
   "id": "44efd5f0",
   "metadata": {},
   "outputs": [],
   "source": [
    "#Encryption and Decryption using 3DES-CBC, Input = 256bits"
   ]
  },
  {
   "cell_type": "code",
   "execution_count": 32,
   "id": "d0141993",
   "metadata": {},
   "outputs": [
    {
     "name": "stdout",
     "output_type": "stream",
     "text": [
      "b'\\x1e\\xd4\\x15D\\xd2 :\\xfe/\\x1e\\xdf\\x86fE\\xc2\\x1ao\\x10\\xc3&mX\\xe8\\x91^\\xa0\\x8fo\\xbf\\xee\\x1e</5\\xee\\x1e\\xb3\\xc1\\xa8\\xdf5\\xf7\\xca0\\xfc\\x00mvWJ<\\xbb\\x9f\\xbd\\xff|!f\\xcaUl\\x85\\xf1\\x14 \\xb7\\x8e{\\x00\\xf2\\xd3\\xec*\\xdb\\\\$`\\x8d|5J\\xf38\\x91\\xa2\\xcd\\x08\\x9d\\xb7Q7?\\xca\\xd4/1\\xd0\\x00\\xa5\\xc7\\xe3\\x8d\\xa2W\\xc3|3\\x0f]\\xdd\\xf93n\\xd94O\\xf2\\x1b\\x03\\xd4\\xad\\xaf\\xfd\\xefD\"\\x13\\xaf\\xa1\\x9b\\x92\\xc6Ov\\x96\\xb4\\n\\xc2\\x10\\x85\\xb5\\xaa\\x1c }\\xda]2:\\xf9;\\xd2\\xa7|\\x94N\\x90\\xf9\\xb9e\"\\xd6[o:b\\xde\\x98\\xcf\\xf0\\x9c\\xcd\\xeah\\x85\\xb4\\xf4\\x02\\xeb\\x10^\\x89\\xdd\\xd24\\xbe\\xad\\xbc\\xb4\\x88\\xc7\\xa5\\x81\\x16,h\\xb2E\\xdd\\x0e\\x1c\\xda\\xea\\xd9D\\xe9\\x85=?\\t\\xfd\\xcdL\\xbd\\xe8\\xc5\\xf5\\xce\\xb1\\xec\\xb2\\x88,9V\\x01N\\xdd\\x02\"_;\\x044\\xe8\\xe4\\xebo\\x93\\xb9\\x9b\\xa5O\\xd2\\xa5(3G\\x02\\x0e_eb\\x83\\x94\\x86\\xf1~&\\xfd`\\x88/b\\xfa\\xd7Z\\x14\\xa5\\xb1\\xf5m5\\xca\\xf9\\\\9n\\xf2x\\xc2\\x996\\n<\\xa0\\xf6z\\xf6*N7\\\\kv\\xe1\\x84)\\x03*\\xec+-x,(K\\x80\\x12\\xed\\xc4\\x00\\xd1\\xd3a\\x86]\\xe9H\\x86\\xf6O\\x96%a\\xa2\\xcd\\xdcB2\\xb3o\\x80\\x19\\x1cs\\x7f=q@k\\xa0\\xa4\\x8a\\t?\\xa2y\\x83\\x02-\\xd7\\x04\\xd2b\\xb8\\xe0\\x99\\x9a\\x084T3h\\xe6\\xf3\\xa3f\\xada\\xe1ChR\\x15n\\xf8\\xc8q\\x03\\x0f&\\x9b\\xd6\\xd4\\t\\xb0\\xeb\\xc8\\xe9\\xf1\\x96\\x9fKq\\xed\\xa6\\x16\\xbf\\x140A\\xd4\\xf1\\xbe*@\\x19\\x8b\\xf3w\\x98Y\\xa9\\xaa\\xfa}=\\xdb,\\x1e\\xbe\\xcb\\xb1\\xe8\\x93\\xadOe\\x13\\x04\\xdaW\\x02\\x1e\\xae\\x03\\xc5\\xdb\\x9fC\\xcd\\xe2\\xe5\\rc\\x83%'\n",
      "b'q\\xdezvH\\xb4\\xa6\\x18cisco State University Computer Science and EngiSan Francisco State University Computer Science and EngiSan Francisco State University Computer Science and EngiSan Francisco State University Computer Science and EngiSan Francisco State University Computer Science and EngiSan Francisco State University Computer Science and EngiSan Francisco State University Computer Science and EngiSan Francisco State University Computer Science and Engi'\n",
      "CPU times: user 668 µs, sys: 506 µs, total: 1.17 ms\n",
      "Wall time: 722 µs\n"
     ]
    }
   ],
   "source": [
    "%%time\n",
    "key = b'abcdefgh'\n",
    "plaintext = b'San Francisco State University Computer Science and EngiSan Francisco State University Computer Science and EngiSan Francisco State University Computer Science and EngiSan Francisco State University Computer Science and EngiSan Francisco State University Computer Science and EngiSan Francisco State University Computer Science and EngiSan Francisco State University Computer Science and EngiSan Francisco State University Computer Science and Engi'\n",
    "while True:\n",
    "    try:\n",
    "        key = DES3.adjust_key_parity(get_random_bytes(24))\n",
    "        break\n",
    "    except ValueError:\n",
    "        pass\n",
    "cipher = DES3.new(key, DES3.MODE_CBC)\n",
    "msg = cipher.encrypt(plaintext)\n",
    "print(msg)\n",
    "decipher = DES3.new(key,DES3.MODE_CBC)\n",
    "msg_dec = decipher.decrypt(msg)\n",
    "print(msg_dec)"
   ]
  },
  {
   "cell_type": "code",
   "execution_count": 33,
   "id": "c6a15e84",
   "metadata": {},
   "outputs": [],
   "source": [
    "#Encryption and Decryption using 3DES-CBC, Input = 512bits"
   ]
  },
  {
   "cell_type": "code",
   "execution_count": 34,
   "id": "07e3e647",
   "metadata": {},
   "outputs": [
    {
     "name": "stdout",
     "output_type": "stream",
     "text": [
      "b'\\xc6~\\x04\\xe5\\x08.f\\xef\\x9a\\xfa\\x8e\\xefJ\\xceB-\\x80\\x1f\\x9d\\xd2?\\xc4\\xbe\\x0c\\xcd\\xc3X\\xc6\\x9f\\xd1i\\x9fD]\\xf70\\xdcb\\xe2\\xfeY\\xaf\\x88K\\xc5yH\\x80\\x1c7\\xd6\\xbcO\\xc1\\x0f3\\xb8U\\x8c\\xb3\\xf9T\\xec\\xf6SGb\\x19\\xda\\xaf\\x01C\\xd5\\x94\\xf1\\x96{\\x1c\"\\x7f;\\n\\x9f\\xed\\xb7C\\x8a\\x84\\x14p\\xe3\\x00^S%AWou\\xe6\\x01\\xd3\\xc0\\xda\\xbc\\x92\\xafu\\x94\\x10\\x073j\\x80\\xe7\\xfc\\x10\\x15G\\x1a\\xce\\xea\\xd9g\\xfbn\\xf9b\\xcb8\\xa0\\xec\\xcd\\x13\\x9a\\x96\\xba\\xb7\\xa3\\xa5\\xc9\\xe8\\xe0\\xa4\\xa9\\r\\x8d\\xf6\\xc1\\xcf\\x1c\\xb7\\xe3m\\r\\x1e\\x80w\\xfcM\\x95hR\\xff\\xf7\\xef\\xcc\\xfbK\\xb0\\xf9S\\xee%\\x87a\\xa6;j\\xb1\\xae\\x96\\xcb\\x94%\\x89i \\xf1o\\xb9\\x00\\xf5e\\xfb\\xdd\\xe5>]?\\x12\\xfc\\x8dt\\xe9M\\xc9\\xf7\\xee\\xa8\\x91:m\\x9e\\x16\\xb8\\xd8\\xbe9\\xd2\\x12\\x12)\\x01\\xb3@\\xfd\\xdcS2U\\xda\\x90\\\\\\xed\\xdb\\x0b\\x9a\\xed\\x8aX\\xb6W\\xeb\\x8e\\n\\x9e\\xb7\\xd4I\\x92\\x7f\\xe7\\xc38\\xe4B\\x9b\\xe9\\xd1\\xc7\\x8e\\x02*/\\xf2\\xcf\\xe1\\x8b\\xd4>E\\xf9/G\\x8d\\xd2\\xc4\\xec\\x88Qm\\xe9\\xbe\\xe9F\\xac\\x05\\x85\\xa0m/\\xf5B\\n\\xe1\\x7f,l\\x02\\xe8\\x1b\\x9f\\x9b$L\\xd4\\xd6}\\xe0\\x17z\\x83\\xd4\\xa3p\\xc69\\n\\xfd%\\x97)\\xbfpd\\xc7\\xd0/\\x8e\\xe0\\n\\xf3\\x92X>\\xda Z\\xab\\x82\\x15\\xc9\\xa7\\xa4\\xb9f\\xeaZ\\xe9c\\x8fna\\x86\\xb5k\\xf5(\\xd2\\x14aV\\xd0/\\xe9V=~\\xb2\\xcb\\x0cpc\\x1b\\xb0\\xc9\\xb9\\xd2\\x0e\\xa5\\xcdF]\\xbe\\x93\\xd8\\xf0W\\xb2\\xd7\\x90\\xf6\\xf5ia(t\\xda\\xd3\\xa7\\xfco_i\\xf2\\xe7\\xcc\\xff|\\xe9\\r[\\xdb\\x9cq\\x16\\xa5\\x0eEJY\\x1b\\xbe\\xf1G\\x9cP\\xec+\\x0b\\x1a\\x9b\\x00\\x00\\x802\\x95\\x8c\\x15\\xf7\\xcf\\x81\\xf1\\xb50\\x97\\x9aj\\x8a*\\xf2\\xb2\\x03~\\x1f\\xfap[\\x00\\xf4r\\x99\\xe5\\x1c\\xc7\\x87\\xef7+\\x1b\\x8f\\xd6\\x00\\t\\xfd\\xeeXC+J\\x12N\\xc8P\\x87\\xc3(h\\xa8\\xfb\\xad\\xac\\x06\\xbc=\\x02u\\x8c\\xff\\xce<FD \\xc3&V\\xb8h\\xba\\x99R\\x96\\xc9\\x12\\x93\\x12mv\\xbdEf2\\xc8l\\xda\\x88\\tm+[y\\xd4e\\xa4\\xf6\\xc6N\\x01;\\xc6Z!\\x88\\xe5\\xb5\\x0c\\x8b\\x80T\\x1381@p\\xe3\\xba\\xe7r=s\\xa2\\x1b\\xce\\x9ek,\\x15P\\xff\\xf1:\\xd5(\\xcc\\xa7\\x89pS6\\xf3\\x1b\\x88\\xbf\\xae;\\xa8\\xf3Q\\xcd\\xb2\\x82*\\x85}\\x9f0\\xaa\\x19\\xfa\\x9a\\xf3\\xe0N\\xe1\\x89\\x95\\x06N\\xd7\\xc1\\xdb\\xbe\\xd4\\x0c\\xd2s\\x82KM\\xb9@\\xe3#&\\xbc\\x88\\xc3uq\\xd3#UsrL\\xbb\\xb0\\xd5\\x84\\x80T!\\x02\\x9c\\x12\\xe5\\x9f\\xeaj\\x1d\\xf6$\\x8c\\x19\\xcan\\xaf\\x94&R\\xd5\\x8f\\xb5Q8d\\xe4\\xc9\\xbf\\xab\\xd1}\\xef\\xc6V\\x02\\x91)wa\\xbd\\x80h6\\xf4\\x9f\\x1bn\\xf1\\x0eWdM\\x01b\\n\\x04!F\\x83\\x02rE\\xe6\\xa7\\xd0\\xe1\\xc8T\\xff\\'\\x062P\\xeej\\xa3%\\xa5\\xdd\\xc7U6\\xc6\\x82\\x0e\\x00D\\x14!\\x8f\\x81\\x1c\\'\\xbe9\\x1c\\x99\\x9eH#u\\xaf\\xffu&f\\x94\\xcb\\x9a\\x88\\x15J\\xf3\\xea\\x9a\\xd4|{\\xbeA@\\xf7\\xf6\\x1d(f\\xb3\\xbf\\r\\xbd.\\x8e\\xeeV\\x8d\\x89\\xe89\\x80\\xbc\\x19\\x96\\xd5e\\x9c\\x03\\'\\x89}\\xb5\\x01\\x9c\\xfc\\x9b\\x16\\x05\\x10\\xca$N\\xf7\\x98U]\\xa9\\x8dm\\x07\\xa5\\xb2\\xa6\\xd5d\\x84\\xc3\\xf0\\x84\\x89(k\\x8a\\xfe$|\\xf2kvT\\x04N\\xb5\\xeb\\x86\\xc0\\x8c\\xd8m\\xa1>G^d\\xad\\xe2\\xdc\\x04\\xecN\\x16\\xa9\\xc7\\x0e\\xb4\\xb2\\xf3\\xd9\\x8c\\x92\\x8c~x\\xe5\\xce\\xbf\\x04\\x9d8>\\xff\\x04u\\xbd\\x91:~\\xf8UB\\xb5\\\\|\\xc8E\\xefwjs\\xce\\xaeG\\x97\\xa4p'\n",
      "b'\\xb9WM\\xa3\\x8am\\xa1Mcisco State University Computer Science and EngiSan Francisco State University Computer Science and EngiSan Francisco State University Computer Science and EngiSan Francisco State University Computer Science and EngiSan Francisco State University Computer Science and EngiSan Francisco State University Computer Science and EngiSan Francisco State University Computer Science and EngiSan Francisco State University Computer Science and EngiSan Francisco State University Computer Science and EngiSan Francisco State University Computer Science and EngiSan Francisco State University Computer Science and EngiSan Francisco State University Computer Science and EngiSan Francisco State University Computer Science and EngiSan Francisco State University Computer Science and EngiSan Francisco State University Computer Science and EngiSan Francisco State University Computer Science and Engi'\n",
      "CPU times: user 708 µs, sys: 510 µs, total: 1.22 ms\n",
      "Wall time: 736 µs\n"
     ]
    }
   ],
   "source": [
    "%%time\n",
    "key = b'abcdefgh'\n",
    "plaintext = b'San Francisco State University Computer Science and EngiSan Francisco State University Computer Science and EngiSan Francisco State University Computer Science and EngiSan Francisco State University Computer Science and EngiSan Francisco State University Computer Science and EngiSan Francisco State University Computer Science and EngiSan Francisco State University Computer Science and EngiSan Francisco State University Computer Science and EngiSan Francisco State University Computer Science and EngiSan Francisco State University Computer Science and EngiSan Francisco State University Computer Science and EngiSan Francisco State University Computer Science and EngiSan Francisco State University Computer Science and EngiSan Francisco State University Computer Science and EngiSan Francisco State University Computer Science and EngiSan Francisco State University Computer Science and Engi'\n",
    "while True:\n",
    "    try:\n",
    "        key = DES3.adjust_key_parity(get_random_bytes(24))\n",
    "        break\n",
    "    except ValueError:\n",
    "        pass\n",
    "cipher = DES3.new(key, DES3.MODE_CBC)\n",
    "msg = cipher.encrypt(plaintext)\n",
    "print(msg)\n",
    "decipher = DES3.new(key,DES3.MODE_CBC)\n",
    "msg_dec = decipher.decrypt(msg)\n",
    "print(msg_dec)"
   ]
  },
  {
   "cell_type": "code",
   "execution_count": 35,
   "id": "1b3a9a67",
   "metadata": {},
   "outputs": [],
   "source": [
    "#Encryption and Decryption using 3DES-CBC, Input = 1024bits"
   ]
  },
  {
   "cell_type": "code",
   "execution_count": 36,
   "id": "1deaf2b2",
   "metadata": {},
   "outputs": [
    {
     "name": "stdout",
     "output_type": "stream",
     "text": [
      "b'W\\x0b\\xb4\\t\\x03!\\xc9`\\xf3PF\\xa3)\\xa4\\x82(\\xea\\'\\xb5\\xa0\\xb7\\xff@L3\\x9d \\xd9\\xe7E\\xad\\xed\\xef\\x9a*vQV\\x95\\xe3\\xb3\\xa6\\xe9\\x86<\\xfb\\xb3\"\\x0b\\xc1\\xa1\\xc8\\xc9\\x1d\\xde\\x903q\\tZs\\xf8 \\xb4\\x13\"\\xe9g\\\\\\xcf\\x08\\xb9t\\xd6\\xce_V\\xb1\\xa5\\xec\\x06^\\xfdB\\x92\\xf0\\xb7d\\xc0\\x1d\\xca#\\xd2\\xdc\\x15W\\xda\\xec\\xd8\\xb9\\xfaS\\x89\\xd2w\\x9bf3\\xd1\\xf6\\x0b\\x0e1$\\xe2\\r\\xf4\\x8bU\\x04\\x911\\x1e=\\xff_{N\\xa7\\\\\\xe1\\n\\x9d\\xc2\\x82O\\xcb\\xfa\\xdez\\x99\\x1d\\x8e\\x85u\\xb2j\\x9b\\x8c\\xe7j\\x9dJ\\xc9\\xb7\\x0fu\\xe8\\xb9\\x9a!<\\x0e\\xa9*\\x1c\\x8dI\\x18\\x84\\nF\\xdc,\\xc6=\\x87\\x93\\x99GPh1\\x07$G\\xd9\\xb9l\\xb4\\x1f\\x08\\xc7\\xe8\\xf8W[\\xf0\\xaa\\xbe\\xb8\\x87\\x81%r}\\xa6S\\x86\\xaa\\xb6\\x859P\\x9a\\x11#\\xefwfu\\x1fsb\\x1b5\\xc3\\xea\\x07\\x18\\xcd\\xaeJXd\\xca\\xeb\\xdc\\xa6_\\xb5\\\\\\xad\\\\\\xad\\xdb\\x08\\x87\\x92ke\\x9e\\xf8}9\\x00\\xbb\\x8a\\xc5!\\xea\\xe9\\xb6)\\x89\\xf60\\nT@\\xe1\\x18\\x86\\x94\\xe36\\xa7\\xba\\x8a\\xb9\\x17(E\\xde\\xb3\\xa8\\nd\\xfcGyP\\x8d\\x93\\xbd\\x12\\x9a\\xf9\\xb0\\x1fo)\\x9ep-\\x1f\\xb0\\xa8\\x07%\\xe5\\xed\\xea\\x1d\\xd0\\x03\\xf2\\x0f\\xf2\\xcdHkH\\xe6\\x00\\x05\\x9eM\\xeeoi\\x9f\\x9dlh!\\nW\\xa0\\xaa\\x9b\\x0e\\xa5\"c\\x1f\\xf5\\x0f\\xd8\\x0f`\\xb0\\x8c(I+\\xa1\\xf3\\x94\\xc8\\x82\\xd5d\\xce\\xe1\\x86\\xcb\\x16\\xfb\\x1f\\xdf\\xc5\\x90\\x052\\x102)(\\xfe\\xc2l\\x87\\xe1\\x8a\\xb8S\\xd6\\x9c\\xe85\\xf3\\x97\\xecWY)\\xb2\\xd6\\xeeIT\\xb6\\xc3S\\xc5\\x82``\\xe1<s\\xbbs\\xe0\\xd6a\\x86\\x9b\\x08\\x12\\xf3\\xc8#\\xd1\\x91\\x93j\\xd7\\xf4BTo\\x01\\tY\\xe01B\\x06\\xc0\\xca\\xd7T\\xb8q\\xb4\\x01\\x11\\xdeE^\\x95\\x9d\\xa3!=@6%@\\x8c\\xc2.\\xb6lTti\\x88\\r\\xed\\x84H\\xae\\x0fe\\xe4\\x11\\xb5x\\x7f\\xba!\\xaf\\xdc\\x0e\\x8a~H\\x8f\\xf3\\x99b\\xea\\xaa\\xa7\\x0c\\xd0\\x02\\xa0R\\x0e\\x01@~\\x8f\\xcdb\\x85(fr\\x0cV#m\\xab\\x80I2^\\x08P \\xf1.\\x9es\\xb7\\xecx\\xb8D\\xb1\\x1aU\\xd7k\\xb4\\x90\\xaa\\xc4g\\xc1\\xfak\\x13\\x85X)\\x9b\\x7fs\\x9f5\\x00S\\xb2\\x85\\xbd\\x99\\xe3\\x02\\x8eMc\\xef\\x8e1e\\xc9mX\\x87\\x82\\xd3\\xd4\\x12 |e@J\\xb4/t\\xa0\\xcec\\xec\\xcb\\xd2(\\x14.H\\xd96\\x1f\\xeeL\\xce*\\xbe\\x97V;y\\x8d\\xf5\\x9d\\xa5?8\\x02\\xa6\\x10\\xa0\\xa6\\xf8\\xb2\\xa7\\xac\\x9f\\xfe\\xc8\\xef\\xafH\\xb0W\\xee\\xed#\\xd6\\xb7\\xf0\\xe9\\xad\\xa2\\x0eD%\\x1a\\xa5\\x0f|\\xd0\\x98\\xa8AW\\xf9\\xd2u\\x8f|\\xce\\xb4YK\\x85Q\\xefu4A\\xb13\\xf8\\tZ\\xba\\x99\\x98\\xef\\xe8\\x13T:\\xdcjb\\x1f\\xe7.\\xb6\\xae\\x04\\x04\\xe3\\x82\\'Zs\\xe9\\x9b:\\xe2\\x8c8\\x1c\\xa4\\xed\\t\\xbf\\x8e\\r\\xdc^>\\xf8\\xab\\xf7Z\\xfe\\xdd1%_\\x8f\\xe4\\xc8\\x1c\\xcf\\xcc*Enj\\xb0\\x88\\x14GO\\x05\\xf5\\xe4LD`\\xed\\xe0\\x1e\\x0c8e\\xef\\x81?\\xc60\\xde\\xf9\\xeb\\x1c\\xf6\\x1b\\xaf\\x8e\\x89\\x8d\\xe5\\x1c\\x8a\\x8a\\x02q\\x94\\xe7(\\t[\\x06\\xdb\\xf7)\\xb1\\xc8\\xd2\"\\xe4ay\\x9f\\x11\\x94\\xdb\\xc7\\n\\xb7\\\\\\x88-\\xde\\xe6\\xc8\\x87(\\x0eh\\xa2\\x91\\x82I\\xdf\\x12\\x89\\x8a(\\xffsG\\xcd\\x14\\x11|\\xd4\\xbcS\\xf9h\\x84\\xfd\"\\xa3Y\\xbc\\x8aR\\xb8(\\xd8_&\\xfe\\'\\r\\x8b\\x07\\xb39^\\xff+*\\xe9Q\\xeb>\\xea\\xba\\xe8\\xa2\\x12ZY \\xa8\\xc7%\\x9e#B\\x1f\\xa8\\x84\\xdb\\xd0\\x85\\x00\\x8ch6\\xc3\\xaaK\\xe39.\\x97\\xea\\xcb\\xf1\\xc5n!\\xd7\\x12\\xff!\\x98&d\\x04n\\xb1\\xef\\x82;L\\xaf\\xed?e\\x90\\xc6\\x15\\xcb\\x19\\xa5\\xa1\\xc0h\\xea0\\x1c\\xf1<\\x92$\\x02Lh~\\xd1q$\\xab\\xacbdw\\xf76\\xd0-R\\r\\xe2\\x94\\x04&\\xfc\\\\\\xb7\\x91I\\x1b\\x12\\x86\\x19\\xe3C\\xa8\\x12\\xcf\\x7fc\\xdao\\x03M\\xef|\\x93\\xb6!\\xc9\\xad;\\x1aHi\\xb4O\\xb1\\x01\\xe1\\xc4\\xc3|\\xe4\\nh=\\xab\\xa8\\x01\\xff\\x17\\x96Z\\xcd\\xfb\\x9a\\x12\\xcf\\x00o\\xfc\\xc8k\\xed\\x1e`}\\x17{\\xd5\\x83\\xbd\\x8f\\x95\\x03\\xf8<\\xd2b\\xc3\\\\\\x99\\x03\\x12\\xc0n\\xda\\x1ci\\x9c\\xef\\x8c\\x97\\x86\\x0e-a.\\xd3\\xc4\\xa0Vr\\xc9\\x04\\xab)\\x8b\\xb3\\xd5\\xfa\\x93\\x9f\\xd0,mR\\xc1;\\xbc\\x9e\\xb0Z\\xa1$\\xd1\\x8d\\t\\xb4\\x1a\\xdc\\x0b\\xdbI\\xb0\\x8c?\\xb2D\\xb5\\x8fk\\xd9\\xbd\\xb1\\x9d (\\x07\\xfa\\x02h[r<A\\xe5\\xe4\\x13r\\xe5\\x1fg\\x87:2\\xd2-\\xab\\xe9n\\\\\\xd2]\\x01\\x9b\\x8a51\\x9f\\xa1\\xc3.+\\xa6\\xbf(\\x9eF\\xe1y\\xab\\xcc\\':c\\xac\\xc3\\x86\\x1c\\xf0\\x1c\\xa6w\\x87\\xe8tf\\'\\xec\\xbb\\xba\\xe1\\x89rMYi\\xd9\\xa1\\x02\\xaeb\\x0c\\xe9u\\xe0h\\x96~\\x19\\x12\\xaat\\x92_\\xe17\\x03\\x97\\xacZ\\xe4 \\xdd\\x8f\\x9f\\x17\\x8d\\x11\\xa9o`;\\xac\\xa5Te2\\xb5\\t5oC\\x14$G\\'H\\xb6\\xaa\\xc4hE\"I$\\xcd\\xaa\\xa9\\xfez\\r\\xb1+\\xe4\\xaef4\\xc2\\x14#z,\\x10\\x08\\x9c\\x12\\xd0a\\xed6\\xe6:\\x14\\xbaKMYEY\\xe1Y\\x10\\x9eA^\\xc5\\xce?8\\xcc\\xee\\xf3\\xe5\\xfbB\\xfa\\x9f\\xd7\\x96\\x92\\xa1A\\xd0\\x8a{FR\\xdb\\xd5\\'\\xb2\\x96\\x126\\x1b+\\xbaa\\xdd;#\\n\\xee\\xee\\x9d\\x9b\\xda\\xbe\\xfe\\x95\\x0e\\xd9\\x1b@\\xa3\\xb9\\xd3\\xd0\\n\\x187Ux)wz\\x8c\\x90\\xf1M\\x16\"\\xbcT\\x04\\xc3\\xd7\\xc9ZP\\xc7)\\xeb\\xd4\\t\\xf2\\xeb\\xf9q\\x98\\xd8\\x80$\\xf2Z\\xf1}%\\x06l\\xd6\\xbc\\xae,UkK\\nS\\x98m?\\x8e\\x98\\xa0\\xc7\\xbd\\x93\\x13\\x89za\\xcb(\\xed\\x1d\\xe5\\xd6N[>\\xa6\\x80b \\x92j\\xc1\\x1d\\x01b\\x9b\\xdbU\\xcc#T&]\\xe0xQ3\\xb0\\xf0\\xe0\\x85\\xb2i-\\xc8\\xb8\\xcar.W\\xb9\\x9c\\xc5\\xdbF\\xe1\\xf4~\\x16\\x17\\xfb\\xde\\x83\\x11m\\xcc-I4\\xb9\\x11\\xe0\\x80\\x17\\x14\\xff\\xdc\\xfa\\x14\\x98\\x1e\\x15\\x8fB\\x9cp\\x1b+\\xba\\x06\\xc0\\xf1\\xc0\\xa4\\\\~\\x13]\\x946\\xe9\\x14\\xc5\\xe3\\x07@LE>\\x96q\\x87i3b|\\xea\\xe6t\\x03\\xa3\\xf8\\x14n\\x12\\x0b_y\\xca\\xcf\\xcd\\xeb(\\x1a\\x1b\\xe75\\n\\x8e\\xce`\\x8e\\x9eg\\xc2\\x9a\\x08\\xc0.f\\x82\\xc6\\x86\\x97\\x00hy\\xad\\xab?yhA=\\x94\\xce\\xee\\xc1\\xc6\\xe5\\x95\\x10\\xc1b\\x9b\\x92\\xeb\\xd8\\xd1\\xd2;\\xd5!\\xe5[mr\\x87\\xab\\xfc4\\x9e\\xe4\\xfa\\t\\xf2\\'|d\\x15u,\\xa937\\x8e6\\xda\\x9f\\xe6\\x08W3\\xda \\\\r\\x92\\x86=\\x7f\\x0e\\xba\\xc5LOt\\xce{\\xa7q\\x0c\\t)\\x9aX\\xc4\\x8b\\xf0\\x95{\\xa6\\xca\\xcc\\xf6;u\\xf3%\\xa0G]\\xef\\xceC\\xef\"Z=w\\x7f\\x83\\xf4\\xd0\\xc6\\xa6,E\\xccrS\\xd0\\x83\\xde\\xdd\\xea[=t\\x8e1\\xaer\\x7f\\x9f\\xbe)s(\\xa1w\\\\\\xf3\\x03\\xa4\\xcf\\xdd\\x99\\xa6\\xe4\\x80\\xa5;\\xb5\\xe9:S\\x9aS\\xef\\xedX,\\xd0\\xdc\\xab\\x98/\\xb9\\xf4\\xd8\\x97\\xf3\\xaa\\xc3\\x1ei\\x990\\x0e\\xf8\\xac_\\xf0\\xb0\\x056\\xe5\\x1fUW\\xb4\\x9e\\x8c\\x01\\x83\\xd0\\xbcm\\xc1_\\x9dw0\\x8dB\\x0e\\xbfa6\\xad\\xe5\\xec\\x1e\\xae\\xa4\\xbbTP\\x15}\\xda\\xd7\\xa5T0\\xed\\xa8\\x1b4\\xb5\\xf9\\xa7OC\\x7fyM>\\xaf5\\xb6\\xd8\\x9c\\xcbi\\xb7\\xdb\\xa8\\xaf(1\\x93E\\xb2>p\\xce\\x94\\xfa\\xa8`\\xe5\\xaf\\x0e\\xe2\\x80\\x14\\x14].\\xa6\\xc5'\n",
      "b'7\\xf0oi\\x81\\x13\\xd9\\xd5cisco State University Computer Science and EngiSan Francisco State University Computer Science and EngiSan Francisco State University Computer Science and EngiSan Francisco State University Computer Science and EngiSan Francisco State University Computer Science and EngiSan Francisco State University Computer Science and EngiSan Francisco State University Computer Science and EngiSan Francisco State University Computer Science and EngiSan Francisco State University Computer Science and EngiSan Francisco State University Computer Science and EngiSan Francisco State University Computer Science and EngiSan Francisco State University Computer Science and EngiSan Francisco State University Computer Science and EngiSan Francisco State University Computer Science and EngiSan Francisco State University Computer Science and EngiSan Francisco State University Computer Science and EngiSan Francisco State University Computer Science and EngiSan Francisco State University Computer Science and EngiSan Francisco State University Computer Science and EngiSan Francisco State University Computer Science and EngiSan Francisco State University Computer Science and EngiSan Francisco State University Computer Science and EngiSan Francisco State University Computer Science and EngiSan Francisco State University Computer Science and EngiSan Francisco State University Computer Science and EngiSan Francisco State University Computer Science and EngiSan Francisco State University Computer Science and EngiSan Francisco State University Computer Science and EngiSan Francisco State University Computer Science and EngiSan Francisco State University Computer Science and EngiSan Francisco State University Computer Science and EngiSan Francisco State University Computer Science and Engi'\n",
      "CPU times: user 768 µs, sys: 598 µs, total: 1.37 ms\n",
      "Wall time: 750 µs\n"
     ]
    }
   ],
   "source": [
    "%%time\n",
    "key = b'abcdefgh'\n",
    "plaintext = b'San Francisco State University Computer Science and EngiSan Francisco State University Computer Science and EngiSan Francisco State University Computer Science and EngiSan Francisco State University Computer Science and EngiSan Francisco State University Computer Science and EngiSan Francisco State University Computer Science and EngiSan Francisco State University Computer Science and EngiSan Francisco State University Computer Science and EngiSan Francisco State University Computer Science and EngiSan Francisco State University Computer Science and EngiSan Francisco State University Computer Science and EngiSan Francisco State University Computer Science and EngiSan Francisco State University Computer Science and EngiSan Francisco State University Computer Science and EngiSan Francisco State University Computer Science and EngiSan Francisco State University Computer Science and EngiSan Francisco State University Computer Science and EngiSan Francisco State University Computer Science and EngiSan Francisco State University Computer Science and EngiSan Francisco State University Computer Science and EngiSan Francisco State University Computer Science and EngiSan Francisco State University Computer Science and EngiSan Francisco State University Computer Science and EngiSan Francisco State University Computer Science and EngiSan Francisco State University Computer Science and EngiSan Francisco State University Computer Science and EngiSan Francisco State University Computer Science and EngiSan Francisco State University Computer Science and EngiSan Francisco State University Computer Science and EngiSan Francisco State University Computer Science and EngiSan Francisco State University Computer Science and EngiSan Francisco State University Computer Science and Engi'\n",
    "while True:\n",
    "    try:\n",
    "        key = DES3.adjust_key_parity(get_random_bytes(24))\n",
    "        break\n",
    "    except ValueError:\n",
    "        pass\n",
    "cipher = DES3.new(key, DES3.MODE_CBC)\n",
    "msg = cipher.encrypt(plaintext)\n",
    "print(msg)\n",
    "decipher = DES3.new(key,DES3.MODE_CBC)\n",
    "msg_dec = decipher.decrypt(msg)\n",
    "print(msg_dec)"
   ]
  },
  {
   "cell_type": "code",
   "execution_count": 37,
   "id": "b52169bf",
   "metadata": {},
   "outputs": [],
   "source": [
    "#Encryption and Decryption using 3DES-CBC, Input = 2048bits"
   ]
  },
  {
   "cell_type": "code",
   "execution_count": 38,
   "id": "d3239df9",
   "metadata": {},
   "outputs": [
    {
     "name": "stdout",
     "output_type": "stream",
     "text": [
      "b'h5\\x03\\xda\\xa9=\\x94\\xf8\\xafq\\x86S`\\xa0C\\xf2\\xf7C\\xd1\\x1b5,w\\x01\\x18\\xd8\\x93k\\xee\\xad\\xe4\\xd6\\xeb\\xa0\\xc4\\xb7\\x07\\x8b\\xeb\\x0cm\\xad\\x18\\xc2P\\xd5\\xa9$u\\xdf \\xbd\\xa0lb\\xd0Ts\\x84\\xd4z\\xb3\\xdf\\xa7\\xa7\\x8d,u\\xfa\\x95cd\\xc3s\\xa6\\x07%M\\xc7CEX\\xdc\\xe2|?(|\\x81\\xd0\\xf0\\xee\\xdc*\\xc6\\x8a:\\x8c\\x03\\xf1\\x13\\x14\\xf5\\x13\\xfe\\x8d\\x8c\\xf5J\\xfe\\x98\\xdf\\x98\\xadD\\x81\\xda\\xe1\\xa9Y\\x1f\\xf1\\xcc\\x8cQ\\x7f\\xa6\\xa3\\x8a\\x80\\x97\\x10\\xe7j\\xcc\\x8d\\xcaW\\x92%i\\x99[\\x98\\x97\\x01h\\xcal\\x83\\r(B|\\x91Mos\\xac\\xa5-)\"\\xe2P\\x91\\xcaj\\xe2\\xb61Uf\\xac@s\\xd2d\\xed\\x02\\x13:\\xff\\r\\x86\\xdbT\\x9b[v\\xd8O\\x04\\xda\\xd3[p\\xc1\\xf9\\xfb\\xe5`\\xf4\\xac\\xff\\xc3\\xd6uO\\x14\\xe8\\x9fx\\xdf\\xd6\\x02%\\xe3\\xca\\xddy(\\\\L\\x85p\\x8dV\\xb4\\xaep\\xa5\\x15\\x97\\xc9\\xcc\\x90\\x00\"\\xbb\\x17Q1\\xe9\\xe2K\\x96\\xee\\x08x\\xef\\xea\\xf3Jg(D\\xd3dfMI%\\xb7\\xec\\xe7\\xd0\\xc3\\xf5\\x14M\\xc4#\\x9a5N\\xeb@\\x17\\x1a\\xadF\\xfa\\x8e\\xf9\\x8a\\xd6\\xc2\\xdfv\\xc8\\xc9\\x10XT\\x92Y\\xe8\\x18\\x96\\x1e\\x9f\\xf9el\\xa4\\xa3\\x867\\x86\\xa5\\'\\x1b\\x17\\xfa\\xfe\\xae\\xdd\\x82x\\xaf\\x85\\x80\\xf8\\x95{\\xe8\\xd03\\x1eSBL\\xea\\xfc\\xdc\\xf4\\x91\\x93\\xdc\\xea\\xbb\\x82\\x02E\\x87\\xaa\\xc5#s\\x08\\x95\\xf0\\xee\\n\\x8d\"N\\xe8L]\\xbe\\xbd\\xf0\\x98}!\\xfe\\xc1\\xe8\\xaa\\x11\\x19X<\\x95\\xe8D]t\\x8cMYk\\xecw\\xcc\\xcf\\xcc\\xea\\x9bGKC\\x88\\xee\\xfb\\x8dX\\x06-\\x97K\\x80\\xa4o\\x9al\\xddB\\xd3N\\x9a8\\x8e\\x14\\xfbq\\xb5]A\\xe6L5\\xe7\\x90\\x17\\x10\\xdd\\x81W\\xbf\\x8c\\xc2\\xfa<Q\\x1b\\xf3W\\xff\\x90\\xbd\\xde6e\\x9bB\\x90Ki\\x89)s\\xfd\\xc7R\\xff%\\xbf\\xb3.\\xbfNU\\xe2o\\xb0\\n\\xb4 \\xcc\\x14\\x92e\\x13`y\\x11\\xa9\\x88(\\xf7\\x97\\x0b5\\xf1\\x8b\\x8a\\xd2\\x8fvJ|\\n\\x8b\\xa0\\x83{\\xab\\x167\\xb9Kt\\xcc\\x02\\xba{\\x0c\\x94\\x9d\\xf4\\x84\\x18HL\\x9b\\xb7\\xf9UtI\\xd8\\xf1\\xe6v\\x03\\x8f\\x0f\\xfb+8\\xff\\x9a\\xe4\\xcb$\\x88C$$\"Zc\\x80\\xc7\\'\\t\\xd29\\n<U\\xc1T;{\\xe2vt!\\xc9\\xf3\\xef+|\\xb69\\xd2\\xees\\xb9\\xa1c\\x1e\\x9e\\xac\\xdap4{\\x0e\\xc7F\\x11\\xba\\x1d\\x82\\x04\\x87VTJ\\xc2\\xa5\\x18\\xfd\\x965\\xb1$iy\\x17\\xf9a;\\xb8\\xb2\\x12vV;\\xcf\\x10\\x06\\xe3\\x1f\\x98\\xacw\\xd0\\xea\\xcf#\\x17\\xce\\x8e\\xf4\\x11\\xb4\\x8a\\xe0-\\x84\\xafI\\x85\\x88U\\xc5\\xbe\\xf2\\x15\\xd9n\\x04\\x0fL\\xb3|\\x1fqbP\\x8d\\xe4\\xf6I\\xf2/\\x99H1\\xbe2\\x1e`\\xa8\\x8a\\xf4\\x10U\\xd7\\rJ\\xbe\\xcb\\x90?E\\xd4\\xfbT\\x97\\xd4\\x0f\\xed\\xa0\\xfdp\\xa7\\x7f_\\xb2\\xbb3\\x9e6h\\x8d\\x96\\x86\\x1aa2T\\xd2p\\xf6\\xde\\xdb\\x81\\xd2}\\xb9~\\t~\\x1fd#\\xf9\\xe5\\t\\'jS\\xdb,]\\xa9\\xf8\\xd15|\\x1e\\x1d;$\\xa3\\xa5\\xd3_\\xc1\\x83FxP~\\xe9\\x168\\xb2\\x9a\\xc9\\xc5\\xe7\\xb4\\xef\\xc7h\\\\\\xce\\x86\\xebU\\x93\\xee\\x16\\xb9A\\xbf\\xad\\xb5\\xe9\\xc8\\xcdh\\x8dL\\x94\\r\\x97X`\\x9eE\\x9d*\\xd5@\\xd1RbQHe\\x14I)\\xe0~\\x9c\\xec\\xc6p Y\\x89r\\xf6sMY\\x1d\\x7f\\xffO\\xfc\\xf0!\\x8a{,\\x93\\xd7\\x1f\\xb1\\xc3\\xf3o\\x14\\xd0wY\\x90\\'\\x18]\\xd5X\\xaf\\xb2vi\\xbf/oz6\\x01b\\xfa\\xc15\\x91\\xfe\\xc2\\xd0k\\xf9\\xc4\\xe2\\xd4\\x9e\\xe4\\x0b\\'\\x10:\\xcb\\xd1\\x03u\\x96=\\xfb\\x81\\x11u3\\xd4\\xfd\\xff\\xc3l\\xd1\\x06\\xd3A\\xfa2i\\x0c\\x17\\xff\\x1c\\xdf<Fm\\x08\\xc8JQ\\'E \\x8f\\x8br\\xb1\\xf1\\x81*\\xc1\\xdfw\\x04\\xd6\\xe1\\x15$\\x87\\xb6P\\x0b8\\x1d\\x1e\\xd7\\xe1zv\\xf2\\x99\\x84@\\x16\\xaf\\xec\\x97\\x02\\x06\\xe3@\\xabc\\x7fZ\\xa1\\xe0p}\\xa7\\xbch\\xb65\\xb3\\xf1\\'\\x1b\\xe0YL\\xacA\\xcc%\\x17\\xfd\\xee\\x9b%]\\xc2\\xd5,F7\\xfe!\\x8fJ\\xacyVU\\xa6h3\\x93\\xd1$Fi-\\xf7\\xbc\\xf3\\x00\\x91\\xb3/~\\x14VLnb\\xb4\\xe3rk,\\xd4\\xc8\\xb9V\\xbd.\\xae\\xb0\\xff\\xba\\x98\\x0e\\xd6\\xe6\\xe9\\xf1\\x0f\\x96-\\xce\\xb0\\x85\\xa5\\xb2\\x02\\xc9\\t\\xa0M\\xce\\x11n~\\xfa\\xfd\\x1e\\xe0\\xe4G\\x08\\xe9\\xb3\\xd5\\xf3\\xdeWpm%-\\xa4\\x8d\\x9e\\xb6x\\x02\\xc8e\\x84\\x10v\\xc25j\\xa7o\\xecxE\\xdb\\xd3\\xdb25\\xa7\\xf35;\\x9d/\\x17\\xd8\\x05V\\xffnWJ12\\x9c\\xb4ikLgi\\xfez\\x9e\\xfc\\xeaf\\xf6\\x9b\\xac\\xa9r\\x96;?\\xa9`\\x92=C\\xbd/\\\\\\x9at;\\xae8D\\xd3\\xf0n<\\x0c\\xfda\\xf8\\x1f|\\xc1\\x1c\\x93\\xc7\\xaf\\xb4\\x1c\\x1dQk\\xfdD\\xfcZ^\\xc1J)\\xbf,\\x0cL\\xc9\\xad=\\xd9Lb!\\xd94\\x05-\\x95\\\\\\x00+N\\xd0\\x88\\x0f0\\x1d\\x14\\xc6\\r\\x86\\xdc\\\\\\xe2qc\\xd9\\xb9\\x85\\x7fdB\\xe9\\x8e\\x8f\\xa0\\x99\\x17\\xff{\\\\D\\x19\\x9b\\xa1\\x02w\\x05\\x02p\\x19\\x91IFy\\xbd\\x7f)\\x1b\\xf7)Q\\xe1\\xa6x\\xae\\xd1hMd\\x94\\x00$w\\xa1\\xad\\x1f\\xa0\\xe13Z8>Qq\\xa2\\xc1\\x1a\\xf9\\xff\\x9aXi\\x8ea@:\\xb9mK\\xe6\\xc2\\x9e\\x9e\\x93\\x05\\x14\\x0b\\x82\\x8e\\xbe\\x1a\\xc2\\xcbE8O\\x99\\xf0\\xb8\\xf1K73\\x90)mf\\xef\\r9\\xb9\\xd0+\\x8fzG\\xefb\\x02\\x12\\xbc\\x84w\\xf0Og\\xd7_\\x9c7\\xe2\\x17\\xd0\\xad\\xce\\xff9p\\xd7\\x0c\\xa976b\\xc0\\xe9\\xb5\\x82o\\x18\\x95\\x85\\xfc\\xdeb\\xc1l\\xe4\\n\\x15_{\\xbf\\xc9\\xcd\\xbf\\xcdy\\xf5\\xfd>o\\xd3?\\xb7\\x83\\xfb\\xee-\\xa1\\xd1F\\xd3\\xd3\\x16\\xb9\\x8b\\x91|\\xdf\\x97\\x86t\\x0b\\xac\\xcd*\\xe5\\xa0y\\xd2\\xa4T\\x010\\x19C\\xeb\\xf3\\x8f\\xd8zQrFB\\t\\xc5{\\xe8\\xd1:u\"\\x05\\x96\\x82a\\xe5\\xe4G\\xe3ei\\xf2\\x950\\xf1\\x9c\\x1d`\\xbcx\\'\\xa4\\xcd\\xc8e\\xe4\\xa2A\\xc4\\xb0\\xeaNkD\\\\@0l{\\x84~()\\xa16\\x02\\xa0\\x17\\xd9d\\xb3h\\xb0\\xfb\\x1a\\x15\\xd0\\x850\\xa8]t\\xde\\xd1\\x9b7n\\xe8\\xe0\\x86\\xf8\\x01M \\xcb61+\\x88\\xab\\xcd~T\\xfc(ICKd\\n~\\r>\\xeb\\x16q\\xa3\\t\\x04o\\xa4Z1O Mj\\x1d\\xa2\\xa4\\x0e\\xd4 W\\x1c\\xc6\\xab#?\\xfe\\x8b\\xd8\\xf1^c\\xad\\xcc\\x19\\xcf;\\xcb\\xaa\\x06r\\xc5\\xb8\\x19\\xba#\\x14p~\\xf0\\xceZ\\x83\\xc5j|\\xc3\\x01\\xd9\\xda+fZ\\xfdx\\x1fJ\\xf5\\x12\\xb8z r?\\xc6\\xdev\\xa4\\xf8\\x0c\\xd0\\xdcU\\xe7\\xad\\xc3\\x83\\x8bA\\xa5\\xc30\\x1cwDI\\xa1Z\\x04_\\x9b\\xfb2\\xbdIA$\\x10->\\xc9c@\\xd7D\\xf2\\xb7\\xe1\\xc7b\\x9aB\\xe61Y\\x97m6\"\\x11\\x82DZ-(\\xf5\\x1c\\xb9\\x16\\x031~\\xbf?8\\xeem\\xdfTJ\\xe7\\x9a85.\\xf8%U\\x8d\\x01\\xc7\\x0f\\x9c\\x0c\\x14v\\xa5\\x17\\x87\\xae\\x87\\x9b*;h\\xfe\\xd9\\xf48l7)\\xcc,\\x86\\\\\\x93J\\x19\\xc2\\xbel\\xa3)8@\\xce\\xbe\\xf0YGp\\n\\x9c\\xd0\\x13eR\\xfc\\xb7GU\\xd93Rf~_@\\xf8L\\xea\\xf7\\xaf9\\x05\\x08+\\xf5\\xfd\\xc34Z\\xf6\\xbc\\x17n[(\\x02\\x94DLyhU\\x8aw\\x94\\xeb\\x16\\x05\\xa8&\\xa1\\n\\x9f\\xba\\xc8E\\xe5\\x905\\xb9w\\x02\\x08\\xe9M^2\\xea0jY\\x1c\\xca\\x0f\\xf5*DN.T\\xa8\\x93j2\\x85i\\xa7\\xdd\\x9dh\\x0cC\\xab\\xc6\\xee\\n\\x0cT9\\xa7{4=Y}\\\\\\x18\\x18Hr\\xcc\\x1b\\xc8\\xcex$\\xea\\xb0\\x97\\x90ws*Z\\x0f\\x13/\\xe1\\x9cZ\\xcf\\x93\\xb8 \\x1c\\xb9\\xa4\\xc7XH\\x95\\xd9&5\\xa3\\x9e\\xd9]\\x97:\\xfat\\x111|\\xbc\\xb3\\x94\\x9a\\x19,\\xf2\\xf1\\xa3n\\xf9\\x03\\x0bl\\xa2`5\\xf9\\x8f\\xcec\\xe1\\xdf\\x18\\xb8:FR\\xcc\\x1d\\x88\\xd5UJrEI&\\x17Di\\x8f\\\\\\xd8\\xc4\\x99qP-|\\xbb\\xe3}L\\xfdZ\\xc7\\xc20\\x91\\x98\\xaf\\x01%1\\xb0\\x15\\x8fv\"Jhf0\\x0e\\xb1\\x04\\xc6D\\x8bP\\x0fa\\xfb\\xe3\\x13@\\x8aG\\x00\\xba\\x02\\xe6\\x96\\xfchn?W\\xfd\\xe5\\xde\\x9d\\x84\\xce\\xc2\\xe0N,\\n\\x9b\\x1a\\x14\\xa9\\x1bTuovNX\\xa8vz\\xdd\\xcd\\r\\'\\xba|\"\\xd4\\xb1:\\xb0/_)\\xdcp\\xd7\\xbe\\xdd\\x89\\t\\x89\\xe1q)\\xa3\\xb4\\xfcww\\xd8\\xbe\\x95P\\x16\\xb0`\\x10\\xc8\\x17O\\x15\\xdelq\\xa6Y\\xe8\\xa2\\xcc\\x9d\\xd0\\xdb\\xb6#\\xa7\\x88+\\xd6\\xfe\"\\x04/\\x9c\\x16@\\xdaXE\\x84\\x82\\xa4\\x93\\x96\\xa7\\xaf\\xac\\xc3[\\xb5\\xcd\\xf3\\xf4\\xf8bW\\n\\xfa\\x9f\\xf7\\xaa\\xb4,7\\xe2\\x07\\xc7\\x9e$n\\x058\\xffO\\x90\\xda\\nS\\xdf:\\x13\\xae\\xfc\\xea\\xeb\\xa4{8qpR\\n\\x1b\\x18s\\xba!\\x9f\\x9c\\xd2Qza\\x10\\xc9\\x85\\xaeBO\\xf0\\x00\\xd7U\\x98\\xbbs #K\\x90m)\\xc0\\x146\\xd3\\x1f\\xbf\\xdeE<a;\\x9dZ\\xb4\\x1fx\\xbdI\\x0f\\xfb\\xaal\\xa3\"\\xbbt\\xdb\\xf6J\\xbb\\x10\\xe9[\\xf8/3\\x1d\\xb4n\\x06\\xc8Z\\xb7\\x12\\x7f?\\xf63w\\xed\\x01\\'\\x84!\\xab/\\xe8\\x1frQ\\xa1\\xc5*\\xc9\\xee\\xf2\\xa4\\x83\\x8e}\\xd8e;\\x9b:f\\xeb\\xd3+\\xfao\\xc7$\\xeeT\\xe3ge\\x86&M\\x02\\xbc\\xcf\\xcaz\\x84\\xda\\x1f\\xc9r\\x00\\x8dz\\xceY\\x10\\x8f\\x8a\\xf0\\xe7~\\x88y\\x9e\\xce\\x90\\xac\\xc9\\xc7V\\x95\\x9f*\\'2\\x19\\x82,\\xc1\\xad^i\\xab`1\\x89A\\xeb\\xca(\\xb0}\\x12^\\xc8s`\\x9d\\xae\\xfbr\\tMS/\\xb7\\xae\\xac\\x8d\\x92\\xf2?)CKo\\xeb\\xcf\\x8a\\xfbx)*F\\x80zOf\\xe9z\\x1f$\"\\xa2\\x96\\xdb\\xe0\\x0e6\\xc6Uh\\xa5^z\\x00\\xa7-<`\\x00\\xe4Gp\\xe5\\xc9\\x13aX\\x80\\xc4Y\\x12pnv]\\x8b\\x9ao\\xa6\\xb6\\xa2\\x1e\\xea\\x84\\xf1\\xc0#\\'\\x15\\xbf\\xa9o\\x0c\\xac\\xfc\\xb0\\xd4s1\\xd1\\xa8\\xc8\\xe4\\xad\\x95\\xc3\\x8bW\\x1f\\x1c\\xda\\x98A\\x14\\xb1\\xc9c\\xc0\\x8e\\xe3=\\x93\\xc6\\xb0\\xad\\xcf\\xf3\\x96IrB\\xb5\\x90:\\x02\\x00Y#2VF\\xcbb\\x1fZ\\x93o\\x96\\x8a\\x87-\\xd5s\\xd6\\x95\\x92\\xc4\\xde\\xc9\\xc6\\x99\\x1ch\\xfb\\x1b`\\x10\\x9e\\xae2\\xe0\\xa9c\\xd6\\xee1ID\\xca\\x96\\xc3\\x9e!\\xd6\\xbe\\xda\\x1b\\x01%\\xfbm4N\\x1c\\xbf\\x99c\\x9d\\xd4,k\\xb0\\xd73\\xec\\xb7\\x97:\\x12u^\\x14\\xb6[!\\x84.R\\xb8m\\xc4\\x1b\\x11\\x83\\xfb@\\xd5\\xda\\x16Hv\\x07\\xa7+\\x11r\\x0f\\xaeq\\xee\\x1d]\\x83\\x17S\\xf0\\xaf\\xe0\\xc1\\xdb2i\\x015\\xd6\\xfa\\xb3~\\x8f\\xc0\\x97x\\xa8\\x83\\x86\\x0c\\xfbC\\x01\\x99\\r\\xc3\\xf8\\xd4\\xbf\\xb4\\x94\\x17\\x1e\\xc5\\x13\\xea(\\x12\\xbb\\xf1\\xd4\\x9b~\\xa2\\xe1>J`IZ\\x9dv}Q\\x8d\\x9b\\x98\\xd9P\\xf1\\xc01\\xea\\xbaL\\xe4\\x01\\xfb\\xf6N\\xd3\\x83\\x85\\xa0~-\\xd8`\\xac\\x18w,\\xddw\\xf2\\x168\\x876x5,\\x7f\\xac\\x0by\\xc54*\\x8b\\x9d@\\r\\xdb\\xbaQ\\xb7\\x92\\xff\\xd6p\\x06[\\x80n\\xa9\\xb2\\xfc\\xaa\\x9a\\xdb\\xeb\\'\\xfe\\xa7\\xb9M\\xa4\\x0e\\xdf~\\x08\\xc0\\xb1x\\x8d\\xb9\\xeft\\xf4\\x11\\x8fp\\x8f\\n\\xf0\\x15/P\\xa9\\x89B\\xd3\\x94\\x99\\xe9\\xdd\\xa8\\xcec\\xb4\\xe3A5\\xa3\\xb9\\xed\\xab\\xd3\\x8f\\\\?\\xf6\\xb2m\\xbe\\xef\\xc7\\xd3\\x11{uq\\xf4\\x1c\\xae\\xf6wzjE\\x8e|\\xef\\x001M\\xa6|\\xb1\\xacv\\x90\\xf4_!%\\x92j\\xf9\\xd4\\xf2\\xfb\\x13\\xb0*\\xa5\\xd73\\xe1\\x07\\x0b\\xec\\xfc\\xfc\\x82@\\x05\\xa7C\\x01\\xbb!\\x15\\xf3\\'\\xbej\\xf0\\x03V\\x85\\xd0\\xd5`\\xbb!\\xbe\\x84\\xd5\\xf0\\x06\\x9b\\xecG\\xfd\\xc3p}\\xfdtX\\xf3\\xfd\\xc6\\xdb\\xb84#\\x19o\\x8df\\x80\\xbdm\\xc9V<\\xbcZk\\x01{8\\xbe\\xea\\xf3_\\xe3\\x98E\\xfa7\\x8a\\x16\\x1b\\x19m\\xf4\\x0e\\\\\\xd6\\xf7\\xc1\\x0eQH$?V\\x87\\x11\\xb3!B)#\\x9e\\xb6\\xe0\\x9a\\xc7\\xb0\\xc9DfKG\\xd5\\xa9*\\xa2\\xd8\\x8e\\xe7\\xdb\\xdc\\x06\\x15\\xdd\\xa5#\\x10\\xd2\\xd5}\\x11\\xfb\\xc1sk\\xa0\\xc6\\xfa\\x89s/\\xa78\\xa5\\xde|7\\xc1\\x82\\xdd\\x910c\\xa8\\xa5\\\\\\x83\\xa8\\x06la}\\xd4\\x08.l\\xff\\xb6\\x1e\\xf0\\xbdt\\x9a\\xd2\\x08\\x94\\xb25^\\xb3]\\xd4\\xaf6\\xe1R\\xbe\\xf4\\xca\\xf3\\x96\\xa3e\\x82\\xd4of\\xdbN\\xeeG\\xe5\\x0b\\x8b/\\xa7TS\\xd2&\\xb3\\xff\\x1c>@\\x0b\\xee\\xa0\\x0f\\xf9%v!\\x91\\x91\\xa3\\xcar\\xda\\xb8\\x0c;\\x84\\xbf\\x18\\xafb\\xf7X\\x14\\x1b\\x17\\x99\\xd9\\xe0\\x1e\\xb92\\x88\\x112%r:\\xb38\\xfa\\xfc,1\\x17\\xf5\\xa5kY\\x99q\\x01\\xb0,Sw\\xd7\\xd4\\xf3\\xce\\xcbT\\xf1\\xb5\\x99\\xe9\\x8a\\x17\\x81\\xeaW\\x07\\xa9\\xcd\\x14DMs\\xb3)\\x96!\\x00O\\xed\\xebL\\x10me\\xba\\x03\\xc7\\x86\\xf3\\xd0H\\x96\\x12LO\\xda\\x1c\\xbf\\x8e5\\xdafjc\\xf5\\x99\\xde\\xd7\\xe0\\xb0\\x99~Y\\x90\\x8c<\\t\\xe0\\x16u\\xdd\\x84T\\x19\\x7fmS\\x13o\\xd7\\xc8b\\x7f\\xd67q\\xba\\xa4\\xfa#x\\xee\\xf5|\\x05\\x0e\\xea\\xce\\xb5X\\xa8Z\\xd2\\xe7#\\xd4)/\\x8f\\x90\\xd5\\xef~\\xd4u\\xee\\xec\\xad\\xa8\\xd1\"@\\xcfv\\x0e\\xadga\\xaeB\\x16\\xaa\\x8f\\xf7\\xd89zXexU+\\xa2\\xdf8\\xb3\\xe3s\\xaa\\n\\x8d\\xf2\\x1b[J\\x0e`\\xd7n\\xd8\\xb9c\\xb9\\xfd(\\xbe\\xb7\\x14\\xb2\\xcd\\xbb\\xe1\\xcb\\xef\\xcdc}\\x14|\\xc3Z\\xd6\\x15\\xce\\x1c\\x84\\x1a\\xd9\\x84L\\xa9|\\x997\\x8d\\x04\\xdeT\\x0c\\x1e[\\x10C\\xd2\\x05\\xe0\\xd3F\\xd1\\xc9\\xef\\x1b\\xe9Ja\\x7ff\\x85\\xff\\xc0M#\\x1a\\xb9\\xa7\\xff\\xe0\\x94\\xd8b\\xf5^2!N\\xb5h+\\r\\x94\\xb4@\\x91\\x03\\xef\\xc5\\xd6\\x8a\\x8a\\xd4\\x88b\\xb35>)ONJ\\xd9$r\\x92\\xdf\\xe8;J\\x9a*\\xe5r\\x00\\xca\\xa8%\\x9f\\xf0\\x92nw\\xee_\\x0c\\xa7\\xc8\\xf1\\x89I\\xa4=\\x8e\\xbe\\x1f\\x8f\\xd7\\x01\\xd4r\\x82/j03(yu\\xaf\\xb0\\x9a\\xa1Up*\\x12\\x1c\\x0bgg<\\x17M\\xc8\\x8aF\\xb2\\xc3\\xa14\\xc2\\xbed\\x8d\\xa8\\x16\\xf4\\xf1zU\\xdfo:\\xd3\\xc4o\\x98\\x99\\xc9\\x18\\x9f\\x0f\\xa0\\xdbYc7yXO\\x08O$)\\xe0\\xa3\\x96N,\\x93\\xc3\\xb7\\xd0\\x13\\xbe\\xb1oML\\x92\\xed\\xe8\\x87\\xe1\\x83\\x03e\\xa8y9\\x12\\xe1\\xc35\\xc0\\xcbE\\xb0CDS\\xe0\\x88B\\x9d\\x947\\xbd\\xc5\\xfadP\\xb4\\xb2\\xbc3\\t\\xd9p\\xf4`]\\x97\\x06\\xb2\\x04\\xd1]|\\x860\\xfc!\\x1a\\x16@}{\\x97\\x9anC-1U\\xa8d\\xb1\\xaf\\xe8\\xe1\\x86X\\xd1=d\\x00\\xa8\\xd5\\x7f&\\xd2xmf\\xb8\\x07\\xd5)\\x19\\x8e\\xe2\\xa1\\xb7\\xc4N\\xe9>\\xe7\\x82\\xafH \\x1d\\x1d\\xf0M\\xdc\\xa6\\xd4Ot\\x7f\\xacJH+y\\xfd\\x91\\x11\\xa26\\x11\\xe92\\xa8\\x98\\x7f\\x89\\xcf\\x84\\x0e\\xa4\\xe1\\xdc\\x9c\\xb5\\xba|\\x16_H>\\x9b\\xebv:\\xcf\\xe6\\x08\\xd1\\x06\\xfc\\x96!#\\x9eQ\\xd9\\x89\\xbcSW)\\x88:\\xbf\\x8cuN\\xf9\\xea\\xee\\xd8$y'\n",
      "b'-\\xd1\\xd3{*\\x9e;\\x8ccisco State University Computer Science and EngiSan Francisco State University Computer Science and EngiSan Francisco State University Computer Science and EngiSan Francisco State University Computer Science and EngiSan Francisco State University Computer Science and EngiSan Francisco State University Computer Science and EngiSan Francisco State University Computer Science and EngiSan Francisco State University Computer Science and EngiSan Francisco State University Computer Science and EngiSan Francisco State University Computer Science and EngiSan Francisco State University Computer Science and EngiSan Francisco State University Computer Science and EngiSan Francisco State University Computer Science and EngiSan Francisco State University Computer Science and EngiSan Francisco State University Computer Science and EngiSan Francisco State University Computer Science and EngiSan Francisco State University Computer Science and EngiSan Francisco State University Computer Science and EngiSan Francisco State University Computer Science and EngiSan Francisco State University Computer Science and EngiSan Francisco State University Computer Science and EngiSan Francisco State University Computer Science and EngiSan Francisco State University Computer Science and EngiSan Francisco State University Computer Science and EngiSan Francisco State University Computer Science and EngiSan Francisco State University Computer Science and EngiSan Francisco State University Computer Science and EngiSan Francisco State University Computer Science and EngiSan Francisco State University Computer Science and EngiSan Francisco State University Computer Science and EngiSan Francisco State University Computer Science and EngiSan Francisco State University Computer Science and EngiSan Francisco State University Computer Science and EngiSan Francisco State University Computer Science and EngiSan Francisco State University Computer Science and EngiSan Francisco State University Computer Science and EngiSan Francisco State University Computer Science and EngiSan Francisco State University Computer Science and EngiSan Francisco State University Computer Science and EngiSan Francisco State University Computer Science and EngiSan Francisco State University Computer Science and EngiSan Francisco State University Computer Science and EngiSan Francisco State University Computer Science and EngiSan Francisco State University Computer Science and EngiSan Francisco State University Computer Science and EngiSan Francisco State University Computer Science and EngiSan Francisco State University Computer Science and EngiSan Francisco State University Computer Science and EngiSan Francisco State University Computer Science and EngiSan Francisco State University Computer Science and EngiSan Francisco State University Computer Science and EngiSan Francisco State University Computer Science and EngiSan Francisco State University Computer Science and EngiSan Francisco State University Computer Science and EngiSan Francisco State University Computer Science and EngiSan Francisco State University Computer Science and EngiSan Francisco State University Computer Science and EngiSan Francisco State University Computer Science and EngiSan Francisco State University Computer Science and EngiSan Francisco State University Computer Science and EngiSan Francisco State University Computer Science and EngiSan Francisco State University Computer Science and EngiSan Francisco State University Computer Science and EngiSan Francisco State University Computer Science and Engi'\n",
      "CPU times: user 949 µs, sys: 572 µs, total: 1.52 ms\n",
      "Wall time: 895 µs\n"
     ]
    }
   ],
   "source": [
    "%%time\n",
    "key = b'abcdefgh'\n",
    "plaintext = b'San Francisco State University Computer Science and EngiSan Francisco State University Computer Science and EngiSan Francisco State University Computer Science and EngiSan Francisco State University Computer Science and EngiSan Francisco State University Computer Science and EngiSan Francisco State University Computer Science and EngiSan Francisco State University Computer Science and EngiSan Francisco State University Computer Science and EngiSan Francisco State University Computer Science and EngiSan Francisco State University Computer Science and EngiSan Francisco State University Computer Science and EngiSan Francisco State University Computer Science and EngiSan Francisco State University Computer Science and EngiSan Francisco State University Computer Science and EngiSan Francisco State University Computer Science and EngiSan Francisco State University Computer Science and EngiSan Francisco State University Computer Science and EngiSan Francisco State University Computer Science and EngiSan Francisco State University Computer Science and EngiSan Francisco State University Computer Science and EngiSan Francisco State University Computer Science and EngiSan Francisco State University Computer Science and EngiSan Francisco State University Computer Science and EngiSan Francisco State University Computer Science and EngiSan Francisco State University Computer Science and EngiSan Francisco State University Computer Science and EngiSan Francisco State University Computer Science and EngiSan Francisco State University Computer Science and EngiSan Francisco State University Computer Science and EngiSan Francisco State University Computer Science and EngiSan Francisco State University Computer Science and EngiSan Francisco State University Computer Science and EngiSan Francisco State University Computer Science and EngiSan Francisco State University Computer Science and EngiSan Francisco State University Computer Science and EngiSan Francisco State University Computer Science and EngiSan Francisco State University Computer Science and EngiSan Francisco State University Computer Science and EngiSan Francisco State University Computer Science and EngiSan Francisco State University Computer Science and EngiSan Francisco State University Computer Science and EngiSan Francisco State University Computer Science and EngiSan Francisco State University Computer Science and EngiSan Francisco State University Computer Science and EngiSan Francisco State University Computer Science and EngiSan Francisco State University Computer Science and EngiSan Francisco State University Computer Science and EngiSan Francisco State University Computer Science and EngiSan Francisco State University Computer Science and EngiSan Francisco State University Computer Science and EngiSan Francisco State University Computer Science and EngiSan Francisco State University Computer Science and EngiSan Francisco State University Computer Science and EngiSan Francisco State University Computer Science and EngiSan Francisco State University Computer Science and EngiSan Francisco State University Computer Science and EngiSan Francisco State University Computer Science and EngiSan Francisco State University Computer Science and EngiSan Francisco State University Computer Science and EngiSan Francisco State University Computer Science and EngiSan Francisco State University Computer Science and EngiSan Francisco State University Computer Science and EngiSan Francisco State University Computer Science and EngiSan Francisco State University Computer Science and Engi'\n",
    "while True:\n",
    "    try:\n",
    "        key = DES3.adjust_key_parity(get_random_bytes(24))\n",
    "        break\n",
    "    except ValueError:\n",
    "        pass\n",
    "cipher = DES3.new(key, DES3.MODE_CBC)\n",
    "msg = cipher.encrypt(plaintext)\n",
    "print(msg)\n",
    "decipher = DES3.new(key,DES3.MODE_CBC)\n",
    "msg_dec = decipher.decrypt(msg)\n",
    "print(msg_dec)"
   ]
  },
  {
   "cell_type": "code",
   "execution_count": null,
   "id": "1aeac4d6",
   "metadata": {},
   "outputs": [],
   "source": []
  }
 ],
 "metadata": {
  "kernelspec": {
   "display_name": "Python 3",
   "language": "python",
   "name": "python3"
  },
  "language_info": {
   "codemirror_mode": {
    "name": "ipython",
    "version": 3
   },
   "file_extension": ".py",
   "mimetype": "text/x-python",
   "name": "python",
   "nbconvert_exporter": "python",
   "pygments_lexer": "ipython3",
   "version": "3.8.8"
  }
 },
 "nbformat": 4,
 "nbformat_minor": 5
}
