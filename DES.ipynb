{
 "cells": [
  {
   "cell_type": "code",
   "execution_count": 1,
   "id": "c9cc2ff3",
   "metadata": {},
   "outputs": [],
   "source": [
    "#Encryption and Decryption using DES\n",
    "#KeyLength 56bits\n",
    "#Input 64bits\n",
    "#Output 64bits"
   ]
  },
  {
   "cell_type": "code",
   "execution_count": 2,
   "id": "a0692229",
   "metadata": {},
   "outputs": [],
   "source": [
    "from base64 import b64encode, b64decode\n",
    "from Crypto.Cipher import AES, DES\n",
    "from Crypto.Util.Padding import pad, unpad\n",
    "from Crypto.Random import get_random_bytes"
   ]
  },
  {
   "cell_type": "code",
   "execution_count": 3,
   "id": "e1a6a1d9",
   "metadata": {},
   "outputs": [],
   "source": [
    "#Encryption and Decryption using DES-ECB, Input = 16bits"
   ]
  },
  {
   "cell_type": "code",
   "execution_count": 4,
   "id": "62b5e420",
   "metadata": {},
   "outputs": [
    {
     "name": "stdout",
     "output_type": "stream",
     "text": [
      "b'wt\\xa6p8[\\xac\\xe8\\x85(EY,\\xfd\\xa9\\xcf'\n",
      "b'San Francisco St'\n",
      "CPU times: user 1.73 ms, sys: 703 µs, total: 2.43 ms\n",
      "Wall time: 1.85 ms\n"
     ]
    }
   ],
   "source": [
    "%%time\n",
    "key = b'abcdefgh'\n",
    "cipher = DES.new(key,DES.MODE_ECB)\n",
    "plaintext = b'San Francisco St'\n",
    "msg = cipher.encrypt(plaintext)\n",
    "print(msg)\n",
    "decipher = DES.new(key,DES.MODE_ECB)\n",
    "msg_dec = decipher.decrypt(msg)\n",
    "print(msg_dec)"
   ]
  },
  {
   "cell_type": "code",
   "execution_count": 5,
   "id": "52021f8d",
   "metadata": {},
   "outputs": [],
   "source": [
    "#Encryption and Decryption using DES-ECB, Input = 32bits"
   ]
  },
  {
   "cell_type": "code",
   "execution_count": 6,
   "id": "f20c23e2",
   "metadata": {},
   "outputs": [
    {
     "name": "stdout",
     "output_type": "stream",
     "text": [
      "b'wt\\xa6p8[\\xac\\xe8\\x85(EY,\\xfd\\xa9\\xcfE\\xf9\\xc8\\xac\\xcd\\xc9\\xdc8V\\x95\\xe3T>\\xdc\\x14\\xbf\\xfa\\xb6\\xde\\xe6\\x92\\x05\\x1b\\xdek\\x02|\\xeete\\x0c\\xff\\x17\\xe8\\x07E\\x93b\\xf5\\x1f'\n",
      "b'San Francisco State University Computer Science and Engi'\n",
      "CPU times: user 416 µs, sys: 528 µs, total: 944 µs\n",
      "Wall time: 499 µs\n"
     ]
    }
   ],
   "source": [
    "%%time\n",
    "key = b'abcdefgh'\n",
    "cipher = DES.new(key,DES.MODE_ECB)\n",
    "plaintext = b'San Francisco State University Computer Science and Engi'\n",
    "msg = cipher.encrypt(plaintext)\n",
    "print(msg)\n",
    "decipher = DES.new(key,DES.MODE_ECB)\n",
    "msg_dec = decipher.decrypt(msg)\n",
    "print(msg_dec)"
   ]
  },
  {
   "cell_type": "code",
   "execution_count": 7,
   "id": "3c574f3c",
   "metadata": {},
   "outputs": [],
   "source": [
    "#Encryption and Decryption using DES-ECB, Input = 64bits"
   ]
  },
  {
   "cell_type": "code",
   "execution_count": 8,
   "id": "e143cfd2",
   "metadata": {},
   "outputs": [
    {
     "name": "stdout",
     "output_type": "stream",
     "text": [
      "b'wt\\xa6p8[\\xac\\xe8\\x85(EY,\\xfd\\xa9\\xcfE\\xf9\\xc8\\xac\\xcd\\xc9\\xdc8V\\x95\\xe3T>\\xdc\\x14\\xbf\\xfa\\xb6\\xde\\xe6\\x92\\x05\\x1b\\xdek\\x02|\\xeete\\x0c\\xff\\x17\\xe8\\x07E\\x93b\\xf5\\x1fwt\\xa6p8[\\xac\\xe8\\x85(EY,\\xfd\\xa9\\xcfE\\xf9\\xc8\\xac\\xcd\\xc9\\xdc8V\\x95\\xe3T>\\xdc\\x14\\xbf\\xfa\\xb6\\xde\\xe6\\x92\\x05\\x1b\\xdek\\x02|\\xeete\\x0c\\xff\\x17\\xe8\\x07E\\x93b\\xf5\\x1f'\n",
      "b'San Francisco State University Computer Science and EngiSan Francisco State University Computer Science and Engi'\n",
      "CPU times: user 284 µs, sys: 201 µs, total: 485 µs\n",
      "Wall time: 306 µs\n"
     ]
    }
   ],
   "source": [
    "%%time\n",
    "key = b'abcdefgh'\n",
    "cipher = DES.new(key,DES.MODE_ECB)\n",
    "plaintext = b'San Francisco State University Computer Science and EngiSan Francisco State University Computer Science and Engi'\n",
    "msg = cipher.encrypt(plaintext)\n",
    "print(msg)\n",
    "decipher = DES.new(key,DES.MODE_ECB)\n",
    "msg_dec = decipher.decrypt(msg)\n",
    "print(msg_dec)"
   ]
  },
  {
   "cell_type": "code",
   "execution_count": 9,
   "id": "e0d73735",
   "metadata": {},
   "outputs": [],
   "source": [
    "#Encryption and Decryption using DES-ECB, Input = 128bits"
   ]
  },
  {
   "cell_type": "code",
   "execution_count": 10,
   "id": "a7d24a74",
   "metadata": {},
   "outputs": [
    {
     "name": "stdout",
     "output_type": "stream",
     "text": [
      "b'wt\\xa6p8[\\xac\\xe8\\x85(EY,\\xfd\\xa9\\xcfE\\xf9\\xc8\\xac\\xcd\\xc9\\xdc8V\\x95\\xe3T>\\xdc\\x14\\xbf\\xfa\\xb6\\xde\\xe6\\x92\\x05\\x1b\\xdek\\x02|\\xeete\\x0c\\xff\\x17\\xe8\\x07E\\x93b\\xf5\\x1fwt\\xa6p8[\\xac\\xe8\\x85(EY,\\xfd\\xa9\\xcfE\\xf9\\xc8\\xac\\xcd\\xc9\\xdc8V\\x95\\xe3T>\\xdc\\x14\\xbf\\xfa\\xb6\\xde\\xe6\\x92\\x05\\x1b\\xdek\\x02|\\xeete\\x0c\\xff\\x17\\xe8\\x07E\\x93b\\xf5\\x1fwt\\xa6p8[\\xac\\xe8\\x85(EY,\\xfd\\xa9\\xcfE\\xf9\\xc8\\xac\\xcd\\xc9\\xdc8V\\x95\\xe3T>\\xdc\\x14\\xbf\\xfa\\xb6\\xde\\xe6\\x92\\x05\\x1b\\xdek\\x02|\\xeete\\x0c\\xff\\x17\\xe8\\x07E\\x93b\\xf5\\x1fwt\\xa6p8[\\xac\\xe8\\x85(EY,\\xfd\\xa9\\xcfE\\xf9\\xc8\\xac\\xcd\\xc9\\xdc8V\\x95\\xe3T>\\xdc\\x14\\xbf\\xfa\\xb6\\xde\\xe6\\x92\\x05\\x1b\\xdek\\x02|\\xeete\\x0c\\xff\\x17\\xe8\\x07E\\x93b\\xf5\\x1f'\n",
      "b'San Francisco State University Computer Science and EngiSan Francisco State University Computer Science and EngiSan Francisco State University Computer Science and EngiSan Francisco State University Computer Science and Engi'\n",
      "CPU times: user 329 µs, sys: 196 µs, total: 525 µs\n",
      "Wall time: 329 µs\n"
     ]
    }
   ],
   "source": [
    "%%time\n",
    "key = b'abcdefgh'\n",
    "cipher = DES.new(key,DES.MODE_ECB)\n",
    "plaintext = b'San Francisco State University Computer Science and EngiSan Francisco State University Computer Science and EngiSan Francisco State University Computer Science and EngiSan Francisco State University Computer Science and Engi'\n",
    "msg = cipher.encrypt(plaintext)\n",
    "print(msg)\n",
    "decipher = DES.new(key,DES.MODE_ECB)\n",
    "msg_dec = decipher.decrypt(msg)\n",
    "print(msg_dec)"
   ]
  },
  {
   "cell_type": "code",
   "execution_count": 11,
   "id": "8c32664b",
   "metadata": {},
   "outputs": [],
   "source": [
    "#Encryption and Decryption using DES-ECB, Input = 256bits"
   ]
  },
  {
   "cell_type": "code",
   "execution_count": 12,
   "id": "8cd5e089",
   "metadata": {},
   "outputs": [
    {
     "name": "stdout",
     "output_type": "stream",
     "text": [
      "b'wt\\xa6p8[\\xac\\xe8\\x85(EY,\\xfd\\xa9\\xcfE\\xf9\\xc8\\xac\\xcd\\xc9\\xdc8V\\x95\\xe3T>\\xdc\\x14\\xbf\\xfa\\xb6\\xde\\xe6\\x92\\x05\\x1b\\xdek\\x02|\\xeete\\x0c\\xff\\x17\\xe8\\x07E\\x93b\\xf5\\x1fwt\\xa6p8[\\xac\\xe8\\x85(EY,\\xfd\\xa9\\xcfE\\xf9\\xc8\\xac\\xcd\\xc9\\xdc8V\\x95\\xe3T>\\xdc\\x14\\xbf\\xfa\\xb6\\xde\\xe6\\x92\\x05\\x1b\\xdek\\x02|\\xeete\\x0c\\xff\\x17\\xe8\\x07E\\x93b\\xf5\\x1fwt\\xa6p8[\\xac\\xe8\\x85(EY,\\xfd\\xa9\\xcfE\\xf9\\xc8\\xac\\xcd\\xc9\\xdc8V\\x95\\xe3T>\\xdc\\x14\\xbf\\xfa\\xb6\\xde\\xe6\\x92\\x05\\x1b\\xdek\\x02|\\xeete\\x0c\\xff\\x17\\xe8\\x07E\\x93b\\xf5\\x1fwt\\xa6p8[\\xac\\xe8\\x85(EY,\\xfd\\xa9\\xcfE\\xf9\\xc8\\xac\\xcd\\xc9\\xdc8V\\x95\\xe3T>\\xdc\\x14\\xbf\\xfa\\xb6\\xde\\xe6\\x92\\x05\\x1b\\xdek\\x02|\\xeete\\x0c\\xff\\x17\\xe8\\x07E\\x93b\\xf5\\x1fwt\\xa6p8[\\xac\\xe8\\x85(EY,\\xfd\\xa9\\xcfE\\xf9\\xc8\\xac\\xcd\\xc9\\xdc8V\\x95\\xe3T>\\xdc\\x14\\xbf\\xfa\\xb6\\xde\\xe6\\x92\\x05\\x1b\\xdek\\x02|\\xeete\\x0c\\xff\\x17\\xe8\\x07E\\x93b\\xf5\\x1fwt\\xa6p8[\\xac\\xe8\\x85(EY,\\xfd\\xa9\\xcfE\\xf9\\xc8\\xac\\xcd\\xc9\\xdc8V\\x95\\xe3T>\\xdc\\x14\\xbf\\xfa\\xb6\\xde\\xe6\\x92\\x05\\x1b\\xdek\\x02|\\xeete\\x0c\\xff\\x17\\xe8\\x07E\\x93b\\xf5\\x1fwt\\xa6p8[\\xac\\xe8\\x85(EY,\\xfd\\xa9\\xcfE\\xf9\\xc8\\xac\\xcd\\xc9\\xdc8V\\x95\\xe3T>\\xdc\\x14\\xbf\\xfa\\xb6\\xde\\xe6\\x92\\x05\\x1b\\xdek\\x02|\\xeete\\x0c\\xff\\x17\\xe8\\x07E\\x93b\\xf5\\x1fwt\\xa6p8[\\xac\\xe8\\x85(EY,\\xfd\\xa9\\xcfE\\xf9\\xc8\\xac\\xcd\\xc9\\xdc8V\\x95\\xe3T>\\xdc\\x14\\xbf\\xfa\\xb6\\xde\\xe6\\x92\\x05\\x1b\\xdek\\x02|\\xeete\\x0c\\xff\\x17\\xe8\\x07E\\x93b\\xf5\\x1f'\n",
      "b'San Francisco State University Computer Science and EngiSan Francisco State University Computer Science and EngiSan Francisco State University Computer Science and EngiSan Francisco State University Computer Science and EngiSan Francisco State University Computer Science and EngiSan Francisco State University Computer Science and EngiSan Francisco State University Computer Science and EngiSan Francisco State University Computer Science and Engi'\n",
      "CPU times: user 361 µs, sys: 323 µs, total: 684 µs\n",
      "Wall time: 383 µs\n"
     ]
    }
   ],
   "source": [
    "%%time\n",
    "key = b'abcdefgh'\n",
    "cipher = DES.new(key,DES.MODE_ECB)\n",
    "plaintext = b'San Francisco State University Computer Science and EngiSan Francisco State University Computer Science and EngiSan Francisco State University Computer Science and EngiSan Francisco State University Computer Science and EngiSan Francisco State University Computer Science and EngiSan Francisco State University Computer Science and EngiSan Francisco State University Computer Science and EngiSan Francisco State University Computer Science and Engi'\n",
    "msg = cipher.encrypt(plaintext)\n",
    "print(msg)\n",
    "decipher = DES.new(key,DES.MODE_ECB)\n",
    "msg_dec = decipher.decrypt(msg)\n",
    "print(msg_dec)"
   ]
  },
  {
   "cell_type": "code",
   "execution_count": 13,
   "id": "f583fbac",
   "metadata": {},
   "outputs": [],
   "source": [
    "#Encryption and Decryption using DES-ECB, Input = 512bits"
   ]
  },
  {
   "cell_type": "code",
   "execution_count": 14,
   "id": "ceda4aeb",
   "metadata": {},
   "outputs": [
    {
     "name": "stdout",
     "output_type": "stream",
     "text": [
      "b'wt\\xa6p8[\\xac\\xe8\\x85(EY,\\xfd\\xa9\\xcfE\\xf9\\xc8\\xac\\xcd\\xc9\\xdc8V\\x95\\xe3T>\\xdc\\x14\\xbf\\xfa\\xb6\\xde\\xe6\\x92\\x05\\x1b\\xdek\\x02|\\xeete\\x0c\\xff\\x17\\xe8\\x07E\\x93b\\xf5\\x1fwt\\xa6p8[\\xac\\xe8\\x85(EY,\\xfd\\xa9\\xcfE\\xf9\\xc8\\xac\\xcd\\xc9\\xdc8V\\x95\\xe3T>\\xdc\\x14\\xbf\\xfa\\xb6\\xde\\xe6\\x92\\x05\\x1b\\xdek\\x02|\\xeete\\x0c\\xff\\x17\\xe8\\x07E\\x93b\\xf5\\x1fwt\\xa6p8[\\xac\\xe8\\x85(EY,\\xfd\\xa9\\xcfE\\xf9\\xc8\\xac\\xcd\\xc9\\xdc8V\\x95\\xe3T>\\xdc\\x14\\xbf\\xfa\\xb6\\xde\\xe6\\x92\\x05\\x1b\\xdek\\x02|\\xeete\\x0c\\xff\\x17\\xe8\\x07E\\x93b\\xf5\\x1fwt\\xa6p8[\\xac\\xe8\\x85(EY,\\xfd\\xa9\\xcfE\\xf9\\xc8\\xac\\xcd\\xc9\\xdc8V\\x95\\xe3T>\\xdc\\x14\\xbf\\xfa\\xb6\\xde\\xe6\\x92\\x05\\x1b\\xdek\\x02|\\xeete\\x0c\\xff\\x17\\xe8\\x07E\\x93b\\xf5\\x1fwt\\xa6p8[\\xac\\xe8\\x85(EY,\\xfd\\xa9\\xcfE\\xf9\\xc8\\xac\\xcd\\xc9\\xdc8V\\x95\\xe3T>\\xdc\\x14\\xbf\\xfa\\xb6\\xde\\xe6\\x92\\x05\\x1b\\xdek\\x02|\\xeete\\x0c\\xff\\x17\\xe8\\x07E\\x93b\\xf5\\x1fwt\\xa6p8[\\xac\\xe8\\x85(EY,\\xfd\\xa9\\xcfE\\xf9\\xc8\\xac\\xcd\\xc9\\xdc8V\\x95\\xe3T>\\xdc\\x14\\xbf\\xfa\\xb6\\xde\\xe6\\x92\\x05\\x1b\\xdek\\x02|\\xeete\\x0c\\xff\\x17\\xe8\\x07E\\x93b\\xf5\\x1fwt\\xa6p8[\\xac\\xe8\\x85(EY,\\xfd\\xa9\\xcfE\\xf9\\xc8\\xac\\xcd\\xc9\\xdc8V\\x95\\xe3T>\\xdc\\x14\\xbf\\xfa\\xb6\\xde\\xe6\\x92\\x05\\x1b\\xdek\\x02|\\xeete\\x0c\\xff\\x17\\xe8\\x07E\\x93b\\xf5\\x1fwt\\xa6p8[\\xac\\xe8\\x85(EY,\\xfd\\xa9\\xcfE\\xf9\\xc8\\xac\\xcd\\xc9\\xdc8V\\x95\\xe3T>\\xdc\\x14\\xbf\\xfa\\xb6\\xde\\xe6\\x92\\x05\\x1b\\xdek\\x02|\\xeete\\x0c\\xff\\x17\\xe8\\x07E\\x93b\\xf5\\x1fwt\\xa6p8[\\xac\\xe8\\x85(EY,\\xfd\\xa9\\xcfE\\xf9\\xc8\\xac\\xcd\\xc9\\xdc8V\\x95\\xe3T>\\xdc\\x14\\xbf\\xfa\\xb6\\xde\\xe6\\x92\\x05\\x1b\\xdek\\x02|\\xeete\\x0c\\xff\\x17\\xe8\\x07E\\x93b\\xf5\\x1fwt\\xa6p8[\\xac\\xe8\\x85(EY,\\xfd\\xa9\\xcfE\\xf9\\xc8\\xac\\xcd\\xc9\\xdc8V\\x95\\xe3T>\\xdc\\x14\\xbf\\xfa\\xb6\\xde\\xe6\\x92\\x05\\x1b\\xdek\\x02|\\xeete\\x0c\\xff\\x17\\xe8\\x07E\\x93b\\xf5\\x1fwt\\xa6p8[\\xac\\xe8\\x85(EY,\\xfd\\xa9\\xcfE\\xf9\\xc8\\xac\\xcd\\xc9\\xdc8V\\x95\\xe3T>\\xdc\\x14\\xbf\\xfa\\xb6\\xde\\xe6\\x92\\x05\\x1b\\xdek\\x02|\\xeete\\x0c\\xff\\x17\\xe8\\x07E\\x93b\\xf5\\x1fwt\\xa6p8[\\xac\\xe8\\x85(EY,\\xfd\\xa9\\xcfE\\xf9\\xc8\\xac\\xcd\\xc9\\xdc8V\\x95\\xe3T>\\xdc\\x14\\xbf\\xfa\\xb6\\xde\\xe6\\x92\\x05\\x1b\\xdek\\x02|\\xeete\\x0c\\xff\\x17\\xe8\\x07E\\x93b\\xf5\\x1fwt\\xa6p8[\\xac\\xe8\\x85(EY,\\xfd\\xa9\\xcfE\\xf9\\xc8\\xac\\xcd\\xc9\\xdc8V\\x95\\xe3T>\\xdc\\x14\\xbf\\xfa\\xb6\\xde\\xe6\\x92\\x05\\x1b\\xdek\\x02|\\xeete\\x0c\\xff\\x17\\xe8\\x07E\\x93b\\xf5\\x1fwt\\xa6p8[\\xac\\xe8\\x85(EY,\\xfd\\xa9\\xcfE\\xf9\\xc8\\xac\\xcd\\xc9\\xdc8V\\x95\\xe3T>\\xdc\\x14\\xbf\\xfa\\xb6\\xde\\xe6\\x92\\x05\\x1b\\xdek\\x02|\\xeete\\x0c\\xff\\x17\\xe8\\x07E\\x93b\\xf5\\x1fwt\\xa6p8[\\xac\\xe8\\x85(EY,\\xfd\\xa9\\xcfE\\xf9\\xc8\\xac\\xcd\\xc9\\xdc8V\\x95\\xe3T>\\xdc\\x14\\xbf\\xfa\\xb6\\xde\\xe6\\x92\\x05\\x1b\\xdek\\x02|\\xeete\\x0c\\xff\\x17\\xe8\\x07E\\x93b\\xf5\\x1fwt\\xa6p8[\\xac\\xe8\\x85(EY,\\xfd\\xa9\\xcfE\\xf9\\xc8\\xac\\xcd\\xc9\\xdc8V\\x95\\xe3T>\\xdc\\x14\\xbf\\xfa\\xb6\\xde\\xe6\\x92\\x05\\x1b\\xdek\\x02|\\xeete\\x0c\\xff\\x17\\xe8\\x07E\\x93b\\xf5\\x1f'\n",
      "b'San Francisco State University Computer Science and EngiSan Francisco State University Computer Science and EngiSan Francisco State University Computer Science and EngiSan Francisco State University Computer Science and EngiSan Francisco State University Computer Science and EngiSan Francisco State University Computer Science and EngiSan Francisco State University Computer Science and EngiSan Francisco State University Computer Science and EngiSan Francisco State University Computer Science and EngiSan Francisco State University Computer Science and EngiSan Francisco State University Computer Science and EngiSan Francisco State University Computer Science and EngiSan Francisco State University Computer Science and EngiSan Francisco State University Computer Science and EngiSan Francisco State University Computer Science and EngiSan Francisco State University Computer Science and Engi'\n",
      "CPU times: user 272 µs, sys: 189 µs, total: 461 µs\n",
      "Wall time: 245 µs\n"
     ]
    }
   ],
   "source": [
    "%%time\n",
    "key = b'abcdefgh'\n",
    "cipher = DES.new(key,DES.MODE_ECB)\n",
    "plaintext = b'San Francisco State University Computer Science and EngiSan Francisco State University Computer Science and EngiSan Francisco State University Computer Science and EngiSan Francisco State University Computer Science and EngiSan Francisco State University Computer Science and EngiSan Francisco State University Computer Science and EngiSan Francisco State University Computer Science and EngiSan Francisco State University Computer Science and EngiSan Francisco State University Computer Science and EngiSan Francisco State University Computer Science and EngiSan Francisco State University Computer Science and EngiSan Francisco State University Computer Science and EngiSan Francisco State University Computer Science and EngiSan Francisco State University Computer Science and EngiSan Francisco State University Computer Science and EngiSan Francisco State University Computer Science and Engi'\n",
    "msg = cipher.encrypt(plaintext)\n",
    "print(msg)\n",
    "decipher = DES.new(key,DES.MODE_ECB)\n",
    "msg_dec = decipher.decrypt(msg)\n",
    "print(msg_dec)"
   ]
  },
  {
   "cell_type": "code",
   "execution_count": 15,
   "id": "33e56dad",
   "metadata": {},
   "outputs": [],
   "source": [
    "#Encryption and Decryption using DES-ECB, Input = 1024bits"
   ]
  },
  {
   "cell_type": "code",
   "execution_count": 16,
   "id": "a3b3e739",
   "metadata": {},
   "outputs": [
    {
     "name": "stdout",
     "output_type": "stream",
     "text": [
      "b'wt\\xa6p8[\\xac\\xe8\\x85(EY,\\xfd\\xa9\\xcfE\\xf9\\xc8\\xac\\xcd\\xc9\\xdc8V\\x95\\xe3T>\\xdc\\x14\\xbf\\xfa\\xb6\\xde\\xe6\\x92\\x05\\x1b\\xdek\\x02|\\xeete\\x0c\\xff\\x17\\xe8\\x07E\\x93b\\xf5\\x1fwt\\xa6p8[\\xac\\xe8\\x85(EY,\\xfd\\xa9\\xcfE\\xf9\\xc8\\xac\\xcd\\xc9\\xdc8V\\x95\\xe3T>\\xdc\\x14\\xbf\\xfa\\xb6\\xde\\xe6\\x92\\x05\\x1b\\xdek\\x02|\\xeete\\x0c\\xff\\x17\\xe8\\x07E\\x93b\\xf5\\x1fwt\\xa6p8[\\xac\\xe8\\x85(EY,\\xfd\\xa9\\xcfE\\xf9\\xc8\\xac\\xcd\\xc9\\xdc8V\\x95\\xe3T>\\xdc\\x14\\xbf\\xfa\\xb6\\xde\\xe6\\x92\\x05\\x1b\\xdek\\x02|\\xeete\\x0c\\xff\\x17\\xe8\\x07E\\x93b\\xf5\\x1fwt\\xa6p8[\\xac\\xe8\\x85(EY,\\xfd\\xa9\\xcfE\\xf9\\xc8\\xac\\xcd\\xc9\\xdc8V\\x95\\xe3T>\\xdc\\x14\\xbf\\xfa\\xb6\\xde\\xe6\\x92\\x05\\x1b\\xdek\\x02|\\xeete\\x0c\\xff\\x17\\xe8\\x07E\\x93b\\xf5\\x1fwt\\xa6p8[\\xac\\xe8\\x85(EY,\\xfd\\xa9\\xcfE\\xf9\\xc8\\xac\\xcd\\xc9\\xdc8V\\x95\\xe3T>\\xdc\\x14\\xbf\\xfa\\xb6\\xde\\xe6\\x92\\x05\\x1b\\xdek\\x02|\\xeete\\x0c\\xff\\x17\\xe8\\x07E\\x93b\\xf5\\x1fwt\\xa6p8[\\xac\\xe8\\x85(EY,\\xfd\\xa9\\xcfE\\xf9\\xc8\\xac\\xcd\\xc9\\xdc8V\\x95\\xe3T>\\xdc\\x14\\xbf\\xfa\\xb6\\xde\\xe6\\x92\\x05\\x1b\\xdek\\x02|\\xeete\\x0c\\xff\\x17\\xe8\\x07E\\x93b\\xf5\\x1fwt\\xa6p8[\\xac\\xe8\\x85(EY,\\xfd\\xa9\\xcfE\\xf9\\xc8\\xac\\xcd\\xc9\\xdc8V\\x95\\xe3T>\\xdc\\x14\\xbf\\xfa\\xb6\\xde\\xe6\\x92\\x05\\x1b\\xdek\\x02|\\xeete\\x0c\\xff\\x17\\xe8\\x07E\\x93b\\xf5\\x1fwt\\xa6p8[\\xac\\xe8\\x85(EY,\\xfd\\xa9\\xcfE\\xf9\\xc8\\xac\\xcd\\xc9\\xdc8V\\x95\\xe3T>\\xdc\\x14\\xbf\\xfa\\xb6\\xde\\xe6\\x92\\x05\\x1b\\xdek\\x02|\\xeete\\x0c\\xff\\x17\\xe8\\x07E\\x93b\\xf5\\x1fwt\\xa6p8[\\xac\\xe8\\x85(EY,\\xfd\\xa9\\xcfE\\xf9\\xc8\\xac\\xcd\\xc9\\xdc8V\\x95\\xe3T>\\xdc\\x14\\xbf\\xfa\\xb6\\xde\\xe6\\x92\\x05\\x1b\\xdek\\x02|\\xeete\\x0c\\xff\\x17\\xe8\\x07E\\x93b\\xf5\\x1fwt\\xa6p8[\\xac\\xe8\\x85(EY,\\xfd\\xa9\\xcfE\\xf9\\xc8\\xac\\xcd\\xc9\\xdc8V\\x95\\xe3T>\\xdc\\x14\\xbf\\xfa\\xb6\\xde\\xe6\\x92\\x05\\x1b\\xdek\\x02|\\xeete\\x0c\\xff\\x17\\xe8\\x07E\\x93b\\xf5\\x1fwt\\xa6p8[\\xac\\xe8\\x85(EY,\\xfd\\xa9\\xcfE\\xf9\\xc8\\xac\\xcd\\xc9\\xdc8V\\x95\\xe3T>\\xdc\\x14\\xbf\\xfa\\xb6\\xde\\xe6\\x92\\x05\\x1b\\xdek\\x02|\\xeete\\x0c\\xff\\x17\\xe8\\x07E\\x93b\\xf5\\x1fwt\\xa6p8[\\xac\\xe8\\x85(EY,\\xfd\\xa9\\xcfE\\xf9\\xc8\\xac\\xcd\\xc9\\xdc8V\\x95\\xe3T>\\xdc\\x14\\xbf\\xfa\\xb6\\xde\\xe6\\x92\\x05\\x1b\\xdek\\x02|\\xeete\\x0c\\xff\\x17\\xe8\\x07E\\x93b\\xf5\\x1fwt\\xa6p8[\\xac\\xe8\\x85(EY,\\xfd\\xa9\\xcfE\\xf9\\xc8\\xac\\xcd\\xc9\\xdc8V\\x95\\xe3T>\\xdc\\x14\\xbf\\xfa\\xb6\\xde\\xe6\\x92\\x05\\x1b\\xdek\\x02|\\xeete\\x0c\\xff\\x17\\xe8\\x07E\\x93b\\xf5\\x1fwt\\xa6p8[\\xac\\xe8\\x85(EY,\\xfd\\xa9\\xcfE\\xf9\\xc8\\xac\\xcd\\xc9\\xdc8V\\x95\\xe3T>\\xdc\\x14\\xbf\\xfa\\xb6\\xde\\xe6\\x92\\x05\\x1b\\xdek\\x02|\\xeete\\x0c\\xff\\x17\\xe8\\x07E\\x93b\\xf5\\x1fwt\\xa6p8[\\xac\\xe8\\x85(EY,\\xfd\\xa9\\xcfE\\xf9\\xc8\\xac\\xcd\\xc9\\xdc8V\\x95\\xe3T>\\xdc\\x14\\xbf\\xfa\\xb6\\xde\\xe6\\x92\\x05\\x1b\\xdek\\x02|\\xeete\\x0c\\xff\\x17\\xe8\\x07E\\x93b\\xf5\\x1fwt\\xa6p8[\\xac\\xe8\\x85(EY,\\xfd\\xa9\\xcfE\\xf9\\xc8\\xac\\xcd\\xc9\\xdc8V\\x95\\xe3T>\\xdc\\x14\\xbf\\xfa\\xb6\\xde\\xe6\\x92\\x05\\x1b\\xdek\\x02|\\xeete\\x0c\\xff\\x17\\xe8\\x07E\\x93b\\xf5\\x1fwt\\xa6p8[\\xac\\xe8\\x85(EY,\\xfd\\xa9\\xcfE\\xf9\\xc8\\xac\\xcd\\xc9\\xdc8V\\x95\\xe3T>\\xdc\\x14\\xbf\\xfa\\xb6\\xde\\xe6\\x92\\x05\\x1b\\xdek\\x02|\\xeete\\x0c\\xff\\x17\\xe8\\x07E\\x93b\\xf5\\x1fwt\\xa6p8[\\xac\\xe8\\x85(EY,\\xfd\\xa9\\xcfE\\xf9\\xc8\\xac\\xcd\\xc9\\xdc8V\\x95\\xe3T>\\xdc\\x14\\xbf\\xfa\\xb6\\xde\\xe6\\x92\\x05\\x1b\\xdek\\x02|\\xeete\\x0c\\xff\\x17\\xe8\\x07E\\x93b\\xf5\\x1fwt\\xa6p8[\\xac\\xe8\\x85(EY,\\xfd\\xa9\\xcfE\\xf9\\xc8\\xac\\xcd\\xc9\\xdc8V\\x95\\xe3T>\\xdc\\x14\\xbf\\xfa\\xb6\\xde\\xe6\\x92\\x05\\x1b\\xdek\\x02|\\xeete\\x0c\\xff\\x17\\xe8\\x07E\\x93b\\xf5\\x1fwt\\xa6p8[\\xac\\xe8\\x85(EY,\\xfd\\xa9\\xcfE\\xf9\\xc8\\xac\\xcd\\xc9\\xdc8V\\x95\\xe3T>\\xdc\\x14\\xbf\\xfa\\xb6\\xde\\xe6\\x92\\x05\\x1b\\xdek\\x02|\\xeete\\x0c\\xff\\x17\\xe8\\x07E\\x93b\\xf5\\x1fwt\\xa6p8[\\xac\\xe8\\x85(EY,\\xfd\\xa9\\xcfE\\xf9\\xc8\\xac\\xcd\\xc9\\xdc8V\\x95\\xe3T>\\xdc\\x14\\xbf\\xfa\\xb6\\xde\\xe6\\x92\\x05\\x1b\\xdek\\x02|\\xeete\\x0c\\xff\\x17\\xe8\\x07E\\x93b\\xf5\\x1fwt\\xa6p8[\\xac\\xe8\\x85(EY,\\xfd\\xa9\\xcfE\\xf9\\xc8\\xac\\xcd\\xc9\\xdc8V\\x95\\xe3T>\\xdc\\x14\\xbf\\xfa\\xb6\\xde\\xe6\\x92\\x05\\x1b\\xdek\\x02|\\xeete\\x0c\\xff\\x17\\xe8\\x07E\\x93b\\xf5\\x1fwt\\xa6p8[\\xac\\xe8\\x85(EY,\\xfd\\xa9\\xcfE\\xf9\\xc8\\xac\\xcd\\xc9\\xdc8V\\x95\\xe3T>\\xdc\\x14\\xbf\\xfa\\xb6\\xde\\xe6\\x92\\x05\\x1b\\xdek\\x02|\\xeete\\x0c\\xff\\x17\\xe8\\x07E\\x93b\\xf5\\x1fwt\\xa6p8[\\xac\\xe8\\x85(EY,\\xfd\\xa9\\xcfE\\xf9\\xc8\\xac\\xcd\\xc9\\xdc8V\\x95\\xe3T>\\xdc\\x14\\xbf\\xfa\\xb6\\xde\\xe6\\x92\\x05\\x1b\\xdek\\x02|\\xeete\\x0c\\xff\\x17\\xe8\\x07E\\x93b\\xf5\\x1fwt\\xa6p8[\\xac\\xe8\\x85(EY,\\xfd\\xa9\\xcfE\\xf9\\xc8\\xac\\xcd\\xc9\\xdc8V\\x95\\xe3T>\\xdc\\x14\\xbf\\xfa\\xb6\\xde\\xe6\\x92\\x05\\x1b\\xdek\\x02|\\xeete\\x0c\\xff\\x17\\xe8\\x07E\\x93b\\xf5\\x1fwt\\xa6p8[\\xac\\xe8\\x85(EY,\\xfd\\xa9\\xcfE\\xf9\\xc8\\xac\\xcd\\xc9\\xdc8V\\x95\\xe3T>\\xdc\\x14\\xbf\\xfa\\xb6\\xde\\xe6\\x92\\x05\\x1b\\xdek\\x02|\\xeete\\x0c\\xff\\x17\\xe8\\x07E\\x93b\\xf5\\x1fwt\\xa6p8[\\xac\\xe8\\x85(EY,\\xfd\\xa9\\xcfE\\xf9\\xc8\\xac\\xcd\\xc9\\xdc8V\\x95\\xe3T>\\xdc\\x14\\xbf\\xfa\\xb6\\xde\\xe6\\x92\\x05\\x1b\\xdek\\x02|\\xeete\\x0c\\xff\\x17\\xe8\\x07E\\x93b\\xf5\\x1fwt\\xa6p8[\\xac\\xe8\\x85(EY,\\xfd\\xa9\\xcfE\\xf9\\xc8\\xac\\xcd\\xc9\\xdc8V\\x95\\xe3T>\\xdc\\x14\\xbf\\xfa\\xb6\\xde\\xe6\\x92\\x05\\x1b\\xdek\\x02|\\xeete\\x0c\\xff\\x17\\xe8\\x07E\\x93b\\xf5\\x1fwt\\xa6p8[\\xac\\xe8\\x85(EY,\\xfd\\xa9\\xcfE\\xf9\\xc8\\xac\\xcd\\xc9\\xdc8V\\x95\\xe3T>\\xdc\\x14\\xbf\\xfa\\xb6\\xde\\xe6\\x92\\x05\\x1b\\xdek\\x02|\\xeete\\x0c\\xff\\x17\\xe8\\x07E\\x93b\\xf5\\x1fwt\\xa6p8[\\xac\\xe8\\x85(EY,\\xfd\\xa9\\xcfE\\xf9\\xc8\\xac\\xcd\\xc9\\xdc8V\\x95\\xe3T>\\xdc\\x14\\xbf\\xfa\\xb6\\xde\\xe6\\x92\\x05\\x1b\\xdek\\x02|\\xeete\\x0c\\xff\\x17\\xe8\\x07E\\x93b\\xf5\\x1fwt\\xa6p8[\\xac\\xe8\\x85(EY,\\xfd\\xa9\\xcfE\\xf9\\xc8\\xac\\xcd\\xc9\\xdc8V\\x95\\xe3T>\\xdc\\x14\\xbf\\xfa\\xb6\\xde\\xe6\\x92\\x05\\x1b\\xdek\\x02|\\xeete\\x0c\\xff\\x17\\xe8\\x07E\\x93b\\xf5\\x1fwt\\xa6p8[\\xac\\xe8\\x85(EY,\\xfd\\xa9\\xcfE\\xf9\\xc8\\xac\\xcd\\xc9\\xdc8V\\x95\\xe3T>\\xdc\\x14\\xbf\\xfa\\xb6\\xde\\xe6\\x92\\x05\\x1b\\xdek\\x02|\\xeete\\x0c\\xff\\x17\\xe8\\x07E\\x93b\\xf5\\x1f'\n",
      "b'San Francisco State University Computer Science and EngiSan Francisco State University Computer Science and EngiSan Francisco State University Computer Science and EngiSan Francisco State University Computer Science and EngiSan Francisco State University Computer Science and EngiSan Francisco State University Computer Science and EngiSan Francisco State University Computer Science and EngiSan Francisco State University Computer Science and EngiSan Francisco State University Computer Science and EngiSan Francisco State University Computer Science and EngiSan Francisco State University Computer Science and EngiSan Francisco State University Computer Science and EngiSan Francisco State University Computer Science and EngiSan Francisco State University Computer Science and EngiSan Francisco State University Computer Science and EngiSan Francisco State University Computer Science and EngiSan Francisco State University Computer Science and EngiSan Francisco State University Computer Science and EngiSan Francisco State University Computer Science and EngiSan Francisco State University Computer Science and EngiSan Francisco State University Computer Science and EngiSan Francisco State University Computer Science and EngiSan Francisco State University Computer Science and EngiSan Francisco State University Computer Science and EngiSan Francisco State University Computer Science and EngiSan Francisco State University Computer Science and EngiSan Francisco State University Computer Science and EngiSan Francisco State University Computer Science and EngiSan Francisco State University Computer Science and EngiSan Francisco State University Computer Science and EngiSan Francisco State University Computer Science and EngiSan Francisco State University Computer Science and Engi'\n",
      "CPU times: user 558 µs, sys: 208 µs, total: 766 µs\n",
      "Wall time: 575 µs\n"
     ]
    }
   ],
   "source": [
    "%%time\n",
    "key = b'abcdefgh'\n",
    "cipher = DES.new(key,DES.MODE_ECB)\n",
    "plaintext = b'San Francisco State University Computer Science and EngiSan Francisco State University Computer Science and EngiSan Francisco State University Computer Science and EngiSan Francisco State University Computer Science and EngiSan Francisco State University Computer Science and EngiSan Francisco State University Computer Science and EngiSan Francisco State University Computer Science and EngiSan Francisco State University Computer Science and EngiSan Francisco State University Computer Science and EngiSan Francisco State University Computer Science and EngiSan Francisco State University Computer Science and EngiSan Francisco State University Computer Science and EngiSan Francisco State University Computer Science and EngiSan Francisco State University Computer Science and EngiSan Francisco State University Computer Science and EngiSan Francisco State University Computer Science and EngiSan Francisco State University Computer Science and EngiSan Francisco State University Computer Science and EngiSan Francisco State University Computer Science and EngiSan Francisco State University Computer Science and EngiSan Francisco State University Computer Science and EngiSan Francisco State University Computer Science and EngiSan Francisco State University Computer Science and EngiSan Francisco State University Computer Science and EngiSan Francisco State University Computer Science and EngiSan Francisco State University Computer Science and EngiSan Francisco State University Computer Science and EngiSan Francisco State University Computer Science and EngiSan Francisco State University Computer Science and EngiSan Francisco State University Computer Science and EngiSan Francisco State University Computer Science and EngiSan Francisco State University Computer Science and Engi'\n",
    "msg = cipher.encrypt(plaintext)\n",
    "print(msg)\n",
    "decipher = DES.new(key,DES.MODE_ECB)\n",
    "msg_dec = decipher.decrypt(msg)\n",
    "print(msg_dec)"
   ]
  },
  {
   "cell_type": "code",
   "execution_count": 17,
   "id": "fcfbed08",
   "metadata": {},
   "outputs": [],
   "source": [
    "#Encryption and Decryption using DES-ECB, Input = 2048bits"
   ]
  },
  {
   "cell_type": "code",
   "execution_count": 18,
   "id": "ba3ee3a6",
   "metadata": {},
   "outputs": [
    {
     "name": "stdout",
     "output_type": "stream",
     "text": [
      "b'wt\\xa6p8[\\xac\\xe8\\x85(EY,\\xfd\\xa9\\xcfE\\xf9\\xc8\\xac\\xcd\\xc9\\xdc8V\\x95\\xe3T>\\xdc\\x14\\xbf\\xfa\\xb6\\xde\\xe6\\x92\\x05\\x1b\\xdek\\x02|\\xeete\\x0c\\xff\\x17\\xe8\\x07E\\x93b\\xf5\\x1fwt\\xa6p8[\\xac\\xe8\\x85(EY,\\xfd\\xa9\\xcfE\\xf9\\xc8\\xac\\xcd\\xc9\\xdc8V\\x95\\xe3T>\\xdc\\x14\\xbf\\xfa\\xb6\\xde\\xe6\\x92\\x05\\x1b\\xdek\\x02|\\xeete\\x0c\\xff\\x17\\xe8\\x07E\\x93b\\xf5\\x1fwt\\xa6p8[\\xac\\xe8\\x85(EY,\\xfd\\xa9\\xcfE\\xf9\\xc8\\xac\\xcd\\xc9\\xdc8V\\x95\\xe3T>\\xdc\\x14\\xbf\\xfa\\xb6\\xde\\xe6\\x92\\x05\\x1b\\xdek\\x02|\\xeete\\x0c\\xff\\x17\\xe8\\x07E\\x93b\\xf5\\x1fwt\\xa6p8[\\xac\\xe8\\x85(EY,\\xfd\\xa9\\xcfE\\xf9\\xc8\\xac\\xcd\\xc9\\xdc8V\\x95\\xe3T>\\xdc\\x14\\xbf\\xfa\\xb6\\xde\\xe6\\x92\\x05\\x1b\\xdek\\x02|\\xeete\\x0c\\xff\\x17\\xe8\\x07E\\x93b\\xf5\\x1fwt\\xa6p8[\\xac\\xe8\\x85(EY,\\xfd\\xa9\\xcfE\\xf9\\xc8\\xac\\xcd\\xc9\\xdc8V\\x95\\xe3T>\\xdc\\x14\\xbf\\xfa\\xb6\\xde\\xe6\\x92\\x05\\x1b\\xdek\\x02|\\xeete\\x0c\\xff\\x17\\xe8\\x07E\\x93b\\xf5\\x1fwt\\xa6p8[\\xac\\xe8\\x85(EY,\\xfd\\xa9\\xcfE\\xf9\\xc8\\xac\\xcd\\xc9\\xdc8V\\x95\\xe3T>\\xdc\\x14\\xbf\\xfa\\xb6\\xde\\xe6\\x92\\x05\\x1b\\xdek\\x02|\\xeete\\x0c\\xff\\x17\\xe8\\x07E\\x93b\\xf5\\x1fwt\\xa6p8[\\xac\\xe8\\x85(EY,\\xfd\\xa9\\xcfE\\xf9\\xc8\\xac\\xcd\\xc9\\xdc8V\\x95\\xe3T>\\xdc\\x14\\xbf\\xfa\\xb6\\xde\\xe6\\x92\\x05\\x1b\\xdek\\x02|\\xeete\\x0c\\xff\\x17\\xe8\\x07E\\x93b\\xf5\\x1fwt\\xa6p8[\\xac\\xe8\\x85(EY,\\xfd\\xa9\\xcfE\\xf9\\xc8\\xac\\xcd\\xc9\\xdc8V\\x95\\xe3T>\\xdc\\x14\\xbf\\xfa\\xb6\\xde\\xe6\\x92\\x05\\x1b\\xdek\\x02|\\xeete\\x0c\\xff\\x17\\xe8\\x07E\\x93b\\xf5\\x1fwt\\xa6p8[\\xac\\xe8\\x85(EY,\\xfd\\xa9\\xcfE\\xf9\\xc8\\xac\\xcd\\xc9\\xdc8V\\x95\\xe3T>\\xdc\\x14\\xbf\\xfa\\xb6\\xde\\xe6\\x92\\x05\\x1b\\xdek\\x02|\\xeete\\x0c\\xff\\x17\\xe8\\x07E\\x93b\\xf5\\x1fwt\\xa6p8[\\xac\\xe8\\x85(EY,\\xfd\\xa9\\xcfE\\xf9\\xc8\\xac\\xcd\\xc9\\xdc8V\\x95\\xe3T>\\xdc\\x14\\xbf\\xfa\\xb6\\xde\\xe6\\x92\\x05\\x1b\\xdek\\x02|\\xeete\\x0c\\xff\\x17\\xe8\\x07E\\x93b\\xf5\\x1fwt\\xa6p8[\\xac\\xe8\\x85(EY,\\xfd\\xa9\\xcfE\\xf9\\xc8\\xac\\xcd\\xc9\\xdc8V\\x95\\xe3T>\\xdc\\x14\\xbf\\xfa\\xb6\\xde\\xe6\\x92\\x05\\x1b\\xdek\\x02|\\xeete\\x0c\\xff\\x17\\xe8\\x07E\\x93b\\xf5\\x1fwt\\xa6p8[\\xac\\xe8\\x85(EY,\\xfd\\xa9\\xcfE\\xf9\\xc8\\xac\\xcd\\xc9\\xdc8V\\x95\\xe3T>\\xdc\\x14\\xbf\\xfa\\xb6\\xde\\xe6\\x92\\x05\\x1b\\xdek\\x02|\\xeete\\x0c\\xff\\x17\\xe8\\x07E\\x93b\\xf5\\x1fwt\\xa6p8[\\xac\\xe8\\x85(EY,\\xfd\\xa9\\xcfE\\xf9\\xc8\\xac\\xcd\\xc9\\xdc8V\\x95\\xe3T>\\xdc\\x14\\xbf\\xfa\\xb6\\xde\\xe6\\x92\\x05\\x1b\\xdek\\x02|\\xeete\\x0c\\xff\\x17\\xe8\\x07E\\x93b\\xf5\\x1fwt\\xa6p8[\\xac\\xe8\\x85(EY,\\xfd\\xa9\\xcfE\\xf9\\xc8\\xac\\xcd\\xc9\\xdc8V\\x95\\xe3T>\\xdc\\x14\\xbf\\xfa\\xb6\\xde\\xe6\\x92\\x05\\x1b\\xdek\\x02|\\xeete\\x0c\\xff\\x17\\xe8\\x07E\\x93b\\xf5\\x1fwt\\xa6p8[\\xac\\xe8\\x85(EY,\\xfd\\xa9\\xcfE\\xf9\\xc8\\xac\\xcd\\xc9\\xdc8V\\x95\\xe3T>\\xdc\\x14\\xbf\\xfa\\xb6\\xde\\xe6\\x92\\x05\\x1b\\xdek\\x02|\\xeete\\x0c\\xff\\x17\\xe8\\x07E\\x93b\\xf5\\x1fwt\\xa6p8[\\xac\\xe8\\x85(EY,\\xfd\\xa9\\xcfE\\xf9\\xc8\\xac\\xcd\\xc9\\xdc8V\\x95\\xe3T>\\xdc\\x14\\xbf\\xfa\\xb6\\xde\\xe6\\x92\\x05\\x1b\\xdek\\x02|\\xeete\\x0c\\xff\\x17\\xe8\\x07E\\x93b\\xf5\\x1fwt\\xa6p8[\\xac\\xe8\\x85(EY,\\xfd\\xa9\\xcfE\\xf9\\xc8\\xac\\xcd\\xc9\\xdc8V\\x95\\xe3T>\\xdc\\x14\\xbf\\xfa\\xb6\\xde\\xe6\\x92\\x05\\x1b\\xdek\\x02|\\xeete\\x0c\\xff\\x17\\xe8\\x07E\\x93b\\xf5\\x1fwt\\xa6p8[\\xac\\xe8\\x85(EY,\\xfd\\xa9\\xcfE\\xf9\\xc8\\xac\\xcd\\xc9\\xdc8V\\x95\\xe3T>\\xdc\\x14\\xbf\\xfa\\xb6\\xde\\xe6\\x92\\x05\\x1b\\xdek\\x02|\\xeete\\x0c\\xff\\x17\\xe8\\x07E\\x93b\\xf5\\x1fwt\\xa6p8[\\xac\\xe8\\x85(EY,\\xfd\\xa9\\xcfE\\xf9\\xc8\\xac\\xcd\\xc9\\xdc8V\\x95\\xe3T>\\xdc\\x14\\xbf\\xfa\\xb6\\xde\\xe6\\x92\\x05\\x1b\\xdek\\x02|\\xeete\\x0c\\xff\\x17\\xe8\\x07E\\x93b\\xf5\\x1fwt\\xa6p8[\\xac\\xe8\\x85(EY,\\xfd\\xa9\\xcfE\\xf9\\xc8\\xac\\xcd\\xc9\\xdc8V\\x95\\xe3T>\\xdc\\x14\\xbf\\xfa\\xb6\\xde\\xe6\\x92\\x05\\x1b\\xdek\\x02|\\xeete\\x0c\\xff\\x17\\xe8\\x07E\\x93b\\xf5\\x1fwt\\xa6p8[\\xac\\xe8\\x85(EY,\\xfd\\xa9\\xcfE\\xf9\\xc8\\xac\\xcd\\xc9\\xdc8V\\x95\\xe3T>\\xdc\\x14\\xbf\\xfa\\xb6\\xde\\xe6\\x92\\x05\\x1b\\xdek\\x02|\\xeete\\x0c\\xff\\x17\\xe8\\x07E\\x93b\\xf5\\x1fwt\\xa6p8[\\xac\\xe8\\x85(EY,\\xfd\\xa9\\xcfE\\xf9\\xc8\\xac\\xcd\\xc9\\xdc8V\\x95\\xe3T>\\xdc\\x14\\xbf\\xfa\\xb6\\xde\\xe6\\x92\\x05\\x1b\\xdek\\x02|\\xeete\\x0c\\xff\\x17\\xe8\\x07E\\x93b\\xf5\\x1fwt\\xa6p8[\\xac\\xe8\\x85(EY,\\xfd\\xa9\\xcfE\\xf9\\xc8\\xac\\xcd\\xc9\\xdc8V\\x95\\xe3T>\\xdc\\x14\\xbf\\xfa\\xb6\\xde\\xe6\\x92\\x05\\x1b\\xdek\\x02|\\xeete\\x0c\\xff\\x17\\xe8\\x07E\\x93b\\xf5\\x1fwt\\xa6p8[\\xac\\xe8\\x85(EY,\\xfd\\xa9\\xcfE\\xf9\\xc8\\xac\\xcd\\xc9\\xdc8V\\x95\\xe3T>\\xdc\\x14\\xbf\\xfa\\xb6\\xde\\xe6\\x92\\x05\\x1b\\xdek\\x02|\\xeete\\x0c\\xff\\x17\\xe8\\x07E\\x93b\\xf5\\x1fwt\\xa6p8[\\xac\\xe8\\x85(EY,\\xfd\\xa9\\xcfE\\xf9\\xc8\\xac\\xcd\\xc9\\xdc8V\\x95\\xe3T>\\xdc\\x14\\xbf\\xfa\\xb6\\xde\\xe6\\x92\\x05\\x1b\\xdek\\x02|\\xeete\\x0c\\xff\\x17\\xe8\\x07E\\x93b\\xf5\\x1fwt\\xa6p8[\\xac\\xe8\\x85(EY,\\xfd\\xa9\\xcfE\\xf9\\xc8\\xac\\xcd\\xc9\\xdc8V\\x95\\xe3T>\\xdc\\x14\\xbf\\xfa\\xb6\\xde\\xe6\\x92\\x05\\x1b\\xdek\\x02|\\xeete\\x0c\\xff\\x17\\xe8\\x07E\\x93b\\xf5\\x1fwt\\xa6p8[\\xac\\xe8\\x85(EY,\\xfd\\xa9\\xcfE\\xf9\\xc8\\xac\\xcd\\xc9\\xdc8V\\x95\\xe3T>\\xdc\\x14\\xbf\\xfa\\xb6\\xde\\xe6\\x92\\x05\\x1b\\xdek\\x02|\\xeete\\x0c\\xff\\x17\\xe8\\x07E\\x93b\\xf5\\x1fwt\\xa6p8[\\xac\\xe8\\x85(EY,\\xfd\\xa9\\xcfE\\xf9\\xc8\\xac\\xcd\\xc9\\xdc8V\\x95\\xe3T>\\xdc\\x14\\xbf\\xfa\\xb6\\xde\\xe6\\x92\\x05\\x1b\\xdek\\x02|\\xeete\\x0c\\xff\\x17\\xe8\\x07E\\x93b\\xf5\\x1fwt\\xa6p8[\\xac\\xe8\\x85(EY,\\xfd\\xa9\\xcfE\\xf9\\xc8\\xac\\xcd\\xc9\\xdc8V\\x95\\xe3T>\\xdc\\x14\\xbf\\xfa\\xb6\\xde\\xe6\\x92\\x05\\x1b\\xdek\\x02|\\xeete\\x0c\\xff\\x17\\xe8\\x07E\\x93b\\xf5\\x1fwt\\xa6p8[\\xac\\xe8\\x85(EY,\\xfd\\xa9\\xcfE\\xf9\\xc8\\xac\\xcd\\xc9\\xdc8V\\x95\\xe3T>\\xdc\\x14\\xbf\\xfa\\xb6\\xde\\xe6\\x92\\x05\\x1b\\xdek\\x02|\\xeete\\x0c\\xff\\x17\\xe8\\x07E\\x93b\\xf5\\x1fwt\\xa6p8[\\xac\\xe8\\x85(EY,\\xfd\\xa9\\xcfE\\xf9\\xc8\\xac\\xcd\\xc9\\xdc8V\\x95\\xe3T>\\xdc\\x14\\xbf\\xfa\\xb6\\xde\\xe6\\x92\\x05\\x1b\\xdek\\x02|\\xeete\\x0c\\xff\\x17\\xe8\\x07E\\x93b\\xf5\\x1fwt\\xa6p8[\\xac\\xe8\\x85(EY,\\xfd\\xa9\\xcfE\\xf9\\xc8\\xac\\xcd\\xc9\\xdc8V\\x95\\xe3T>\\xdc\\x14\\xbf\\xfa\\xb6\\xde\\xe6\\x92\\x05\\x1b\\xdek\\x02|\\xeete\\x0c\\xff\\x17\\xe8\\x07E\\x93b\\xf5\\x1fwt\\xa6p8[\\xac\\xe8\\x85(EY,\\xfd\\xa9\\xcfE\\xf9\\xc8\\xac\\xcd\\xc9\\xdc8V\\x95\\xe3T>\\xdc\\x14\\xbf\\xfa\\xb6\\xde\\xe6\\x92\\x05\\x1b\\xdek\\x02|\\xeete\\x0c\\xff\\x17\\xe8\\x07E\\x93b\\xf5\\x1fwt\\xa6p8[\\xac\\xe8\\x85(EY,\\xfd\\xa9\\xcfE\\xf9\\xc8\\xac\\xcd\\xc9\\xdc8V\\x95\\xe3T>\\xdc\\x14\\xbf\\xfa\\xb6\\xde\\xe6\\x92\\x05\\x1b\\xdek\\x02|\\xeete\\x0c\\xff\\x17\\xe8\\x07E\\x93b\\xf5\\x1fwt\\xa6p8[\\xac\\xe8\\x85(EY,\\xfd\\xa9\\xcfE\\xf9\\xc8\\xac\\xcd\\xc9\\xdc8V\\x95\\xe3T>\\xdc\\x14\\xbf\\xfa\\xb6\\xde\\xe6\\x92\\x05\\x1b\\xdek\\x02|\\xeete\\x0c\\xff\\x17\\xe8\\x07E\\x93b\\xf5\\x1fwt\\xa6p8[\\xac\\xe8\\x85(EY,\\xfd\\xa9\\xcfE\\xf9\\xc8\\xac\\xcd\\xc9\\xdc8V\\x95\\xe3T>\\xdc\\x14\\xbf\\xfa\\xb6\\xde\\xe6\\x92\\x05\\x1b\\xdek\\x02|\\xeete\\x0c\\xff\\x17\\xe8\\x07E\\x93b\\xf5\\x1fwt\\xa6p8[\\xac\\xe8\\x85(EY,\\xfd\\xa9\\xcfE\\xf9\\xc8\\xac\\xcd\\xc9\\xdc8V\\x95\\xe3T>\\xdc\\x14\\xbf\\xfa\\xb6\\xde\\xe6\\x92\\x05\\x1b\\xdek\\x02|\\xeete\\x0c\\xff\\x17\\xe8\\x07E\\x93b\\xf5\\x1fwt\\xa6p8[\\xac\\xe8\\x85(EY,\\xfd\\xa9\\xcfE\\xf9\\xc8\\xac\\xcd\\xc9\\xdc8V\\x95\\xe3T>\\xdc\\x14\\xbf\\xfa\\xb6\\xde\\xe6\\x92\\x05\\x1b\\xdek\\x02|\\xeete\\x0c\\xff\\x17\\xe8\\x07E\\x93b\\xf5\\x1fwt\\xa6p8[\\xac\\xe8\\x85(EY,\\xfd\\xa9\\xcfE\\xf9\\xc8\\xac\\xcd\\xc9\\xdc8V\\x95\\xe3T>\\xdc\\x14\\xbf\\xfa\\xb6\\xde\\xe6\\x92\\x05\\x1b\\xdek\\x02|\\xeete\\x0c\\xff\\x17\\xe8\\x07E\\x93b\\xf5\\x1fwt\\xa6p8[\\xac\\xe8\\x85(EY,\\xfd\\xa9\\xcfE\\xf9\\xc8\\xac\\xcd\\xc9\\xdc8V\\x95\\xe3T>\\xdc\\x14\\xbf\\xfa\\xb6\\xde\\xe6\\x92\\x05\\x1b\\xdek\\x02|\\xeete\\x0c\\xff\\x17\\xe8\\x07E\\x93b\\xf5\\x1fwt\\xa6p8[\\xac\\xe8\\x85(EY,\\xfd\\xa9\\xcfE\\xf9\\xc8\\xac\\xcd\\xc9\\xdc8V\\x95\\xe3T>\\xdc\\x14\\xbf\\xfa\\xb6\\xde\\xe6\\x92\\x05\\x1b\\xdek\\x02|\\xeete\\x0c\\xff\\x17\\xe8\\x07E\\x93b\\xf5\\x1fwt\\xa6p8[\\xac\\xe8\\x85(EY,\\xfd\\xa9\\xcfE\\xf9\\xc8\\xac\\xcd\\xc9\\xdc8V\\x95\\xe3T>\\xdc\\x14\\xbf\\xfa\\xb6\\xde\\xe6\\x92\\x05\\x1b\\xdek\\x02|\\xeete\\x0c\\xff\\x17\\xe8\\x07E\\x93b\\xf5\\x1fwt\\xa6p8[\\xac\\xe8\\x85(EY,\\xfd\\xa9\\xcfE\\xf9\\xc8\\xac\\xcd\\xc9\\xdc8V\\x95\\xe3T>\\xdc\\x14\\xbf\\xfa\\xb6\\xde\\xe6\\x92\\x05\\x1b\\xdek\\x02|\\xeete\\x0c\\xff\\x17\\xe8\\x07E\\x93b\\xf5\\x1fwt\\xa6p8[\\xac\\xe8\\x85(EY,\\xfd\\xa9\\xcfE\\xf9\\xc8\\xac\\xcd\\xc9\\xdc8V\\x95\\xe3T>\\xdc\\x14\\xbf\\xfa\\xb6\\xde\\xe6\\x92\\x05\\x1b\\xdek\\x02|\\xeete\\x0c\\xff\\x17\\xe8\\x07E\\x93b\\xf5\\x1fwt\\xa6p8[\\xac\\xe8\\x85(EY,\\xfd\\xa9\\xcfE\\xf9\\xc8\\xac\\xcd\\xc9\\xdc8V\\x95\\xe3T>\\xdc\\x14\\xbf\\xfa\\xb6\\xde\\xe6\\x92\\x05\\x1b\\xdek\\x02|\\xeete\\x0c\\xff\\x17\\xe8\\x07E\\x93b\\xf5\\x1fwt\\xa6p8[\\xac\\xe8\\x85(EY,\\xfd\\xa9\\xcfE\\xf9\\xc8\\xac\\xcd\\xc9\\xdc8V\\x95\\xe3T>\\xdc\\x14\\xbf\\xfa\\xb6\\xde\\xe6\\x92\\x05\\x1b\\xdek\\x02|\\xeete\\x0c\\xff\\x17\\xe8\\x07E\\x93b\\xf5\\x1fwt\\xa6p8[\\xac\\xe8\\x85(EY,\\xfd\\xa9\\xcfE\\xf9\\xc8\\xac\\xcd\\xc9\\xdc8V\\x95\\xe3T>\\xdc\\x14\\xbf\\xfa\\xb6\\xde\\xe6\\x92\\x05\\x1b\\xdek\\x02|\\xeete\\x0c\\xff\\x17\\xe8\\x07E\\x93b\\xf5\\x1fwt\\xa6p8[\\xac\\xe8\\x85(EY,\\xfd\\xa9\\xcfE\\xf9\\xc8\\xac\\xcd\\xc9\\xdc8V\\x95\\xe3T>\\xdc\\x14\\xbf\\xfa\\xb6\\xde\\xe6\\x92\\x05\\x1b\\xdek\\x02|\\xeete\\x0c\\xff\\x17\\xe8\\x07E\\x93b\\xf5\\x1fwt\\xa6p8[\\xac\\xe8\\x85(EY,\\xfd\\xa9\\xcfE\\xf9\\xc8\\xac\\xcd\\xc9\\xdc8V\\x95\\xe3T>\\xdc\\x14\\xbf\\xfa\\xb6\\xde\\xe6\\x92\\x05\\x1b\\xdek\\x02|\\xeete\\x0c\\xff\\x17\\xe8\\x07E\\x93b\\xf5\\x1fwt\\xa6p8[\\xac\\xe8\\x85(EY,\\xfd\\xa9\\xcfE\\xf9\\xc8\\xac\\xcd\\xc9\\xdc8V\\x95\\xe3T>\\xdc\\x14\\xbf\\xfa\\xb6\\xde\\xe6\\x92\\x05\\x1b\\xdek\\x02|\\xeete\\x0c\\xff\\x17\\xe8\\x07E\\x93b\\xf5\\x1fwt\\xa6p8[\\xac\\xe8\\x85(EY,\\xfd\\xa9\\xcfE\\xf9\\xc8\\xac\\xcd\\xc9\\xdc8V\\x95\\xe3T>\\xdc\\x14\\xbf\\xfa\\xb6\\xde\\xe6\\x92\\x05\\x1b\\xdek\\x02|\\xeete\\x0c\\xff\\x17\\xe8\\x07E\\x93b\\xf5\\x1fwt\\xa6p8[\\xac\\xe8\\x85(EY,\\xfd\\xa9\\xcfE\\xf9\\xc8\\xac\\xcd\\xc9\\xdc8V\\x95\\xe3T>\\xdc\\x14\\xbf\\xfa\\xb6\\xde\\xe6\\x92\\x05\\x1b\\xdek\\x02|\\xeete\\x0c\\xff\\x17\\xe8\\x07E\\x93b\\xf5\\x1fwt\\xa6p8[\\xac\\xe8\\x85(EY,\\xfd\\xa9\\xcfE\\xf9\\xc8\\xac\\xcd\\xc9\\xdc8V\\x95\\xe3T>\\xdc\\x14\\xbf\\xfa\\xb6\\xde\\xe6\\x92\\x05\\x1b\\xdek\\x02|\\xeete\\x0c\\xff\\x17\\xe8\\x07E\\x93b\\xf5\\x1fwt\\xa6p8[\\xac\\xe8\\x85(EY,\\xfd\\xa9\\xcfE\\xf9\\xc8\\xac\\xcd\\xc9\\xdc8V\\x95\\xe3T>\\xdc\\x14\\xbf\\xfa\\xb6\\xde\\xe6\\x92\\x05\\x1b\\xdek\\x02|\\xeete\\x0c\\xff\\x17\\xe8\\x07E\\x93b\\xf5\\x1fwt\\xa6p8[\\xac\\xe8\\x85(EY,\\xfd\\xa9\\xcfE\\xf9\\xc8\\xac\\xcd\\xc9\\xdc8V\\x95\\xe3T>\\xdc\\x14\\xbf\\xfa\\xb6\\xde\\xe6\\x92\\x05\\x1b\\xdek\\x02|\\xeete\\x0c\\xff\\x17\\xe8\\x07E\\x93b\\xf5\\x1fwt\\xa6p8[\\xac\\xe8\\x85(EY,\\xfd\\xa9\\xcfE\\xf9\\xc8\\xac\\xcd\\xc9\\xdc8V\\x95\\xe3T>\\xdc\\x14\\xbf\\xfa\\xb6\\xde\\xe6\\x92\\x05\\x1b\\xdek\\x02|\\xeete\\x0c\\xff\\x17\\xe8\\x07E\\x93b\\xf5\\x1fwt\\xa6p8[\\xac\\xe8\\x85(EY,\\xfd\\xa9\\xcfE\\xf9\\xc8\\xac\\xcd\\xc9\\xdc8V\\x95\\xe3T>\\xdc\\x14\\xbf\\xfa\\xb6\\xde\\xe6\\x92\\x05\\x1b\\xdek\\x02|\\xeete\\x0c\\xff\\x17\\xe8\\x07E\\x93b\\xf5\\x1fwt\\xa6p8[\\xac\\xe8\\x85(EY,\\xfd\\xa9\\xcfE\\xf9\\xc8\\xac\\xcd\\xc9\\xdc8V\\x95\\xe3T>\\xdc\\x14\\xbf\\xfa\\xb6\\xde\\xe6\\x92\\x05\\x1b\\xdek\\x02|\\xeete\\x0c\\xff\\x17\\xe8\\x07E\\x93b\\xf5\\x1fwt\\xa6p8[\\xac\\xe8\\x85(EY,\\xfd\\xa9\\xcfE\\xf9\\xc8\\xac\\xcd\\xc9\\xdc8V\\x95\\xe3T>\\xdc\\x14\\xbf\\xfa\\xb6\\xde\\xe6\\x92\\x05\\x1b\\xdek\\x02|\\xeete\\x0c\\xff\\x17\\xe8\\x07E\\x93b\\xf5\\x1fwt\\xa6p8[\\xac\\xe8\\x85(EY,\\xfd\\xa9\\xcfE\\xf9\\xc8\\xac\\xcd\\xc9\\xdc8V\\x95\\xe3T>\\xdc\\x14\\xbf\\xfa\\xb6\\xde\\xe6\\x92\\x05\\x1b\\xdek\\x02|\\xeete\\x0c\\xff\\x17\\xe8\\x07E\\x93b\\xf5\\x1fwt\\xa6p8[\\xac\\xe8\\x85(EY,\\xfd\\xa9\\xcfE\\xf9\\xc8\\xac\\xcd\\xc9\\xdc8V\\x95\\xe3T>\\xdc\\x14\\xbf\\xfa\\xb6\\xde\\xe6\\x92\\x05\\x1b\\xdek\\x02|\\xeete\\x0c\\xff\\x17\\xe8\\x07E\\x93b\\xf5\\x1fwt\\xa6p8[\\xac\\xe8\\x85(EY,\\xfd\\xa9\\xcfE\\xf9\\xc8\\xac\\xcd\\xc9\\xdc8V\\x95\\xe3T>\\xdc\\x14\\xbf\\xfa\\xb6\\xde\\xe6\\x92\\x05\\x1b\\xdek\\x02|\\xeete\\x0c\\xff\\x17\\xe8\\x07E\\x93b\\xf5\\x1fwt\\xa6p8[\\xac\\xe8\\x85(EY,\\xfd\\xa9\\xcfE\\xf9\\xc8\\xac\\xcd\\xc9\\xdc8V\\x95\\xe3T>\\xdc\\x14\\xbf\\xfa\\xb6\\xde\\xe6\\x92\\x05\\x1b\\xdek\\x02|\\xeete\\x0c\\xff\\x17\\xe8\\x07E\\x93b\\xf5\\x1fwt\\xa6p8[\\xac\\xe8\\x85(EY,\\xfd\\xa9\\xcfE\\xf9\\xc8\\xac\\xcd\\xc9\\xdc8V\\x95\\xe3T>\\xdc\\x14\\xbf\\xfa\\xb6\\xde\\xe6\\x92\\x05\\x1b\\xdek\\x02|\\xeete\\x0c\\xff\\x17\\xe8\\x07E\\x93b\\xf5\\x1f'\n",
      "b'San Francisco State University Computer Science and EngiSan Francisco State University Computer Science and EngiSan Francisco State University Computer Science and EngiSan Francisco State University Computer Science and EngiSan Francisco State University Computer Science and EngiSan Francisco State University Computer Science and EngiSan Francisco State University Computer Science and EngiSan Francisco State University Computer Science and EngiSan Francisco State University Computer Science and EngiSan Francisco State University Computer Science and EngiSan Francisco State University Computer Science and EngiSan Francisco State University Computer Science and EngiSan Francisco State University Computer Science and EngiSan Francisco State University Computer Science and EngiSan Francisco State University Computer Science and EngiSan Francisco State University Computer Science and EngiSan Francisco State University Computer Science and EngiSan Francisco State University Computer Science and EngiSan Francisco State University Computer Science and EngiSan Francisco State University Computer Science and EngiSan Francisco State University Computer Science and EngiSan Francisco State University Computer Science and EngiSan Francisco State University Computer Science and EngiSan Francisco State University Computer Science and EngiSan Francisco State University Computer Science and EngiSan Francisco State University Computer Science and EngiSan Francisco State University Computer Science and EngiSan Francisco State University Computer Science and EngiSan Francisco State University Computer Science and EngiSan Francisco State University Computer Science and EngiSan Francisco State University Computer Science and EngiSan Francisco State University Computer Science and EngiSan Francisco State University Computer Science and EngiSan Francisco State University Computer Science and EngiSan Francisco State University Computer Science and EngiSan Francisco State University Computer Science and EngiSan Francisco State University Computer Science and EngiSan Francisco State University Computer Science and EngiSan Francisco State University Computer Science and EngiSan Francisco State University Computer Science and EngiSan Francisco State University Computer Science and EngiSan Francisco State University Computer Science and EngiSan Francisco State University Computer Science and EngiSan Francisco State University Computer Science and EngiSan Francisco State University Computer Science and EngiSan Francisco State University Computer Science and EngiSan Francisco State University Computer Science and EngiSan Francisco State University Computer Science and EngiSan Francisco State University Computer Science and EngiSan Francisco State University Computer Science and EngiSan Francisco State University Computer Science and EngiSan Francisco State University Computer Science and EngiSan Francisco State University Computer Science and EngiSan Francisco State University Computer Science and EngiSan Francisco State University Computer Science and EngiSan Francisco State University Computer Science and EngiSan Francisco State University Computer Science and EngiSan Francisco State University Computer Science and EngiSan Francisco State University Computer Science and EngiSan Francisco State University Computer Science and EngiSan Francisco State University Computer Science and EngiSan Francisco State University Computer Science and EngiSan Francisco State University Computer Science and EngiSan Francisco State University Computer Science and Engi'\n",
      "CPU times: user 464 µs, sys: 242 µs, total: 706 µs\n",
      "Wall time: 423 µs\n"
     ]
    }
   ],
   "source": [
    "%%time\n",
    "key = b'abcdefgh'\n",
    "cipher = DES.new(key,DES.MODE_ECB)\n",
    "plaintext = b'San Francisco State University Computer Science and EngiSan Francisco State University Computer Science and EngiSan Francisco State University Computer Science and EngiSan Francisco State University Computer Science and EngiSan Francisco State University Computer Science and EngiSan Francisco State University Computer Science and EngiSan Francisco State University Computer Science and EngiSan Francisco State University Computer Science and EngiSan Francisco State University Computer Science and EngiSan Francisco State University Computer Science and EngiSan Francisco State University Computer Science and EngiSan Francisco State University Computer Science and EngiSan Francisco State University Computer Science and EngiSan Francisco State University Computer Science and EngiSan Francisco State University Computer Science and EngiSan Francisco State University Computer Science and EngiSan Francisco State University Computer Science and EngiSan Francisco State University Computer Science and EngiSan Francisco State University Computer Science and EngiSan Francisco State University Computer Science and EngiSan Francisco State University Computer Science and EngiSan Francisco State University Computer Science and EngiSan Francisco State University Computer Science and EngiSan Francisco State University Computer Science and EngiSan Francisco State University Computer Science and EngiSan Francisco State University Computer Science and EngiSan Francisco State University Computer Science and EngiSan Francisco State University Computer Science and EngiSan Francisco State University Computer Science and EngiSan Francisco State University Computer Science and EngiSan Francisco State University Computer Science and EngiSan Francisco State University Computer Science and EngiSan Francisco State University Computer Science and EngiSan Francisco State University Computer Science and EngiSan Francisco State University Computer Science and EngiSan Francisco State University Computer Science and EngiSan Francisco State University Computer Science and EngiSan Francisco State University Computer Science and EngiSan Francisco State University Computer Science and EngiSan Francisco State University Computer Science and EngiSan Francisco State University Computer Science and EngiSan Francisco State University Computer Science and EngiSan Francisco State University Computer Science and EngiSan Francisco State University Computer Science and EngiSan Francisco State University Computer Science and EngiSan Francisco State University Computer Science and EngiSan Francisco State University Computer Science and EngiSan Francisco State University Computer Science and EngiSan Francisco State University Computer Science and EngiSan Francisco State University Computer Science and EngiSan Francisco State University Computer Science and EngiSan Francisco State University Computer Science and EngiSan Francisco State University Computer Science and EngiSan Francisco State University Computer Science and EngiSan Francisco State University Computer Science and EngiSan Francisco State University Computer Science and EngiSan Francisco State University Computer Science and EngiSan Francisco State University Computer Science and EngiSan Francisco State University Computer Science and EngiSan Francisco State University Computer Science and EngiSan Francisco State University Computer Science and EngiSan Francisco State University Computer Science and EngiSan Francisco State University Computer Science and EngiSan Francisco State University Computer Science and Engi'\n",
    "msg = cipher.encrypt(plaintext)\n",
    "print(msg)\n",
    "decipher = DES.new(key,DES.MODE_ECB)\n",
    "msg_dec = decipher.decrypt(msg)\n",
    "print(msg_dec)"
   ]
  },
  {
   "cell_type": "code",
   "execution_count": 19,
   "id": "5d9bece4",
   "metadata": {},
   "outputs": [],
   "source": [
    "#Encryption and Decryption using DES-CBC, Input = 16bits"
   ]
  },
  {
   "cell_type": "code",
   "execution_count": 20,
   "id": "5a256618",
   "metadata": {},
   "outputs": [
    {
     "name": "stdout",
     "output_type": "stream",
     "text": [
      "b'\\xf1TD\\xcc(\\x84\\xb3\"\\xe0~/\\x93\\x7f\\x1b\\xc2\\x1e'\n",
      "b'\\\\\\xd7\\xf1\\t5\\xea +cisco St'\n",
      "CPU times: user 463 µs, sys: 216 µs, total: 679 µs\n",
      "Wall time: 471 µs\n"
     ]
    }
   ],
   "source": [
    "%%time\n",
    "key = b'abcdefgh'\n",
    "cipher = DES.new(key,DES.MODE_CBC)\n",
    "plaintext = b'San Francisco St'\n",
    "msg = cipher.encrypt(plaintext)\n",
    "print(msg)\n",
    "decipher = DES.new(key,DES.MODE_CBC)\n",
    "msg_dec = decipher.decrypt(msg)\n",
    "print(msg_dec)"
   ]
  },
  {
   "cell_type": "code",
   "execution_count": 21,
   "id": "da91cdf6",
   "metadata": {},
   "outputs": [],
   "source": [
    "#Encryption and Decryption using DES-CBC, Input = 32bits"
   ]
  },
  {
   "cell_type": "code",
   "execution_count": 22,
   "id": "82e24033",
   "metadata": {},
   "outputs": [
    {
     "name": "stdout",
     "output_type": "stream",
     "text": [
      "b'\\xe9\\xad\\xcd[\\x144Q\\xd7-\\x12\\xa7\\x0b\\xf3\\xc9s.Q\\x9d\\x9f\\x985m\\xd4\\x8cvmO\\xef\\xc1\\xbb\\x02\\x93_\\xb3\\xef\\x0e\\x16S\\x04\\xad\\xb1\\x980.\\xee\\xc8\\xaa\\xf4\\xf4q\\x96\\x91\\xbb\\xcd\\xfa\\x18'\n",
      "b'\\x1c?\\x83\\x13\\x05\\x8e\\xcf\\xd1cisco State University Computer Science and Engi'\n",
      "CPU times: user 782 µs, sys: 750 µs, total: 1.53 ms\n",
      "Wall time: 1.01 ms\n"
     ]
    }
   ],
   "source": [
    "%%time\n",
    "key = b'abcdefgh'\n",
    "cipher = DES.new(key,DES.MODE_CBC)\n",
    "plaintext = b'San Francisco State University Computer Science and Engi'\n",
    "msg = cipher.encrypt(plaintext)\n",
    "print(msg)\n",
    "decipher = DES.new(key,DES.MODE_CBC)\n",
    "msg_dec = decipher.decrypt(msg)\n",
    "print(msg_dec)"
   ]
  },
  {
   "cell_type": "code",
   "execution_count": 23,
   "id": "08b4664c",
   "metadata": {},
   "outputs": [],
   "source": [
    "#Encryption and Decryption using DES-CBC, Input = 64bits"
   ]
  },
  {
   "cell_type": "code",
   "execution_count": 24,
   "id": "42c57266",
   "metadata": {},
   "outputs": [
    {
     "name": "stdout",
     "output_type": "stream",
     "text": [
      "b'\\x9d\\xdb\\xe0\\x8d\\xc8>G\\x1b^\\xd6\\xe9}\\x97\\x1ez\\x10\\xe4\\x9d\\x9b\\xfe\\xe3\\xc85s\\nK\\xf2a\\x86=:\\x81\\x9f\\x0f\\x0f\\xf4\\\\\\xe3\\xb3\\xd4p\\xcb\\xc2\\x1f\\xb2\\x8c\\\\\\xe4w\\xb7\\x8f@,\\x93\\xc0ZN\\xecZNJo\\xf6\\xf4?\\x8b\\xae\\x18\\x98\\x94P.1\\x9dBj\\xcc\\x96\\xb9\\xb9-\\xd5\\xd1\\x9d.y\\x87\\x81\\x89\\x86v\\x04\\xd3\\x7fP\\xa6\\xfcG^*>\\xca\\x0f\\xfd/\\xd0\\x0e\\x14\\xd4W1\\x91'\n",
      "b'\\x18(\\x8fBq\\xb1\\n\\xfacisco State University Computer Science and EngiSan Francisco State University Computer Science and Engi'\n",
      "CPU times: user 366 µs, sys: 274 µs, total: 640 µs\n",
      "Wall time: 446 µs\n"
     ]
    }
   ],
   "source": [
    "%%time\n",
    "key = b'abcdefgh'\n",
    "cipher = DES.new(key,DES.MODE_CBC)\n",
    "plaintext = b'San Francisco State University Computer Science and EngiSan Francisco State University Computer Science and Engi'\n",
    "msg = cipher.encrypt(plaintext)\n",
    "print(msg)\n",
    "decipher = DES.new(key,DES.MODE_CBC)\n",
    "msg_dec = decipher.decrypt(msg)\n",
    "print(msg_dec)"
   ]
  },
  {
   "cell_type": "code",
   "execution_count": 25,
   "id": "d452bf4d",
   "metadata": {},
   "outputs": [],
   "source": [
    "#Encryption and Decryption using DES-CBC, Input = 128bits"
   ]
  },
  {
   "cell_type": "code",
   "execution_count": 26,
   "id": "ea89782e",
   "metadata": {},
   "outputs": [
    {
     "name": "stdout",
     "output_type": "stream",
     "text": [
      "b'm;\\xe8\\x1b,\\xa6B\"\\x0e\\x92\\xd8\\xa6\\xaax+\\xbb\\xa4\\x95\\xc7\\xfc\\xf1\\x0c\\x9f\\xe2\\xaf\\xad\\xea<\\xd9\\xe8\\xe9\\x03\\xa3^\\x06K\\x1b\\xa1d\\x94\\xd19\\x1c~\\x1c\\xdc\\xd3-\\x18\\xf31\\xd4\\x91r\\x12\\x05]\\x04L\\xb2\\xe5\\x07iO\\x9d\\x9d\\xc8\\'\\xe4\\xee\\xd7\"\\xb4\\x9f\\xe5\\xaa\\x91j\\x02k\\xac\\x08\\x9e\\xb6&\\x88\\xbb\\xe0\\xf3n\\xc7\\xfa|R/\\xea\\xa4=\\xc2\\x11\\x99\\xa6*\\'\\x1d\\xa0\\x86\\x8f$\\xe9V\\xb7\\xd1\\xb3v%e_\\x11\\r\\x9f\\xb1Cxf.\\xc4\\xaez\\xe1!\\xa1\\xa0+\\xf8\\x9b\\xef\\xec6P\\x98\\x9cm\\x16\\x1d\\xcaIQ\\xca\\xec\\xca2\\xcb\\xfdcx9C\\xb7\\xca\\x88\\x83y|\\x15\\xe1$R*\\xcasD\\xb8|\\xaf\\xe9\\xe0\\xdc\\xfc\\x15\\xa3S\\x96 ,\\xb3\\xe2\\xa5\\xc3\\xa0E\\r\\xb2x)K\\xec\\xe0Q\\xd4\\xc0yDwQ\\xe1\\xff\\xb7\\xb8\\x01\\xca\\xce\\xc8^\\xa9D\\xd0\\xf1F\\x1d\\xb9\\xd6\\x87#'\n",
      "b'\\x1d\\xf4:\\xb0\\xb2\\x8d\\x1e\\xb5cisco State University Computer Science and EngiSan Francisco State University Computer Science and EngiSan Francisco State University Computer Science and EngiSan Francisco State University Computer Science and Engi'\n",
      "CPU times: user 444 µs, sys: 441 µs, total: 885 µs\n",
      "Wall time: 483 µs\n"
     ]
    }
   ],
   "source": [
    "%%time\n",
    "key = b'abcdefgh'\n",
    "cipher = DES.new(key,DES.MODE_CBC)\n",
    "plaintext = b'San Francisco State University Computer Science and EngiSan Francisco State University Computer Science and EngiSan Francisco State University Computer Science and EngiSan Francisco State University Computer Science and Engi'\n",
    "msg = cipher.encrypt(plaintext)\n",
    "print(msg)\n",
    "decipher = DES.new(key,DES.MODE_CBC)\n",
    "msg_dec = decipher.decrypt(msg)\n",
    "print(msg_dec)"
   ]
  },
  {
   "cell_type": "code",
   "execution_count": 27,
   "id": "92f09db0",
   "metadata": {},
   "outputs": [],
   "source": [
    "#Encryption and Decryption using DES-CBC, Input = 256bits"
   ]
  },
  {
   "cell_type": "code",
   "execution_count": 28,
   "id": "5c283885",
   "metadata": {},
   "outputs": [
    {
     "name": "stdout",
     "output_type": "stream",
     "text": [
      "b'\\x8b8r\\xb9\\x12\\xcc\\xf7\\x88\\xcd\\xf0\\xe0\\x0b2\\xa6v\\x8f\\x89\\x16\\x15#%\\x8d\\x81#\\xb9\\xc1\\xba\\x02\\xa9y\\x9b\\xba\\x91\\x1b\\xdd\\xa5\\x10f\\xe0\\xaaz\\xcazl\\x9aoCn\\xc4\\x05\\xe3\\xc5\\xbd\\x9f@\\x93>l\\xd3\\x8e[\\xe7\\x08\\x12s\\xc2\\xe3\\xd4,{9/\\x99s\\xe2\\x8f\\xa1ZH6&\\xd8\\x8c\\xeeO\\x16\\xdd\"\\xca\\xdcT\\xf0\\xa3W\\xa8\\xd7\\xbcWs\\xafJvW\\x0c\\x9b\\x05\\xf2\\x98\\xd4\\x9a\\x1a\\xff\\x1d\\xab\\x0f&\\x8a\\xa0\\x0f\\x98\\xda\\xf7\\xa4[\\x81>s\\xaa\\xab\\xf4\\xd8R\\xcb\\xe6\\x9fX\\x9d\\xee\\xd3d\\xa6\\x8d\\xc8\\xfa\\xaa\\x05\\xcfo&Z>)\\x02\\x04\\x82\\x01)t\\x9c\\xacy!\\x1a\\x1df\\xfct\\xb9\\x1e\\x8b\\x86\\xa4\\xaa\\xd1\\xc1[\\x8a\\xdc4\\xfd\\xfc\\x0b\\xee\\xd4\\xfd\\xa8\\xcb\\xf1\\x90\\xe8\\x83\\x9cr\\xf1\\xf3\\xf6]\\xb7\\x04q\\xdeB\\xaf\\x8f=\\xa3\\xb62\\xc8\\x01\\xb0\\x9cf$\\xdc3\\x9d\\x85\\xaa\\xbb\\xeen\\xca\\xca\\x887\\xb9\\xc9\\x01j\\x06\\xca\\xe2;!\\x9ei\\xb6\\xbc\\xfe\\x87w\\x8b\\x87\\xe8|i\\xc76\\x97~\\xcd\\xab[\\xc7 \\xf1\\x9f\\xfb\\xe3\\xb0\\xb2\\xc0\\xe9\\xfd\":\\xe1u\\x83\\xd1\\x86\\xe3f#\\xdd\\xa62\\x9as\\xa4\\xe6\\x8b\\xa1\\xbf\\xc4\\xa4=g\\xd2\\x08\\xc0l\\x1cv:%\\xe3\\xfb8(\\x13\\x1a\\xd7\\x08\\xa5\\xb4\\xe2\\xa9\\x1a\\xaa-XK\\xef\\xec\"\\x83\\xa3\\'\\x97~|;\\xac_\\xeb\\x02\\x85\\x00\\x11\\x16\\xf5\\t\\x1a\\xc7s*\\xdf\\x8eD\\xb6\\xe3\\xb6R\\xea\\xb6\\xdf+=\\xf4\\xfb\\xe2\\xb6{\\xb37\\x9f\\xd4\\x16\\xdd\\xc4\\xd3\\xb7\\x8e\\x99<\\xaeggf\\nc\\xeboz>\\x03d\\xf1w\\x80:\\x01\\xd9$\\xccFK\\xce\\x7fZ\\xb0\\x88\\xd7_\\xd0\\xe4P<|M\\xb4}?\\xdb7\\xb1\\xdf\\xa0d\\xecf1\\x84\\xde-x\\xe7\\x07~,\\xbe\\xd4\\x9b\\xfdz~\\xc2\\x9a\\xd4\\xd8;\\xce\\x81(\\x1e\\x1du\\xfb8\\xd3Et:\\xfa\\x93\\x9b'\n",
      "b'+t\\xa6~\\x13\\xfa\\x07@cisco State University Computer Science and EngiSan Francisco State University Computer Science and EngiSan Francisco State University Computer Science and EngiSan Francisco State University Computer Science and EngiSan Francisco State University Computer Science and EngiSan Francisco State University Computer Science and EngiSan Francisco State University Computer Science and EngiSan Francisco State University Computer Science and Engi'\n",
      "CPU times: user 424 µs, sys: 400 µs, total: 824 µs\n",
      "Wall time: 449 µs\n"
     ]
    }
   ],
   "source": [
    "%%time\n",
    "key = b'abcdefgh'\n",
    "cipher = DES.new(key,DES.MODE_CBC)\n",
    "plaintext = b'San Francisco State University Computer Science and EngiSan Francisco State University Computer Science and EngiSan Francisco State University Computer Science and EngiSan Francisco State University Computer Science and EngiSan Francisco State University Computer Science and EngiSan Francisco State University Computer Science and EngiSan Francisco State University Computer Science and EngiSan Francisco State University Computer Science and Engi'\n",
    "msg = cipher.encrypt(plaintext)\n",
    "print(msg)\n",
    "decipher = DES.new(key,DES.MODE_CBC)\n",
    "msg_dec = decipher.decrypt(msg)\n",
    "print(msg_dec)"
   ]
  },
  {
   "cell_type": "code",
   "execution_count": 29,
   "id": "cd39271f",
   "metadata": {},
   "outputs": [],
   "source": [
    "#Encryption and Decryption using DES-CBC, Input = 512bits"
   ]
  },
  {
   "cell_type": "code",
   "execution_count": 30,
   "id": "a6ce935b",
   "metadata": {},
   "outputs": [
    {
     "name": "stdout",
     "output_type": "stream",
     "text": [
      "b'/{\\x9b\\x08x`#\\xac\\xc3\\x1bG\\x7fq\\x19\\x1a?.\\x828At\\xc7\\xef\\xd6\\x8ee\\xb4\\xb1^\\xcd\\x88\\xbb\\xe1/\\x96\\x93\\x98\\x7fNE\\x15\\x92\\x86\\x13\\x02`]{\\xe3N\\xce\\xcb\\x1d\\x0c=xt\\x1e\\x85hx\\xf8\\xec\\xfeyw\\xfbd\\xd1\\t\\xb2\\xe0\\x0b\\x02\\xa1\\xd1\\xed\\xd5f\\xa0:\\x05\\n\\xf5t\\xb4[\\xa1\\x04f\\'\\xc4.o\\x8c\\xbc\\xa0;\\xc3F-V\\xf4\\x0b\\x04*\\xd7\\xd1\\x9e\\x1a?\\x98/\\x80\\x05\\xadV\\x88\\xe9:w\\x06\\xed\\xb5\\xef\\xa4\\xf7J\\x93\\xb0\\xfejw6ow\\x01A}z\\xa7f#&j\\xd6\\x8ejB\\xe1\\x92\\x10\\xd4\\x8d\\xae\\xa8\\xd6\\xaf\\x94\\xe4\\x84\\'\\xa3\\xa1\\xfcx\\xf7\\x99]]\\xf2\\xac\\x1d\\xdb\\x03\\x82\\x94}\\xa1z\\xdd\\xd8-+\\xac\\x1e\"\\x10B\\x1f\\xdeu\\x1e\\xfe#\\x87U\\x0f{\\x83\\xe7\\xf98[[\\xef\\xb4iu\\x01\\x87\\xac)\\t~#\\xdd^\\'\\xc9\\xa3\\x1f\\xd9\\x80\\xfb\\xeaN\\x7f|\\xde\\xbeb\\xadF\\xb1\"\\x13g\\xcc\\xdfBO\\xd2\\xe9\\xdc\\xb9=\\xd9\\xa8\\x85O\\x8ac\\xb5\\x95\\x1f\\x95U\\x86Y\\xc2\\xbe\\x9b\\x8e[^\\x86\\xe0\\xfa%\\xb0\\xee>\\x0eCK\\xa6oX;6&`\\xaa\\x8e\\x02\\xd31\\x16\\xe2\\xa0\\xc8G\\xd4\\xe6\\xbe\\xa0O\\x02(\\xc7\\xab\\x9e\\xb5\\x9e`\\xb6\\xbd\\xbc\\n\\t\\xd6\\xab\\xab\\xc1\\xd2r\\x06\\xfbM\\r\\x006\\x1f\\xa4\\x92%\\xd0\\xe9l[\\xe8\\xb2&e\\xb58\\xe1=\\xdd\\xb4\\xc0%3\\x1b\\xda\\xdanZR\\xcc<\\xa0\\x91[\\x90?w\\x1c\\xe3\\xc5=c(\\x0e~\\x02\\xaeI\\x07\\x8eG\\xc9\\x0fx\\xf3@\\x8ax\\xc8\\xb6\\xd6\\xad\\x99\\xb5e\\xc2\\x07\\x96\\x815C\\x1b\\xcc\\xbe\\x15\\xe5K&\\xc8\\xe1\\xe50Nr\\'\\xa6\\x8eSN\\xe8%\\xac\\xc1\\xdb\\x0b\\xb0c\"\\xc9\\x89*\\xd5D\\xa3\\xf4fYz\\xc5z6\\xb0\\xdfs\\xfd\\x06\\xa9\\x8e\\xd3\\x86\\x89\\xe0k-3p\\xbc59y\\xb0\\x08E8\\xd4U\\xffM\\x07\\x84\\xa0KG\\xd9\\xfe\\xe0\\xc9\\r\\xee\\x19\\xaa\\x10`^\\x95:\\xb3\\xe3)_\\xe8\\xf4)d#\\xccKu)~\\x0e\\xc7\\xef\\xc95+\\x0f\\xc3k\\xfda\\xef\\xde\\x0f\\xe3\\xf0\\xf1\\xdd\\x17H\\x88\\xfcK\\x94\\x07\\xbd\\xbaY\\x7f\\xb3\\xe48\\xf5!\\xe4\\xf1n\\x0c\\x95\\x19R q\\xa9*aG\\xa0B\\x00\\xeb\\xbf\\xb5\\x02\\xec)\\xa8\\xafeXc\\x8eY\\xd7]7]\\x948\\xd7\\tCP\\x1f\\xbf\\x9c\\xcfh\\x98`\\xe4\\x8cZ\\x981\\xc4O\\xae\\xc0~\\xb4\\x9a\\x94.\\x11&\\x95z\\xaa9\\xa6\\xdeq\\xbc\\xe4\\x87I\\xa0\\x1f\\xe8C5uNJ\\xdf\\x141\\x1fG%\\xa1\\x87\\xe1\\x03M\\xbf\\xaeO\\x1bQ\\xcb\\xef\\x0e9\\xffz\\xc5\"\\x1c~N\\xf4Y^\\x91>Zx\\xdd\\xafB\\xdcdx\\xb5\\x0c\\xc8d\\xfe\\xbfS$\\xdf:\\x92\\xae\\xbdX-O\\x04C\\x94$ewT\\xf2\\xb7\\xa0+\\xf3\\x06N\\xdc\\x93\\xc4\\xe1\\x15y\\xc0\\r\\x86\\x99\\t\\xc5\\x8d2\\x91\\xd64\\xe5\\xf1n\\xdf\\xee.V\\x19@w:\\x14o\\xff\\xad\\xad\\xb5u\\xeeyh\\x06\\xe7\\xfa\\x18\\xe8\\x81\\x16@h\\x89c\\xa9nAy\\xfc\\xce|\\x1d5S\\x02\\n\\x95\\x91\\xa4O4g\\x83\\x07\\x17\\x88\\x82^\\xc7GJ\\xf2Ky6\\x8f\\xdf\\xab\\xf6<f\\xac\\xc7\\x07X\\xcd\\xdc\\r\\x9fS\\xb2\\xf2\\xe3\\x1cY\\x11\\xd6\\xb0\\xa4\\xba\\xf7\\xe8\\xba\\xbc\\xb7*\\x08\\xc71\\x08(T\\x18\\x10SE\\xcd@\\xb9\\xfaX\\x98GUs?i\\xe0\"\\xfd\\x11\\x96\\xe6\\xc8G\\xd0\\xd1\\xc6g\\x82\\x02o\\xf0\\xaf\\xa6t\\n|\\x85s:\\xbbp\\x95\\xb8\\xcd\\x8f4\\x9c)\\x93\\x8c\\x0c3\\x83\\x14\\xe0\\x11\\xcd\\xff\\xb0Y\\xd3)n$\\xe4+\\x836L\\xd3\\xb1\\xf8\\xe6y\\xc6\\xacP\\xc8\\xbe\\xa3_\\n\\xf310\\x15\\xb4\\x1cN\\xe5\\x01\\xc5\\xfe(\\xd3\\xa5\\x8f\\xc4\\x1a\\x13\\xbc|\\xd1'\n",
      "b'\\x93\\xdd+:\\x99\\x0e{\\xeacisco State University Computer Science and EngiSan Francisco State University Computer Science and EngiSan Francisco State University Computer Science and EngiSan Francisco State University Computer Science and EngiSan Francisco State University Computer Science and EngiSan Francisco State University Computer Science and EngiSan Francisco State University Computer Science and EngiSan Francisco State University Computer Science and EngiSan Francisco State University Computer Science and EngiSan Francisco State University Computer Science and EngiSan Francisco State University Computer Science and EngiSan Francisco State University Computer Science and EngiSan Francisco State University Computer Science and EngiSan Francisco State University Computer Science and EngiSan Francisco State University Computer Science and EngiSan Francisco State University Computer Science and Engi'\n",
      "CPU times: user 448 µs, sys: 357 µs, total: 805 µs\n",
      "Wall time: 439 µs\n"
     ]
    }
   ],
   "source": [
    "%%time\n",
    "key = b'abcdefgh'\n",
    "cipher = DES.new(key,DES.MODE_CBC)\n",
    "plaintext = b'San Francisco State University Computer Science and EngiSan Francisco State University Computer Science and EngiSan Francisco State University Computer Science and EngiSan Francisco State University Computer Science and EngiSan Francisco State University Computer Science and EngiSan Francisco State University Computer Science and EngiSan Francisco State University Computer Science and EngiSan Francisco State University Computer Science and EngiSan Francisco State University Computer Science and EngiSan Francisco State University Computer Science and EngiSan Francisco State University Computer Science and EngiSan Francisco State University Computer Science and EngiSan Francisco State University Computer Science and EngiSan Francisco State University Computer Science and EngiSan Francisco State University Computer Science and EngiSan Francisco State University Computer Science and Engi'\n",
    "msg = cipher.encrypt(plaintext)\n",
    "print(msg)\n",
    "decipher = DES.new(key,DES.MODE_CBC)\n",
    "msg_dec = decipher.decrypt(msg)\n",
    "print(msg_dec)"
   ]
  },
  {
   "cell_type": "code",
   "execution_count": 31,
   "id": "236e7b13",
   "metadata": {},
   "outputs": [],
   "source": [
    "#Encryption and Decryption using DES-CBC, Input = 1024bits"
   ]
  },
  {
   "cell_type": "code",
   "execution_count": 32,
   "id": "990b5728",
   "metadata": {},
   "outputs": [
    {
     "name": "stdout",
     "output_type": "stream",
     "text": [
      "b'\\x92j\\xffub\\xfd\\x14\\x04\\x87\\xc6\\xf1\\xd0\\x7fm\\xd3kC_&\\x01,x~\\xab\\xb7\\x9b\\x12\\xf8~\\x11\\x85\\xd2\\xdfQb?\\xf0+g\\xb3\\xcdX\\xfc\\xe8\\x83\\xc0\\x11\\xc8\\xfe<N\\'!\\xf1\\x84\\x03\\rZ\\x81nh.aKmo\\x11V\\x08-\\n|\\xb8M\\xf8_\\xff(/\\x04R1\\xd12\\xe1\\xf4@2mv\\x066r\\xb3\\xf8\\x86\\xb2\\xae\\xd3L4=\\xa8N;\\xe2\\'\\x12\\x12\\x9f|&\\xe2\\x13\\xa4qP+\\xae\\xfer\\xb0\\'!hM\\xc70k\\xa6b\\xe4s\\x87\\x1b0I\\x8e\\xca\\xc1*\\xd7\\x04\\xb8\\xdfzCF\\xa05\\xc2`\\x1e\\x13\\xef\\xf8\\xb5m\\xa1\\x9d>\\x04\\x94\\x17O\\xe4Q\\x1f\\x90{\\x00B\\x8bR{,{\\\\i\\x9b\\x8a}\\xba\\xccb\\xeaV\"\\x8b+X\\x01\\x14\\xcff\\xfb\\xdd\\xd6\\xe2\\xb7\\x8061?\\xdf\\xe9\\xe8 \\x11M\\xa6\\xca}4\\xacD\\xad\\x15\\xe6@_\\x97\"\\x9cj\\x8d\\x8f\\x01\\x00{\\x8c)#>G\\x8a\\xc5\\x08R\\xd0\\xc7\\x8f\\x92\\xd2\\x04\\xb2I\\xe4\\x1cjXu\\x0e\\xec\\x82\\x17\\xe6\\x96\\x1ft1vI\\xbe\\x02\\xc1/X\\xf9I\\xc0c\\x84\\xd3\\xd5hJ\\xa3\\x92H\\x8cQd\\xe8(\\x8c\\xb3j:\\x90A\\xf9\\xff\\xb1]\\xf3\\xe7\\xeaU06u\\x9eF\\xc3\\xce\\xfcE\\\\\\xe6b\\x81d\\xd8c\\xb6\\xbcPC\\x00\\x87\\x84\\x12\\xe6&Sp\\x80\\x96\\xf2%\\xe0`\\xc76\\x8d,\\x8bq\\x8b\\x14\\xe5p{\\xc2RO\\x97]$\\xa3o\\x8d\\x1e\\x19\\xb9\\xea\\x86w\\x86\\xb2$_-S\\xe3\\xd1\\xd3:\\xa37\\'I\\xc6\\x05)r<\\x97\\xb0\\xb2W\\x1b\\xe4\\xb4u{bL/\\xf1e\\xc0\\xf5\\xa9%3\\xbaz\\x99\\xf9f4-E\\xa1q6\\xaf\\x1b,\\xe0s\\xc3\\x82iT\\xb3@=\\x8a\\x1e\\x93\\x87\\xac\\xe4C\\xd9\\x8f\\x07Zo!s\\xaa\\x0e\\xfbv\\x97\\xba\\xcd\\x13hY\\xae\\xbe\\x0fQ\\xccr\\xf0S\\xcc48\\x11;\\x85\\xe8\\x1d\\xd1\\xbd\\xb8m\\x1djT\\xd3YH\\xbb\\xf5\\xe2=\\x07\\xb2r\\x89]T\\xea}J\\x94f\\x08\\x83E\\x932m\\x97(\\xa9U\\x94\\x02\\x94l_\\xdf\\xf1\\xb5v\\x8b#\\x10\\x05Ae\\x91\\x11[\\xee\\x0f\\xd4\\xfb\\xf2\\xc0\\xcc\\x06B\\xff\\xf2\\x0f\\xa8\\xfd*\\xcf\\x0e}\\xdf~s\\xaa-\\xe7\\x89\\x84ENa\\xa8j\\x8b\\x17\\xbe,\\x00\\xccb\\xf05\\x9br\\x91\\x11\\x00\\xc0\\xd0\\xb0z\\xa9\\x1b\\x97&\\xbdB\\xfbP\\xec-\\x0b+\\xfa\\x1c\\xb5\\xb9\\x907\\xa7\\xad\\x82\\xfd*\\xf6/6M<\\xb8\\xe4\\x84N\\xd7\\x07\\xc5!\\x03\\x08\\xb1\\'\\x8e\\xad\\xda\\xceR\\xf3\\xe9\\xa9OR\\x0bq\\x11\\x98K]\\x05gb\\xf7!i\\x81T\\xf9b\\x1e\\xed^o\\xe9H\\xb5g\\x97\\xb3s\\x89*<\\xe7@\\xf9\\x04n\\xca\\xbc\\xaa&?\\xce\\xf0\\xe7\\x84\\xb1p\\xedv\\xe8sz\\xb7\\xdf\\xa0\\x88\\xce\\'\\xe9\\x05T\\xa56\\xc2n*\\xccK\\xc9\\xfa\\xd7*\\x0fjQ&G\\x92\\xa1\\x0b\\xe2v\\x80\\x97\\xa5.\\x91\\x0ey\\x1e\\xd9\\x16r\\xf6\\x13e\\xd6\\x98\\x1c\\x86\\xd4\\xed\\xae\\r\\xc5K\\x0e\\xae\\xa4a;/QH\\xf2\\x0e\\x970\\x80*3\\xfcH\\xe0&\\x86\\xe7\\xe9\\xbc\\xce\\x05\\x87N\\xa3\\xa7H\\x9a\\xda\\xa8d\\xf1\\xbeor\\xb63\\xd2U\\x8fu\\x1a\\xb6yT\\x19\\xdb\\x9d\\x15\\xf9\\n\\xf7\\x14\\xabZ\\xf3[\\x86\\xe7F\\xa2#\\xe1*\\xa5\\xf8P\\xb9!\\xfb\\xc5\\xde\\xc4\\xc8=\\xc4j\\xbcP\\x11\\x85[}6\\x8b\\xe0^#-\\xc5\\x11\\xd8F)\\x10\\xc3mz\\x84\\x85\\x00\\xe7\\x9c\\xcb\\xa2{}\\x9a7! \\xe8\\xf1qs\\xf20\\xc7\\xc1\\x0cA\\x12c6\\x9eA\\xf9\\x96.\\xdf\\x9f\\x87$L\\xd7\\r\\xd0\\\\\\x90\\xd2X\\xba\\xe5x\\x18Ir\\xc4\\xf4\\xd6\\xbc\\xbd\\x1b\\xa8t\\xf3\\x1f;\\x16\\x05\\xces\\t\\'\\xcaW\\xee@1\\x19u\\xc2\\xc7+\\xac^\\xa4\\xbfZm\\x88n\\xaf\\x06\\xe2\\xc2>\\xc8\\xc6\\xc7\\xd1\\x03bV\\x9a\\xebE\\xa8\\xbf$\\xa6\\x08\\xbfw\\xed#m\\x94l\\x05\\x1d\\xc3\\xf69\\xd0\\xce\\xa6\\x8d\\xc6:\\xdb\\xc1\\xa9C&\\xd8\\xae\\x97\\xe7U\\xc4{-\\xf9\\x99\\x85\\x81\\xadg\\xafb\\x1c\\':Do\\x04\\r[6\\x1e@\\x19\\r=!t\\x9b\\xa6\\xc9v\\xa5\\xb3%m\\x94\\x0e\\xbd\\xab=lO\\xcd\\x9a\\t\\x81n\\xbca\\xf3\\x05\\xe0\\x03zL_\\xad[;\\xc6\\x96\\x89\\xc7\\x84\\x98E*a\\x87^\\x9f\\xd0\\x12V\\x93\\x19|7\\xa6\\xe5(\\x8f\\xb2\\x0e\\xef\\x8e\\xaa\\xcf\\xcf\\x06\\x90\\xa5\\x04;\\xc0\\xe7y\"\\xd9\\xef\\x9eN\\x9f|\\x06\\x88|\\xe4g\\xad\\x1d\\x1c\\x94\\x173\\x8b\\xaaW\"\\x86$\\xf2\\x8ab\\x88\\x93\\xbfW\\x19\\xa2f\\xbbJz\\xdf8\\xae\\x9ddI5\\xc6\\x84BW\\xa2A8\\xf9#\\xb7\\xa8\\x04\\xcb\\x7f\\x99VvB\\x15@\\x86s\\xc8\\x1b\\xff\\\\\\xe2\\x95T\\xcd\\xe9M8Tl\\xda4\\x86d P\\x8d\\xa0LP0\\x1a\\x1e\\xaa|dc\\xf6T3zG~\\x8a\\xb1\\xbe\\x1a\\x91\\xb9\\t\\xd7\\xcd\\x9b/\\x06hY\\x96\\xf2\\x8bV\\xa2\\xbep\\xf2s{\\x00\\x1b+\\xea\\x1c\\xf3\\x98\\x10\\xb4\\xeb\\xd1IE\\xb9\\x1b\\xe3\\xa2\\'a\\xd5R\\xf8\\xef*{\\xa5gh\\x83\\x05\\xc7i\\xffe\\xf5\\x85S\\xb4:y\\x8e\\x06t\\x01\\x1e\\xa2?\\xb7jx\\xa3h6l\\x98\\x0b\\xe2\\x06Z\\xae\\xba\\x1d\\xed~\\xa5~,4\\xb4\\x986\\x97\\xd30\\xc5\\x92\\x9f\\x15\\x161l\\xb4\\xeb\\xed\\x032]\\x90\\xe0\"\\x1d\\xb1#\\xe8/\\x90\\xe7\\xc9\\x9c \\xd4\\xc7/\\x99$\\xb2bw\\xac\\x92\\x95\\xe7[\\xed~O\\xa79`rT\\x9d\\x0fB\\'\\xaagr\\xc4\\x8a\\xdbn_9\\x92X\\xac\\xbc\\xda\\xb6\\x90l\\xf5g\\x016\\x19\\x04`\\x1f\\x95\\xfa\\xfd.\\xa2\\xb9T\\xf1\\xc2\\xcd\\x8d\\xa4\\xd3\\x9e\\xcdN\\xda\\xb0\\x9df\\xdf\\x82\\xdb\\x87LTI\\x0c*\\x0c\\x1d5\\x87\\x06\\x81\\xc9%\\x1b-k\\xdb\\x9fH5\\x1bFTu-!\\x9c\\x87\\xbcZ\\xf9\\x12\\xf6tE\\x05\\xac\\xb2k\\x81\\xff\\xcc\\xd1\\x90B\\xd2\\xfa\\x17\\\\\\xdf\\xe4\\xc3\\x0fx\\xac\\xb9\\xa0\\xc2M\\x12~k\\x0c\\x06[c\\x9e?\\xefl\\x82P\\x96\\xbb\\xf9\\xab\\x7f\\x11#\\x9c\\xb6\\x9e1\\x94\\x1a\\x0ee\\xec\\xbal\\x13\\x94O\\xd2j!`~,\\x07\\x14B\\xf3{G\\xe9\\xb9j#9\\xafY\\xc8\\xd0.\\xbb\\xe9?K\\xd5\\xa9\\xd4du\\xf1g\\x8e\\xda\\xef\\x88\\x82^)\\xa8@\\'\\xe98UhM=1\\xd2\\xf3\\x1f\\xe8\\xeb5\\xaa\\xdf\\x17\\xd1:>R\\x86\\td\\xe3\\xc21\\xa9\\x93\\xfc\\x03N\\xf7\\xb7\\x00\\xd0\\xeb\\n\\x88\\x14\\'(\\x9d*\\xbfuI\\x86\\xfb\\x02\\xa1\\x8a\\xe1I\\xec5\\x14\\x7f\\x99\\xf3@\\xa2\\'\\xb4\\x7f\\xbc\\xa6Q\\x867D\\xe2\\xb1\\x88r\\xb3\\xa0=\\xab\\x1a\\xf3~\\xe7\\xb5\\xb6\\xd7F\\x18*\\x04H\\xe3\\xf8\\xc2\\x95I\\xec`\\x8d\\xbf(\\xb3\\xe9B\\x1c\\xdfb\\xd6>^\\xf8\\xcb\\xc5Ij\\x19\\xa5\\xc1b\\xa83|\\xd3\\x9e\\xf5\\xcb\\xabt;N&)\\xcd+\\x0e\\x89\\x9c\\xa6\\x97 \\\\w\\xa4J^z$ \\xc3\\x06\\xcd\\x04\\x166\\xa8-\\x80\\xa8\\xa5\\x86\\xa9\\xc4G7\\xe7\\xcf;L\\xbf\\xbe\\x906\\xda\\xd0\\xb7\\x98\\xbc\\x1b.\\xd8QI\\xfb`\\xc2\\xdc\\xcd[k[\\xe4\\xb0\\xca\\xbd,\\x85\\xf8\\x19\\xa1\\xfc\\t\\xe1\\xcc\\xd4n\\x16\\xdeF^RN\\x9c\\xc5\\xd7\\xb0\\xcc\\x8e\\xac\\x9b\\x1b\\x1a[\\xd2`\\xbcW\\xc9\\x7f\\x1a@\\x98q_}&.\\x93\\x94W$\\x89T \\xaf\\xb4 ,r}\\xc3\\xd9\\xbedV\\x9b\\x98j&@$\\x8b\\x93\\x0e\\xa6Rj\\x05z>\\xc6,\\xe2\\x95M\\xc4\\xe4\\xc9W\\xb7U\\x16e\\x8a\\xb4\\xa5\\x91\\x8d3n\\x10\\xe1e\\xc7-\\x05.\\x8d\\x96\\xe0\\x0f\\xed\\xd1\\xd8\\xef`\\xcd[\\xf8\\'_'\n",
      "b'[6&\\xe4@\\x9dC?cisco State University Computer Science and EngiSan Francisco State University Computer Science and EngiSan Francisco State University Computer Science and EngiSan Francisco State University Computer Science and EngiSan Francisco State University Computer Science and EngiSan Francisco State University Computer Science and EngiSan Francisco State University Computer Science and EngiSan Francisco State University Computer Science and EngiSan Francisco State University Computer Science and EngiSan Francisco State University Computer Science and EngiSan Francisco State University Computer Science and EngiSan Francisco State University Computer Science and EngiSan Francisco State University Computer Science and EngiSan Francisco State University Computer Science and EngiSan Francisco State University Computer Science and EngiSan Francisco State University Computer Science and EngiSan Francisco State University Computer Science and EngiSan Francisco State University Computer Science and EngiSan Francisco State University Computer Science and EngiSan Francisco State University Computer Science and EngiSan Francisco State University Computer Science and EngiSan Francisco State University Computer Science and EngiSan Francisco State University Computer Science and EngiSan Francisco State University Computer Science and EngiSan Francisco State University Computer Science and EngiSan Francisco State University Computer Science and EngiSan Francisco State University Computer Science and EngiSan Francisco State University Computer Science and EngiSan Francisco State University Computer Science and EngiSan Francisco State University Computer Science and EngiSan Francisco State University Computer Science and EngiSan Francisco State University Computer Science and Engi'\n",
      "CPU times: user 429 µs, sys: 306 µs, total: 735 µs\n",
      "Wall time: 410 µs\n"
     ]
    }
   ],
   "source": [
    "%%time\n",
    "key = b'abcdefgh'\n",
    "cipher = DES.new(key,DES.MODE_CBC)\n",
    "plaintext = b'San Francisco State University Computer Science and EngiSan Francisco State University Computer Science and EngiSan Francisco State University Computer Science and EngiSan Francisco State University Computer Science and EngiSan Francisco State University Computer Science and EngiSan Francisco State University Computer Science and EngiSan Francisco State University Computer Science and EngiSan Francisco State University Computer Science and EngiSan Francisco State University Computer Science and EngiSan Francisco State University Computer Science and EngiSan Francisco State University Computer Science and EngiSan Francisco State University Computer Science and EngiSan Francisco State University Computer Science and EngiSan Francisco State University Computer Science and EngiSan Francisco State University Computer Science and EngiSan Francisco State University Computer Science and EngiSan Francisco State University Computer Science and EngiSan Francisco State University Computer Science and EngiSan Francisco State University Computer Science and EngiSan Francisco State University Computer Science and EngiSan Francisco State University Computer Science and EngiSan Francisco State University Computer Science and EngiSan Francisco State University Computer Science and EngiSan Francisco State University Computer Science and EngiSan Francisco State University Computer Science and EngiSan Francisco State University Computer Science and EngiSan Francisco State University Computer Science and EngiSan Francisco State University Computer Science and EngiSan Francisco State University Computer Science and EngiSan Francisco State University Computer Science and EngiSan Francisco State University Computer Science and EngiSan Francisco State University Computer Science and Engi'\n",
    "msg = cipher.encrypt(plaintext)\n",
    "print(msg)\n",
    "decipher = DES.new(key,DES.MODE_CBC)\n",
    "msg_dec = decipher.decrypt(msg)\n",
    "print(msg_dec)"
   ]
  },
  {
   "cell_type": "code",
   "execution_count": 33,
   "id": "de2bbe6e",
   "metadata": {},
   "outputs": [],
   "source": [
    "#Encryption and Decryption using DES-CBC, Input = 2048bits"
   ]
  },
  {
   "cell_type": "code",
   "execution_count": 34,
   "id": "c0f45401",
   "metadata": {},
   "outputs": [
    {
     "name": "stdout",
     "output_type": "stream",
     "text": [
      "CPU times: user 1 µs, sys: 0 ns, total: 1 µs\n",
      "Wall time: 2.86 µs\n",
      "b'\\x1a\\x1dg\\xb0\\x9cg,\\xbeV\\xca\\xea\\xf0:\\x8a~\\xc97L\\xcb2DD\\x8dX1\\xf1\\x9e\\xfa\\xe7\\xa6\\x94a\\xec&01\\x035\\xa3\\xd4\\xcat\\xb1\\xef]\\xc5v\\xb7\\x18\\xd9\\xa1M\\xb8H\\xd4O\\x99\\xfe\\xe8|89\\xafgX]E\\xd6\\x95\\xa3B\\xbe\\xc7&\\x90#\\x82\\xbav{\\xc7\\xad\\x84\\xc9t\\xf8yU\\x95\\xefF\\xdc`4\\xb4n\\x99\\x15g\\x84v\\x10\\xe1\\x9b\\x82?\\xb9\\xf8\\x99\\x0fX\\xack\\x96\\xcb\\x9d\\xc1\\xa9s\\xcb\\xd74\\xe0M\\xcf A*\\xb9\\x93\\xc4\\xfd2drp\\x1a\\xf0T\\xa6\\xc1\\x06t\\xd6\\x9aN\\xd7\\xa5\\xd1\\xef\\xa5u\\x95C\\x01\\xe7\\x9bj\\xcd\\x97~\\xa6\\xf6\\xb0MJ<4d\\x19\\x05mt\\r\\xbbd\\x80\\x0e\\xb0x\\x08[\\xfd`\\x96T\\xc2Kw\\x1a\\xd6Z\\xd3\\x8d!j\\x18\\xf1&<ES\\x04&\\x1e\\xc0GkPu\\xdb\\xef\\x83\\xbfL\\x87[6\\x1d\\xe2Q\\xbb\\xcc\\xcf\\xd6\\xc2\\x80\\x16\\xe6H\\xee\\x16\\x1ep\\xa2\\xf3:\\xe6\\xc88\\x0c\\xb4\\xe3C\\x87\\xae\\x89j\\xd9 \\xda\\xdbT\\x08\\x92\\x01\\xa3}\\x87\\xbeo\\xc6\\xc0\\x82\\x01\\xb1\\x9b\\xd0\\x01N\\xefC\\xc7\\xadw\\xa5\\x80A\\xae\\xb9vo\\x92\\xa4\\xca\\xd4=\\x88\\x13\\xd3\\xa3\\x9f\\xb0\\xd6Du{]R\\xa3\\x9c\\x95>\\'\\xd0\\x12\\xf4\\xda\\x18\\xd5Q\\x81UFO\\xdc9\\x9f\\xea\\x8a\\xc5\\xbb\\t{\\xda2\\xe8!\\x0e\\xcb%X\\x1aGERU\\x10\\xb7f\\x06\\xf7\\x94\\x7f\\xef\\x81aXdT\\xf9\\xb1=;\\xc4\\xfeN\\x1d9ek\\x99\\xd6y\\xb3\\xd8NFt&\\xbb\\x94\\xf1d\\xc0\\xa5.0\\x9dM6x\\xe1\\xda\\xf9\\xa7J\\xf5\\xa1\\xc6B\\xc4\\xcd+pb4\\xdb\\xb8\\x91UU\\xd4\\xc7d\\xdd>\\xc5`/\\'\\x91:\\xa2\\xfc\\xaci\\r*3\\xd5\\x17\\xb2\\x16\\xd8\\xe6\\x8e\\x1b\\xa3\\x1cD\\xe8\\xd9L58\\xed\\x1d\\xad\\xf4\\xcd6\\x9b\\xcau\\xfcM<\\xd1\\xe2\\xa4H\\xb8\\xb9=\\xcf\\xa9\\x1c\\xdcrk:\\x15q~S\\x95\\xf1\\xe0h)\\x933D\\xa0\\xf0\\xbd\\xe7-.2\\xa0|\\rX\\xb3\\xef\\x13\\xa6\\x04\\xb6\\x8e\\xcb\\x92k~;\\xb7\\xd6\\x87\\xbf\\xf4nZ\\xe8\\x03D\\xf1\\x81\\x8c\\x83\\xe2D\\xf9Sx\\xeb\\x9a\\xbc-K\\xce\\t\\x1b\\xfe\\xb2\\x87\\xc3\\x07\\x8f\\xd7\\xa4\\x17\\xac6Q\\xb0\\x93b^\\x0c\\x057\\x1e\\xa9\\x9e=\\x03\\xb2\\x15\\x9b\\xe6\\xaa\\xc8\\xab\\xfe\\x82\\xe0`.\\x1fG$\\xe1\\xc5\\x8f\\xf5\\xca\\x9e\\x06\\xc7\\x0c\\xb6\\xecL\\xcb!y\"\\xc9\\xbf\\xb6\\x91\\xb2gR\\xc86BE\\x1e\\xf7!\\xeeu\\xe7\\x1a\\x86>\\nS\\xb9^\\x06c\\x14|\\xd7n_*\\xaf7\\xc6\\x93\\x9a\\x8cZ\\xb3\\x9d\\xe8\\xebt\\xea\\x12\\xfd\\xfb\\x05]*\\xe4M\\xed\\xa9\\xb0\\xb1\\xe95=\\xac\\xe5I\\xf04\\x04\\x9a\\xbd\\xe7\\xb6\\xd6\\xc1\\x02aa>\\xec\\x85\\x05\\xe2d\\xf3\\x8cg,,0\\xc4oU\\x9b5\\x004\\x02/\\xc3\\xf9R\\xa8\\xf2|\\xb9~\\x7f\\xca\\xaa\\xf3\\x81:Y\\xebC\\xe1\\xf2\\xd5\\xcbh%(&\\xba\\x06\\xfb?\\x02\\'\\xad/P\\xe1y\\x05E\\x97Zi\\x1f.\\xd0nE\\xed\\x15\\xb4U\\xbc\\x06\\x0c\\xba\\x1e\\xe3\\x91$V\\x8fu\\xe7\\xe1\\xc6C\\xb1L\\xd2\\x19JZ\\xb0aE\\xb7\\xb4\\xa3\\x9c\\xa1\\xda4s\\xa6\\xcbpH\\xa8\\xe9\\xa1:\\x8e\\xd7XrYw\\x8d\\x17<\\x1a\\x13\\xdcz\\x8b\\xd1\\x99D\\xe5F\\xc3*\\xe9\\r\\x1f\\xe0\\xd3\\xa0\\x9a\\xfcs\\xdb4v\\xd4\\xac\\xbag\\xd4xI\\x92:c^\\x07\\xa89\\xa4\\xc2\\xd8\\xcf\\xfd\\xef\\xffR1l\\x05\\xe6\\xd4\\xf1*\\x84\\x1cI\\x9d}J\\x15\\x99\\x8a]\\x82\\xe7\\xea.5\\xb2\\xea\\xef\\xf2\\x1f\\xd1rM\\xf3\\xd9\\xbf\\x91\\xcf\\x80\\xe9/\\x87~\\xe3,\\xf2p\\xb4*\\xf6^R;\\x04\\x1d\\x8c%\\xe8u\\xeb\\x974\\x81\\xbb\\x80Q\\xea.d\\x86\\xceYR\\xdcT\\xc1,A\\x0c\\xea\\x95\\x07\\xce K\\'\\xcee\\x04\\xe6\\x17\\x00\\x04\\xa7\\xc9\\xa6\\x96xZI\\xec\\xa1\\x18N\\xbe\\x0c\\x95\\xd4r\\x82\\x8eB\\x1a\\xe1`\\xf5\\xcd\\x0f$\\x16\\xe7\\r\\xb5\\xbb\\xbb\\xc7\\xdf-\\xfdt\\xe7\\xcc\\xdddN\\x19\\x92t\\xff\\xa9\\xfeFHY\\xf6,\\xb2O8~S\\xff\\xdas\\x84\\xae\\xbe\\x8e\\xe1[)j\\xc9O`\\xb5\\xab\\x96\\xcf\\xe8\\xf8f>\\xf7\\xd4\\rw\\xb5\\x91>\\x13\\xf3\\xec\\x88\\x84\\x82\\xe1\\xea5\\x0f\\xaf\\xd8\\xac\\xc8%\\xc9=\\xe0Ek\\xf7\\x99\\x17vj\\x00\\x85\\xe7\\xeak\\x9f\\xb7\\x13\\xc4T\\xf2\\x8f&T3\\xc2\\x08J\\x03q~6t\\x0f\\x05\\xdd1P\\xaeqM\\xcf1\\xa3\\x99W+\\x04/\\xa6B\\xf2+\\xd2M\\xfd\\xc8\\x18\\x8b3\\xcdL\\x1ah\\xfb#}\\xee\\x08\\x7f\\xcc\\x9bD\\xca9+))\\xb5\\xf9\\xa5\\xbb%&A-\\xea\\xa7\\xcd\\xcf\\xaf\\x8b\\x9f\\xb4qCgSD\\x17\\xeci\\xa6\\x9eE\\xc6\\xea%\\xfb\\x11\\x0c\\x13\\xbc\\xa9p\\xdaQ{A\\xfa\\x8a5\\x08\\xf1\\x9e\\xf6\\xb5ytx\\x1f\\xb1\\x98\\x9aw\\x889\\xe7,\"\\xcd\\xbeI\\xa4\\xb9\\xedk\\x83n\\x1a\\xb1\\xb0\\xe2\\x8dx\\x1d\\x7f\\xbc\\x9c\\xa6\\xd5\\x99\\x81T\\xde\\xa4\\xac\\xf3\\xe5\\x9a\\x0e5\\xaa\\xa5j7\"\\xe0\\xe3\\x10 >)O\\xa3\\x11\\xdb6\\xe0<\\xf3\\xd5\\xd9\\xe3\\xd0\\xc4Rs\\x83\\x87\\x13N\\x0f\\x96\\xe2\\\\\\xd6\\xb2\\xda\\x9b\\xd6`\\xdb\\xe8\\xbb\\x188?\\xfa\\xde\\x9d\\xef\\xff\\'\\xf4\\x8aE\\x9e\\xbb\\x8c+\\\\\\xc1\\xc4\\xe5d4\\xaa\\xf4j\\x8bZ\\xdf\\xbd=2K5/\\x03c\\x96(=\\x89\\xb61}\\x82H\\x99\\xfb\\xddx>\\rFup\\x94\\x18f-\\xf4u\\xb2\\xf6\\xb3\\xab\\xe6\\x0fg\\xc8\\x93\\x8d\\xa5\\x97s\\xe2c\\xe2\\xb3\\xb9\\x00\\x8fC\\xc6\\xc38\\xb1_\\xe1\\x81\\xa23\\xa5\\x84\\xb2jr\\xf6\\x94\\x91\\x9e\\xed\\xce\\xb7\\xa1\\xe5\\xf7svJn\\x88\\xe7\\x19\\xb2\\x1e\\x87\\xef\\xb8\\x17\\x99\\xc8d\\xd7\\xef\\xc8\\xe0\\xd2\\xb9T\\xd1f\\x9d\\xf0\\x02J\\x1d`MD\\xbb\\xe0rU>z\\xdd/se\\xf9\\xf3c\\xc8\\x983K\\xaf\\xb5\\xf4MT\\x02\\x19\\xa7\\x04\\xa4\\xb6A\\x87S\\xaa\\xc9b\\x7f\\xe9a\\xcd\\x82\\x8f\\x9dR8hY\\x18\\xf6\\x04y\\xbfE\\xd5^D\"\\x91\\xc4\\x1d\\xd4\\x84\\xdc\\xd9ka\\xfauB^\\xd1\\x11\\x8a\\x86\\x02Po]\\x16\\x12\\xcc\\xdd\\xc1\\xdbO\\xf6k\\x04&\\xd5\\xf6[\\xa2mi\\xad\\xa2d\\x91\\xd8\\xaa\\xd44R$v\\xc4Y\\r4\\xb3@\\x82\\x84W\\xac1\\xf3E\\xc6\\xcf\\x14\\xba\\x98;\\xeb\\xb5\\xf5\\x08\\xcfh%\\xa0\\x9fC\\xac?\\xbb7\\xbc\\x82\\x84\\xd1nW\\xd7\\xbbj\\xff\\x1e^\\x82B\\xe2:Y\\x0e\\x8d\\x88OB}>\\xc9\\x99\\x19\\xb9;\\x13Z\\xd9#\\xfa\\xd5\\xdc\\xba\\x19\\xa33T\\xd4\\xf1a\\xcf7\\xd3\\x07\\xcf\\xf5\\x0b%;\\x9d\\\\\\xdaI\\xa40\\xef\\x16W\\x7f@H7\\x89\\xbe\\x82\\xbf\\xfb\\x07\\x0cP\\x99\\xed2\\x0f\\x94\\xf3\\xd8\\xb2\\xa2\\x1b\\xb3\\x90\\xedj|3\\xddQQ=.\\x96s\\xcf\\xc6\\xa2\\xc7\\xe5\\x8a\\x13(\\x08\\xdaz\\xdczC\\x0e\\x08X\\xfa\\x01\\xadG\\x86\\x934\\x01\\x87\\xbfa\\xec\\xef\\x11\\x937\\xea\\xf1\\xf2\\xd7\\xb9\\xf6B{\\xcf\\x03>\\xba\\xc8\\xf9\\xef\\xb3\\xd1*-@)!\\xce\\x1b\\x17B\\xc5\\xb1`\\x86\\x0cB/\\r\\xed\\xe3\\xdc\\x01<\\xf9}7\\xee\\xd9\\x85\\xe3\\xe4\\x11\\xd04\\xce\\x9d\\xbc\\xbd\\xa9\\x02\\x98\\x15\\x04(\\xdc\\x06\\xc9\\x90\\x9e\"\\xcd\\xc5CT4\\xf9\\r\\xb7\\xd2\\xc3\\x0f\\xb6H?\\x17\\xcfJK\\x1b\\x1a|!\\xdf\\xd29 #2\\xb8\\xf1F\\x12G\\xc2PWW\\x91\\xe5\\xf5w\\x9a\\x11\\xd4\\x9f\\x88?\\xfd7\\xa0Gw2\\xfe\\x87Kk\\xf2=\\xc7if\\xc1\\xaa\\x0c\\x85\\xa7\\xebSW\\xb7\\x88\\xbbp\\xb2\\xa2g\\xc7X;#\\xf0\\x81\\x95\\xdfw\\x8c\\xcf\\xfb\\xf0\\xb9@|\\xa9\\xd3m\\x88\\xc0\\xae \\x08\\xb8#\\x99\\xd5N\\xbb\\x8d&\\x8a\\xa1\\x1bk\\x8c\\xcf\\xbe\\xea\\xd9o\\xf6\\x88s-A\\xe0\\x94\\n\\x9a^\\x8anX\\x1a#\\xe5\\x99\\x8d\\x02C\\xf0\\x1f\\xc8\\xd5\\xce\\x8d\\xea\\xea\\xbe\\xd5\\xabN\\x8b\\xaa\\xdb\\xc5>\\xe2\\xd7\\x11\\xf7\\xfem^\\xad\\xf7\"\\x024\\xcdRe\\xe6\\x95|\\xfa\\xa2\\xb3\\r\\xeeO\\x04_\\x9e\\x93\\xa8\\xe8\\xc2HUBx\\xf0\\x0cP\\xd5\\xe7\\x9a\\xf6r\\xc5\\xd6\\x185Oe\\xd6\\x90\\x81\\x8aD_s\\xf6\\xf1\\xc9c\\x0f\\xcc\\xb0#\\x04\\xd2\\x84Ir\\x96)x7\\x8fi\\xcc\\x80\\xfa\\xcd\\x0fiG\\xfa1\\x10#\\xa88k\\xb5-\\x8d\\xf81\\xd4\\x96\\x83\\x0eU.;\\xd8E\\x8a\\x8c\\x7f\\xc7\\xa17\\x16\\x95\\x177\\xfe\\xd6\\x8bE\\x87\\x06\\x17\\x91\\xe5\\x1f\\xfe\\xd1\\xcc\\\\\\xd2\\xa6\\xabTv\\xf4\\x0b\\xfa\\xe9\\x04R\\xcdh\\x92 <\\xe7-\\xae@\\x90\\x1a=\\xe3\\xc9\\x19K/r\\x9d\\xf3\\x84\\rf\\xf2\\xd9R\\xf7u\\xec\\x80\\xb8\\x99\\xa2\\xe0v\\xc8\\x16o\\x81\\xa3\\x90\\xe1\\xf0\\xfd5\\xc8\\xe1\\xf6\\xe2(\\xbf\\x04\\x06\\x7f\\n\\x9c\\x94\\xaa\\x1bA\\xc8\\x155\\x8cJ\\xd9\\x14\\t\\x8dr\\xb3\\xcd\\xbbWf\\x0b\\x10\\\\\\x82h\\xbf\\xe7\\xc4%\\xdeg/\\x95m\\x08H\\xd8\\xa4\\x19)\\xb3\\xea\\xce\\xbd\\xe5\\x99\\x15j]2=\\x1fKn\\xcb\\xd1\\x0f\\n-\\x9c.\\x0b~\\xf0\\x95pa\\x18DB`\\xa0\\xbf\\'=\\xd3\\x0c\\xdb\\xa3Z\\x8fy\\xc5\\xf6\\xda\\x9a\\xa1\\xcf\\x16\\xc6\\xcf\\xc1@\\x91OO_\\x01\\xf1\\xd5\\x13{\\xe0\\xd6n{;\\xa5\\xbc\\xaf\\xe1Ma5\\xe49\\x97\\x9d\\x00\\xbc\"<f[\\x1f\\x93\\xdb\\xbbY\\xea\\xce\\xc6\\x999M\\t\\xaf\\xfc\\x03W\\\\\\xa9N\\xbcR\\xfe\\x08\\xb0h\\x8c\\xb1\\xfd1z\\xa6`\\xb0<\\x96\\xb3nc-m\\x8a\\xde\\xd3i\\xfa\\x83\\x1f\\x86F\\xbfaq\\xf5\\xde3\\xfc\\xcfR\\xc97\\x9c\\xb1\\xd3\\x8eo*\\xcbo\\xf7\\x13\\xefE\\x03\\x08es(n,xJ\\x14\\xe3\\xd2\\x1c\\x03\\x95\\x9a\\xccOvT\\x85\\xbf1\\x0bc\\xa1o\\xfe\\\\\\xa0\\x89\\x04\\r\\x8a\\xbc\\x1e\\x0e\\xaf\\xa1\\xd2\\x02\\xe3\\xc8\\xeb\\xaf\\xde\\x08\\x0b\\xb7Xqr\\x99\\xffv\\r\\xfcF\\x1b\\x95Q\\n\\x8f\\xe4\\x0e%\\xafc$\\xa4\\x02s\\x8f7h\\xdb\\x83O\\xbcb\\xa2\\'\\x86\\xcdg\\xb1q*\\xfc+\\xf5\\x91\\x87\\xb1\\xc7K\\x07\\x8aN\\xf7\\x07\\x9flk\\xc6L\\x9bt\\x19\\xe1p\\x98ay\\x94\\xc7\\xb4\\x1aS\\xb1u\\xba\\xe8t\\xf8G\\x194YD\\xba\\x81\\xf6\\x82\\x9a\\x8e\\xdf\\x92\\xce\\xf8\\x03\\x11\\xa0\\nL\\x05\\x1bA\\xa8\\x82\\xaf\\xae\\x13\"~v\\x95]\\x11\\x04\\x1a\\xc4\\xde\\xc2\\x10\\xbb\\x01\\xed\\xf34\\x9c>\\xfa6\\xce\\xe4\\x99\\xa2jC\\xa7^\\x05W+|\\xf2\\xf0J\\xdd\\x0fDG\\x99Ssi\\x8aq\\xc1\\n\\x8e\\xab\\xd6\\xbdx*\\xb0\\x81\\xfdQ\\x88)d\\x14\\xdb\\xdc\\x14cq\\xf8N\\xb3\\xd3\\xa7-\\x1b\\xf6cuuL\\xa7\\x11&\\x8c\\xf9\\x8d\\xa6v\\x00U \\\\\\xee\\xd2\\x08E\\x89\\'\\xda\\x9cT()\"\\xfb\\xc7\\x85\\x90q=\\x81\\xcb\\xf0Qcp\\xb4\\xbb\\xa8\\x9a\\x80\\x08<\\xc6\\xe3o\\x10\\x0c:E\\xccDb\\xa1\\xa4\\xb6\\x98\\xf8\\x92\\xcc\\x90\\x11|\\xd3\\xfe\\x0e\\xd5\\xcb.\\xa1\\xa0\\xf7i\\x1aA\\x11k\\x0b\\x15\\x0c\\xb0\\r\\x83\\xfe\\x15\\xdb\\xda\\xca%\\xb3\\x17/k\\xca(\\x05\\x94(\\xabe7\\x0cm*K4\\x97\\x1d\\xdf_\\xe7\\xe3\\n\\x10\\xba}\\x07\\x95\\x81J\\xfe;\\x91\\x14\\xf5\\xf4\\xefuXF\\x13\\x14\\x15b\\xc9\\xfb\\x16\\xf2\\xd8\\xa1\\x1a)t\\xeb)o\\xec\\xb9\\x84\\x1do/v\\x9b\\x06)<\\xa5\\x17\\xbeP\\xd8\\xbf\\x01\\x9c\\xab\\xf5\\x98zH\\xe8\\xa5\\xe9v\\xf6\\xd3\\x80\\x94\\xce\\x80\\xd6\\xae\\xae\\xf5\\xd48L6\\x9ap\\x86\\x1aI\\x1f$R\\x86J\\xdb\\x00\\x1e\\xb8sc\\x01\\x13\\xd5\\xfag,\\xe6mK\\xf2\\xf3Z\\x86\\x0b\\xf6\\xcb)\"\\xee\\xeaY@+\\x07\\xc3\\xbb\\x90\\x99\\xaa\\xcfK\\xb1&S\\x7f9\\xf5\\x95$<\\xd0\\xe8\\x92(\\x8c\\xfc\\t\\xdefF\\xa6\\xbaHoVu\\xf2\\xc3\\x9d\\x80\\xc3n\\xc6\\x81\\rg\\xb5y4\\x01`Y\\x0e8\\xdbK$\\xddi\\x0f_\\xffkkMK\\x82B\\xa5\\xad&\\xb9rV\\x08\\x9e\\xf6\\xba\\xd0\\xad\\x98\\xf1\\xe5\"\\xc2~\\xfd\\xe4A\\x06\\xdb9{\\xa9?\\x10J\\x11T/\\xf8h\\xa5<\\xb2\\xb7\\xb3O\\x89BB\\x11x\\x18\\xfe\\xb5\\xd4@T#\\x8b\\xaf\\x8e<#\\x00\\x96E\\xaf;\\xd4\\x94\\xc1\\xdb(/\\xc8\\x87 /\\x05\\x05\\xf2\\x1e\\xdb\\x06\\x96\\x86\\x1b\\x97\\xe2*5(*9&\\x19\\xb6\\x16\\xa6h\\x99B]\\xd8\\x8c\\xe1X\\xdb\\xd0+J\\x10\\xe8\\xb8\\xf3\\x03\\x97\\x1a#\\x0c\\x95\\x96\\xb3\\x81\\x02\\x97a\\x15\\x0fO\\x90)M*\\xb7[\\xf4b}\\xaa\\xda\\x99\\x17\\x1d\\x10\\x81tSX\\x06\\xdcd]\\xf8\\xa5\\x8f\\x9d<\\xdd\\'\\xd3?\\xb2\\x92R\\'6>\\xf5\\x13\\x95\\xb5qg\\x81\\xb5G\\xbe\\x03\\xd6\\x05\\xb9\\x93\\xa0\\x16\\xe5\\x1f\\x7f\\x00\\xe6\\xa9\"b\\x15w\\x84\\xbb\\xaa\\x80\\'\\xa6\\xc4W\\x1c\\xb1\\xf37<,\\x9e7\\x801K\\xdc\\xd3D\\x98i53\\xa8\\xba\\xea\\xb1Ch(\\xb7\\xdd?$\\x87O\\xd7G\\xbds\\x18f\\x16\\xc8\\x94s\\x86u%\\x1c^8\\x98\\xacw\\xbc\\x15\\x95\\xde\\xbf\\x8an\\xa9\\x85\\xa5\\xf7\\xaf\\xb2\\xb0\\x14\\x1d\\xf1:\\xb6}|\\x1f\\xd5\\xef?aB\\x1c\\xaa\\x95\\xbfe(\\xa4\\xf9\\x02{\\xc7\\xbf\\xb1\\x85%\\xc5\\xb2\\xc5q\\xe5\\x8c\\xbb;*u\\xcc\\x1a[V\\xa6\\x7f\\xf4\\x0b\\x11#fF\\xaa\\xb8\\x8f\\xe1\\xfa\\xdez[\\x93`\\xddC\\xcd\\xa5\\xaf\\xa4\\x1br\\xf3FO\\xd5Y\\xb3\\xf3F\\xe7\\xa4\\xa2[\\xfabs\\x13\\x90\\xcb.8=\\xc2\\x98\\x15\\xefB7\\\\g\\xdd\\x08\\x8c\\xda\\x1d\\x8f\\x9d9\\xb9\\xd5\\x15\\xee\\x08\\xea*4\\xcdup\\xc2\\x0f\\x80\\xd1.|\\xb2\\xbc\\xd9\\xa1\\xdcJ\\x13\\x88S\\xdc\\xf3Z\\xdb{(\\xc9x8/3\\x89C\\x05\\x8dm\\xea\\xc6\\x83:\\xe1%<\\xdeQr\\x8d\\x89\\x07\\xaa7.\\xce\\x81\\x19G:W\\xda\\xd0p\\x85\\xde\\xca\\xb2qJ\\xbc\\xbd+\\xa3\\x1f\\x9d\\xd0\\x9d\\xe2\\x1f\\x9c\\xe3\\x16\\x0fU\\x8f\\xa7\\x8a\\xa2\\xf8c\\x94z\\xbe\\x9d\\xffC\\x8f\\xa1\\xd4\\xb6\\xa3\\xaa\\xba\\x846\\x14\\xd5\\x9a\\x9e\"n\\xf9\\xe4\\x01b\\x02\\x02O\\xee\\xae\\xb4\\xe7/\\x9d\\xa0\\xeb\\xf6\\x92AM/\\x15\\xdcg\\xa6o\\xc9j,\\x98\\x10\\xdcmd`\\xe7\\xa2\\xd9\\xb5Cda\\xa3P\\xfe\\xd0=\\xc1\\x906\\x18^\\t~\\xb5\\xe1\\xf8X\\x0c\\xdb\\nD\\xbe\\x93\\x00\\x91b\\x93\\x15\\xc5@\\xf2\\x8eNy\\x16:\\xcf\\xccn[q\"\\xcf\\x81(\\x1f\\x1c\\xc4\\xdc\\x12\\xa5 \\x03\\x82\\xa2F\\x19\\x02\\x9b`\\xbd\\xea\\x82\\xd9\\x9c\\xfb\\x12\\xd5qa\\x80h\\xa1c\\xf1\\x8e\\xeb\\x99\\xbd\\xa0\\xe8p\\x19\\xf6\\x8er7\\xc0\\x1f\\x9cS\\xd1\\x14\\x8f\\xeec=5`\\xae\\x96rS\\xe9\\xb2_\\xa0\\xd3\\\\\\xfb\\t\\x1fu\\xd7\\xbea\\xf7\\xfc?~\\xb1\\xe7O\\xd5+\\x05\\x01\\xe8\\x18\\tUe\\x8dc\\x8c\\xc4\\xa1Typ\\xe3E\\xb4\\xe0\\xa4\\xd7\\xb8\\x17\\n\\xe7:\\xb1\\x90\\xc6\\xeb\\x91\\x8c_\\xe6\\t\\xb5\\x14\\xe5\\x8c\\xc7\\x8b\\xb9\\xbc\\xf1\\xb6\\x9b\\xac\\x12\\n\\xb8\\xf4\\xdd\\x93o\\xa0\\xb2mF\\x1d\\xbf\\x0cN\\xf1*\\xa6dB\\xae*\\x94%\\x1d\\xfb\\x9e\\xf5?\\xab\\xf6\"\\x8f8\\x95Wc\\xc6\\x03\\xe4\\x93q\\xe3Fs\\xd7/\\xd3\\x16wh\\n}\\x18\\xba\\x07g\\x1fK\\xd1!X\\xb8\\x83\\x9f\\x01\\xd4\\x9e\\x93\\xc9\\x1d\\x173L\\x9d,\\x8b\\xc2a\\xbd\\xcfCk3\\x0e\\xa2B@A\\x01#\\xb3\\xb5\\xe6\\xa7\\xe1\\xa9#\\r\\x11o\\x98\\xcc\\xfc\"\\xc2I\\xe0j.\\xb3\\x1aY \\x814\\xb9hB\\xb4\\xa5\\xe7\\x1f\\xd7'\n",
      "b'\\xbf\\x95\\x85(|\\tsOcisco State University Computer Science and EngiSan Francisco State University Computer Science and EngiSan Francisco State University Computer Science and EngiSan Francisco State University Computer Science and EngiSan Francisco State University Computer Science and EngiSan Francisco State University Computer Science and EngiSan Francisco State University Computer Science and EngiSan Francisco State University Computer Science and EngiSan Francisco State University Computer Science and EngiSan Francisco State University Computer Science and EngiSan Francisco State University Computer Science and EngiSan Francisco State University Computer Science and EngiSan Francisco State University Computer Science and EngiSan Francisco State University Computer Science and EngiSan Francisco State University Computer Science and EngiSan Francisco State University Computer Science and EngiSan Francisco State University Computer Science and EngiSan Francisco State University Computer Science and EngiSan Francisco State University Computer Science and EngiSan Francisco State University Computer Science and EngiSan Francisco State University Computer Science and EngiSan Francisco State University Computer Science and EngiSan Francisco State University Computer Science and EngiSan Francisco State University Computer Science and EngiSan Francisco State University Computer Science and EngiSan Francisco State University Computer Science and EngiSan Francisco State University Computer Science and EngiSan Francisco State University Computer Science and EngiSan Francisco State University Computer Science and EngiSan Francisco State University Computer Science and EngiSan Francisco State University Computer Science and EngiSan Francisco State University Computer Science and EngiSan Francisco State University Computer Science and EngiSan Francisco State University Computer Science and EngiSan Francisco State University Computer Science and EngiSan Francisco State University Computer Science and EngiSan Francisco State University Computer Science and EngiSan Francisco State University Computer Science and EngiSan Francisco State University Computer Science and EngiSan Francisco State University Computer Science and EngiSan Francisco State University Computer Science and EngiSan Francisco State University Computer Science and EngiSan Francisco State University Computer Science and EngiSan Francisco State University Computer Science and EngiSan Francisco State University Computer Science and EngiSan Francisco State University Computer Science and EngiSan Francisco State University Computer Science and EngiSan Francisco State University Computer Science and EngiSan Francisco State University Computer Science and EngiSan Francisco State University Computer Science and EngiSan Francisco State University Computer Science and EngiSan Francisco State University Computer Science and EngiSan Francisco State University Computer Science and EngiSan Francisco State University Computer Science and EngiSan Francisco State University Computer Science and EngiSan Francisco State University Computer Science and EngiSan Francisco State University Computer Science and EngiSan Francisco State University Computer Science and EngiSan Francisco State University Computer Science and EngiSan Francisco State University Computer Science and EngiSan Francisco State University Computer Science and EngiSan Francisco State University Computer Science and EngiSan Francisco State University Computer Science and EngiSan Francisco State University Computer Science and Engi'\n"
     ]
    }
   ],
   "source": [
    "%time\n",
    "key = b'abcdefgh'\n",
    "cipher = DES.new(key,DES.MODE_CBC)\n",
    "plaintext = b'San Francisco State University Computer Science and EngiSan Francisco State University Computer Science and EngiSan Francisco State University Computer Science and EngiSan Francisco State University Computer Science and EngiSan Francisco State University Computer Science and EngiSan Francisco State University Computer Science and EngiSan Francisco State University Computer Science and EngiSan Francisco State University Computer Science and EngiSan Francisco State University Computer Science and EngiSan Francisco State University Computer Science and EngiSan Francisco State University Computer Science and EngiSan Francisco State University Computer Science and EngiSan Francisco State University Computer Science and EngiSan Francisco State University Computer Science and EngiSan Francisco State University Computer Science and EngiSan Francisco State University Computer Science and EngiSan Francisco State University Computer Science and EngiSan Francisco State University Computer Science and EngiSan Francisco State University Computer Science and EngiSan Francisco State University Computer Science and EngiSan Francisco State University Computer Science and EngiSan Francisco State University Computer Science and EngiSan Francisco State University Computer Science and EngiSan Francisco State University Computer Science and EngiSan Francisco State University Computer Science and EngiSan Francisco State University Computer Science and EngiSan Francisco State University Computer Science and EngiSan Francisco State University Computer Science and EngiSan Francisco State University Computer Science and EngiSan Francisco State University Computer Science and EngiSan Francisco State University Computer Science and EngiSan Francisco State University Computer Science and EngiSan Francisco State University Computer Science and EngiSan Francisco State University Computer Science and EngiSan Francisco State University Computer Science and EngiSan Francisco State University Computer Science and EngiSan Francisco State University Computer Science and EngiSan Francisco State University Computer Science and EngiSan Francisco State University Computer Science and EngiSan Francisco State University Computer Science and EngiSan Francisco State University Computer Science and EngiSan Francisco State University Computer Science and EngiSan Francisco State University Computer Science and EngiSan Francisco State University Computer Science and EngiSan Francisco State University Computer Science and EngiSan Francisco State University Computer Science and EngiSan Francisco State University Computer Science and EngiSan Francisco State University Computer Science and EngiSan Francisco State University Computer Science and EngiSan Francisco State University Computer Science and EngiSan Francisco State University Computer Science and EngiSan Francisco State University Computer Science and EngiSan Francisco State University Computer Science and EngiSan Francisco State University Computer Science and EngiSan Francisco State University Computer Science and EngiSan Francisco State University Computer Science and EngiSan Francisco State University Computer Science and EngiSan Francisco State University Computer Science and EngiSan Francisco State University Computer Science and EngiSan Francisco State University Computer Science and EngiSan Francisco State University Computer Science and EngiSan Francisco State University Computer Science and EngiSan Francisco State University Computer Science and EngiSan Francisco State University Computer Science and Engi'\n",
    "msg = cipher.encrypt(plaintext)\n",
    "print(msg)\n",
    "decipher = DES.new(key,DES.MODE_CBC)\n",
    "msg_dec = decipher.decrypt(msg)\n",
    "print(msg_dec)"
   ]
  },
  {
   "cell_type": "code",
   "execution_count": null,
   "id": "ba09b00c",
   "metadata": {},
   "outputs": [],
   "source": []
  }
 ],
 "metadata": {
  "kernelspec": {
   "display_name": "Python 3",
   "language": "python",
   "name": "python3"
  },
  "language_info": {
   "codemirror_mode": {
    "name": "ipython",
    "version": 3
   },
   "file_extension": ".py",
   "mimetype": "text/x-python",
   "name": "python",
   "nbconvert_exporter": "python",
   "pygments_lexer": "ipython3",
   "version": "3.8.8"
  }
 },
 "nbformat": 4,
 "nbformat_minor": 5
}
