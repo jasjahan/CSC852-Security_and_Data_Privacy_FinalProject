{
 "cells": [
  {
   "cell_type": "code",
   "execution_count": 1,
   "id": "5a9c1d2a",
   "metadata": {},
   "outputs": [],
   "source": [
    "#Encryption and Decryption using AES\n",
    "#KeyLength 128bits/192bits/256bits\n",
    "#Input 128bits\n",
    "#Output 128bits"
   ]
  },
  {
   "cell_type": "code",
   "execution_count": 2,
   "id": "ec76a3b0",
   "metadata": {},
   "outputs": [],
   "source": [
    "from base64 import b64encode, b64decode\n",
    "from Crypto.Cipher import AES, DES\n",
    "from Crypto.Util.Padding import pad, unpad\n",
    "from Crypto.Random import get_random_bytes"
   ]
  },
  {
   "cell_type": "code",
   "execution_count": 3,
   "id": "eeca178f",
   "metadata": {},
   "outputs": [],
   "source": [
    "#Encryption and Decryption using AES-ECB, Key length 128bits & Input = 16bits"
   ]
  },
  {
   "cell_type": "code",
   "execution_count": 4,
   "id": "7ff6a897",
   "metadata": {},
   "outputs": [
    {
     "name": "stdout",
     "output_type": "stream",
     "text": [
      "b'\\xb2\\xfb6\\xa9q\\xd3\\xf5\\xae\\xdeO\\xa0QlH\\xeb\\x8d'\n",
      "b'Coding Interview'\n",
      "CPU times: user 1.6 ms, sys: 347 µs, total: 1.95 ms\n",
      "Wall time: 1.64 ms\n"
     ]
    }
   ],
   "source": [
    "%%time\n",
    "key = b'Sixteen byte key'\n",
    "plaintext = b'Coding Interview'\n",
    "cipher = AES.new(key,AES.MODE_ECB)\n",
    "msg = cipher.encrypt(plaintext)\n",
    "print(msg)\n",
    "decipher = AES.new(key,AES.MODE_ECB)\n",
    "msg_dec = decipher.decrypt(msg)\n",
    "print(msg_dec)"
   ]
  },
  {
   "cell_type": "code",
   "execution_count": 5,
   "id": "d4f758de",
   "metadata": {},
   "outputs": [],
   "source": [
    "#Encryption and Decryption using AES-ECB, Key length 128bits & Input = 32bits"
   ]
  },
  {
   "cell_type": "code",
   "execution_count": 6,
   "id": "fc5c1596",
   "metadata": {},
   "outputs": [
    {
     "name": "stdout",
     "output_type": "stream",
     "text": [
      "b'\\xb2\\xfb6\\xa9q\\xd3\\xf5\\xae\\xdeO\\xa0QlH\\xeb\\x8d\\xb2\\xfb6\\xa9q\\xd3\\xf5\\xae\\xdeO\\xa0QlH\\xeb\\x8d'\n",
      "b'Coding InterviewCoding Interview'\n",
      "CPU times: user 250 µs, sys: 90 µs, total: 340 µs\n",
      "Wall time: 269 µs\n"
     ]
    }
   ],
   "source": [
    "%%time\n",
    "key = b'Sixteen byte key'\n",
    "plaintext = b'Coding InterviewCoding Interview'\n",
    "cipher = AES.new(key,AES.MODE_ECB)\n",
    "msg = cipher.encrypt(plaintext)\n",
    "print(msg)\n",
    "decipher = AES.new(key,AES.MODE_ECB)\n",
    "msg_dec = decipher.decrypt(msg)\n",
    "print(msg_dec)"
   ]
  },
  {
   "cell_type": "code",
   "execution_count": 7,
   "id": "bd2c1646",
   "metadata": {},
   "outputs": [],
   "source": [
    "#Encryption and Decryption using AES-ECB, Key length 128bits & Input = 64bits"
   ]
  },
  {
   "cell_type": "code",
   "execution_count": 8,
   "id": "e3b50fd1",
   "metadata": {},
   "outputs": [
    {
     "name": "stdout",
     "output_type": "stream",
     "text": [
      "b'\\xb2\\xfb6\\xa9q\\xd3\\xf5\\xae\\xdeO\\xa0QlH\\xeb\\x8d\\xb2\\xfb6\\xa9q\\xd3\\xf5\\xae\\xdeO\\xa0QlH\\xeb\\x8d\\xb2\\xfb6\\xa9q\\xd3\\xf5\\xae\\xdeO\\xa0QlH\\xeb\\x8d\\xb2\\xfb6\\xa9q\\xd3\\xf5\\xae\\xdeO\\xa0QlH\\xeb\\x8d'\n",
      "b'Coding InterviewCoding InterviewCoding InterviewCoding Interview'\n",
      "CPU times: user 169 µs, sys: 49 µs, total: 218 µs\n",
      "Wall time: 193 µs\n"
     ]
    }
   ],
   "source": [
    "%%time\n",
    "key = b'Sixteen byte key'\n",
    "plaintext = b'Coding InterviewCoding InterviewCoding InterviewCoding Interview'\n",
    "cipher = AES.new(key,AES.MODE_ECB)\n",
    "msg = cipher.encrypt(plaintext)\n",
    "print(msg)\n",
    "decipher = AES.new(key,AES.MODE_ECB)\n",
    "msg_dec = decipher.decrypt(msg)\n",
    "print(msg_dec)"
   ]
  },
  {
   "cell_type": "code",
   "execution_count": 9,
   "id": "4665ad13",
   "metadata": {},
   "outputs": [],
   "source": [
    "#Encryption and Decryption using AES-ECB, Key length 128bits & Input = 128bits"
   ]
  },
  {
   "cell_type": "code",
   "execution_count": 10,
   "id": "423d69d5",
   "metadata": {},
   "outputs": [
    {
     "name": "stdout",
     "output_type": "stream",
     "text": [
      "b'\\xb2\\xfb6\\xa9q\\xd3\\xf5\\xae\\xdeO\\xa0QlH\\xeb\\x8d\\xb2\\xfb6\\xa9q\\xd3\\xf5\\xae\\xdeO\\xa0QlH\\xeb\\x8d\\xb2\\xfb6\\xa9q\\xd3\\xf5\\xae\\xdeO\\xa0QlH\\xeb\\x8d\\xb2\\xfb6\\xa9q\\xd3\\xf5\\xae\\xdeO\\xa0QlH\\xeb\\x8d\\xb2\\xfb6\\xa9q\\xd3\\xf5\\xae\\xdeO\\xa0QlH\\xeb\\x8d\\xb2\\xfb6\\xa9q\\xd3\\xf5\\xae\\xdeO\\xa0QlH\\xeb\\x8d\\xb2\\xfb6\\xa9q\\xd3\\xf5\\xae\\xdeO\\xa0QlH\\xeb\\x8d\\xb2\\xfb6\\xa9q\\xd3\\xf5\\xae\\xdeO\\xa0QlH\\xeb\\x8d'\n",
      "b'Coding InterviewCoding InterviewCoding InterviewCoding InterviewCoding InterviewCoding InterviewCoding InterviewCoding Interview'\n",
      "CPU times: user 110 µs, sys: 36 µs, total: 146 µs\n",
      "Wall time: 115 µs\n"
     ]
    }
   ],
   "source": [
    "%%time\n",
    "key = b'Sixteen byte key'\n",
    "plaintext = b'Coding InterviewCoding InterviewCoding InterviewCoding InterviewCoding InterviewCoding InterviewCoding InterviewCoding Interview'\n",
    "cipher = AES.new(key,AES.MODE_ECB)\n",
    "msg = cipher.encrypt(plaintext)\n",
    "print(msg)\n",
    "decipher = AES.new(key,AES.MODE_ECB)\n",
    "msg_dec = decipher.decrypt(msg)\n",
    "print(msg_dec)"
   ]
  },
  {
   "cell_type": "code",
   "execution_count": 11,
   "id": "66106572",
   "metadata": {},
   "outputs": [],
   "source": [
    "#Encryption and Decryption using AES-ECB, Key length 128bits & Input = 256bits"
   ]
  },
  {
   "cell_type": "code",
   "execution_count": 12,
   "id": "f5c6d0fb",
   "metadata": {},
   "outputs": [
    {
     "name": "stdout",
     "output_type": "stream",
     "text": [
      "b'\\xb2\\xfb6\\xa9q\\xd3\\xf5\\xae\\xdeO\\xa0QlH\\xeb\\x8d\\xb2\\xfb6\\xa9q\\xd3\\xf5\\xae\\xdeO\\xa0QlH\\xeb\\x8d\\xb2\\xfb6\\xa9q\\xd3\\xf5\\xae\\xdeO\\xa0QlH\\xeb\\x8d\\xb2\\xfb6\\xa9q\\xd3\\xf5\\xae\\xdeO\\xa0QlH\\xeb\\x8d\\xb2\\xfb6\\xa9q\\xd3\\xf5\\xae\\xdeO\\xa0QlH\\xeb\\x8d\\xb2\\xfb6\\xa9q\\xd3\\xf5\\xae\\xdeO\\xa0QlH\\xeb\\x8d\\xb2\\xfb6\\xa9q\\xd3\\xf5\\xae\\xdeO\\xa0QlH\\xeb\\x8d\\xb2\\xfb6\\xa9q\\xd3\\xf5\\xae\\xdeO\\xa0QlH\\xeb\\x8d\\xb2\\xfb6\\xa9q\\xd3\\xf5\\xae\\xdeO\\xa0QlH\\xeb\\x8d\\xb2\\xfb6\\xa9q\\xd3\\xf5\\xae\\xdeO\\xa0QlH\\xeb\\x8d\\xb2\\xfb6\\xa9q\\xd3\\xf5\\xae\\xdeO\\xa0QlH\\xeb\\x8d\\xb2\\xfb6\\xa9q\\xd3\\xf5\\xae\\xdeO\\xa0QlH\\xeb\\x8d\\xb2\\xfb6\\xa9q\\xd3\\xf5\\xae\\xdeO\\xa0QlH\\xeb\\x8d\\xb2\\xfb6\\xa9q\\xd3\\xf5\\xae\\xdeO\\xa0QlH\\xeb\\x8d\\xb2\\xfb6\\xa9q\\xd3\\xf5\\xae\\xdeO\\xa0QlH\\xeb\\x8d\\xb2\\xfb6\\xa9q\\xd3\\xf5\\xae\\xdeO\\xa0QlH\\xeb\\x8d'\n",
      "b'Coding InterviewCoding InterviewCoding InterviewCoding InterviewCoding InterviewCoding InterviewCoding InterviewCoding InterviewCoding InterviewCoding InterviewCoding InterviewCoding InterviewCoding InterviewCoding InterviewCoding InterviewCoding Interview'\n",
      "CPU times: user 114 µs, sys: 36 µs, total: 150 µs\n",
      "Wall time: 119 µs\n"
     ]
    }
   ],
   "source": [
    "%%time\n",
    "key = b'Sixteen byte key'\n",
    "plaintext = b'Coding InterviewCoding InterviewCoding InterviewCoding InterviewCoding InterviewCoding InterviewCoding InterviewCoding InterviewCoding InterviewCoding InterviewCoding InterviewCoding InterviewCoding InterviewCoding InterviewCoding InterviewCoding Interview'\n",
    "cipher = AES.new(key,AES.MODE_ECB)\n",
    "msg = cipher.encrypt(plaintext)\n",
    "print(msg)\n",
    "decipher = AES.new(key,AES.MODE_ECB)\n",
    "msg_dec = decipher.decrypt(msg)\n",
    "print(msg_dec)"
   ]
  },
  {
   "cell_type": "code",
   "execution_count": 13,
   "id": "11526913",
   "metadata": {},
   "outputs": [],
   "source": [
    "#Encryption and Decryption using AES-ECB, Key length 128bits & Input = 512bits"
   ]
  },
  {
   "cell_type": "code",
   "execution_count": 14,
   "id": "c9fab284",
   "metadata": {},
   "outputs": [
    {
     "name": "stdout",
     "output_type": "stream",
     "text": [
      "b'\\xb2\\xfb6\\xa9q\\xd3\\xf5\\xae\\xdeO\\xa0QlH\\xeb\\x8d\\xb2\\xfb6\\xa9q\\xd3\\xf5\\xae\\xdeO\\xa0QlH\\xeb\\x8d\\xb2\\xfb6\\xa9q\\xd3\\xf5\\xae\\xdeO\\xa0QlH\\xeb\\x8d\\xb2\\xfb6\\xa9q\\xd3\\xf5\\xae\\xdeO\\xa0QlH\\xeb\\x8d\\xb2\\xfb6\\xa9q\\xd3\\xf5\\xae\\xdeO\\xa0QlH\\xeb\\x8d\\xb2\\xfb6\\xa9q\\xd3\\xf5\\xae\\xdeO\\xa0QlH\\xeb\\x8d\\xb2\\xfb6\\xa9q\\xd3\\xf5\\xae\\xdeO\\xa0QlH\\xeb\\x8d\\xb2\\xfb6\\xa9q\\xd3\\xf5\\xae\\xdeO\\xa0QlH\\xeb\\x8d\\xb2\\xfb6\\xa9q\\xd3\\xf5\\xae\\xdeO\\xa0QlH\\xeb\\x8d\\xb2\\xfb6\\xa9q\\xd3\\xf5\\xae\\xdeO\\xa0QlH\\xeb\\x8d\\xb2\\xfb6\\xa9q\\xd3\\xf5\\xae\\xdeO\\xa0QlH\\xeb\\x8d\\xb2\\xfb6\\xa9q\\xd3\\xf5\\xae\\xdeO\\xa0QlH\\xeb\\x8d\\xb2\\xfb6\\xa9q\\xd3\\xf5\\xae\\xdeO\\xa0QlH\\xeb\\x8d\\xb2\\xfb6\\xa9q\\xd3\\xf5\\xae\\xdeO\\xa0QlH\\xeb\\x8d\\xb2\\xfb6\\xa9q\\xd3\\xf5\\xae\\xdeO\\xa0QlH\\xeb\\x8d\\xb2\\xfb6\\xa9q\\xd3\\xf5\\xae\\xdeO\\xa0QlH\\xeb\\x8d\\xb2\\xfb6\\xa9q\\xd3\\xf5\\xae\\xdeO\\xa0QlH\\xeb\\x8d\\xb2\\xfb6\\xa9q\\xd3\\xf5\\xae\\xdeO\\xa0QlH\\xeb\\x8d\\xb2\\xfb6\\xa9q\\xd3\\xf5\\xae\\xdeO\\xa0QlH\\xeb\\x8d\\xb2\\xfb6\\xa9q\\xd3\\xf5\\xae\\xdeO\\xa0QlH\\xeb\\x8d\\xb2\\xfb6\\xa9q\\xd3\\xf5\\xae\\xdeO\\xa0QlH\\xeb\\x8d\\xb2\\xfb6\\xa9q\\xd3\\xf5\\xae\\xdeO\\xa0QlH\\xeb\\x8d\\xb2\\xfb6\\xa9q\\xd3\\xf5\\xae\\xdeO\\xa0QlH\\xeb\\x8d\\xb2\\xfb6\\xa9q\\xd3\\xf5\\xae\\xdeO\\xa0QlH\\xeb\\x8d\\xb2\\xfb6\\xa9q\\xd3\\xf5\\xae\\xdeO\\xa0QlH\\xeb\\x8d\\xb2\\xfb6\\xa9q\\xd3\\xf5\\xae\\xdeO\\xa0QlH\\xeb\\x8d\\xb2\\xfb6\\xa9q\\xd3\\xf5\\xae\\xdeO\\xa0QlH\\xeb\\x8d\\xb2\\xfb6\\xa9q\\xd3\\xf5\\xae\\xdeO\\xa0QlH\\xeb\\x8d\\xb2\\xfb6\\xa9q\\xd3\\xf5\\xae\\xdeO\\xa0QlH\\xeb\\x8d\\xb2\\xfb6\\xa9q\\xd3\\xf5\\xae\\xdeO\\xa0QlH\\xeb\\x8d\\xb2\\xfb6\\xa9q\\xd3\\xf5\\xae\\xdeO\\xa0QlH\\xeb\\x8d\\xb2\\xfb6\\xa9q\\xd3\\xf5\\xae\\xdeO\\xa0QlH\\xeb\\x8d'\n",
      "b'Coding InterviewCoding InterviewCoding InterviewCoding InterviewCoding InterviewCoding InterviewCoding InterviewCoding InterviewCoding InterviewCoding InterviewCoding InterviewCoding InterviewCoding InterviewCoding InterviewCoding InterviewCoding InterviewCoding InterviewCoding InterviewCoding InterviewCoding InterviewCoding InterviewCoding InterviewCoding InterviewCoding InterviewCoding InterviewCoding InterviewCoding InterviewCoding InterviewCoding InterviewCoding InterviewCoding InterviewCoding Interview'\n",
      "CPU times: user 177 µs, sys: 50 µs, total: 227 µs\n",
      "Wall time: 194 µs\n"
     ]
    }
   ],
   "source": [
    "%%time\n",
    "key = b'Sixteen byte key'\n",
    "plaintext = b'Coding InterviewCoding InterviewCoding InterviewCoding InterviewCoding InterviewCoding InterviewCoding InterviewCoding InterviewCoding InterviewCoding InterviewCoding InterviewCoding InterviewCoding InterviewCoding InterviewCoding InterviewCoding InterviewCoding InterviewCoding InterviewCoding InterviewCoding InterviewCoding InterviewCoding InterviewCoding InterviewCoding InterviewCoding InterviewCoding InterviewCoding InterviewCoding InterviewCoding InterviewCoding InterviewCoding InterviewCoding Interview'\n",
    "cipher = AES.new(key,AES.MODE_ECB)\n",
    "msg = cipher.encrypt(plaintext)\n",
    "print(msg)\n",
    "decipher = AES.new(key,AES.MODE_ECB)\n",
    "msg_dec = decipher.decrypt(msg)\n",
    "print(msg_dec)"
   ]
  },
  {
   "cell_type": "code",
   "execution_count": 15,
   "id": "3c368133",
   "metadata": {},
   "outputs": [],
   "source": [
    "#Encryption and Decryption using AES-ECB, Key length 128bits & Input = 1024bits"
   ]
  },
  {
   "cell_type": "code",
   "execution_count": 16,
   "id": "21ac9f95",
   "metadata": {},
   "outputs": [
    {
     "name": "stdout",
     "output_type": "stream",
     "text": [
      "b'\\xb2\\xfb6\\xa9q\\xd3\\xf5\\xae\\xdeO\\xa0QlH\\xeb\\x8d\\xb2\\xfb6\\xa9q\\xd3\\xf5\\xae\\xdeO\\xa0QlH\\xeb\\x8d\\xb2\\xfb6\\xa9q\\xd3\\xf5\\xae\\xdeO\\xa0QlH\\xeb\\x8d\\xb2\\xfb6\\xa9q\\xd3\\xf5\\xae\\xdeO\\xa0QlH\\xeb\\x8d\\xb2\\xfb6\\xa9q\\xd3\\xf5\\xae\\xdeO\\xa0QlH\\xeb\\x8d\\xb2\\xfb6\\xa9q\\xd3\\xf5\\xae\\xdeO\\xa0QlH\\xeb\\x8d\\xb2\\xfb6\\xa9q\\xd3\\xf5\\xae\\xdeO\\xa0QlH\\xeb\\x8d\\xb2\\xfb6\\xa9q\\xd3\\xf5\\xae\\xdeO\\xa0QlH\\xeb\\x8d\\xb2\\xfb6\\xa9q\\xd3\\xf5\\xae\\xdeO\\xa0QlH\\xeb\\x8d\\xb2\\xfb6\\xa9q\\xd3\\xf5\\xae\\xdeO\\xa0QlH\\xeb\\x8d\\xb2\\xfb6\\xa9q\\xd3\\xf5\\xae\\xdeO\\xa0QlH\\xeb\\x8d\\xb2\\xfb6\\xa9q\\xd3\\xf5\\xae\\xdeO\\xa0QlH\\xeb\\x8d\\xb2\\xfb6\\xa9q\\xd3\\xf5\\xae\\xdeO\\xa0QlH\\xeb\\x8d\\xb2\\xfb6\\xa9q\\xd3\\xf5\\xae\\xdeO\\xa0QlH\\xeb\\x8d\\xb2\\xfb6\\xa9q\\xd3\\xf5\\xae\\xdeO\\xa0QlH\\xeb\\x8d\\xb2\\xfb6\\xa9q\\xd3\\xf5\\xae\\xdeO\\xa0QlH\\xeb\\x8d\\xb2\\xfb6\\xa9q\\xd3\\xf5\\xae\\xdeO\\xa0QlH\\xeb\\x8d\\xb2\\xfb6\\xa9q\\xd3\\xf5\\xae\\xdeO\\xa0QlH\\xeb\\x8d\\xb2\\xfb6\\xa9q\\xd3\\xf5\\xae\\xdeO\\xa0QlH\\xeb\\x8d\\xb2\\xfb6\\xa9q\\xd3\\xf5\\xae\\xdeO\\xa0QlH\\xeb\\x8d\\xb2\\xfb6\\xa9q\\xd3\\xf5\\xae\\xdeO\\xa0QlH\\xeb\\x8d\\xb2\\xfb6\\xa9q\\xd3\\xf5\\xae\\xdeO\\xa0QlH\\xeb\\x8d\\xb2\\xfb6\\xa9q\\xd3\\xf5\\xae\\xdeO\\xa0QlH\\xeb\\x8d\\xb2\\xfb6\\xa9q\\xd3\\xf5\\xae\\xdeO\\xa0QlH\\xeb\\x8d\\xb2\\xfb6\\xa9q\\xd3\\xf5\\xae\\xdeO\\xa0QlH\\xeb\\x8d\\xb2\\xfb6\\xa9q\\xd3\\xf5\\xae\\xdeO\\xa0QlH\\xeb\\x8d\\xb2\\xfb6\\xa9q\\xd3\\xf5\\xae\\xdeO\\xa0QlH\\xeb\\x8d\\xb2\\xfb6\\xa9q\\xd3\\xf5\\xae\\xdeO\\xa0QlH\\xeb\\x8d\\xb2\\xfb6\\xa9q\\xd3\\xf5\\xae\\xdeO\\xa0QlH\\xeb\\x8d\\xb2\\xfb6\\xa9q\\xd3\\xf5\\xae\\xdeO\\xa0QlH\\xeb\\x8d\\xb2\\xfb6\\xa9q\\xd3\\xf5\\xae\\xdeO\\xa0QlH\\xeb\\x8d\\xb2\\xfb6\\xa9q\\xd3\\xf5\\xae\\xdeO\\xa0QlH\\xeb\\x8d\\xb2\\xfb6\\xa9q\\xd3\\xf5\\xae\\xdeO\\xa0QlH\\xeb\\x8d\\xb2\\xfb6\\xa9q\\xd3\\xf5\\xae\\xdeO\\xa0QlH\\xeb\\x8d\\xb2\\xfb6\\xa9q\\xd3\\xf5\\xae\\xdeO\\xa0QlH\\xeb\\x8d\\xb2\\xfb6\\xa9q\\xd3\\xf5\\xae\\xdeO\\xa0QlH\\xeb\\x8d\\xb2\\xfb6\\xa9q\\xd3\\xf5\\xae\\xdeO\\xa0QlH\\xeb\\x8d\\xb2\\xfb6\\xa9q\\xd3\\xf5\\xae\\xdeO\\xa0QlH\\xeb\\x8d\\xb2\\xfb6\\xa9q\\xd3\\xf5\\xae\\xdeO\\xa0QlH\\xeb\\x8d\\xb2\\xfb6\\xa9q\\xd3\\xf5\\xae\\xdeO\\xa0QlH\\xeb\\x8d\\xb2\\xfb6\\xa9q\\xd3\\xf5\\xae\\xdeO\\xa0QlH\\xeb\\x8d\\xb2\\xfb6\\xa9q\\xd3\\xf5\\xae\\xdeO\\xa0QlH\\xeb\\x8d\\xb2\\xfb6\\xa9q\\xd3\\xf5\\xae\\xdeO\\xa0QlH\\xeb\\x8d\\xb2\\xfb6\\xa9q\\xd3\\xf5\\xae\\xdeO\\xa0QlH\\xeb\\x8d\\xb2\\xfb6\\xa9q\\xd3\\xf5\\xae\\xdeO\\xa0QlH\\xeb\\x8d\\xb2\\xfb6\\xa9q\\xd3\\xf5\\xae\\xdeO\\xa0QlH\\xeb\\x8d\\xb2\\xfb6\\xa9q\\xd3\\xf5\\xae\\xdeO\\xa0QlH\\xeb\\x8d\\xb2\\xfb6\\xa9q\\xd3\\xf5\\xae\\xdeO\\xa0QlH\\xeb\\x8d\\xb2\\xfb6\\xa9q\\xd3\\xf5\\xae\\xdeO\\xa0QlH\\xeb\\x8d\\xb2\\xfb6\\xa9q\\xd3\\xf5\\xae\\xdeO\\xa0QlH\\xeb\\x8d\\xb2\\xfb6\\xa9q\\xd3\\xf5\\xae\\xdeO\\xa0QlH\\xeb\\x8d\\xb2\\xfb6\\xa9q\\xd3\\xf5\\xae\\xdeO\\xa0QlH\\xeb\\x8d\\xb2\\xfb6\\xa9q\\xd3\\xf5\\xae\\xdeO\\xa0QlH\\xeb\\x8d\\xb2\\xfb6\\xa9q\\xd3\\xf5\\xae\\xdeO\\xa0QlH\\xeb\\x8d\\xb2\\xfb6\\xa9q\\xd3\\xf5\\xae\\xdeO\\xa0QlH\\xeb\\x8d\\xb2\\xfb6\\xa9q\\xd3\\xf5\\xae\\xdeO\\xa0QlH\\xeb\\x8d\\xb2\\xfb6\\xa9q\\xd3\\xf5\\xae\\xdeO\\xa0QlH\\xeb\\x8d\\xb2\\xfb6\\xa9q\\xd3\\xf5\\xae\\xdeO\\xa0QlH\\xeb\\x8d\\xb2\\xfb6\\xa9q\\xd3\\xf5\\xae\\xdeO\\xa0QlH\\xeb\\x8d\\xb2\\xfb6\\xa9q\\xd3\\xf5\\xae\\xdeO\\xa0QlH\\xeb\\x8d\\xb2\\xfb6\\xa9q\\xd3\\xf5\\xae\\xdeO\\xa0QlH\\xeb\\x8d\\xb2\\xfb6\\xa9q\\xd3\\xf5\\xae\\xdeO\\xa0QlH\\xeb\\x8d\\xb2\\xfb6\\xa9q\\xd3\\xf5\\xae\\xdeO\\xa0QlH\\xeb\\x8d\\xb2\\xfb6\\xa9q\\xd3\\xf5\\xae\\xdeO\\xa0QlH\\xeb\\x8d'\n",
      "b'Coding InterviewCoding InterviewCoding InterviewCoding InterviewCoding InterviewCoding InterviewCoding InterviewCoding InterviewCoding InterviewCoding InterviewCoding InterviewCoding InterviewCoding InterviewCoding InterviewCoding InterviewCoding InterviewCoding InterviewCoding InterviewCoding InterviewCoding InterviewCoding InterviewCoding InterviewCoding InterviewCoding InterviewCoding InterviewCoding InterviewCoding InterviewCoding InterviewCoding InterviewCoding InterviewCoding InterviewCoding InterviewCoding InterviewCoding InterviewCoding InterviewCoding InterviewCoding InterviewCoding InterviewCoding InterviewCoding InterviewCoding InterviewCoding InterviewCoding InterviewCoding InterviewCoding InterviewCoding InterviewCoding InterviewCoding InterviewCoding InterviewCoding InterviewCoding InterviewCoding InterviewCoding InterviewCoding InterviewCoding InterviewCoding InterviewCoding InterviewCoding InterviewCoding InterviewCoding InterviewCoding InterviewCoding InterviewCoding InterviewCoding Interview'\n",
      "CPU times: user 465 µs, sys: 415 µs, total: 880 µs\n",
      "Wall time: 554 µs\n"
     ]
    }
   ],
   "source": [
    "%%time\n",
    "key = b'Sixteen byte key'\n",
    "plaintext = b'Coding InterviewCoding InterviewCoding InterviewCoding InterviewCoding InterviewCoding InterviewCoding InterviewCoding InterviewCoding InterviewCoding InterviewCoding InterviewCoding InterviewCoding InterviewCoding InterviewCoding InterviewCoding InterviewCoding InterviewCoding InterviewCoding InterviewCoding InterviewCoding InterviewCoding InterviewCoding InterviewCoding InterviewCoding InterviewCoding InterviewCoding InterviewCoding InterviewCoding InterviewCoding InterviewCoding InterviewCoding InterviewCoding InterviewCoding InterviewCoding InterviewCoding InterviewCoding InterviewCoding InterviewCoding InterviewCoding InterviewCoding InterviewCoding InterviewCoding InterviewCoding InterviewCoding InterviewCoding InterviewCoding InterviewCoding InterviewCoding InterviewCoding InterviewCoding InterviewCoding InterviewCoding InterviewCoding InterviewCoding InterviewCoding InterviewCoding InterviewCoding InterviewCoding InterviewCoding InterviewCoding InterviewCoding InterviewCoding InterviewCoding Interview'\n",
    "cipher = AES.new(key,AES.MODE_ECB)\n",
    "msg = cipher.encrypt(plaintext)\n",
    "print(msg)\n",
    "decipher = AES.new(key,AES.MODE_ECB)\n",
    "msg_dec = decipher.decrypt(msg)\n",
    "print(msg_dec)"
   ]
  },
  {
   "cell_type": "code",
   "execution_count": 17,
   "id": "96f0f39e",
   "metadata": {},
   "outputs": [],
   "source": [
    "#Encryption and Decryption using AES-ECB, Key length 192bits & Input = 16bits"
   ]
  },
  {
   "cell_type": "code",
   "execution_count": 18,
   "id": "cdb52f53",
   "metadata": {},
   "outputs": [
    {
     "name": "stdout",
     "output_type": "stream",
     "text": [
      "b'%XkT\\x8e\\xf2\\xbb\\x1bI\\xf5!\\xeb\\x9c\\xa0G\\x10'\n",
      "b'Coding Interview'\n",
      "CPU times: user 264 µs, sys: 203 µs, total: 467 µs\n",
      "Wall time: 269 µs\n"
     ]
    }
   ],
   "source": [
    "%%time\n",
    "key = b'San Francisco State Univ'\n",
    "plaintext = b'Coding Interview'\n",
    "cipher = AES.new(key,AES.MODE_ECB)\n",
    "msg = cipher.encrypt(plaintext)\n",
    "print(msg)\n",
    "decipher = AES.new(key,AES.MODE_ECB)\n",
    "msg_dec = decipher.decrypt(msg)\n",
    "print(msg_dec)"
   ]
  },
  {
   "cell_type": "code",
   "execution_count": 19,
   "id": "a2c18072",
   "metadata": {},
   "outputs": [],
   "source": [
    "#Encryption and Decryption using AES-ECB, Key length 192bits & Input = 32bits"
   ]
  },
  {
   "cell_type": "code",
   "execution_count": 20,
   "id": "7b9aad89",
   "metadata": {},
   "outputs": [
    {
     "name": "stdout",
     "output_type": "stream",
     "text": [
      "b'%XkT\\x8e\\xf2\\xbb\\x1bI\\xf5!\\xeb\\x9c\\xa0G\\x10%XkT\\x8e\\xf2\\xbb\\x1bI\\xf5!\\xeb\\x9c\\xa0G\\x10'\n",
      "b'Coding InterviewCoding Interview'\n",
      "CPU times: user 104 µs, sys: 23 µs, total: 127 µs\n",
      "Wall time: 108 µs\n"
     ]
    }
   ],
   "source": [
    "%%time\n",
    "key = b'San Francisco State Univ'\n",
    "plaintext = b'Coding InterviewCoding Interview'\n",
    "cipher = AES.new(key,AES.MODE_ECB)\n",
    "msg = cipher.encrypt(plaintext)\n",
    "print(msg)\n",
    "decipher = AES.new(key,AES.MODE_ECB)\n",
    "msg_dec = decipher.decrypt(msg)\n",
    "print(msg_dec)"
   ]
  },
  {
   "cell_type": "code",
   "execution_count": 21,
   "id": "a73aaedb",
   "metadata": {},
   "outputs": [],
   "source": [
    "#Encryption and Decryption using AES-ECB, Key length 192bits & Input = 64bits"
   ]
  },
  {
   "cell_type": "code",
   "execution_count": 22,
   "id": "4732bed2",
   "metadata": {},
   "outputs": [
    {
     "name": "stdout",
     "output_type": "stream",
     "text": [
      "b'%XkT\\x8e\\xf2\\xbb\\x1bI\\xf5!\\xeb\\x9c\\xa0G\\x10%XkT\\x8e\\xf2\\xbb\\x1bI\\xf5!\\xeb\\x9c\\xa0G\\x10%XkT\\x8e\\xf2\\xbb\\x1bI\\xf5!\\xeb\\x9c\\xa0G\\x10%XkT\\x8e\\xf2\\xbb\\x1bI\\xf5!\\xeb\\x9c\\xa0G\\x10'\n",
      "b'Coding InterviewCoding InterviewCoding InterviewCoding Interview'\n",
      "CPU times: user 514 µs, sys: 373 µs, total: 887 µs\n",
      "Wall time: 578 µs\n"
     ]
    }
   ],
   "source": [
    "%%time\n",
    "key = b'San Francisco State Univ'\n",
    "plaintext = b'Coding InterviewCoding InterviewCoding InterviewCoding Interview'\n",
    "cipher = AES.new(key,AES.MODE_ECB)\n",
    "msg = cipher.encrypt(plaintext)\n",
    "print(msg)\n",
    "decipher = AES.new(key,AES.MODE_ECB)\n",
    "msg_dec = decipher.decrypt(msg)\n",
    "print(msg_dec)"
   ]
  },
  {
   "cell_type": "code",
   "execution_count": 23,
   "id": "ab760545",
   "metadata": {},
   "outputs": [],
   "source": [
    "#Encryption and Decryption using AES-ECB, Key length 192bits & Input = 128bits"
   ]
  },
  {
   "cell_type": "code",
   "execution_count": 24,
   "id": "55fdfc59",
   "metadata": {},
   "outputs": [
    {
     "name": "stdout",
     "output_type": "stream",
     "text": [
      "b'%XkT\\x8e\\xf2\\xbb\\x1bI\\xf5!\\xeb\\x9c\\xa0G\\x10%XkT\\x8e\\xf2\\xbb\\x1bI\\xf5!\\xeb\\x9c\\xa0G\\x10%XkT\\x8e\\xf2\\xbb\\x1bI\\xf5!\\xeb\\x9c\\xa0G\\x10%XkT\\x8e\\xf2\\xbb\\x1bI\\xf5!\\xeb\\x9c\\xa0G\\x10%XkT\\x8e\\xf2\\xbb\\x1bI\\xf5!\\xeb\\x9c\\xa0G\\x10%XkT\\x8e\\xf2\\xbb\\x1bI\\xf5!\\xeb\\x9c\\xa0G\\x10%XkT\\x8e\\xf2\\xbb\\x1bI\\xf5!\\xeb\\x9c\\xa0G\\x10%XkT\\x8e\\xf2\\xbb\\x1bI\\xf5!\\xeb\\x9c\\xa0G\\x10'\n",
      "b'Coding InterviewCoding InterviewCoding InterviewCoding InterviewCoding InterviewCoding InterviewCoding InterviewCoding Interview'\n",
      "CPU times: user 172 µs, sys: 45 µs, total: 217 µs\n",
      "Wall time: 190 µs\n"
     ]
    }
   ],
   "source": [
    "%%time\n",
    "key = b'San Francisco State Univ'\n",
    "plaintext = b'Coding InterviewCoding InterviewCoding InterviewCoding InterviewCoding InterviewCoding InterviewCoding InterviewCoding Interview'\n",
    "cipher = AES.new(key,AES.MODE_ECB)\n",
    "msg = cipher.encrypt(plaintext)\n",
    "print(msg)\n",
    "decipher = AES.new(key,AES.MODE_ECB)\n",
    "msg_dec = decipher.decrypt(msg)\n",
    "print(msg_dec)"
   ]
  },
  {
   "cell_type": "code",
   "execution_count": 25,
   "id": "e99e8170",
   "metadata": {},
   "outputs": [],
   "source": [
    "#Encryption and Decryption using AES-ECB, Key length 192bits & Input = 256bits"
   ]
  },
  {
   "cell_type": "code",
   "execution_count": 26,
   "id": "b5d4cd09",
   "metadata": {},
   "outputs": [
    {
     "name": "stdout",
     "output_type": "stream",
     "text": [
      "b'%XkT\\x8e\\xf2\\xbb\\x1bI\\xf5!\\xeb\\x9c\\xa0G\\x10%XkT\\x8e\\xf2\\xbb\\x1bI\\xf5!\\xeb\\x9c\\xa0G\\x10%XkT\\x8e\\xf2\\xbb\\x1bI\\xf5!\\xeb\\x9c\\xa0G\\x10%XkT\\x8e\\xf2\\xbb\\x1bI\\xf5!\\xeb\\x9c\\xa0G\\x10%XkT\\x8e\\xf2\\xbb\\x1bI\\xf5!\\xeb\\x9c\\xa0G\\x10%XkT\\x8e\\xf2\\xbb\\x1bI\\xf5!\\xeb\\x9c\\xa0G\\x10%XkT\\x8e\\xf2\\xbb\\x1bI\\xf5!\\xeb\\x9c\\xa0G\\x10%XkT\\x8e\\xf2\\xbb\\x1bI\\xf5!\\xeb\\x9c\\xa0G\\x10%XkT\\x8e\\xf2\\xbb\\x1bI\\xf5!\\xeb\\x9c\\xa0G\\x10%XkT\\x8e\\xf2\\xbb\\x1bI\\xf5!\\xeb\\x9c\\xa0G\\x10%XkT\\x8e\\xf2\\xbb\\x1bI\\xf5!\\xeb\\x9c\\xa0G\\x10%XkT\\x8e\\xf2\\xbb\\x1bI\\xf5!\\xeb\\x9c\\xa0G\\x10%XkT\\x8e\\xf2\\xbb\\x1bI\\xf5!\\xeb\\x9c\\xa0G\\x10%XkT\\x8e\\xf2\\xbb\\x1bI\\xf5!\\xeb\\x9c\\xa0G\\x10%XkT\\x8e\\xf2\\xbb\\x1bI\\xf5!\\xeb\\x9c\\xa0G\\x10%XkT\\x8e\\xf2\\xbb\\x1bI\\xf5!\\xeb\\x9c\\xa0G\\x10'\n",
      "b'Coding InterviewCoding InterviewCoding InterviewCoding InterviewCoding InterviewCoding InterviewCoding InterviewCoding InterviewCoding InterviewCoding InterviewCoding InterviewCoding InterviewCoding InterviewCoding InterviewCoding InterviewCoding Interview'\n",
      "CPU times: user 110 µs, sys: 29 µs, total: 139 µs\n",
      "Wall time: 112 µs\n"
     ]
    }
   ],
   "source": [
    "%%time\n",
    "key = b'San Francisco State Univ'\n",
    "plaintext = b'Coding InterviewCoding InterviewCoding InterviewCoding InterviewCoding InterviewCoding InterviewCoding InterviewCoding InterviewCoding InterviewCoding InterviewCoding InterviewCoding InterviewCoding InterviewCoding InterviewCoding InterviewCoding Interview'\n",
    "cipher = AES.new(key,AES.MODE_ECB)\n",
    "msg = cipher.encrypt(plaintext)\n",
    "print(msg)\n",
    "decipher = AES.new(key,AES.MODE_ECB)\n",
    "msg_dec = decipher.decrypt(msg)\n",
    "print(msg_dec)"
   ]
  },
  {
   "cell_type": "code",
   "execution_count": 27,
   "id": "24107189",
   "metadata": {},
   "outputs": [],
   "source": [
    "#Encryption and Decryption using AES-ECB, Key length 192bits & Input = 512bits"
   ]
  },
  {
   "cell_type": "code",
   "execution_count": 28,
   "id": "0f671419",
   "metadata": {},
   "outputs": [
    {
     "name": "stdout",
     "output_type": "stream",
     "text": [
      "b'%XkT\\x8e\\xf2\\xbb\\x1bI\\xf5!\\xeb\\x9c\\xa0G\\x10%XkT\\x8e\\xf2\\xbb\\x1bI\\xf5!\\xeb\\x9c\\xa0G\\x10%XkT\\x8e\\xf2\\xbb\\x1bI\\xf5!\\xeb\\x9c\\xa0G\\x10%XkT\\x8e\\xf2\\xbb\\x1bI\\xf5!\\xeb\\x9c\\xa0G\\x10%XkT\\x8e\\xf2\\xbb\\x1bI\\xf5!\\xeb\\x9c\\xa0G\\x10%XkT\\x8e\\xf2\\xbb\\x1bI\\xf5!\\xeb\\x9c\\xa0G\\x10%XkT\\x8e\\xf2\\xbb\\x1bI\\xf5!\\xeb\\x9c\\xa0G\\x10%XkT\\x8e\\xf2\\xbb\\x1bI\\xf5!\\xeb\\x9c\\xa0G\\x10%XkT\\x8e\\xf2\\xbb\\x1bI\\xf5!\\xeb\\x9c\\xa0G\\x10%XkT\\x8e\\xf2\\xbb\\x1bI\\xf5!\\xeb\\x9c\\xa0G\\x10%XkT\\x8e\\xf2\\xbb\\x1bI\\xf5!\\xeb\\x9c\\xa0G\\x10%XkT\\x8e\\xf2\\xbb\\x1bI\\xf5!\\xeb\\x9c\\xa0G\\x10%XkT\\x8e\\xf2\\xbb\\x1bI\\xf5!\\xeb\\x9c\\xa0G\\x10%XkT\\x8e\\xf2\\xbb\\x1bI\\xf5!\\xeb\\x9c\\xa0G\\x10%XkT\\x8e\\xf2\\xbb\\x1bI\\xf5!\\xeb\\x9c\\xa0G\\x10%XkT\\x8e\\xf2\\xbb\\x1bI\\xf5!\\xeb\\x9c\\xa0G\\x10%XkT\\x8e\\xf2\\xbb\\x1bI\\xf5!\\xeb\\x9c\\xa0G\\x10%XkT\\x8e\\xf2\\xbb\\x1bI\\xf5!\\xeb\\x9c\\xa0G\\x10%XkT\\x8e\\xf2\\xbb\\x1bI\\xf5!\\xeb\\x9c\\xa0G\\x10%XkT\\x8e\\xf2\\xbb\\x1bI\\xf5!\\xeb\\x9c\\xa0G\\x10%XkT\\x8e\\xf2\\xbb\\x1bI\\xf5!\\xeb\\x9c\\xa0G\\x10%XkT\\x8e\\xf2\\xbb\\x1bI\\xf5!\\xeb\\x9c\\xa0G\\x10%XkT\\x8e\\xf2\\xbb\\x1bI\\xf5!\\xeb\\x9c\\xa0G\\x10%XkT\\x8e\\xf2\\xbb\\x1bI\\xf5!\\xeb\\x9c\\xa0G\\x10%XkT\\x8e\\xf2\\xbb\\x1bI\\xf5!\\xeb\\x9c\\xa0G\\x10%XkT\\x8e\\xf2\\xbb\\x1bI\\xf5!\\xeb\\x9c\\xa0G\\x10%XkT\\x8e\\xf2\\xbb\\x1bI\\xf5!\\xeb\\x9c\\xa0G\\x10%XkT\\x8e\\xf2\\xbb\\x1bI\\xf5!\\xeb\\x9c\\xa0G\\x10%XkT\\x8e\\xf2\\xbb\\x1bI\\xf5!\\xeb\\x9c\\xa0G\\x10%XkT\\x8e\\xf2\\xbb\\x1bI\\xf5!\\xeb\\x9c\\xa0G\\x10%XkT\\x8e\\xf2\\xbb\\x1bI\\xf5!\\xeb\\x9c\\xa0G\\x10%XkT\\x8e\\xf2\\xbb\\x1bI\\xf5!\\xeb\\x9c\\xa0G\\x10'\n",
      "b'Coding InterviewCoding InterviewCoding InterviewCoding InterviewCoding InterviewCoding InterviewCoding InterviewCoding InterviewCoding InterviewCoding InterviewCoding InterviewCoding InterviewCoding InterviewCoding InterviewCoding InterviewCoding InterviewCoding InterviewCoding InterviewCoding InterviewCoding InterviewCoding InterviewCoding InterviewCoding InterviewCoding InterviewCoding InterviewCoding InterviewCoding InterviewCoding InterviewCoding InterviewCoding InterviewCoding InterviewCoding Interview'\n",
      "CPU times: user 111 µs, sys: 24 µs, total: 135 µs\n",
      "Wall time: 113 µs\n"
     ]
    }
   ],
   "source": [
    "%%time\n",
    "key = b'San Francisco State Univ'\n",
    "plaintext = b'Coding InterviewCoding InterviewCoding InterviewCoding InterviewCoding InterviewCoding InterviewCoding InterviewCoding InterviewCoding InterviewCoding InterviewCoding InterviewCoding InterviewCoding InterviewCoding InterviewCoding InterviewCoding InterviewCoding InterviewCoding InterviewCoding InterviewCoding InterviewCoding InterviewCoding InterviewCoding InterviewCoding InterviewCoding InterviewCoding InterviewCoding InterviewCoding InterviewCoding InterviewCoding InterviewCoding InterviewCoding Interview'\n",
    "cipher = AES.new(key,AES.MODE_ECB)\n",
    "msg = cipher.encrypt(plaintext)\n",
    "print(msg)\n",
    "decipher = AES.new(key,AES.MODE_ECB)\n",
    "msg_dec = decipher.decrypt(msg)\n",
    "print(msg_dec)"
   ]
  },
  {
   "cell_type": "code",
   "execution_count": 29,
   "id": "241c8a25",
   "metadata": {},
   "outputs": [],
   "source": [
    "#Encryption and Decryption using AES-ECB, Key length 192bits & Input = 1024bits"
   ]
  },
  {
   "cell_type": "code",
   "execution_count": 30,
   "id": "9fb244d1",
   "metadata": {},
   "outputs": [
    {
     "name": "stdout",
     "output_type": "stream",
     "text": [
      "b'%XkT\\x8e\\xf2\\xbb\\x1bI\\xf5!\\xeb\\x9c\\xa0G\\x10%XkT\\x8e\\xf2\\xbb\\x1bI\\xf5!\\xeb\\x9c\\xa0G\\x10%XkT\\x8e\\xf2\\xbb\\x1bI\\xf5!\\xeb\\x9c\\xa0G\\x10%XkT\\x8e\\xf2\\xbb\\x1bI\\xf5!\\xeb\\x9c\\xa0G\\x10%XkT\\x8e\\xf2\\xbb\\x1bI\\xf5!\\xeb\\x9c\\xa0G\\x10%XkT\\x8e\\xf2\\xbb\\x1bI\\xf5!\\xeb\\x9c\\xa0G\\x10%XkT\\x8e\\xf2\\xbb\\x1bI\\xf5!\\xeb\\x9c\\xa0G\\x10%XkT\\x8e\\xf2\\xbb\\x1bI\\xf5!\\xeb\\x9c\\xa0G\\x10%XkT\\x8e\\xf2\\xbb\\x1bI\\xf5!\\xeb\\x9c\\xa0G\\x10%XkT\\x8e\\xf2\\xbb\\x1bI\\xf5!\\xeb\\x9c\\xa0G\\x10%XkT\\x8e\\xf2\\xbb\\x1bI\\xf5!\\xeb\\x9c\\xa0G\\x10%XkT\\x8e\\xf2\\xbb\\x1bI\\xf5!\\xeb\\x9c\\xa0G\\x10%XkT\\x8e\\xf2\\xbb\\x1bI\\xf5!\\xeb\\x9c\\xa0G\\x10%XkT\\x8e\\xf2\\xbb\\x1bI\\xf5!\\xeb\\x9c\\xa0G\\x10%XkT\\x8e\\xf2\\xbb\\x1bI\\xf5!\\xeb\\x9c\\xa0G\\x10%XkT\\x8e\\xf2\\xbb\\x1bI\\xf5!\\xeb\\x9c\\xa0G\\x10%XkT\\x8e\\xf2\\xbb\\x1bI\\xf5!\\xeb\\x9c\\xa0G\\x10%XkT\\x8e\\xf2\\xbb\\x1bI\\xf5!\\xeb\\x9c\\xa0G\\x10%XkT\\x8e\\xf2\\xbb\\x1bI\\xf5!\\xeb\\x9c\\xa0G\\x10%XkT\\x8e\\xf2\\xbb\\x1bI\\xf5!\\xeb\\x9c\\xa0G\\x10%XkT\\x8e\\xf2\\xbb\\x1bI\\xf5!\\xeb\\x9c\\xa0G\\x10%XkT\\x8e\\xf2\\xbb\\x1bI\\xf5!\\xeb\\x9c\\xa0G\\x10%XkT\\x8e\\xf2\\xbb\\x1bI\\xf5!\\xeb\\x9c\\xa0G\\x10%XkT\\x8e\\xf2\\xbb\\x1bI\\xf5!\\xeb\\x9c\\xa0G\\x10%XkT\\x8e\\xf2\\xbb\\x1bI\\xf5!\\xeb\\x9c\\xa0G\\x10%XkT\\x8e\\xf2\\xbb\\x1bI\\xf5!\\xeb\\x9c\\xa0G\\x10%XkT\\x8e\\xf2\\xbb\\x1bI\\xf5!\\xeb\\x9c\\xa0G\\x10%XkT\\x8e\\xf2\\xbb\\x1bI\\xf5!\\xeb\\x9c\\xa0G\\x10%XkT\\x8e\\xf2\\xbb\\x1bI\\xf5!\\xeb\\x9c\\xa0G\\x10%XkT\\x8e\\xf2\\xbb\\x1bI\\xf5!\\xeb\\x9c\\xa0G\\x10%XkT\\x8e\\xf2\\xbb\\x1bI\\xf5!\\xeb\\x9c\\xa0G\\x10%XkT\\x8e\\xf2\\xbb\\x1bI\\xf5!\\xeb\\x9c\\xa0G\\x10%XkT\\x8e\\xf2\\xbb\\x1bI\\xf5!\\xeb\\x9c\\xa0G\\x10%XkT\\x8e\\xf2\\xbb\\x1bI\\xf5!\\xeb\\x9c\\xa0G\\x10%XkT\\x8e\\xf2\\xbb\\x1bI\\xf5!\\xeb\\x9c\\xa0G\\x10%XkT\\x8e\\xf2\\xbb\\x1bI\\xf5!\\xeb\\x9c\\xa0G\\x10%XkT\\x8e\\xf2\\xbb\\x1bI\\xf5!\\xeb\\x9c\\xa0G\\x10%XkT\\x8e\\xf2\\xbb\\x1bI\\xf5!\\xeb\\x9c\\xa0G\\x10%XkT\\x8e\\xf2\\xbb\\x1bI\\xf5!\\xeb\\x9c\\xa0G\\x10%XkT\\x8e\\xf2\\xbb\\x1bI\\xf5!\\xeb\\x9c\\xa0G\\x10%XkT\\x8e\\xf2\\xbb\\x1bI\\xf5!\\xeb\\x9c\\xa0G\\x10%XkT\\x8e\\xf2\\xbb\\x1bI\\xf5!\\xeb\\x9c\\xa0G\\x10%XkT\\x8e\\xf2\\xbb\\x1bI\\xf5!\\xeb\\x9c\\xa0G\\x10%XkT\\x8e\\xf2\\xbb\\x1bI\\xf5!\\xeb\\x9c\\xa0G\\x10%XkT\\x8e\\xf2\\xbb\\x1bI\\xf5!\\xeb\\x9c\\xa0G\\x10%XkT\\x8e\\xf2\\xbb\\x1bI\\xf5!\\xeb\\x9c\\xa0G\\x10%XkT\\x8e\\xf2\\xbb\\x1bI\\xf5!\\xeb\\x9c\\xa0G\\x10%XkT\\x8e\\xf2\\xbb\\x1bI\\xf5!\\xeb\\x9c\\xa0G\\x10%XkT\\x8e\\xf2\\xbb\\x1bI\\xf5!\\xeb\\x9c\\xa0G\\x10%XkT\\x8e\\xf2\\xbb\\x1bI\\xf5!\\xeb\\x9c\\xa0G\\x10%XkT\\x8e\\xf2\\xbb\\x1bI\\xf5!\\xeb\\x9c\\xa0G\\x10%XkT\\x8e\\xf2\\xbb\\x1bI\\xf5!\\xeb\\x9c\\xa0G\\x10%XkT\\x8e\\xf2\\xbb\\x1bI\\xf5!\\xeb\\x9c\\xa0G\\x10%XkT\\x8e\\xf2\\xbb\\x1bI\\xf5!\\xeb\\x9c\\xa0G\\x10%XkT\\x8e\\xf2\\xbb\\x1bI\\xf5!\\xeb\\x9c\\xa0G\\x10%XkT\\x8e\\xf2\\xbb\\x1bI\\xf5!\\xeb\\x9c\\xa0G\\x10%XkT\\x8e\\xf2\\xbb\\x1bI\\xf5!\\xeb\\x9c\\xa0G\\x10%XkT\\x8e\\xf2\\xbb\\x1bI\\xf5!\\xeb\\x9c\\xa0G\\x10%XkT\\x8e\\xf2\\xbb\\x1bI\\xf5!\\xeb\\x9c\\xa0G\\x10%XkT\\x8e\\xf2\\xbb\\x1bI\\xf5!\\xeb\\x9c\\xa0G\\x10%XkT\\x8e\\xf2\\xbb\\x1bI\\xf5!\\xeb\\x9c\\xa0G\\x10%XkT\\x8e\\xf2\\xbb\\x1bI\\xf5!\\xeb\\x9c\\xa0G\\x10%XkT\\x8e\\xf2\\xbb\\x1bI\\xf5!\\xeb\\x9c\\xa0G\\x10%XkT\\x8e\\xf2\\xbb\\x1bI\\xf5!\\xeb\\x9c\\xa0G\\x10'\n",
      "b'Coding InterviewCoding InterviewCoding InterviewCoding InterviewCoding InterviewCoding InterviewCoding InterviewCoding InterviewCoding InterviewCoding InterviewCoding InterviewCoding InterviewCoding InterviewCoding InterviewCoding InterviewCoding InterviewCoding InterviewCoding InterviewCoding InterviewCoding InterviewCoding InterviewCoding InterviewCoding InterviewCoding InterviewCoding InterviewCoding InterviewCoding InterviewCoding InterviewCoding InterviewCoding InterviewCoding InterviewCoding InterviewCoding InterviewCoding InterviewCoding InterviewCoding InterviewCoding InterviewCoding InterviewCoding InterviewCoding InterviewCoding InterviewCoding InterviewCoding InterviewCoding InterviewCoding InterviewCoding InterviewCoding InterviewCoding InterviewCoding InterviewCoding InterviewCoding InterviewCoding InterviewCoding InterviewCoding InterviewCoding InterviewCoding InterviewCoding InterviewCoding InterviewCoding InterviewCoding InterviewCoding InterviewCoding InterviewCoding InterviewCoding Interview'\n",
      "CPU times: user 167 µs, sys: 48 µs, total: 215 µs\n",
      "Wall time: 184 µs\n"
     ]
    }
   ],
   "source": [
    "%%time\n",
    "from Crypto.Cipher import AES\n",
    "key = b'San Francisco State Univ'\n",
    "plaintext = b'Coding InterviewCoding InterviewCoding InterviewCoding InterviewCoding InterviewCoding InterviewCoding InterviewCoding InterviewCoding InterviewCoding InterviewCoding InterviewCoding InterviewCoding InterviewCoding InterviewCoding InterviewCoding InterviewCoding InterviewCoding InterviewCoding InterviewCoding InterviewCoding InterviewCoding InterviewCoding InterviewCoding InterviewCoding InterviewCoding InterviewCoding InterviewCoding InterviewCoding InterviewCoding InterviewCoding InterviewCoding InterviewCoding InterviewCoding InterviewCoding InterviewCoding InterviewCoding InterviewCoding InterviewCoding InterviewCoding InterviewCoding InterviewCoding InterviewCoding InterviewCoding InterviewCoding InterviewCoding InterviewCoding InterviewCoding InterviewCoding InterviewCoding InterviewCoding InterviewCoding InterviewCoding InterviewCoding InterviewCoding InterviewCoding InterviewCoding InterviewCoding InterviewCoding InterviewCoding InterviewCoding InterviewCoding InterviewCoding InterviewCoding Interview'\n",
    "cipher = AES.new(key,AES.MODE_ECB)\n",
    "msg = cipher.encrypt(plaintext)\n",
    "print(msg)\n",
    "decipher = AES.new(key,AES.MODE_ECB)\n",
    "msg_dec = decipher.decrypt(msg)\n",
    "print(msg_dec)"
   ]
  },
  {
   "cell_type": "code",
   "execution_count": 31,
   "id": "33d5b9cb",
   "metadata": {},
   "outputs": [],
   "source": [
    "#Encryption and Decryption using AES-ECB, Key length 256bits & Input = 16bits"
   ]
  },
  {
   "cell_type": "code",
   "execution_count": 32,
   "id": "84af7d06",
   "metadata": {},
   "outputs": [
    {
     "name": "stdout",
     "output_type": "stream",
     "text": [
      "b'\\xca\\xc6\\xde\\xdb&+\\xac\\xa8\\xab\\xf9\\xe0\\xe0|\\xae\\xbf\\xd3'\n",
      "b'Coding Interview'\n",
      "CPU times: user 266 µs, sys: 90 µs, total: 356 µs\n",
      "Wall time: 280 µs\n"
     ]
    }
   ],
   "source": [
    "%%time\n",
    "from Crypto.Cipher import AES\n",
    "key = b'Leetcode Prework PracticeSession'\n",
    "plaintext = b'Coding Interview'\n",
    "cipher = AES.new(key,AES.MODE_ECB)\n",
    "msg = cipher.encrypt(plaintext)\n",
    "print(msg)\n",
    "decipher = AES.new(key,AES.MODE_ECB)\n",
    "msg_dec = decipher.decrypt(msg)\n",
    "print(msg_dec)"
   ]
  },
  {
   "cell_type": "code",
   "execution_count": 33,
   "id": "1512e7c1",
   "metadata": {},
   "outputs": [],
   "source": [
    "#Encryption and Decryption using AES-ECB, Key length 256bits & Input = 32bits"
   ]
  },
  {
   "cell_type": "code",
   "execution_count": 34,
   "id": "27181e11",
   "metadata": {},
   "outputs": [
    {
     "name": "stdout",
     "output_type": "stream",
     "text": [
      "b'\\xca\\xc6\\xde\\xdb&+\\xac\\xa8\\xab\\xf9\\xe0\\xe0|\\xae\\xbf\\xd3\\xca\\xc6\\xde\\xdb&+\\xac\\xa8\\xab\\xf9\\xe0\\xe0|\\xae\\xbf\\xd3'\n",
      "b'Coding InterviewCoding Interview'\n",
      "CPU times: user 108 µs, sys: 27 µs, total: 135 µs\n",
      "Wall time: 116 µs\n"
     ]
    }
   ],
   "source": [
    "%%time\n",
    "from Crypto.Cipher import AES\n",
    "key = b'Leetcode Prework PracticeSession'\n",
    "plaintext = b'Coding InterviewCoding Interview'\n",
    "cipher = AES.new(key,AES.MODE_ECB)\n",
    "msg = cipher.encrypt(plaintext)\n",
    "print(msg)\n",
    "decipher = AES.new(key,AES.MODE_ECB)\n",
    "msg_dec = decipher.decrypt(msg)\n",
    "print(msg_dec)"
   ]
  },
  {
   "cell_type": "code",
   "execution_count": 35,
   "id": "1bcacc8f",
   "metadata": {},
   "outputs": [],
   "source": [
    "#Encryption and Decryption using AES-ECB, Key length 256bits & Input = 64bits"
   ]
  },
  {
   "cell_type": "code",
   "execution_count": 36,
   "id": "a7172212",
   "metadata": {},
   "outputs": [
    {
     "name": "stdout",
     "output_type": "stream",
     "text": [
      "b'\\xca\\xc6\\xde\\xdb&+\\xac\\xa8\\xab\\xf9\\xe0\\xe0|\\xae\\xbf\\xd3\\xca\\xc6\\xde\\xdb&+\\xac\\xa8\\xab\\xf9\\xe0\\xe0|\\xae\\xbf\\xd3\\xca\\xc6\\xde\\xdb&+\\xac\\xa8\\xab\\xf9\\xe0\\xe0|\\xae\\xbf\\xd3\\xca\\xc6\\xde\\xdb&+\\xac\\xa8\\xab\\xf9\\xe0\\xe0|\\xae\\xbf\\xd3'\n",
      "b'Coding InterviewCoding InterviewCoding InterviewCoding Interview'\n",
      "CPU times: user 157 µs, sys: 51 µs, total: 208 µs\n",
      "Wall time: 174 µs\n"
     ]
    }
   ],
   "source": [
    "%%time\n",
    "from Crypto.Cipher import AES\n",
    "key = b'Leetcode Prework PracticeSession'\n",
    "plaintext = b'Coding InterviewCoding InterviewCoding InterviewCoding Interview'\n",
    "cipher = AES.new(key,AES.MODE_ECB)\n",
    "msg = cipher.encrypt(plaintext)\n",
    "print(msg)\n",
    "decipher = AES.new(key,AES.MODE_ECB)\n",
    "msg_dec = decipher.decrypt(msg)\n",
    "print(msg_dec)"
   ]
  },
  {
   "cell_type": "code",
   "execution_count": 37,
   "id": "827f656c",
   "metadata": {},
   "outputs": [],
   "source": [
    "#Encryption and Decryption using AES-ECB, Key length 256bits & Input = 128bits"
   ]
  },
  {
   "cell_type": "code",
   "execution_count": 38,
   "id": "093b4917",
   "metadata": {},
   "outputs": [
    {
     "name": "stdout",
     "output_type": "stream",
     "text": [
      "b'\\xca\\xc6\\xde\\xdb&+\\xac\\xa8\\xab\\xf9\\xe0\\xe0|\\xae\\xbf\\xd3\\xca\\xc6\\xde\\xdb&+\\xac\\xa8\\xab\\xf9\\xe0\\xe0|\\xae\\xbf\\xd3\\xca\\xc6\\xde\\xdb&+\\xac\\xa8\\xab\\xf9\\xe0\\xe0|\\xae\\xbf\\xd3\\xca\\xc6\\xde\\xdb&+\\xac\\xa8\\xab\\xf9\\xe0\\xe0|\\xae\\xbf\\xd3\\xca\\xc6\\xde\\xdb&+\\xac\\xa8\\xab\\xf9\\xe0\\xe0|\\xae\\xbf\\xd3\\xca\\xc6\\xde\\xdb&+\\xac\\xa8\\xab\\xf9\\xe0\\xe0|\\xae\\xbf\\xd3\\xca\\xc6\\xde\\xdb&+\\xac\\xa8\\xab\\xf9\\xe0\\xe0|\\xae\\xbf\\xd3\\xca\\xc6\\xde\\xdb&+\\xac\\xa8\\xab\\xf9\\xe0\\xe0|\\xae\\xbf\\xd3'\n",
      "b'Coding InterviewCoding InterviewCoding InterviewCoding InterviewCoding InterviewCoding InterviewCoding InterviewCoding Interview'\n",
      "CPU times: user 220 µs, sys: 113 µs, total: 333 µs\n",
      "Wall time: 225 µs\n"
     ]
    }
   ],
   "source": [
    "%%time\n",
    "from Crypto.Cipher import AES\n",
    "key = b'Leetcode Prework PracticeSession'\n",
    "plaintext = b'Coding InterviewCoding InterviewCoding InterviewCoding InterviewCoding InterviewCoding InterviewCoding InterviewCoding Interview'\n",
    "cipher = AES.new(key,AES.MODE_ECB)\n",
    "msg = cipher.encrypt(plaintext)\n",
    "print(msg)\n",
    "decipher = AES.new(key,AES.MODE_ECB)\n",
    "msg_dec = decipher.decrypt(msg)\n",
    "print(msg_dec)"
   ]
  },
  {
   "cell_type": "code",
   "execution_count": 39,
   "id": "4a361376",
   "metadata": {},
   "outputs": [],
   "source": [
    "#Encryption and Decryption using AES-ECB, Key length 256bits & Input = 256bits"
   ]
  },
  {
   "cell_type": "code",
   "execution_count": 40,
   "id": "e69200e0",
   "metadata": {},
   "outputs": [
    {
     "name": "stdout",
     "output_type": "stream",
     "text": [
      "b'\\xca\\xc6\\xde\\xdb&+\\xac\\xa8\\xab\\xf9\\xe0\\xe0|\\xae\\xbf\\xd3\\xca\\xc6\\xde\\xdb&+\\xac\\xa8\\xab\\xf9\\xe0\\xe0|\\xae\\xbf\\xd3\\xca\\xc6\\xde\\xdb&+\\xac\\xa8\\xab\\xf9\\xe0\\xe0|\\xae\\xbf\\xd3\\xca\\xc6\\xde\\xdb&+\\xac\\xa8\\xab\\xf9\\xe0\\xe0|\\xae\\xbf\\xd3\\xca\\xc6\\xde\\xdb&+\\xac\\xa8\\xab\\xf9\\xe0\\xe0|\\xae\\xbf\\xd3\\xca\\xc6\\xde\\xdb&+\\xac\\xa8\\xab\\xf9\\xe0\\xe0|\\xae\\xbf\\xd3\\xca\\xc6\\xde\\xdb&+\\xac\\xa8\\xab\\xf9\\xe0\\xe0|\\xae\\xbf\\xd3\\xca\\xc6\\xde\\xdb&+\\xac\\xa8\\xab\\xf9\\xe0\\xe0|\\xae\\xbf\\xd3\\xca\\xc6\\xde\\xdb&+\\xac\\xa8\\xab\\xf9\\xe0\\xe0|\\xae\\xbf\\xd3\\xca\\xc6\\xde\\xdb&+\\xac\\xa8\\xab\\xf9\\xe0\\xe0|\\xae\\xbf\\xd3\\xca\\xc6\\xde\\xdb&+\\xac\\xa8\\xab\\xf9\\xe0\\xe0|\\xae\\xbf\\xd3\\xca\\xc6\\xde\\xdb&+\\xac\\xa8\\xab\\xf9\\xe0\\xe0|\\xae\\xbf\\xd3\\xca\\xc6\\xde\\xdb&+\\xac\\xa8\\xab\\xf9\\xe0\\xe0|\\xae\\xbf\\xd3\\xca\\xc6\\xde\\xdb&+\\xac\\xa8\\xab\\xf9\\xe0\\xe0|\\xae\\xbf\\xd3\\xca\\xc6\\xde\\xdb&+\\xac\\xa8\\xab\\xf9\\xe0\\xe0|\\xae\\xbf\\xd3\\xca\\xc6\\xde\\xdb&+\\xac\\xa8\\xab\\xf9\\xe0\\xe0|\\xae\\xbf\\xd3'\n",
      "b'Coding InterviewCoding InterviewCoding InterviewCoding InterviewCoding InterviewCoding InterviewCoding InterviewCoding InterviewCoding InterviewCoding InterviewCoding InterviewCoding InterviewCoding InterviewCoding InterviewCoding InterviewCoding Interview'\n",
      "CPU times: user 106 µs, sys: 24 µs, total: 130 µs\n",
      "Wall time: 109 µs\n"
     ]
    }
   ],
   "source": [
    "%%time\n",
    "from Crypto.Cipher import AES\n",
    "key = b'Leetcode Prework PracticeSession'\n",
    "plaintext = b'Coding InterviewCoding InterviewCoding InterviewCoding InterviewCoding InterviewCoding InterviewCoding InterviewCoding InterviewCoding InterviewCoding InterviewCoding InterviewCoding InterviewCoding InterviewCoding InterviewCoding InterviewCoding Interview'\n",
    "cipher = AES.new(key,AES.MODE_ECB)\n",
    "msg = cipher.encrypt(plaintext)\n",
    "print(msg)\n",
    "decipher = AES.new(key,AES.MODE_ECB)\n",
    "msg_dec = decipher.decrypt(msg)\n",
    "print(msg_dec)"
   ]
  },
  {
   "cell_type": "code",
   "execution_count": 41,
   "id": "86cf8b30",
   "metadata": {},
   "outputs": [],
   "source": [
    "#Encryption and Decryption using AES-ECB, Key length 256bits & Input = 512bits"
   ]
  },
  {
   "cell_type": "code",
   "execution_count": 42,
   "id": "ac14f37b",
   "metadata": {},
   "outputs": [
    {
     "name": "stdout",
     "output_type": "stream",
     "text": [
      "b'\\xca\\xc6\\xde\\xdb&+\\xac\\xa8\\xab\\xf9\\xe0\\xe0|\\xae\\xbf\\xd3\\xca\\xc6\\xde\\xdb&+\\xac\\xa8\\xab\\xf9\\xe0\\xe0|\\xae\\xbf\\xd3\\xca\\xc6\\xde\\xdb&+\\xac\\xa8\\xab\\xf9\\xe0\\xe0|\\xae\\xbf\\xd3\\xca\\xc6\\xde\\xdb&+\\xac\\xa8\\xab\\xf9\\xe0\\xe0|\\xae\\xbf\\xd3\\xca\\xc6\\xde\\xdb&+\\xac\\xa8\\xab\\xf9\\xe0\\xe0|\\xae\\xbf\\xd3\\xca\\xc6\\xde\\xdb&+\\xac\\xa8\\xab\\xf9\\xe0\\xe0|\\xae\\xbf\\xd3\\xca\\xc6\\xde\\xdb&+\\xac\\xa8\\xab\\xf9\\xe0\\xe0|\\xae\\xbf\\xd3\\xca\\xc6\\xde\\xdb&+\\xac\\xa8\\xab\\xf9\\xe0\\xe0|\\xae\\xbf\\xd3\\xca\\xc6\\xde\\xdb&+\\xac\\xa8\\xab\\xf9\\xe0\\xe0|\\xae\\xbf\\xd3\\xca\\xc6\\xde\\xdb&+\\xac\\xa8\\xab\\xf9\\xe0\\xe0|\\xae\\xbf\\xd3\\xca\\xc6\\xde\\xdb&+\\xac\\xa8\\xab\\xf9\\xe0\\xe0|\\xae\\xbf\\xd3\\xca\\xc6\\xde\\xdb&+\\xac\\xa8\\xab\\xf9\\xe0\\xe0|\\xae\\xbf\\xd3\\xca\\xc6\\xde\\xdb&+\\xac\\xa8\\xab\\xf9\\xe0\\xe0|\\xae\\xbf\\xd3\\xca\\xc6\\xde\\xdb&+\\xac\\xa8\\xab\\xf9\\xe0\\xe0|\\xae\\xbf\\xd3\\xca\\xc6\\xde\\xdb&+\\xac\\xa8\\xab\\xf9\\xe0\\xe0|\\xae\\xbf\\xd3\\xca\\xc6\\xde\\xdb&+\\xac\\xa8\\xab\\xf9\\xe0\\xe0|\\xae\\xbf\\xd3\\xca\\xc6\\xde\\xdb&+\\xac\\xa8\\xab\\xf9\\xe0\\xe0|\\xae\\xbf\\xd3\\xca\\xc6\\xde\\xdb&+\\xac\\xa8\\xab\\xf9\\xe0\\xe0|\\xae\\xbf\\xd3\\xca\\xc6\\xde\\xdb&+\\xac\\xa8\\xab\\xf9\\xe0\\xe0|\\xae\\xbf\\xd3\\xca\\xc6\\xde\\xdb&+\\xac\\xa8\\xab\\xf9\\xe0\\xe0|\\xae\\xbf\\xd3\\xca\\xc6\\xde\\xdb&+\\xac\\xa8\\xab\\xf9\\xe0\\xe0|\\xae\\xbf\\xd3\\xca\\xc6\\xde\\xdb&+\\xac\\xa8\\xab\\xf9\\xe0\\xe0|\\xae\\xbf\\xd3\\xca\\xc6\\xde\\xdb&+\\xac\\xa8\\xab\\xf9\\xe0\\xe0|\\xae\\xbf\\xd3\\xca\\xc6\\xde\\xdb&+\\xac\\xa8\\xab\\xf9\\xe0\\xe0|\\xae\\xbf\\xd3\\xca\\xc6\\xde\\xdb&+\\xac\\xa8\\xab\\xf9\\xe0\\xe0|\\xae\\xbf\\xd3\\xca\\xc6\\xde\\xdb&+\\xac\\xa8\\xab\\xf9\\xe0\\xe0|\\xae\\xbf\\xd3\\xca\\xc6\\xde\\xdb&+\\xac\\xa8\\xab\\xf9\\xe0\\xe0|\\xae\\xbf\\xd3\\xca\\xc6\\xde\\xdb&+\\xac\\xa8\\xab\\xf9\\xe0\\xe0|\\xae\\xbf\\xd3\\xca\\xc6\\xde\\xdb&+\\xac\\xa8\\xab\\xf9\\xe0\\xe0|\\xae\\xbf\\xd3\\xca\\xc6\\xde\\xdb&+\\xac\\xa8\\xab\\xf9\\xe0\\xe0|\\xae\\xbf\\xd3\\xca\\xc6\\xde\\xdb&+\\xac\\xa8\\xab\\xf9\\xe0\\xe0|\\xae\\xbf\\xd3\\xca\\xc6\\xde\\xdb&+\\xac\\xa8\\xab\\xf9\\xe0\\xe0|\\xae\\xbf\\xd3'\n",
      "b'Coding InterviewCoding InterviewCoding InterviewCoding InterviewCoding InterviewCoding InterviewCoding InterviewCoding InterviewCoding InterviewCoding InterviewCoding InterviewCoding InterviewCoding InterviewCoding InterviewCoding InterviewCoding InterviewCoding InterviewCoding InterviewCoding InterviewCoding InterviewCoding InterviewCoding InterviewCoding InterviewCoding InterviewCoding InterviewCoding InterviewCoding InterviewCoding InterviewCoding InterviewCoding InterviewCoding InterviewCoding Interview'\n",
      "CPU times: user 438 µs, sys: 71 µs, total: 509 µs\n",
      "Wall time: 464 µs\n"
     ]
    }
   ],
   "source": [
    "%%time\n",
    "from Crypto.Cipher import AES\n",
    "key = b'Leetcode Prework PracticeSession'\n",
    "plaintext = b'Coding InterviewCoding InterviewCoding InterviewCoding InterviewCoding InterviewCoding InterviewCoding InterviewCoding InterviewCoding InterviewCoding InterviewCoding InterviewCoding InterviewCoding InterviewCoding InterviewCoding InterviewCoding InterviewCoding InterviewCoding InterviewCoding InterviewCoding InterviewCoding InterviewCoding InterviewCoding InterviewCoding InterviewCoding InterviewCoding InterviewCoding InterviewCoding InterviewCoding InterviewCoding InterviewCoding InterviewCoding Interview'\n",
    "cipher = AES.new(key,AES.MODE_ECB)\n",
    "msg = cipher.encrypt(plaintext)\n",
    "print(msg)\n",
    "decipher = AES.new(key,AES.MODE_ECB)\n",
    "msg_dec = decipher.decrypt(msg)\n",
    "print(msg_dec)"
   ]
  },
  {
   "cell_type": "code",
   "execution_count": 43,
   "id": "77264b49",
   "metadata": {},
   "outputs": [],
   "source": [
    "#Encryption and Decryption using AES-ECB, Key length 256bits & Input = 1024bits"
   ]
  },
  {
   "cell_type": "code",
   "execution_count": 44,
   "id": "c13fc739",
   "metadata": {},
   "outputs": [
    {
     "name": "stdout",
     "output_type": "stream",
     "text": [
      "b'\\xca\\xc6\\xde\\xdb&+\\xac\\xa8\\xab\\xf9\\xe0\\xe0|\\xae\\xbf\\xd3\\xca\\xc6\\xde\\xdb&+\\xac\\xa8\\xab\\xf9\\xe0\\xe0|\\xae\\xbf\\xd3\\xca\\xc6\\xde\\xdb&+\\xac\\xa8\\xab\\xf9\\xe0\\xe0|\\xae\\xbf\\xd3\\xca\\xc6\\xde\\xdb&+\\xac\\xa8\\xab\\xf9\\xe0\\xe0|\\xae\\xbf\\xd3\\xca\\xc6\\xde\\xdb&+\\xac\\xa8\\xab\\xf9\\xe0\\xe0|\\xae\\xbf\\xd3\\xca\\xc6\\xde\\xdb&+\\xac\\xa8\\xab\\xf9\\xe0\\xe0|\\xae\\xbf\\xd3\\xca\\xc6\\xde\\xdb&+\\xac\\xa8\\xab\\xf9\\xe0\\xe0|\\xae\\xbf\\xd3\\xca\\xc6\\xde\\xdb&+\\xac\\xa8\\xab\\xf9\\xe0\\xe0|\\xae\\xbf\\xd3\\xca\\xc6\\xde\\xdb&+\\xac\\xa8\\xab\\xf9\\xe0\\xe0|\\xae\\xbf\\xd3\\xca\\xc6\\xde\\xdb&+\\xac\\xa8\\xab\\xf9\\xe0\\xe0|\\xae\\xbf\\xd3\\xca\\xc6\\xde\\xdb&+\\xac\\xa8\\xab\\xf9\\xe0\\xe0|\\xae\\xbf\\xd3\\xca\\xc6\\xde\\xdb&+\\xac\\xa8\\xab\\xf9\\xe0\\xe0|\\xae\\xbf\\xd3\\xca\\xc6\\xde\\xdb&+\\xac\\xa8\\xab\\xf9\\xe0\\xe0|\\xae\\xbf\\xd3\\xca\\xc6\\xde\\xdb&+\\xac\\xa8\\xab\\xf9\\xe0\\xe0|\\xae\\xbf\\xd3\\xca\\xc6\\xde\\xdb&+\\xac\\xa8\\xab\\xf9\\xe0\\xe0|\\xae\\xbf\\xd3\\xca\\xc6\\xde\\xdb&+\\xac\\xa8\\xab\\xf9\\xe0\\xe0|\\xae\\xbf\\xd3\\xca\\xc6\\xde\\xdb&+\\xac\\xa8\\xab\\xf9\\xe0\\xe0|\\xae\\xbf\\xd3\\xca\\xc6\\xde\\xdb&+\\xac\\xa8\\xab\\xf9\\xe0\\xe0|\\xae\\xbf\\xd3\\xca\\xc6\\xde\\xdb&+\\xac\\xa8\\xab\\xf9\\xe0\\xe0|\\xae\\xbf\\xd3\\xca\\xc6\\xde\\xdb&+\\xac\\xa8\\xab\\xf9\\xe0\\xe0|\\xae\\xbf\\xd3\\xca\\xc6\\xde\\xdb&+\\xac\\xa8\\xab\\xf9\\xe0\\xe0|\\xae\\xbf\\xd3\\xca\\xc6\\xde\\xdb&+\\xac\\xa8\\xab\\xf9\\xe0\\xe0|\\xae\\xbf\\xd3\\xca\\xc6\\xde\\xdb&+\\xac\\xa8\\xab\\xf9\\xe0\\xe0|\\xae\\xbf\\xd3\\xca\\xc6\\xde\\xdb&+\\xac\\xa8\\xab\\xf9\\xe0\\xe0|\\xae\\xbf\\xd3\\xca\\xc6\\xde\\xdb&+\\xac\\xa8\\xab\\xf9\\xe0\\xe0|\\xae\\xbf\\xd3\\xca\\xc6\\xde\\xdb&+\\xac\\xa8\\xab\\xf9\\xe0\\xe0|\\xae\\xbf\\xd3\\xca\\xc6\\xde\\xdb&+\\xac\\xa8\\xab\\xf9\\xe0\\xe0|\\xae\\xbf\\xd3\\xca\\xc6\\xde\\xdb&+\\xac\\xa8\\xab\\xf9\\xe0\\xe0|\\xae\\xbf\\xd3\\xca\\xc6\\xde\\xdb&+\\xac\\xa8\\xab\\xf9\\xe0\\xe0|\\xae\\xbf\\xd3\\xca\\xc6\\xde\\xdb&+\\xac\\xa8\\xab\\xf9\\xe0\\xe0|\\xae\\xbf\\xd3\\xca\\xc6\\xde\\xdb&+\\xac\\xa8\\xab\\xf9\\xe0\\xe0|\\xae\\xbf\\xd3\\xca\\xc6\\xde\\xdb&+\\xac\\xa8\\xab\\xf9\\xe0\\xe0|\\xae\\xbf\\xd3\\xca\\xc6\\xde\\xdb&+\\xac\\xa8\\xab\\xf9\\xe0\\xe0|\\xae\\xbf\\xd3\\xca\\xc6\\xde\\xdb&+\\xac\\xa8\\xab\\xf9\\xe0\\xe0|\\xae\\xbf\\xd3\\xca\\xc6\\xde\\xdb&+\\xac\\xa8\\xab\\xf9\\xe0\\xe0|\\xae\\xbf\\xd3\\xca\\xc6\\xde\\xdb&+\\xac\\xa8\\xab\\xf9\\xe0\\xe0|\\xae\\xbf\\xd3\\xca\\xc6\\xde\\xdb&+\\xac\\xa8\\xab\\xf9\\xe0\\xe0|\\xae\\xbf\\xd3\\xca\\xc6\\xde\\xdb&+\\xac\\xa8\\xab\\xf9\\xe0\\xe0|\\xae\\xbf\\xd3\\xca\\xc6\\xde\\xdb&+\\xac\\xa8\\xab\\xf9\\xe0\\xe0|\\xae\\xbf\\xd3\\xca\\xc6\\xde\\xdb&+\\xac\\xa8\\xab\\xf9\\xe0\\xe0|\\xae\\xbf\\xd3\\xca\\xc6\\xde\\xdb&+\\xac\\xa8\\xab\\xf9\\xe0\\xe0|\\xae\\xbf\\xd3\\xca\\xc6\\xde\\xdb&+\\xac\\xa8\\xab\\xf9\\xe0\\xe0|\\xae\\xbf\\xd3\\xca\\xc6\\xde\\xdb&+\\xac\\xa8\\xab\\xf9\\xe0\\xe0|\\xae\\xbf\\xd3\\xca\\xc6\\xde\\xdb&+\\xac\\xa8\\xab\\xf9\\xe0\\xe0|\\xae\\xbf\\xd3\\xca\\xc6\\xde\\xdb&+\\xac\\xa8\\xab\\xf9\\xe0\\xe0|\\xae\\xbf\\xd3\\xca\\xc6\\xde\\xdb&+\\xac\\xa8\\xab\\xf9\\xe0\\xe0|\\xae\\xbf\\xd3\\xca\\xc6\\xde\\xdb&+\\xac\\xa8\\xab\\xf9\\xe0\\xe0|\\xae\\xbf\\xd3\\xca\\xc6\\xde\\xdb&+\\xac\\xa8\\xab\\xf9\\xe0\\xe0|\\xae\\xbf\\xd3\\xca\\xc6\\xde\\xdb&+\\xac\\xa8\\xab\\xf9\\xe0\\xe0|\\xae\\xbf\\xd3\\xca\\xc6\\xde\\xdb&+\\xac\\xa8\\xab\\xf9\\xe0\\xe0|\\xae\\xbf\\xd3\\xca\\xc6\\xde\\xdb&+\\xac\\xa8\\xab\\xf9\\xe0\\xe0|\\xae\\xbf\\xd3\\xca\\xc6\\xde\\xdb&+\\xac\\xa8\\xab\\xf9\\xe0\\xe0|\\xae\\xbf\\xd3\\xca\\xc6\\xde\\xdb&+\\xac\\xa8\\xab\\xf9\\xe0\\xe0|\\xae\\xbf\\xd3\\xca\\xc6\\xde\\xdb&+\\xac\\xa8\\xab\\xf9\\xe0\\xe0|\\xae\\xbf\\xd3\\xca\\xc6\\xde\\xdb&+\\xac\\xa8\\xab\\xf9\\xe0\\xe0|\\xae\\xbf\\xd3\\xca\\xc6\\xde\\xdb&+\\xac\\xa8\\xab\\xf9\\xe0\\xe0|\\xae\\xbf\\xd3\\xca\\xc6\\xde\\xdb&+\\xac\\xa8\\xab\\xf9\\xe0\\xe0|\\xae\\xbf\\xd3\\xca\\xc6\\xde\\xdb&+\\xac\\xa8\\xab\\xf9\\xe0\\xe0|\\xae\\xbf\\xd3\\xca\\xc6\\xde\\xdb&+\\xac\\xa8\\xab\\xf9\\xe0\\xe0|\\xae\\xbf\\xd3\\xca\\xc6\\xde\\xdb&+\\xac\\xa8\\xab\\xf9\\xe0\\xe0|\\xae\\xbf\\xd3\\xca\\xc6\\xde\\xdb&+\\xac\\xa8\\xab\\xf9\\xe0\\xe0|\\xae\\xbf\\xd3\\xca\\xc6\\xde\\xdb&+\\xac\\xa8\\xab\\xf9\\xe0\\xe0|\\xae\\xbf\\xd3\\xca\\xc6\\xde\\xdb&+\\xac\\xa8\\xab\\xf9\\xe0\\xe0|\\xae\\xbf\\xd3\\xca\\xc6\\xde\\xdb&+\\xac\\xa8\\xab\\xf9\\xe0\\xe0|\\xae\\xbf\\xd3'\n",
      "b'Coding InterviewCoding InterviewCoding InterviewCoding InterviewCoding InterviewCoding InterviewCoding InterviewCoding InterviewCoding InterviewCoding InterviewCoding InterviewCoding InterviewCoding InterviewCoding InterviewCoding InterviewCoding InterviewCoding InterviewCoding InterviewCoding InterviewCoding InterviewCoding InterviewCoding InterviewCoding InterviewCoding InterviewCoding InterviewCoding InterviewCoding InterviewCoding InterviewCoding InterviewCoding InterviewCoding InterviewCoding InterviewCoding InterviewCoding InterviewCoding InterviewCoding InterviewCoding InterviewCoding InterviewCoding InterviewCoding InterviewCoding InterviewCoding InterviewCoding InterviewCoding InterviewCoding InterviewCoding InterviewCoding InterviewCoding InterviewCoding InterviewCoding InterviewCoding InterviewCoding InterviewCoding InterviewCoding InterviewCoding InterviewCoding InterviewCoding InterviewCoding InterviewCoding InterviewCoding InterviewCoding InterviewCoding InterviewCoding InterviewCoding Interview'\n",
      "CPU times: user 225 µs, sys: 109 µs, total: 334 µs\n",
      "Wall time: 228 µs\n"
     ]
    }
   ],
   "source": [
    "%%time\n",
    "from Crypto.Cipher import AES\n",
    "key = b'Leetcode Prework PracticeSession'\n",
    "plaintext = b'Coding InterviewCoding InterviewCoding InterviewCoding InterviewCoding InterviewCoding InterviewCoding InterviewCoding InterviewCoding InterviewCoding InterviewCoding InterviewCoding InterviewCoding InterviewCoding InterviewCoding InterviewCoding InterviewCoding InterviewCoding InterviewCoding InterviewCoding InterviewCoding InterviewCoding InterviewCoding InterviewCoding InterviewCoding InterviewCoding InterviewCoding InterviewCoding InterviewCoding InterviewCoding InterviewCoding InterviewCoding InterviewCoding InterviewCoding InterviewCoding InterviewCoding InterviewCoding InterviewCoding InterviewCoding InterviewCoding InterviewCoding InterviewCoding InterviewCoding InterviewCoding InterviewCoding InterviewCoding InterviewCoding InterviewCoding InterviewCoding InterviewCoding InterviewCoding InterviewCoding InterviewCoding InterviewCoding InterviewCoding InterviewCoding InterviewCoding InterviewCoding InterviewCoding InterviewCoding InterviewCoding InterviewCoding InterviewCoding InterviewCoding Interview'\n",
    "cipher = AES.new(key,AES.MODE_ECB)\n",
    "msg = cipher.encrypt(plaintext)\n",
    "print(msg)\n",
    "decipher = AES.new(key,AES.MODE_ECB)\n",
    "msg_dec = decipher.decrypt(msg)\n",
    "print(msg_dec)"
   ]
  },
  {
   "cell_type": "code",
   "execution_count": 45,
   "id": "1768e724",
   "metadata": {},
   "outputs": [],
   "source": [
    "#Encryption and Decryption using AES-ECB, Key length 256bits & Input = 2048bits"
   ]
  },
  {
   "cell_type": "code",
   "execution_count": 46,
   "id": "3d1d2b16",
   "metadata": {},
   "outputs": [
    {
     "name": "stdout",
     "output_type": "stream",
     "text": [
      "b'\\xca\\xc6\\xde\\xdb&+\\xac\\xa8\\xab\\xf9\\xe0\\xe0|\\xae\\xbf\\xd3\\xca\\xc6\\xde\\xdb&+\\xac\\xa8\\xab\\xf9\\xe0\\xe0|\\xae\\xbf\\xd3\\xca\\xc6\\xde\\xdb&+\\xac\\xa8\\xab\\xf9\\xe0\\xe0|\\xae\\xbf\\xd3\\xca\\xc6\\xde\\xdb&+\\xac\\xa8\\xab\\xf9\\xe0\\xe0|\\xae\\xbf\\xd3\\xca\\xc6\\xde\\xdb&+\\xac\\xa8\\xab\\xf9\\xe0\\xe0|\\xae\\xbf\\xd3\\xca\\xc6\\xde\\xdb&+\\xac\\xa8\\xab\\xf9\\xe0\\xe0|\\xae\\xbf\\xd3\\xca\\xc6\\xde\\xdb&+\\xac\\xa8\\xab\\xf9\\xe0\\xe0|\\xae\\xbf\\xd3\\xca\\xc6\\xde\\xdb&+\\xac\\xa8\\xab\\xf9\\xe0\\xe0|\\xae\\xbf\\xd3\\xca\\xc6\\xde\\xdb&+\\xac\\xa8\\xab\\xf9\\xe0\\xe0|\\xae\\xbf\\xd3\\xca\\xc6\\xde\\xdb&+\\xac\\xa8\\xab\\xf9\\xe0\\xe0|\\xae\\xbf\\xd3\\xca\\xc6\\xde\\xdb&+\\xac\\xa8\\xab\\xf9\\xe0\\xe0|\\xae\\xbf\\xd3\\xca\\xc6\\xde\\xdb&+\\xac\\xa8\\xab\\xf9\\xe0\\xe0|\\xae\\xbf\\xd3\\xca\\xc6\\xde\\xdb&+\\xac\\xa8\\xab\\xf9\\xe0\\xe0|\\xae\\xbf\\xd3\\xca\\xc6\\xde\\xdb&+\\xac\\xa8\\xab\\xf9\\xe0\\xe0|\\xae\\xbf\\xd3\\xca\\xc6\\xde\\xdb&+\\xac\\xa8\\xab\\xf9\\xe0\\xe0|\\xae\\xbf\\xd3\\xca\\xc6\\xde\\xdb&+\\xac\\xa8\\xab\\xf9\\xe0\\xe0|\\xae\\xbf\\xd3\\xca\\xc6\\xde\\xdb&+\\xac\\xa8\\xab\\xf9\\xe0\\xe0|\\xae\\xbf\\xd3\\xca\\xc6\\xde\\xdb&+\\xac\\xa8\\xab\\xf9\\xe0\\xe0|\\xae\\xbf\\xd3\\xca\\xc6\\xde\\xdb&+\\xac\\xa8\\xab\\xf9\\xe0\\xe0|\\xae\\xbf\\xd3\\xca\\xc6\\xde\\xdb&+\\xac\\xa8\\xab\\xf9\\xe0\\xe0|\\xae\\xbf\\xd3\\xca\\xc6\\xde\\xdb&+\\xac\\xa8\\xab\\xf9\\xe0\\xe0|\\xae\\xbf\\xd3\\xca\\xc6\\xde\\xdb&+\\xac\\xa8\\xab\\xf9\\xe0\\xe0|\\xae\\xbf\\xd3\\xca\\xc6\\xde\\xdb&+\\xac\\xa8\\xab\\xf9\\xe0\\xe0|\\xae\\xbf\\xd3\\xca\\xc6\\xde\\xdb&+\\xac\\xa8\\xab\\xf9\\xe0\\xe0|\\xae\\xbf\\xd3\\xca\\xc6\\xde\\xdb&+\\xac\\xa8\\xab\\xf9\\xe0\\xe0|\\xae\\xbf\\xd3\\xca\\xc6\\xde\\xdb&+\\xac\\xa8\\xab\\xf9\\xe0\\xe0|\\xae\\xbf\\xd3\\xca\\xc6\\xde\\xdb&+\\xac\\xa8\\xab\\xf9\\xe0\\xe0|\\xae\\xbf\\xd3\\xca\\xc6\\xde\\xdb&+\\xac\\xa8\\xab\\xf9\\xe0\\xe0|\\xae\\xbf\\xd3\\xca\\xc6\\xde\\xdb&+\\xac\\xa8\\xab\\xf9\\xe0\\xe0|\\xae\\xbf\\xd3\\xca\\xc6\\xde\\xdb&+\\xac\\xa8\\xab\\xf9\\xe0\\xe0|\\xae\\xbf\\xd3\\xca\\xc6\\xde\\xdb&+\\xac\\xa8\\xab\\xf9\\xe0\\xe0|\\xae\\xbf\\xd3\\xca\\xc6\\xde\\xdb&+\\xac\\xa8\\xab\\xf9\\xe0\\xe0|\\xae\\xbf\\xd3\\xca\\xc6\\xde\\xdb&+\\xac\\xa8\\xab\\xf9\\xe0\\xe0|\\xae\\xbf\\xd3\\xca\\xc6\\xde\\xdb&+\\xac\\xa8\\xab\\xf9\\xe0\\xe0|\\xae\\xbf\\xd3\\xca\\xc6\\xde\\xdb&+\\xac\\xa8\\xab\\xf9\\xe0\\xe0|\\xae\\xbf\\xd3\\xca\\xc6\\xde\\xdb&+\\xac\\xa8\\xab\\xf9\\xe0\\xe0|\\xae\\xbf\\xd3\\xca\\xc6\\xde\\xdb&+\\xac\\xa8\\xab\\xf9\\xe0\\xe0|\\xae\\xbf\\xd3\\xca\\xc6\\xde\\xdb&+\\xac\\xa8\\xab\\xf9\\xe0\\xe0|\\xae\\xbf\\xd3\\xca\\xc6\\xde\\xdb&+\\xac\\xa8\\xab\\xf9\\xe0\\xe0|\\xae\\xbf\\xd3\\xca\\xc6\\xde\\xdb&+\\xac\\xa8\\xab\\xf9\\xe0\\xe0|\\xae\\xbf\\xd3\\xca\\xc6\\xde\\xdb&+\\xac\\xa8\\xab\\xf9\\xe0\\xe0|\\xae\\xbf\\xd3\\xca\\xc6\\xde\\xdb&+\\xac\\xa8\\xab\\xf9\\xe0\\xe0|\\xae\\xbf\\xd3\\xca\\xc6\\xde\\xdb&+\\xac\\xa8\\xab\\xf9\\xe0\\xe0|\\xae\\xbf\\xd3\\xca\\xc6\\xde\\xdb&+\\xac\\xa8\\xab\\xf9\\xe0\\xe0|\\xae\\xbf\\xd3\\xca\\xc6\\xde\\xdb&+\\xac\\xa8\\xab\\xf9\\xe0\\xe0|\\xae\\xbf\\xd3\\xca\\xc6\\xde\\xdb&+\\xac\\xa8\\xab\\xf9\\xe0\\xe0|\\xae\\xbf\\xd3\\xca\\xc6\\xde\\xdb&+\\xac\\xa8\\xab\\xf9\\xe0\\xe0|\\xae\\xbf\\xd3\\xca\\xc6\\xde\\xdb&+\\xac\\xa8\\xab\\xf9\\xe0\\xe0|\\xae\\xbf\\xd3\\xca\\xc6\\xde\\xdb&+\\xac\\xa8\\xab\\xf9\\xe0\\xe0|\\xae\\xbf\\xd3\\xca\\xc6\\xde\\xdb&+\\xac\\xa8\\xab\\xf9\\xe0\\xe0|\\xae\\xbf\\xd3\\xca\\xc6\\xde\\xdb&+\\xac\\xa8\\xab\\xf9\\xe0\\xe0|\\xae\\xbf\\xd3\\xca\\xc6\\xde\\xdb&+\\xac\\xa8\\xab\\xf9\\xe0\\xe0|\\xae\\xbf\\xd3\\xca\\xc6\\xde\\xdb&+\\xac\\xa8\\xab\\xf9\\xe0\\xe0|\\xae\\xbf\\xd3\\xca\\xc6\\xde\\xdb&+\\xac\\xa8\\xab\\xf9\\xe0\\xe0|\\xae\\xbf\\xd3\\xca\\xc6\\xde\\xdb&+\\xac\\xa8\\xab\\xf9\\xe0\\xe0|\\xae\\xbf\\xd3\\xca\\xc6\\xde\\xdb&+\\xac\\xa8\\xab\\xf9\\xe0\\xe0|\\xae\\xbf\\xd3\\xca\\xc6\\xde\\xdb&+\\xac\\xa8\\xab\\xf9\\xe0\\xe0|\\xae\\xbf\\xd3\\xca\\xc6\\xde\\xdb&+\\xac\\xa8\\xab\\xf9\\xe0\\xe0|\\xae\\xbf\\xd3\\xca\\xc6\\xde\\xdb&+\\xac\\xa8\\xab\\xf9\\xe0\\xe0|\\xae\\xbf\\xd3\\xca\\xc6\\xde\\xdb&+\\xac\\xa8\\xab\\xf9\\xe0\\xe0|\\xae\\xbf\\xd3\\xca\\xc6\\xde\\xdb&+\\xac\\xa8\\xab\\xf9\\xe0\\xe0|\\xae\\xbf\\xd3\\xca\\xc6\\xde\\xdb&+\\xac\\xa8\\xab\\xf9\\xe0\\xe0|\\xae\\xbf\\xd3\\xca\\xc6\\xde\\xdb&+\\xac\\xa8\\xab\\xf9\\xe0\\xe0|\\xae\\xbf\\xd3\\xca\\xc6\\xde\\xdb&+\\xac\\xa8\\xab\\xf9\\xe0\\xe0|\\xae\\xbf\\xd3\\xca\\xc6\\xde\\xdb&+\\xac\\xa8\\xab\\xf9\\xe0\\xe0|\\xae\\xbf\\xd3\\xca\\xc6\\xde\\xdb&+\\xac\\xa8\\xab\\xf9\\xe0\\xe0|\\xae\\xbf\\xd3\\xca\\xc6\\xde\\xdb&+\\xac\\xa8\\xab\\xf9\\xe0\\xe0|\\xae\\xbf\\xd3\\xca\\xc6\\xde\\xdb&+\\xac\\xa8\\xab\\xf9\\xe0\\xe0|\\xae\\xbf\\xd3\\xca\\xc6\\xde\\xdb&+\\xac\\xa8\\xab\\xf9\\xe0\\xe0|\\xae\\xbf\\xd3\\xca\\xc6\\xde\\xdb&+\\xac\\xa8\\xab\\xf9\\xe0\\xe0|\\xae\\xbf\\xd3\\xca\\xc6\\xde\\xdb&+\\xac\\xa8\\xab\\xf9\\xe0\\xe0|\\xae\\xbf\\xd3\\xca\\xc6\\xde\\xdb&+\\xac\\xa8\\xab\\xf9\\xe0\\xe0|\\xae\\xbf\\xd3\\xca\\xc6\\xde\\xdb&+\\xac\\xa8\\xab\\xf9\\xe0\\xe0|\\xae\\xbf\\xd3\\xca\\xc6\\xde\\xdb&+\\xac\\xa8\\xab\\xf9\\xe0\\xe0|\\xae\\xbf\\xd3\\xca\\xc6\\xde\\xdb&+\\xac\\xa8\\xab\\xf9\\xe0\\xe0|\\xae\\xbf\\xd3\\xca\\xc6\\xde\\xdb&+\\xac\\xa8\\xab\\xf9\\xe0\\xe0|\\xae\\xbf\\xd3\\xca\\xc6\\xde\\xdb&+\\xac\\xa8\\xab\\xf9\\xe0\\xe0|\\xae\\xbf\\xd3\\xca\\xc6\\xde\\xdb&+\\xac\\xa8\\xab\\xf9\\xe0\\xe0|\\xae\\xbf\\xd3\\xca\\xc6\\xde\\xdb&+\\xac\\xa8\\xab\\xf9\\xe0\\xe0|\\xae\\xbf\\xd3\\xca\\xc6\\xde\\xdb&+\\xac\\xa8\\xab\\xf9\\xe0\\xe0|\\xae\\xbf\\xd3\\xca\\xc6\\xde\\xdb&+\\xac\\xa8\\xab\\xf9\\xe0\\xe0|\\xae\\xbf\\xd3\\xca\\xc6\\xde\\xdb&+\\xac\\xa8\\xab\\xf9\\xe0\\xe0|\\xae\\xbf\\xd3\\xca\\xc6\\xde\\xdb&+\\xac\\xa8\\xab\\xf9\\xe0\\xe0|\\xae\\xbf\\xd3\\xca\\xc6\\xde\\xdb&+\\xac\\xa8\\xab\\xf9\\xe0\\xe0|\\xae\\xbf\\xd3\\xca\\xc6\\xde\\xdb&+\\xac\\xa8\\xab\\xf9\\xe0\\xe0|\\xae\\xbf\\xd3\\xca\\xc6\\xde\\xdb&+\\xac\\xa8\\xab\\xf9\\xe0\\xe0|\\xae\\xbf\\xd3\\xca\\xc6\\xde\\xdb&+\\xac\\xa8\\xab\\xf9\\xe0\\xe0|\\xae\\xbf\\xd3\\xca\\xc6\\xde\\xdb&+\\xac\\xa8\\xab\\xf9\\xe0\\xe0|\\xae\\xbf\\xd3\\xca\\xc6\\xde\\xdb&+\\xac\\xa8\\xab\\xf9\\xe0\\xe0|\\xae\\xbf\\xd3\\xca\\xc6\\xde\\xdb&+\\xac\\xa8\\xab\\xf9\\xe0\\xe0|\\xae\\xbf\\xd3\\xca\\xc6\\xde\\xdb&+\\xac\\xa8\\xab\\xf9\\xe0\\xe0|\\xae\\xbf\\xd3\\xca\\xc6\\xde\\xdb&+\\xac\\xa8\\xab\\xf9\\xe0\\xe0|\\xae\\xbf\\xd3\\xca\\xc6\\xde\\xdb&+\\xac\\xa8\\xab\\xf9\\xe0\\xe0|\\xae\\xbf\\xd3\\xca\\xc6\\xde\\xdb&+\\xac\\xa8\\xab\\xf9\\xe0\\xe0|\\xae\\xbf\\xd3\\xca\\xc6\\xde\\xdb&+\\xac\\xa8\\xab\\xf9\\xe0\\xe0|\\xae\\xbf\\xd3\\xca\\xc6\\xde\\xdb&+\\xac\\xa8\\xab\\xf9\\xe0\\xe0|\\xae\\xbf\\xd3\\xca\\xc6\\xde\\xdb&+\\xac\\xa8\\xab\\xf9\\xe0\\xe0|\\xae\\xbf\\xd3\\xca\\xc6\\xde\\xdb&+\\xac\\xa8\\xab\\xf9\\xe0\\xe0|\\xae\\xbf\\xd3\\xca\\xc6\\xde\\xdb&+\\xac\\xa8\\xab\\xf9\\xe0\\xe0|\\xae\\xbf\\xd3\\xca\\xc6\\xde\\xdb&+\\xac\\xa8\\xab\\xf9\\xe0\\xe0|\\xae\\xbf\\xd3\\xca\\xc6\\xde\\xdb&+\\xac\\xa8\\xab\\xf9\\xe0\\xe0|\\xae\\xbf\\xd3\\xca\\xc6\\xde\\xdb&+\\xac\\xa8\\xab\\xf9\\xe0\\xe0|\\xae\\xbf\\xd3\\xca\\xc6\\xde\\xdb&+\\xac\\xa8\\xab\\xf9\\xe0\\xe0|\\xae\\xbf\\xd3\\xca\\xc6\\xde\\xdb&+\\xac\\xa8\\xab\\xf9\\xe0\\xe0|\\xae\\xbf\\xd3\\xca\\xc6\\xde\\xdb&+\\xac\\xa8\\xab\\xf9\\xe0\\xe0|\\xae\\xbf\\xd3\\xca\\xc6\\xde\\xdb&+\\xac\\xa8\\xab\\xf9\\xe0\\xe0|\\xae\\xbf\\xd3\\xca\\xc6\\xde\\xdb&+\\xac\\xa8\\xab\\xf9\\xe0\\xe0|\\xae\\xbf\\xd3\\xca\\xc6\\xde\\xdb&+\\xac\\xa8\\xab\\xf9\\xe0\\xe0|\\xae\\xbf\\xd3\\xca\\xc6\\xde\\xdb&+\\xac\\xa8\\xab\\xf9\\xe0\\xe0|\\xae\\xbf\\xd3\\xca\\xc6\\xde\\xdb&+\\xac\\xa8\\xab\\xf9\\xe0\\xe0|\\xae\\xbf\\xd3\\xca\\xc6\\xde\\xdb&+\\xac\\xa8\\xab\\xf9\\xe0\\xe0|\\xae\\xbf\\xd3\\xca\\xc6\\xde\\xdb&+\\xac\\xa8\\xab\\xf9\\xe0\\xe0|\\xae\\xbf\\xd3\\xca\\xc6\\xde\\xdb&+\\xac\\xa8\\xab\\xf9\\xe0\\xe0|\\xae\\xbf\\xd3\\xca\\xc6\\xde\\xdb&+\\xac\\xa8\\xab\\xf9\\xe0\\xe0|\\xae\\xbf\\xd3\\xca\\xc6\\xde\\xdb&+\\xac\\xa8\\xab\\xf9\\xe0\\xe0|\\xae\\xbf\\xd3\\xca\\xc6\\xde\\xdb&+\\xac\\xa8\\xab\\xf9\\xe0\\xe0|\\xae\\xbf\\xd3\\xca\\xc6\\xde\\xdb&+\\xac\\xa8\\xab\\xf9\\xe0\\xe0|\\xae\\xbf\\xd3\\xca\\xc6\\xde\\xdb&+\\xac\\xa8\\xab\\xf9\\xe0\\xe0|\\xae\\xbf\\xd3\\xca\\xc6\\xde\\xdb&+\\xac\\xa8\\xab\\xf9\\xe0\\xe0|\\xae\\xbf\\xd3\\xca\\xc6\\xde\\xdb&+\\xac\\xa8\\xab\\xf9\\xe0\\xe0|\\xae\\xbf\\xd3\\xca\\xc6\\xde\\xdb&+\\xac\\xa8\\xab\\xf9\\xe0\\xe0|\\xae\\xbf\\xd3\\xca\\xc6\\xde\\xdb&+\\xac\\xa8\\xab\\xf9\\xe0\\xe0|\\xae\\xbf\\xd3\\xca\\xc6\\xde\\xdb&+\\xac\\xa8\\xab\\xf9\\xe0\\xe0|\\xae\\xbf\\xd3\\xca\\xc6\\xde\\xdb&+\\xac\\xa8\\xab\\xf9\\xe0\\xe0|\\xae\\xbf\\xd3\\xca\\xc6\\xde\\xdb&+\\xac\\xa8\\xab\\xf9\\xe0\\xe0|\\xae\\xbf\\xd3\\xca\\xc6\\xde\\xdb&+\\xac\\xa8\\xab\\xf9\\xe0\\xe0|\\xae\\xbf\\xd3\\xca\\xc6\\xde\\xdb&+\\xac\\xa8\\xab\\xf9\\xe0\\xe0|\\xae\\xbf\\xd3\\xca\\xc6\\xde\\xdb&+\\xac\\xa8\\xab\\xf9\\xe0\\xe0|\\xae\\xbf\\xd3'\n",
      "b'Coding InterviewCoding InterviewCoding InterviewCoding InterviewCoding InterviewCoding InterviewCoding InterviewCoding InterviewCoding InterviewCoding InterviewCoding InterviewCoding InterviewCoding InterviewCoding InterviewCoding InterviewCoding InterviewCoding InterviewCoding InterviewCoding InterviewCoding InterviewCoding InterviewCoding InterviewCoding InterviewCoding InterviewCoding InterviewCoding InterviewCoding InterviewCoding InterviewCoding InterviewCoding InterviewCoding InterviewCoding InterviewCoding InterviewCoding InterviewCoding InterviewCoding InterviewCoding InterviewCoding InterviewCoding InterviewCoding InterviewCoding InterviewCoding InterviewCoding InterviewCoding InterviewCoding InterviewCoding InterviewCoding InterviewCoding InterviewCoding InterviewCoding InterviewCoding InterviewCoding InterviewCoding InterviewCoding InterviewCoding InterviewCoding InterviewCoding InterviewCoding InterviewCoding InterviewCoding InterviewCoding InterviewCoding InterviewCoding InterviewCoding InterviewCoding InterviewCoding InterviewCoding InterviewCoding InterviewCoding InterviewCoding InterviewCoding InterviewCoding InterviewCoding InterviewCoding InterviewCoding InterviewCoding InterviewCoding InterviewCoding InterviewCoding InterviewCoding InterviewCoding InterviewCoding InterviewCoding InterviewCoding InterviewCoding InterviewCoding InterviewCoding InterviewCoding InterviewCoding InterviewCoding InterviewCoding InterviewCoding InterviewCoding InterviewCoding InterviewCoding InterviewCoding InterviewCoding InterviewCoding InterviewCoding InterviewCoding InterviewCoding InterviewCoding InterviewCoding InterviewCoding InterviewCoding InterviewCoding InterviewCoding InterviewCoding InterviewCoding InterviewCoding InterviewCoding InterviewCoding InterviewCoding InterviewCoding InterviewCoding InterviewCoding InterviewCoding InterviewCoding InterviewCoding InterviewCoding InterviewCoding InterviewCoding InterviewCoding InterviewCoding InterviewCoding InterviewCoding InterviewCoding InterviewCoding Interview'\n",
      "CPU times: user 242 µs, sys: 228 µs, total: 470 µs\n",
      "Wall time: 250 µs\n"
     ]
    }
   ],
   "source": [
    "%%time\n",
    "from Crypto.Cipher import AES\n",
    "key = b'Leetcode Prework PracticeSession'\n",
    "plaintext = b'Coding InterviewCoding InterviewCoding InterviewCoding InterviewCoding InterviewCoding InterviewCoding InterviewCoding InterviewCoding InterviewCoding InterviewCoding InterviewCoding InterviewCoding InterviewCoding InterviewCoding InterviewCoding InterviewCoding InterviewCoding InterviewCoding InterviewCoding InterviewCoding InterviewCoding InterviewCoding InterviewCoding InterviewCoding InterviewCoding InterviewCoding InterviewCoding InterviewCoding InterviewCoding InterviewCoding InterviewCoding InterviewCoding InterviewCoding InterviewCoding InterviewCoding InterviewCoding InterviewCoding InterviewCoding InterviewCoding InterviewCoding InterviewCoding InterviewCoding InterviewCoding InterviewCoding InterviewCoding InterviewCoding InterviewCoding InterviewCoding InterviewCoding InterviewCoding InterviewCoding InterviewCoding InterviewCoding InterviewCoding InterviewCoding InterviewCoding InterviewCoding InterviewCoding InterviewCoding InterviewCoding InterviewCoding InterviewCoding InterviewCoding InterviewCoding InterviewCoding InterviewCoding InterviewCoding InterviewCoding InterviewCoding InterviewCoding InterviewCoding InterviewCoding InterviewCoding InterviewCoding InterviewCoding InterviewCoding InterviewCoding InterviewCoding InterviewCoding InterviewCoding InterviewCoding InterviewCoding InterviewCoding InterviewCoding InterviewCoding InterviewCoding InterviewCoding InterviewCoding InterviewCoding InterviewCoding InterviewCoding InterviewCoding InterviewCoding InterviewCoding InterviewCoding InterviewCoding InterviewCoding InterviewCoding InterviewCoding InterviewCoding InterviewCoding InterviewCoding InterviewCoding InterviewCoding InterviewCoding InterviewCoding InterviewCoding InterviewCoding InterviewCoding InterviewCoding InterviewCoding InterviewCoding InterviewCoding InterviewCoding InterviewCoding InterviewCoding InterviewCoding InterviewCoding InterviewCoding InterviewCoding InterviewCoding InterviewCoding InterviewCoding InterviewCoding InterviewCoding InterviewCoding InterviewCoding Interview'\n",
    "cipher = AES.new(key,AES.MODE_ECB)\n",
    "msg = cipher.encrypt(plaintext)\n",
    "print(msg)\n",
    "decipher = AES.new(key,AES.MODE_ECB)\n",
    "msg_dec = decipher.decrypt(msg)\n",
    "print(msg_dec)"
   ]
  },
  {
   "cell_type": "code",
   "execution_count": 47,
   "id": "355f3cff",
   "metadata": {},
   "outputs": [],
   "source": [
    "#Encryption and Decryption using AES-CBC Mode with padding, unpadding, Input = 16bits"
   ]
  },
  {
   "cell_type": "code",
   "execution_count": 48,
   "id": "d780f960",
   "metadata": {},
   "outputs": [
    {
     "name": "stdout",
     "output_type": "stream",
     "text": [
      "b'(8\\xe71?\\n\\x18\\x9bpR\\xedC6\\x1d\\xba\\xff'\n",
      "b'Kfu2f3KWDYAfCj6BQ1OvwA=='\n",
      "b'SentenceSentence'\n",
      "CPU times: user 972 µs, sys: 633 µs, total: 1.61 ms\n",
      "Wall time: 1.13 ms\n"
     ]
    }
   ],
   "source": [
    "%%time\n",
    "data = b\"SentenceSentence\"\n",
    "pad(data, AES.block_size)\n",
    "key = get_random_bytes(16)\n",
    "print(key)\n",
    "cipher = AES.new(key, AES.MODE_CBC)\n",
    "ct_bytes = cipher.encrypt(pad(data, AES.block_size))\n",
    "iv = b64encode(cipher.iv)\n",
    "print(iv)\n",
    "ct = b64encode(ct_bytes)\n",
    "en_iv = iv\n",
    "en_ciphertext = ct\n",
    "iv = b64decode(en_iv)\n",
    "ct = b64decode(en_ciphertext)\n",
    "cipher = AES.new(key, AES.MODE_CBC, iv)\n",
    "msg = unpad(cipher.decrypt(ct), AES.block_size)\n",
    "print(msg)"
   ]
  },
  {
   "cell_type": "code",
   "execution_count": 49,
   "id": "4e96e358",
   "metadata": {},
   "outputs": [],
   "source": [
    "#Encryption and Decryption using AES-CBC Mode with padding, unpadding, Input = 32bits"
   ]
  },
  {
   "cell_type": "code",
   "execution_count": 50,
   "id": "bebf0491",
   "metadata": {},
   "outputs": [
    {
     "name": "stdout",
     "output_type": "stream",
     "text": [
      "b'\\xe2\\xafn\\x99t\\xf5o\\xa7\\x9d<l\\x009\\x8e\\x01\\xfe'\n",
      "b'HCNibgV9peoCWr6OP2mJMA=='\n",
      "b'SentenceSentenceSentenceSentence'\n",
      "CPU times: user 312 µs, sys: 281 µs, total: 593 µs\n",
      "Wall time: 332 µs\n"
     ]
    }
   ],
   "source": [
    "%%time\n",
    "data = b\"SentenceSentenceSentenceSentence\"\n",
    "pad(data, AES.block_size)\n",
    "key = get_random_bytes(16)\n",
    "print(key)\n",
    "cipher = AES.new(key, AES.MODE_CBC)\n",
    "ct_bytes = cipher.encrypt(pad(data, AES.block_size))\n",
    "iv = b64encode(cipher.iv)\n",
    "print(iv)\n",
    "ct = b64encode(ct_bytes)\n",
    "en_iv = iv\n",
    "en_ciphertext = ct\n",
    "iv = b64decode(en_iv)\n",
    "ct = b64decode(en_ciphertext)\n",
    "cipher = AES.new(key, AES.MODE_CBC, iv)\n",
    "msg = unpad(cipher.decrypt(ct), AES.block_size)\n",
    "print(msg)"
   ]
  },
  {
   "cell_type": "code",
   "execution_count": 51,
   "id": "e9b1908b",
   "metadata": {},
   "outputs": [],
   "source": [
    "#Encryption and Decryption using AES-CBC Mode with padding, unpadding, Input = 64bits"
   ]
  },
  {
   "cell_type": "code",
   "execution_count": 52,
   "id": "b3f2276d",
   "metadata": {},
   "outputs": [
    {
     "name": "stdout",
     "output_type": "stream",
     "text": [
      "b'\\x03{\\x07>\\x1dDr+\\xcfP\\xd4\\x10\\xd8\\xa6\\x80\\xa5'\n",
      "b'MvJaIu7x/ZQQNa73PDmUlQ=='\n",
      "b'SentenceSentenceSentenceSentenceSentenceSentenceSentenceSentence'\n",
      "CPU times: user 579 µs, sys: 595 µs, total: 1.17 ms\n",
      "Wall time: 789 µs\n"
     ]
    }
   ],
   "source": [
    "%%time\n",
    "data = b\"SentenceSentenceSentenceSentenceSentenceSentenceSentenceSentence\"\n",
    "pad(data, AES.block_size)\n",
    "key = get_random_bytes(16)\n",
    "print(key)\n",
    "cipher = AES.new(key, AES.MODE_CBC)\n",
    "ct_bytes = cipher.encrypt(pad(data, AES.block_size))\n",
    "iv = b64encode(cipher.iv)\n",
    "print(iv)\n",
    "ct = b64encode(ct_bytes)\n",
    "en_iv = iv\n",
    "en_ciphertext = ct\n",
    "iv = b64decode(en_iv)\n",
    "ct = b64decode(en_ciphertext)\n",
    "cipher = AES.new(key, AES.MODE_CBC, iv)\n",
    "msg = unpad(cipher.decrypt(ct), AES.block_size)\n",
    "print(msg)"
   ]
  },
  {
   "cell_type": "code",
   "execution_count": 53,
   "id": "83607a61",
   "metadata": {},
   "outputs": [],
   "source": [
    "#Encryption and Decryption using AES-CBC Mode with padding, unpadding, Input = 128bits"
   ]
  },
  {
   "cell_type": "code",
   "execution_count": 54,
   "id": "eee09a67",
   "metadata": {},
   "outputs": [
    {
     "name": "stdout",
     "output_type": "stream",
     "text": [
      "b'\\xe5\\xa9)\\xfezvN\\x82\\x1e\\xf6\\xb8\\x03\\x80N\\xf4\\x86'\n",
      "b'MNtadiYXG3OdlLaShSQSHg=='\n",
      "b'SentenceSentenceSentenceSentenceSentenceSentenceSentenceSentenceSentenceSentenceSentenceSentenceSentenceSentenceSentenceSentence'\n",
      "CPU times: user 349 µs, sys: 320 µs, total: 669 µs\n",
      "Wall time: 375 µs\n"
     ]
    }
   ],
   "source": [
    "%%time\n",
    "data = b\"SentenceSentenceSentenceSentenceSentenceSentenceSentenceSentenceSentenceSentenceSentenceSentenceSentenceSentenceSentenceSentence\"\n",
    "pad(data, AES.block_size)\n",
    "key = get_random_bytes(16)\n",
    "print(key)\n",
    "cipher = AES.new(key, AES.MODE_CBC)\n",
    "ct_bytes = cipher.encrypt(pad(data, AES.block_size))\n",
    "iv = b64encode(cipher.iv)\n",
    "print(iv)\n",
    "ct = b64encode(ct_bytes)\n",
    "en_iv = iv\n",
    "en_ciphertext = ct\n",
    "iv = b64decode(en_iv)\n",
    "ct = b64decode(en_ciphertext)\n",
    "cipher = AES.new(key, AES.MODE_CBC, iv)\n",
    "msg = unpad(cipher.decrypt(ct), AES.block_size)\n",
    "print(msg)"
   ]
  },
  {
   "cell_type": "code",
   "execution_count": 55,
   "id": "d3a735de",
   "metadata": {},
   "outputs": [],
   "source": [
    "#Encryption and Decryption using AES-CBC Mode with padding, unpadding, Input = 256bits"
   ]
  },
  {
   "cell_type": "code",
   "execution_count": 56,
   "id": "57312716",
   "metadata": {},
   "outputs": [
    {
     "name": "stdout",
     "output_type": "stream",
     "text": [
      "b'\\xad\\xa9\\xc8\\x8d\\x83P\\xbe\\xd2\\x11\\xc3\\xf7C\\xcb*\\xc0\\n'\n",
      "b'0n9196eYoEx7sqCJ0ejGhw=='\n",
      "b'SentenceSentenceSentenceSentenceSentenceSentenceSentenceSentenceSentenceSentenceSentenceSentenceSentenceSentenceSentenceSentenceSentenceSentenceSentenceSentenceSentenceSentenceSentenceSentenceSentenceSentenceSentenceSentenceSentenceSentenceSentenceSentence'\n",
      "CPU times: user 287 µs, sys: 249 µs, total: 536 µs\n",
      "Wall time: 290 µs\n"
     ]
    }
   ],
   "source": [
    "%%time\n",
    "data = b\"SentenceSentenceSentenceSentenceSentenceSentenceSentenceSentenceSentenceSentenceSentenceSentenceSentenceSentenceSentenceSentenceSentenceSentenceSentenceSentenceSentenceSentenceSentenceSentenceSentenceSentenceSentenceSentenceSentenceSentenceSentenceSentence\"\n",
    "pad(data, AES.block_size)\n",
    "key = get_random_bytes(16)\n",
    "print(key)\n",
    "cipher = AES.new(key, AES.MODE_CBC)\n",
    "ct_bytes = cipher.encrypt(pad(data, AES.block_size))\n",
    "iv = b64encode(cipher.iv)\n",
    "print(iv)\n",
    "ct = b64encode(ct_bytes)\n",
    "en_iv = iv\n",
    "en_ciphertext = ct\n",
    "iv = b64decode(en_iv)\n",
    "ct = b64decode(en_ciphertext)\n",
    "cipher = AES.new(key, AES.MODE_CBC, iv)\n",
    "msg = unpad(cipher.decrypt(ct), AES.block_size)\n",
    "print(msg)"
   ]
  },
  {
   "cell_type": "code",
   "execution_count": 57,
   "id": "0c4900c9",
   "metadata": {},
   "outputs": [],
   "source": [
    "#Encryption and Decryption using AES-CBC Mode with padding, unpadding, Input = 512bits"
   ]
  },
  {
   "cell_type": "code",
   "execution_count": 58,
   "id": "7beb5d7a",
   "metadata": {},
   "outputs": [
    {
     "name": "stdout",
     "output_type": "stream",
     "text": [
      "b'\\x04\\x11.n\\x17A\\xf3do4\\x1e\\x06\\x07$P\\xcc'\n",
      "b'yE5+dpAMQ5a3N+lEZ79QcA=='\n",
      "b'SentenceSentenceSentenceSentenceSentenceSentenceSentenceSentenceSentenceSentenceSentenceSentenceSentenceSentenceSentenceSentenceSentenceSentenceSentenceSentenceSentenceSentenceSentenceSentenceSentenceSentenceSentenceSentenceSentenceSentenceSentenceSentenceSentenceSentenceSentenceSentenceSentenceSentenceSentenceSentenceSentenceSentenceSentenceSentenceSentenceSentenceSentenceSentenceSentenceSentenceSentenceSentenceSentenceSentenceSentenceSentenceSentenceSentenceSentenceSentenceSentenceSentenceSentenceSentence'\n",
      "CPU times: user 521 µs, sys: 426 µs, total: 947 µs\n",
      "Wall time: 618 µs\n"
     ]
    }
   ],
   "source": [
    "%%time\n",
    "data = b\"SentenceSentenceSentenceSentenceSentenceSentenceSentenceSentenceSentenceSentenceSentenceSentenceSentenceSentenceSentenceSentenceSentenceSentenceSentenceSentenceSentenceSentenceSentenceSentenceSentenceSentenceSentenceSentenceSentenceSentenceSentenceSentenceSentenceSentenceSentenceSentenceSentenceSentenceSentenceSentenceSentenceSentenceSentenceSentenceSentenceSentenceSentenceSentenceSentenceSentenceSentenceSentenceSentenceSentenceSentenceSentenceSentenceSentenceSentenceSentenceSentenceSentenceSentenceSentence\"\n",
    "pad(data, AES.block_size)\n",
    "key = get_random_bytes(16)\n",
    "print(key)\n",
    "cipher = AES.new(key, AES.MODE_CBC)\n",
    "ct_bytes = cipher.encrypt(pad(data, AES.block_size))\n",
    "iv = b64encode(cipher.iv)\n",
    "print(iv)\n",
    "ct = b64encode(ct_bytes)\n",
    "en_iv = iv\n",
    "en_ciphertext = ct\n",
    "iv = b64decode(en_iv)\n",
    "ct = b64decode(en_ciphertext)\n",
    "cipher = AES.new(key, AES.MODE_CBC, iv)\n",
    "msg = unpad(cipher.decrypt(ct), AES.block_size)\n",
    "print(msg)"
   ]
  },
  {
   "cell_type": "code",
   "execution_count": 59,
   "id": "a1788e6c",
   "metadata": {},
   "outputs": [],
   "source": [
    "#Encryption and Decryption using AES-CBC Mode with padding, unpadding, Input = 1024bits"
   ]
  },
  {
   "cell_type": "code",
   "execution_count": 60,
   "id": "7b2a3425",
   "metadata": {},
   "outputs": [
    {
     "name": "stdout",
     "output_type": "stream",
     "text": [
      "b\"i\\xfe\\xc2;\\xe9\\xc0\\xdd\\xb6\\x85Q\\xcbI`'\\xe4\\x9d\"\n",
      "b'EYmRnf9FqQZnlwLOS/oiUg=='\n",
      "b'SentenceSentenceSentenceSentenceSentenceSentenceSentenceSentenceSentenceSentenceSentenceSentenceSentenceSentenceSentenceSentenceSentenceSentenceSentenceSentenceSentenceSentenceSentenceSentenceSentenceSentenceSentenceSentenceSentenceSentenceSentenceSentenceSentenceSentenceSentenceSentenceSentenceSentenceSentenceSentenceSentenceSentenceSentenceSentenceSentenceSentenceSentenceSentenceSentenceSentenceSentenceSentenceSentenceSentenceSentenceSentenceSentenceSentenceSentenceSentenceSentenceSentenceSentenceSentenceSentenceSentenceSentenceSentenceSentenceSentenceSentenceSentenceSentenceSentenceSentenceSentenceSentenceSentenceSentenceSentenceSentenceSentenceSentenceSentenceSentenceSentenceSentenceSentenceSentenceSentenceSentenceSentenceSentenceSentenceSentenceSentenceSentenceSentenceSentenceSentenceSentenceSentenceSentenceSentenceSentenceSentenceSentenceSentenceSentenceSentenceSentenceSentenceSentenceSentenceSentenceSentenceSentenceSentenceSentenceSentenceSentenceSentenceSentenceSentenceSentenceSentenceSentenceSentence'\n",
      "CPU times: user 434 µs, sys: 367 µs, total: 801 µs\n",
      "Wall time: 505 µs\n"
     ]
    }
   ],
   "source": [
    "%%time\n",
    "data = b\"SentenceSentenceSentenceSentenceSentenceSentenceSentenceSentenceSentenceSentenceSentenceSentenceSentenceSentenceSentenceSentenceSentenceSentenceSentenceSentenceSentenceSentenceSentenceSentenceSentenceSentenceSentenceSentenceSentenceSentenceSentenceSentenceSentenceSentenceSentenceSentenceSentenceSentenceSentenceSentenceSentenceSentenceSentenceSentenceSentenceSentenceSentenceSentenceSentenceSentenceSentenceSentenceSentenceSentenceSentenceSentenceSentenceSentenceSentenceSentenceSentenceSentenceSentenceSentenceSentenceSentenceSentenceSentenceSentenceSentenceSentenceSentenceSentenceSentenceSentenceSentenceSentenceSentenceSentenceSentenceSentenceSentenceSentenceSentenceSentenceSentenceSentenceSentenceSentenceSentenceSentenceSentenceSentenceSentenceSentenceSentenceSentenceSentenceSentenceSentenceSentenceSentenceSentenceSentenceSentenceSentenceSentenceSentenceSentenceSentenceSentenceSentenceSentenceSentenceSentenceSentenceSentenceSentenceSentenceSentenceSentenceSentenceSentenceSentenceSentenceSentenceSentenceSentence\"\n",
    "pad(data, AES.block_size)\n",
    "key = get_random_bytes(16)\n",
    "print(key)\n",
    "cipher = AES.new(key, AES.MODE_CBC)\n",
    "ct_bytes = cipher.encrypt(pad(data, AES.block_size))\n",
    "iv = b64encode(cipher.iv)\n",
    "print(iv)\n",
    "ct = b64encode(ct_bytes)\n",
    "en_iv = iv\n",
    "en_ciphertext = ct\n",
    "iv = b64decode(en_iv)\n",
    "ct = b64decode(en_ciphertext)\n",
    "cipher = AES.new(key, AES.MODE_CBC, iv)\n",
    "msg = unpad(cipher.decrypt(ct), AES.block_size)\n",
    "print(msg)"
   ]
  },
  {
   "cell_type": "code",
   "execution_count": 61,
   "id": "8c86ab6b",
   "metadata": {},
   "outputs": [],
   "source": [
    "#Encryption and Decryption using AES-CBC Mode with padding, unpadding, Input = 2048bits"
   ]
  },
  {
   "cell_type": "code",
   "execution_count": 62,
   "id": "5a92ed83",
   "metadata": {},
   "outputs": [
    {
     "name": "stdout",
     "output_type": "stream",
     "text": [
      "b'\\xb1\\xf9s\\xb4\\xcb\\xda\\t\\xb1\\x96\\xcc$\\xabf\\xf4\\x02\\x84'\n",
      "b'RPl3YptAgghp/JnOEt2xXw=='\n",
      "b'SentenceSentenceSentenceSentenceSentenceSentenceSentenceSentenceSentenceSentenceSentenceSentenceSentenceSentenceSentenceSentenceSentenceSentenceSentenceSentenceSentenceSentenceSentenceSentenceSentenceSentenceSentenceSentenceSentenceSentenceSentenceSentenceSentenceSentenceSentenceSentenceSentenceSentenceSentenceSentenceSentenceSentenceSentenceSentenceSentenceSentenceSentenceSentenceSentenceSentenceSentenceSentenceSentenceSentenceSentenceSentenceSentenceSentenceSentenceSentenceSentenceSentenceSentenceSentenceSentenceSentenceSentenceSentenceSentenceSentenceSentenceSentenceSentenceSentenceSentenceSentenceSentenceSentenceSentenceSentenceSentenceSentenceSentenceSentenceSentenceSentenceSentenceSentenceSentenceSentenceSentenceSentenceSentenceSentenceSentenceSentenceSentenceSentenceSentenceSentenceSentenceSentenceSentenceSentenceSentenceSentenceSentenceSentenceSentenceSentenceSentenceSentenceSentenceSentenceSentenceSentenceSentenceSentenceSentenceSentenceSentenceSentenceSentenceSentenceSentenceSentenceSentenceSentenceSentenceSentenceSentenceSentenceSentenceSentenceSentenceSentenceSentenceSentenceSentenceSentenceSentenceSentenceSentenceSentenceSentenceSentenceSentenceSentenceSentenceSentenceSentenceSentenceSentenceSentenceSentenceSentenceSentenceSentenceSentenceSentenceSentenceSentenceSentenceSentenceSentenceSentenceSentenceSentenceSentenceSentenceSentenceSentenceSentenceSentenceSentenceSentenceSentenceSentenceSentenceSentenceSentenceSentenceSentenceSentenceSentenceSentenceSentenceSentenceSentenceSentenceSentenceSentenceSentenceSentenceSentenceSentenceSentenceSentenceSentenceSentenceSentenceSentenceSentenceSentenceSentenceSentenceSentenceSentenceSentenceSentenceSentenceSentenceSentenceSentenceSentenceSentenceSentenceSentenceSentenceSentenceSentenceSentenceSentenceSentenceSentenceSentenceSentenceSentenceSentenceSentenceSentenceSentenceSentenceSentenceSentenceSentenceSentenceSentenceSentenceSentenceSentenceSentenceSentenceSentenceSentenceSentenceSentenceSentenceSentenceSentenceSentenceSentenceSentenceSentenceSentenceSentence'\n",
      "CPU times: user 374 µs, sys: 189 µs, total: 563 µs\n",
      "Wall time: 377 µs\n"
     ]
    }
   ],
   "source": [
    "%%time\n",
    "data = b\"SentenceSentenceSentenceSentenceSentenceSentenceSentenceSentenceSentenceSentenceSentenceSentenceSentenceSentenceSentenceSentenceSentenceSentenceSentenceSentenceSentenceSentenceSentenceSentenceSentenceSentenceSentenceSentenceSentenceSentenceSentenceSentenceSentenceSentenceSentenceSentenceSentenceSentenceSentenceSentenceSentenceSentenceSentenceSentenceSentenceSentenceSentenceSentenceSentenceSentenceSentenceSentenceSentenceSentenceSentenceSentenceSentenceSentenceSentenceSentenceSentenceSentenceSentenceSentenceSentenceSentenceSentenceSentenceSentenceSentenceSentenceSentenceSentenceSentenceSentenceSentenceSentenceSentenceSentenceSentenceSentenceSentenceSentenceSentenceSentenceSentenceSentenceSentenceSentenceSentenceSentenceSentenceSentenceSentenceSentenceSentenceSentenceSentenceSentenceSentenceSentenceSentenceSentenceSentenceSentenceSentenceSentenceSentenceSentenceSentenceSentenceSentenceSentenceSentenceSentenceSentenceSentenceSentenceSentenceSentenceSentenceSentenceSentenceSentenceSentenceSentenceSentenceSentenceSentenceSentenceSentenceSentenceSentenceSentenceSentenceSentenceSentenceSentenceSentenceSentenceSentenceSentenceSentenceSentenceSentenceSentenceSentenceSentenceSentenceSentenceSentenceSentenceSentenceSentenceSentenceSentenceSentenceSentenceSentenceSentenceSentenceSentenceSentenceSentenceSentenceSentenceSentenceSentenceSentenceSentenceSentenceSentenceSentenceSentenceSentenceSentenceSentenceSentenceSentenceSentenceSentenceSentenceSentenceSentenceSentenceSentenceSentenceSentenceSentenceSentenceSentenceSentenceSentenceSentenceSentenceSentenceSentenceSentenceSentenceSentenceSentenceSentenceSentenceSentenceSentenceSentenceSentenceSentenceSentenceSentenceSentenceSentenceSentenceSentenceSentenceSentenceSentenceSentenceSentenceSentenceSentenceSentenceSentenceSentenceSentenceSentenceSentenceSentenceSentenceSentenceSentenceSentenceSentenceSentenceSentenceSentenceSentenceSentenceSentenceSentenceSentenceSentenceSentenceSentenceSentenceSentenceSentenceSentenceSentenceSentenceSentenceSentenceSentenceSentenceSentenceSentence\"\n",
    "pad(data, AES.block_size)\n",
    "key = get_random_bytes(16)\n",
    "print(key)\n",
    "cipher = AES.new(key, AES.MODE_CBC)\n",
    "ct_bytes = cipher.encrypt(pad(data, AES.block_size))\n",
    "iv = b64encode(cipher.iv)\n",
    "print(iv)\n",
    "ct = b64encode(ct_bytes)\n",
    "en_iv = iv\n",
    "en_ciphertext = ct\n",
    "iv = b64decode(en_iv)\n",
    "ct = b64decode(en_ciphertext)\n",
    "cipher = AES.new(key, AES.MODE_CBC, iv)\n",
    "msg = unpad(cipher.decrypt(ct), AES.block_size)\n",
    "print(msg)"
   ]
  },
  {
   "cell_type": "code",
   "execution_count": null,
   "id": "c1cb65a7",
   "metadata": {},
   "outputs": [],
   "source": []
  }
 ],
 "metadata": {
  "kernelspec": {
   "display_name": "Python 3",
   "language": "python",
   "name": "python3"
  },
  "language_info": {
   "codemirror_mode": {
    "name": "ipython",
    "version": 3
   },
   "file_extension": ".py",
   "mimetype": "text/x-python",
   "name": "python",
   "nbconvert_exporter": "python",
   "pygments_lexer": "ipython3",
   "version": "3.8.8"
  }
 },
 "nbformat": 4,
 "nbformat_minor": 5
}
